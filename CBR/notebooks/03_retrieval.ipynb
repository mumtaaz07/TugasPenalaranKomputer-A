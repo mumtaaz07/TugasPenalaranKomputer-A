{
 "cells": [
  {
   "cell_type": "markdown",
   "id": "f33038ae",
   "metadata": {},
   "source": [
    "# Data Cleaning"
   ]
  },
  {
   "cell_type": "code",
   "execution_count": 1,
   "id": "e8c1b206",
   "metadata": {},
   "outputs": [
    {
     "name": "stdout",
     "output_type": "stream",
     "text": [
      "d:\\AL FITRA\\STUDI UMM\\SEMESTER 6\\TEORI\\PENALARAN KOMPUTER\\SOURCE CODE\\PENALARAN KOMPUTER\\CBR_Penalararan_Komputer\\CBR\\notebooks\n"
     ]
    }
   ],
   "source": [
    "import os\n",
    "print(os.getcwd())"
   ]
  },
  {
   "cell_type": "code",
   "execution_count": 2,
   "id": "7bcff522",
   "metadata": {},
   "outputs": [
    {
     "name": "stdout",
     "output_type": "stream",
     "text": [
      "d:\\AL FITRA\\STUDI UMM\\SEMESTER 6\\TEORI\\PENALARAN KOMPUTER\\SOURCE CODE\\PENALARAN KOMPUTER\\CBR_Penalararan_Komputer\\CBR\n"
     ]
    }
   ],
   "source": [
    "%cd .."
   ]
  },
  {
   "cell_type": "code",
   "execution_count": 3,
   "id": "987c8c81",
   "metadata": {},
   "outputs": [],
   "source": [
    "import pandas as pd\n",
    "\n",
    "df = pd.read_csv('data/processed/cases.csv')"
   ]
  },
  {
   "cell_type": "code",
   "execution_count": 4,
   "id": "55ab297d",
   "metadata": {},
   "outputs": [
    {
     "data": {
      "application/vnd.microsoft.datawrangler.viewer.v0+json": {
       "columns": [
        {
         "name": "index",
         "rawType": "int64",
         "type": "integer"
        },
        {
         "name": "case_id",
         "rawType": "object",
         "type": "string"
        },
        {
         "name": "nomor_perkara",
         "rawType": "object",
         "type": "string"
        },
        {
         "name": "tahun_putusan",
         "rawType": "int64",
         "type": "integer"
        },
        {
         "name": "bulan_putusan",
         "rawType": "object",
         "type": "string"
        },
        {
         "name": "tanggal_putusan",
         "rawType": "int64",
         "type": "integer"
        },
        {
         "name": "jenis_perkara",
         "rawType": "object",
         "type": "string"
        },
        {
         "name": "tingkat_pemeriksaan",
         "rawType": "object",
         "type": "string"
        },
        {
         "name": "lembaga_peradilan",
         "rawType": "object",
         "type": "string"
        },
        {
         "name": "pasal",
         "rawType": "object",
         "type": "string"
        },
        {
         "name": "hakim_ketua",
         "rawType": "object",
         "type": "unknown"
        },
        {
         "name": "ringkasan_fakta",
         "rawType": "object",
         "type": "string"
        },
        {
         "name": "jumlah_kata_putusan",
         "rawType": "int64",
         "type": "integer"
        },
        {
         "name": "full_text",
         "rawType": "object",
         "type": "string"
        }
       ],
       "ref": "d9f98e48-3e9e-4f73-9fda-97fd4d9384f1",
       "rows": [
        [
         "0",
         "case_001",
         "1159pk pid sus 2024",
         "2024",
         "July",
         "15",
         "Pidana Khusus Korupsi",
         "Peninjauan Kembali",
         "Mahkamah Agung",
         "pasal 2",
         null,
         "menolak permohonan peninjauan kembali daripemohon peninjauankembali terpidanaedi chandra s kep ns tersebut menetapkan bahwa putusan yang dimohonkan peninjauan kembali tersebuttetap berlaku membebankan kepada terpidana untuk membayar biaya perkara padapemeriksaan peninjauan kembali sebesar rp2 500 00 dua ribu lima ratusrupiah",
         "3686",
         "halaman1dari16halaman putusan nomor1159pk pid sus 2024p u t u s a nnomor1159pk pid sus 2024demi keadilan berdasarkan ketuhanan yang maha esamahkamahagungmemeriksa perkara tindak pidanakorupsipada pemeriksaan peninjauankembali yang dimohonkan oleh terpidana telah memutus perkara terpidana nama edi chandra s kep ns tempat lahir tembilahan umur tanggal lahir 47tahun 20 juni 1977 jenis kelamin laki laki kewarganegaraan indonesia tempat tinggal jalan pelajarnomor 13 tembilahan kabupaten indragiri hilir agama islam pekerjaan kepala bidang sumber daya kesehatan padadinas kesehatan tahun 2019 kabupatenindragiri hilir terpidanadiajukan di depan persidanganpengadilan tindak pidanakorupsi padapengadilannegeri pekanbarukarena didakwa dengandakwaansebagai berikut primair perbuatanterpidanasebagaimana diaturdandiancampidanadalampasal 2ayat 1 junctopasal 18ayat 1 huruf adanhuruf b ayat 2 danayat 3 undang undang nomor 31 tahun 1999tentang pemberantasan tindak pidana korupsi sebagaimana telahdiubah denganundang undangnomor 20 tahun 2001 tentangperubahan atas undang undang nomor 31 tahun 1999 tentangpemberantasan tindak pidana korupsijunctopasal 55ayat 1 ke 1kuhp subsidair perbuatanterpidanasebagaimana diaturdandiancam pidanadalampasal 3junctopasal 18ayat 1 huruf adanhuruf b ayat 2 danayat 3 undang undang nomor 31 tahun 1999 tentangpemberantasan tindak pidana korupsi sebagaimana telah diubah halaman2dari16halaman putusan nomor1159pk pid sus 2024dengan undang undang nomor 20 tahun 2001 tentang perubahanatasundang undangnomor 31 tahun 1999 tentangpemberantasan tindak pidana korupsijunctopasal 55ayat 1 ke 1kuhp mahkamah agung tersebut membaca tuntutan pidana penuntut umum padakejaksaannegeriindragiri hilirtanggal28 september 2022sebagai berikut 1 menyatakan terdakwa edi chandra s kep ns terbukti secara sahdanmeyakinkan bersalah melakukantindak pidana korupsi sebagaimanadiaturdandiancam pidana dalam pasal 2ayat 1 junctopasal 18ayat 1 huruf adanhuruf b ayat 2 danayat 3 undang undang republikindonesia nomor 31 tahun 1999 tentang pemberantasan tindak pidanakorupsi sebagaimana telah diubahdanditambah dengan undang undangrepublik indonesia nomor 20 tahun 2001 tentang perubahan atasundang undang nomor 31 tahun 1999tentang pemberantasan tindakpidana korupsijunctopasal 55ayat 1 ke 1 kuhp 2 menjatuhkan pidana terhadap terdakwa edi chandra s kep ns dengan pidana penjara selama 7 tujuh tahun dikurangi selama terdakwadalam tahanan sementara dengan perintahterdakwa tetap ditahan 3 membayar denda sebesar rp200 000 000 00 dua ratus juta rupiah jikaterdakwa tidak dapat membayar denda tersebut diganti dengan pidanapenjara selama 1 satu tahun 4 membebankan kepada terdakwa untuk membayar uang pengganti sebesarrp119 204 550 45 seratus sembilan belas juta dua ratus empat ribu limaratus lima puluh rupiah koma empat puluh lima sen danjika terdakwatidak membayar uang pengganti dalam jangka waktu1 satu bulansetelahputusan memperoleh kekuatan hukum tetap maka harta bendanya dapatdisita oleh jaksadandilelang untuk menutupi uang pengganti tersebut danjika tidak mempunyai harta benda yang mencukupi untuk membayar biayapengganti maka diganti dengan pidana penjara selama 1 satu tahun 5 menyatakan barang bukti berupa 1 1 satu jilid fotokopi surat perjanjian nomor 167 dinkes sp vii 2019 halaman3dari16halaman putusan nomor1159pk pid sus 2024tanggal 15 juli 2019 tentang kegiatan pembangunan puskesmas dana alokasi khusus dak tahun anggaran2019 2 1 satu jilid fotokopi surat perjanjian addendum i pertama nomor167 a add l dinkes sp xii 2019 tanggal 12 desember 2019 kegiatan pembangunan puskesmas tahun anggaran 2019 3 1 satu jilid fotokopi surat perjanjian pemberian kesempatanmenyelesaikan pekerjaan nomor 9048 sp dinkes xii 2019 tanggal13 desember 2019 paket pekerjaan jasa konstruksi pembangunanpuskesmaspulau burung kecamatanpulau burung dak afirmasi tahun 2019 4 1 satu jilid fotokopi monthly certificate mc nomor 01 pertama tanggal 19 juli 2019sampai dengantanggal 25 juli2019 kegiatanpembangunanpuskesmastahun anggaran2019 5 1 satu jilid fotokopi monthly certificate mc nomor 02 kedua tanggal 26 juli 2019sampai dengantanggal 25 agustus2019 kegiatanpembangunanpuskesmastahun anggaran2019 6 1 satu jilid fotokopi monthly certificate mc nomor 03 ketiga tanggal 26 agustus 2019sampai dengantanggal 25 september2019 kegiatan pembangunanpuskesmastahun anggaran2019 7 1 satu jilid fotokopi monthly certificate mc nomor 04 empat tanggal 26 september 2019sampai dengantanggal 17 oktober2019 kegiatan pembangunanpuskesmas dana alokasi khusus dak tahun anggaran2019 8 1 satu jilid fotokopi monthly certificate mc nomor 05 lima tanggal18 oktober 2019sampai dengantanggal 25 november2019 kegiatanpembangunanpuskesmas dana alokasi khusus dak tahunanggaran2019 9 1 satu jilid fotokopi monthly certificate mc nomor 06 enam tanggal 26 november 2019sampai dengantanggal 23 desember2019 kegiatan pembangunanpuskesmas dana alokasi khusus dak tahun anggaran2019 10 1 satu jilid fotokopi surat perintah kerja nomor 027 spk dinkes halaman4dari16halaman putusan nomor1159pk pid sus 2024vii 2019 165 tanggal 15 juli 2019 kegiatan penunjang dasar bidangkesehatanpt timba sagaraengineering consultant 11 1 satu jilid fotokopi laporan bulanandanmingguan kemajuanpekerjaan periode 25 juli 2019sampai dengan25 september 2019 12 1 satu bundel fotokopi berita acara pejabat pemeriksa hasilpekerjaan pphp nomor 1026 dinkes ba pphp xii 2019 tanggal26 desember2019 kegiatan pembangunanpuskesmas danaalokasi khusus dak di kabupaten indragiri hilirta 2019 13 1 satu eksemplar fotokopi berita acara pemeriksaan hasil pekerjaannomor 285 pj php dinkes xii 2019 tanggal 26 desember 2019 14 1 satu bundel fotokopi surat perihal permohonan penambahanwaktu pelaksanaan pekerjaan nomor 066 puskesmas ka tbh xii 2019 tanggal 04 desember 2019 kepada pejabat pembuat komitmen 15 1 satu eksemplar fotokopi surat perihal penyelesaian tindak lanjuthasil audit nomor900 kp vi 2020 1857 1 tanggal3 juli 2020 kepadadirekturcv khalafabadi 16 1 satu eksemplar fotokopi laporan hasil pemeriksaan atas laporankeuangan kabupaten indragiri hilir tahun 2019 nomor 158 c lhp xviii pek 06 2020 tanggal 29 juni 2020 17 1 satu eksemplar fotokopi surat keputusan kepala dinas kesehatankabupaten indragiri hilirnomor 03 sk kp i 2019 tanggal4 januari2019 tentang penetapan pejabat pembuatkomitmen pada dinaskesehatan kabupaten indragiri hilir tahun anggaran 2019 18 1 satu eksemplar fotokopi surat keputusan kepala dinas kesehatankabupaten indragiri hilir nomor 177 1 sk pptk ix 2019 tanggal 24september 2019 tentang perubahan pejabat pelaksana tekniskegiatandanpembantu pengelola administrasi keuangan kegiatanpada satuan keija perangkat daerah dinas kesehatan kabupatenindragiri hilir tahun anggaran 2019 19 1 satu eksemplar fotokopi peraturan lembaga kebijakan pengadaanbarang jasa pemerintah nomor 15 tahun 2018 tanggal 8 juni 2018tentang pelaku pengadaan barang jasa halaman5dari16halaman putusan nomor1159pk pid sus 202420 1 satu eksemplar fotokopi harga perkiraan sementara hps rekapitulasi senilai rp5 231 450 000 00 lima miliar dua ratus tigapuluh satu juta empat ratus lima puluh ribu rupiah 21 1 satu eksemplar fotokopi engineer estimate cost rencanaanggaran biaya dari konsultan perencanacv trie perfect utama 22 1 satu lembar fotokopisurat teguran i nomor 017 tbh tsec viii 2019 tanggal 19 agustus 2019 kepada direkturcv khalaf abadidipekanbaru 23 1 satu eksemplar fotokopi surat teguran i keterlambatan pekerjaan nomor 5513 dk sarpras viii 2019 tanggal 20 agustus 2019 kepadadirekturcv khalaf abadidi pekanbaru 24 1 satu eksemplar fotokopi surat teguran ii nomor 057 tbh tsec xi 2019 tanggal 26 november 2019 kepadacv khalaf abadidipekanbaru 25 1 satu eksemplar fotokopi suratteguranii keterlambatanpekerjaan nomor 8506 1 sdk sarpras xi 2019 tanggal 26november 2019 kepada direkturcv khalaf abadidi pekanbaru 26 1 satu bundel fotokopi undangan kepada konsultan pengawaspttimba sagaraengineering consultantdandirekturcv khalaf abaditanggal 21 agustus 2019 27 1 satu eksemplar fotokopi undangan kepada konsultan pengawaspt timba sagaraengineering consultantdandirekturcv khalafabaditanggal2 desember2019 28 1 satu eksemplar fotokopisuratperihal rapat persiapanpelaksanaan pekerjaan nomor 5054 sdk sarpras vii 2019 tanggal30 juli 2019 29 1 satu eksemplar fotokopi surat pengantar nomor 756 dinkes sarpras ll 2019 tanggal 20 februari 2019 kepada bupati indragirihilir 30 1 satu eksemplar fotokopi berita acara show cause meeting scm pertama nomor 4860 dinkes sdk sarpras viii 2019 tanggal 23agustus 2019 halaman6dari16halaman putusan nomor1159pk pid sus 202431 1 satu eksemplar fotokopi berita acarashow cause meeting scm kedua nomor 8677 dinkes sdk sarpras xii 2019 tanggal 4desember 2019 32 1 satu bundel gambar perencanaankegiatanpembangunanpuskesmas pulau burungcv trie perfect utama 33 1 satu rangkap laporan penilaian ahlikegiatanpembangunanpuskesmas pulau burung surat tugas nomor 0792 a uir 5 2021tanggal 22 maret 2021 disusun oleh prof dr lr h sugeng wiyono m m t a utama 34 1 satu bundelas builtdrawingcvkhalaf abadi 35 1 satu rangkap surat permohonan pendampingan tim pengawalanpengamanan pemerintahdanpembangunan daerah tp4d nomor754 dinkes sarpras ii 2019 tanggal 20 februari 2019 36 1 satu rangkap keputusan kepala dinas kesehatan kabupatenindragiri hilir nomor 177 1 sk pptk ix 2019 tentang perubahanpejabat pelaksana tekniskegiatandanpembantu pengelolaadministrasidankeuangan kegiatanpadaorganisasi perangkatdaerahdinas kesehatan kabupaten indragiri hilirta2019 37 1 satu rangkap surat tindak lanjut lhp bpk rl kegiatanpembangunan puskesmas pulau burung tahun 2019 nomor 900 dinkes keu li 2021 2025 tanggal 24 maret 2021 38 1 satu bundel gambar pekerjaan kegiatan pembangunanpuskesmas pulau burung tahun 2019 39 1 satu rangkap surat teguran i nomor 017 tbh tsec viii 2019tanggal 19 agustus 2019pt timba sagaraconsultant engineering 40 1 satu rangkap surat teguran ii nomor 057 tbh tsec xi 2019tanggal 26 november 2019pt timba sagaraconsultant engineering 41 1 satu rangkap suratpt timba sagaraconsultant engineeringnomor 011 pt tsec dinkes peng vii 2019 tanggal 18 juli 2019 42 1 satu bundel paket pekerjaan pembangunan puskesmas pulauburung tahun 2019 pokja iii tahun 2019 43 1 satu rangkap surat keputusan kepala dinas kesehatan kabupaten halaman7dari16halaman putusan nomor1159pk pid sus 2024indragiri hilir nomor 02 sk kp i 2019 tentang pejabat penatausahaankeuangan pada dinas kesehatan kabupaten indragirihilir ta2019tanggal 4 januari 2019 44 1 satu rangkap tanda bukti pembayaran nomor 167 dinkes sp vii 2019 tanggal 15 juli 2019 45 1 satu rangkap surat pernyataan tanggung jawab mutlak 46 1 satu rangkap surat pernyataan tanggung jawab mutlak nomor00375 sptjm 1 01 02 01 iv 2019 tanggal november 2019 47 1 satu rangkap surat keputusan bupati indragiri hilir nomor kpts 272 iv hk 2017 tentang penetapan kuasa pengguna anggaran padadinas kesehatan kabupaten indragiri hilirta2017 tanggal 18 april2017 48 1 satu eksemplar pedoman pembangunandanpeningkatan fungsibangunan puskesmas perbatasankementerian kesehatan republikindonesia 49 1 satu rangkap surat keputusan bupati indragiri hilir nomorkpts 778 xi hk 2018 tentang pengangkatandanmutasi pejabatadministatordilingkungan pemerintah kabupatenindragiri hilirtanggal 19 november 2018 50 1 satu rangkap surat hibah tanah nomor 08 tn xii skh 2018 594untukpembangunanpuskesmas kecamatan pulau burung kabupaten indragiri hilir 51 1 satu eksemplarfotokopi surat hibah tanah nomor 07 tn skh 2018 594 tanggal 7 desember 2018 untukpembangunanpuskesmaskecamatan pulau burung kabupaten indragiri hilir 52 1 satu lembar fotokopi surat permohonan tenaga teknis tenagaahli nomor 4954 sdk sarpras vii 2019 tanggal 25 juli 2019kepada kepala dinas pekerjaan umumdanpenata ruang kabupatenindragiri hilir 53 1 satu bundel fotokopi tupoksi dinas 54 1 satu bundel fotokopi keputusan bupati indragiri nomor ktps 55 l hk 2019 tentang penetapan kuasa pengguna anggaran pada dinas halaman8dari16halaman putusan nomor1159pk pid sus 2024kesehatan kabupaten indragiri hilir tanggal 10 januari 2019 55 1 satu bundel fotokopi peraturan bupati indragiri hilir nomor 59tahun 2017 tentang sistemdanprosedur pengelolaan keuangandaerah kabupaten indragiri hilir tanggal 27 desember 2017 56 1 satu bundel fotokopi peraturan pemerintah republik indonesianomor 12 tahun 2019 tentang pengelolaan keuangan daerah 57 1 satu bundel fotokopi kelengkapan termin i surat perintahpencairan dana sp2d nomor 06119 sp2d 2019 tanggal4november2019 senilai rp1 442 999 981 81 satu miliar empat ratusempat puluh dua juta sembilan ratus sembilan puluh sembilan ribusembilan ratus delapan puluh satu rupiah delapan puluh satu sen 58 1 satu bundel fotokopi kelengkapan termin iisurat perintahpencairan dana sp2d nomor 07209 sp2d 2019 tanggal 27november 2019 senilai rp793 649 989 25 tujuh sembilan puluh tigajuta enam ratus empat puluh sembilan ribu sembilan ratus delapanpuluh sembilan rupiah dua puluh lima sen 59 1 satu bundel fotokopi kelengkapan termin iii surat perintahpencairan dana sp2d nomor 09364 sp2d 2019 tanggal 31desember 2019 senilai rp1 378 849 982 96 satu miliar tiga ratustujuh puluh delapan juta sembilan ratus delapan puluh dua ribu rupiahsembilan puluh enam sen 60 1 satu bundel fotokopi kelengkapan dokumen pencairan uangmuka20 suratperintahpencairan dana sp2d nomor 03990 sp2d 2019 tanggal 12 agustus2019senilairp901 874 988 51 sembilanratus satu juta delapan ratus tujuh puluh empat ribu sembilan ratusdelapan puluh delapan rupiah lima puluh satu sen 61 1 satu bundel fotokopi materi 3 lkpp pelaku pengadaan barang jasa pelatihan tingkat dasar pbjp perpres nomor 16 tahun 2018 62 1 satu bundel fotokopi surat perintah pembayaran spp tahun2019 nomor 167 dinkes sp vii 2019 tanggal 15 juli 2019 63 1 satu rangkap fotokopi surat keputusan kepala dinas kesehatankabupaten indragiri hilir nomor 83 1 sk kp iv 2017 tentang halaman9dari16halaman putusan nomor1159pk pid sus 2024perubahanpejabat pembuat komitmen pada dinas kesehatankabupaten indragiri hilir tahun anggaran 2017 tanggal 26 april 2017 64 1 satu bundel fotokopi surat perintah kerja spk nomor 5255 spk dinkes xi 2017 tanggal9 november 2017kegiatanpembangunanpuskesmas tahun anggaran 2017 65 1 satu bundelfotokopi dokumen perencanaan 2017 konsultanperencanacv trie perfect utama 66 1 satu rangkap surat keputusan kepala dinas kabupaten indragirihilir nomor 08 sk pphp i 2019 tanggal 4 januari 2019 67 1 satu rangkapengineer estimate costdaftar kuantitasdanhargatanggal 11 maret2019 68 1 satu rangkap rencana kegiatandananggaran dana alokasikhusus fisik tahun anggaran 2019 tanggal 30 november 2018 69 1 satu lembar rka skpd 2 2 1 tanggal 23 november 2018 70 1 satu rangkap surat keputusan kepala dinas kabupaten indragirihilirnomor 03 sk kp i 2019 tanggal4 januari 2019 71 1 satu rangkap surat perjanjian pemberian kesempatanmenyelesaikan pekerjaan nomor 9048 sp dinkes xii 2019 tanggal13 desember 2019 72 1 satu rangkap surat penetapan pemenang lelang nomor 17 15 pokmil iii vii ukpbj bpbj 2019 tanggal 2 juli 2019 73 1 satu rangkaprencana umum pengadaan syrup tahun 2019 74 1 satu rangkap surat keputusan kepala dinas perumahan rakyatdankawasan permukiman kabupaten indragiri hilir nomorkpts 600 dperakima ll 2019 180 75 1 satu rangkap surat keputusan pejabat pembuat komitmen ppk nomor kpts 229 vi dperakim 2019 perkim 76 1 satu rangkap surat keputusan kepala dinas perumahan rakyatdankawasan permukiman kabupaten indragiri hilir nomor kpts 600 dperakim vii 2019 181 77 1 satu rangkap surat keputusan pejabat pembuat komitmen ppk nomor kpts 227 vi dperakim 2019 perkim halaman10dari16halaman putusan nomor1159pk pid sus 202478 1 satu rangkap permintaan tenaga teknis untuk pemeriksaanbarangdanpekerjaan fisik pada dinas kesehatan kabupatenindragiri hilir nomor 1930 sek pep lv 2019 tanggal april 2019 79 1 satu rangkap rekap pencairan kegiatan ls dinas perumahandankawasan permukiman kabupaten indragiri hilir t a 2019 80 1 satu rangkap permohonan tenaga teknis tenaga ahli kepadakepala dinas pupr kabupaten indragiri hilir nomor 4954 sdk sarpras vii 2019 tanggal 25 juli 2019 81 1 satu rangkap fotokopi keputusan bupati indragiri hilir nomorkpts 778 xi hk 2018 tentang pengangkatandanmutasi pejabatadministrator di lingkungan pemerintah kabupaten indragiri hilirtanggal 19 november 2018 82 1 satu rangkap fotokopi dokumentasi asistensi satuan kerjaperangkat daerah kabupaten indragiri hilir tahun anggaran 2019tanggal 23 november 2018 83 1 satu rangkap fotokopi surat perintah pencairan dana nomor01889 sp2d 2020 tanggal 18 juni 2020 84 1 satu bundel fotokopi laporan pengawasanperiodebulanjulisampai denganagustus 2019 pt timba sagaraconsultanengineering 85 1 satu bundel fotokopi laporan pengawasanperiodebulanagustussampai denganseptember 2019 pt timba sagaraconsultanengineering 86 1 satu bundel fotokopi laporan pengawasanperiodebulanseptembersampai denganoktober 2019 pt timba sagaraconsultan engineering 87 1 satu bundel fotokopi laporan pengawasanperiodebulanoktobersampai dengannovember 2019 pt timba sagaraconsultanengineering 88 1 satu bundel fotokopi laporan pengawasanperiodebulannovembersampai dengandesember 2019 pt timba sagaraconsultan engineering halaman11dari16halaman putusan nomor1159pk pid sus 202489 1 satu bundel fotokopi laporan pengawasanperiodebulandesember 2019 pt timba sagaraconsultan engineering barang bukti digunakan dalam perkara hidayat 6 menetapkan supaya terdakwa edi chandra s kep ns dibebanimembayar biaya perkara sebesar rp10 000 00 sepuluh ribu rupiah membaca putusan pengadilan tindak pidanakorupsi pada pengadilannegeri pekanbarunomor 37 pid sus tpk 2022 pn pbr tanggal 16 november2022yang amar lengkapnya sebagai berikut 1 menyatakan terdakwa edi chandra s kep ns tidak terbukti secara sahdanmeyakinkan bersalah melakukan tindak pidana korupsi sebagaimanadisebut dalamdakwaanprimair 2 membebaskan terdakwa daridakwaanprimair tersebut 3 menyatakan terdakwa edi chandra s kep ns terbukti secara sahdanmeyakinkan bersalah melakukan tindak pidana korupsi secara bersama sama 4 menjatuhkan pidana terhadap edi chandra s kep ns tersebut olehkarena itu dengan pidana penjara selama 1 satu tahun 10 sepuluh bulanserta pidana denda sejumlah rp50 000 000 00 lima puluh juta rupiah dengan ketentuan apabila pidana denda tersebut tidak dibayar digantidengan pidana kurungan selama 1 satu bulan 5 menyatakan terdakwa telah mengembalikan kerugian keuangan negarasejumlah rp185 318 942 02 seratus delapan puluh lima juta tiga ratusdelapan belas ribu sembilan ratus empat puluh dua rupiah diambil daripengembalian para terdakwa penuntutan terpisah yang telah dibayarkanmelalui inspektorat kabupaten indragiri hilir 6 menetapkan masa penahanan yang telah dijalani oleh terdakwa dikurangkan seluruhnya dari pidana yang dijatuhkan 7 menetapkan agar terdakwa tetap ditahan 8 menetapkan barang bukti berupa barang buktinomor1 sampai dengannomor89 dikembalikan pada jaksapenuntut umum untuk dipergunakan dalam perkara lain selengkapnyasebagaimanadalamtuntutan penuntut umum halaman12dari16halaman putusan nomor1159pk pid sus 20249 membebankan biaya perkara kepada terdakwa edi chandra s kep ns sejumlah rp7 500 00 tujuh ribu lima ratus rupiah membaca putusan pengadilan tindak pidana korupsi pada pengadilantinggi riaunomor 34 pid sus tpk 2022 pt pbr tanggal 18 januari 2023yang amar lengkapnya sebagai berikut menerima permintaan banding dari penuntut umum tersebut memperbaiki putusan pengadilan tindak pidana korupsi pada pengadilannegeri pekanbaru nomor 37 pid sus tpk 2022 pn pbr tanggal 16november 2022 yang dimintakan banding tersebut sekedar mengenaipidana penjara yang dijatuhkandanbesarnya uang pengganti yangdibebankan kepada terdakwa sehingga amar selengkapnya sebagaiberikut 1 menyatakan terdakwa edi chandra s kep ns tidak terbuktisecara sahdanmeyakinkan bersalah melakukan tindak pidana korupsisebagaimana disebut dalamdakwaanprimair 2 membebaskan terdakwa daridakwaanprimair tersebut 3 menyatakan terdakwa edi chandra s kep ns terbukti secara sahdanmeyakinkan bersalah melakukan tindak pidana korupsi secarabersama sama sebagaimanadakwaansubsidair pasal 3junctopasal18ayat 1 huruf adanhuruf b ayat 2 danayat 3 undang undangrepublik indonesia nomor 31 tahun 1999 tentang pemberantasantindak pidana korupsidanperubahannya dengan undang undangrepublik indonesia nomor 20 tahun 2001 tentang perubahan atasundang undang nomor 31 tahun 1999 tentang pemberantasan tindakpidana korupsijunctopasal 55ayat 1 ke 1 kuhp 4 menjatuhkan pidana terhadap terdakwa edi chandra s kep ns tersebut oleh karena itu dengan pidana penjara selama 2 dua tahun dan3 tiga bulanserta pidana denda sejumlah rp50 000 000 00 limapuluh juta rupiah dengan ketentuan apabila pidana denda tersebuttidak dibayar diganti dengan pidana kurungan selama 1 satu bulankurungan 5 membebankan kepada terdakwa edi chandra s kep ns untuk halaman13dari16halaman putusan nomor1159pk pid sus 2024membayar uang pengganti sebesar rp119 204 550 47 seratussembilan belas juta dua ratus empat ribu lima ratus lima puluh rupiahkoma empat puluh tujuh sen denganmemperhitungkansecaraproporsional uang yang telah dibayarkan melalui inspektorat kabupatenindragiri hilir jika terdakwa tidak membayar uang pengganti dalamjangka waktu 1 satu bulansetelah putusan memperoleh kekuatanhukum tetap makaharta bendanya dapat disita oleh jaksadandilelanguntuk menutupi uang pengganti tersebut danjika tidak mempunyaiharta benda yang mencukupi untuk membayar biaya pengganti makadiganti dengan pidana penjara selama 1 satu tahun 6 menetapkan masa penahanan yang telah dijalani oleh terdakwa dikurangkan seluruhnya dari pidana yang dijatuhkan 7 menetapkan agar terdakwa tetap ditahan 8 menetapkan barang bukti berupa barang buktinomor1 sampai dengannomor89 selengkapnyasebagaimanadalam amarputusan pengadilan tindak pidanakorupsi pada pengadilannegeri pekanbarunomor 37 pid sus tpk 2022 pn pbr tanggal 16 november 2022 9 membebankan biaya perkara kepada terdakwa edi chandra s kep ns sejumlah rp2 500 00 dua ribu lima ratus rupiah membaca putusan mahkamah agung nomor3974 k pid sus 2023tanggal24 agustus 2023yang amar lengkapnya sebagai berikut menolak permohonan kasasi dari pemohon kasasi penuntut umum padakejaksaan negeri indragiri hilir tersebut membebankan kepada terdakwa untuk membayar biaya perkara padatingkat kasasi sebesar rp2 500 00 dua ribu lima ratus rupiah membacaakta permohonan peninjauan kembalinomor2 akta pid sus tpk pk 2024 pn pbryang dibuat oleh panitera pada pengadilan tindakpidana korupsi pada pengadilan negeripekanbaru yang menerangkan bahwapada tanggal23februari2024 penasihat hukumterpidana mengajukanpermohonan peninjauan kembali terhadapputusanmahkamah agungtersebut halaman14dari16halaman putusan nomor1159pk pid sus 2024membaca memori peninjauan kembalitanggal22februari2024daripenasihat hukumterpidanaberdasarkan surat kuasa khusus tanggal16oktober2023sebagai pemohon peninjauan kembali yang diterima dikepaniteraanpengadilan tindak pidanakorupsi pada pengadilannegeripekanbarupada tanggal23februari2024 membaca pula surat surat lain yang bersangkutan menimbang bahwaputusanmahkamah agungnomor3974 k pid sus 2023tanggal24 agustus 2023tersebuttelah diberitahukan kepadaterpidanapada tanggal26september2023 dengan demikian putusan tersebut telahmempunyai kekuatan hukum tetap menimbang bahwa alasan peninjauan kembali yang diajukan olehpemohon peninjauan kembali terpidanadalam memori peninjauan kembaliselengkapnya termuat dalam berkas perkara menimbang bahwa terhadap alasan peninjauan kembali yang diajukanpemohon peninjauan kembali terpidanatersebut mahkamah agungberpendapat sebagai berikut bahwa alasanpermohonanpeninjauan kembalidari pemohon peninjauankembali terpidanatidak dapat dibenarkan oleh karenajudex juristidakmenunjukkan adanya kekhilafan hakim ataupunsuatukekeliruan yang nyatadalam putusannya bahwapemohon peninjauankembali terpidanatidakmampu menunjukkandimana letak kekhilafan hakim ataupun kekeliruan dalam putusan karenayang didalilkan hanya mengenai perbedaan pendapat baik mengenai faktamaupun penerapan hukumnya dengan majelis kasasi bahwa sedangkan dalil telah terjadi pertentangan putusan tidak dapatdibenarkan karena putusan putusan yang saling dipertentangkan adalahputusanjudex factipengadilannegeri judex factipengadilantinggidanjudex jurisdalam perkaraa quo bukan perkara lain dengan objek subjekyang sama atau terkait dengan perkaraa quo bahwa tepat dipertimbangkanjudex jurisbahwapemohon peninjauankembali terpidanaselaku pejabat pembuat komitmen ppk dalampekerjaan kegiatan pembangunan gedung puskesmas pulau burung pada halaman15dari16halaman putusan nomor1159pk pid sus 2024dinas kesehatan kabupaten indragiri hilir tahun anggaran2019 tidakmengendalikan pelaksanaan kontrak sebagaimana tugasdantanggungjawabnya selaku ppk dengan menerima pekerjaan cvkhalaf abadiselakupelaksana pekerjaan tanpa laporan hasil pekerjaan sebelumnya bahwapemohon peninjauankembali terpidanajuga membiarkanpejabatpelaksana teknis kegiatan pptk tidak membuat buku hariandantidakpernah melaporkan progress pekerjaan harian pemohon peninjauankembali terpidanahanya menerima laporan kemajuan pekerjaan darikonsultan pengawas yang seharusnya juga ada laporan tersendiri dari pptkmaupun pelaksanapekerjaan sehingga hasil pekerjaan yangdiserahterimakan tidak sesuai spesifikasidankeadaannya di bawah standarbatas toleransi yang diizinkan serta terdapat kekurangan volume pekerjaansebagaimana dalam kontrak sehingga hasil pekerjaan tidak dapatdimanfaatkan sesuai peruntukannyadantelah merugikan keuangan negarac q dinas kesehatan kabupaten indragiri hilir sebesar rp185 318 942 02 seratus delapan puluh lima juta tiga ratus delapan belas ribu sembilan ratusempat puluh dua rupiah nol dua sen menimbang bahwa berdasarkan pertimbangan di atas alasanpemohon peninjauan kembali terpidana tidak dapat dibenarkan oleh karenatidak termasuk dalam salah satu alasan peninjauan kembali sebagaimanadimaksud dalampasal263ayat 2 huruf a bdanc kuhap menimbang bahwa dengan demikian berdasarkanpasal266ayat 2 huruf a kuhap maka permohonan peninjauan kembali dinyatakan ditolakdanputusan yang dimohonkan peninjauan kembali tersebut dinyatakan tetapberlaku menimbang bahwa karena terpidana dipidana maka biaya perkarapada pemeriksaanpeninjauan kembali dibebankan kepada terpidana mengingatpasal 3junctopasal 18ayat 1 huruf adanhuruf b ayat 2 danayat 3 undang undang nomor 31tahun1999 tentangpemberantasantindak pidana korupsi sebagaimana telahdiubah dengan undang undangnomor 20 tahun 2001 tentang perubahan atas undang undang nomor 31tahun 1999 tentang pemberantasan tindak pidana korupsijunctopasal 55 halaman16dari16halaman putusan nomor1159pk pid sus 2024ayat 1 ke 1 kuhp undang undang nomor 8 tahun 1981 tentang hukumacara pidana undang undang nomor 48 tahun 2009 tentang kekuasaankehakimandanundang undang nomor 14 tahun 1985 tentang mahkamahagung sebagaimana yang telah diubah dengan undang undang nomor 5tahun 2004danperubahan kedua dengan undang undang nomor 3 tahun2009 serta peraturan perundang undangan lain yang bersangkutan m e n g a d i l i menolak permohonan peninjauan kembali daripemohon peninjauankembali terpidanaedi chandra s kep ns tersebut menetapkan bahwa putusan yang dimohonkan peninjauan kembali tersebuttetap berlaku membebankan kepada terpidana untuk membayar biaya perkara padapemeriksaan peninjauan kembali sebesar rp2 500 00 dua ribu lima ratusrupiah demikianlah diputuskan dalam rapat musyawarah majelis hakim padahariselasa tanggal6september2024olehprof dr h sunarto s h m h hakim agung yang ditetapkan oleh ketua mahkamah agung sebagai ketuamajelis dr sinintha yuliansih sibarani s h m h hakimad hoctindakpidana korupsi pada mahkamah agungdandr yanto s h m h hakimagung sebagai hakim hakim anggota putusan tersebut diucapkan dalamsidang terbuka untuk umum pada haridantanggal itu juga oleh ketua majelisyang dihadiri hakim hakim anggota sertaemmy evelina marpaung s h panitera pengganti dengan tidak dihadiri oleh penuntut umumdanterpidana hakim hakim anggota ttd dr sinintha yuliansih sibarani s h m h ttd dr yanto s h m h ketua majelis ttd prof dr h sunarto s h m h panitera pengganti ttd emmy evelina marpaung s h untuk salinanmahkamah agung r i a n paniterapanitera muda pidana khususdr sudharmawatiningsih s h m hum nip 19611010 198612 2 001"
        ],
        [
         "1",
         "case_002",
         "1191 pk pid sus 2024",
         "2024",
         "December",
         "22",
         "Pidana Khusus Korupsi",
         "Peninjauan Kembali",
         "Mahkamah Agung",
         "pasal 2 ayat 1, Undang-Undang Nomor 31 tahun 1999",
         "h arizon mega jaya s h m h hakim ad hoc tindak pidana korupsi pada mahkamah agung",
         "kembali perkara tersebut dengan amar seperti yang akan disebutkan di bawah ini",
         "3715",
         "dari 14 halaman putusan nomor 1191 pk pid sus 2024p u t u s a n nomor 1191 pk pid sus 2024 demi keadilan berdasarkan ketuhanan yang maha esa m a h k a m a h a g u n g memeriksa perkara tindak pidana korupsi pada pemeriksaan peninjauan kembali yang dimohonkan oleh terpidana telah memutus perkara terpidana nama pierre togar sitanggang s e m m tempat lahir tinjoan simalungun sumatera utara umur tanggal lahir 58 tahun 15 agustus 1966 jenis kelamin laki laki kewarganegaraan indonesia tempat tinggal apartemen puri casablanca unit c 2803 kelurahan menteng dalam kecamatan tebet jakarta selatan provinsi dki jakarta agama kristen pekerjaan karyawan swasta general manager bagian general affair pt musim mas terpidana diajukan di depan persidangan pengadilan tindak pidana korupsi pada pengadilan negeri jakarta pusat karena didakwa dengan dakwaan sebagai berikut primair perbuatan terpidana sebagaimana diatur dan diancam pidana dalam pasal 2 ayat 1 juncto pasal 18 undang undang nomor 31 tahun 1999 tentang pemberantasan tindak pidana korupsi sebagaimana telah diubah dan ditambah dengan undang undang nomor 20 tahun 2001 tentang perubahan atas undang undang nomor 31 tahun 1999 tentang pemberantasan tindak pidana korupsi juncto pasal 55 ayat 1 ke 1 kuhp dari 14 halaman putusan nomor 1191 pk pid sus 2024subsidair perbuatan terpidana sebagaimana diatur dan diancam pidana dalam pasal 3 juncto pasal 18 undang undang nomor 31 tahun 1999 tentang pemberantasan tindak pidana korupsi sebagaimana telah diubah dan ditambah dengan undang undang nomor 20 tahun 2001 tentang perubahan atas undang undang nomor 31 tahun 1999 tentang pemberantasan tindak pidana korupsi juncto pasal 55 ayat 1 ke 1 kuhp mahkamah agung tersebut membaca tuntutan pidana penuntut umum pada kejaksaan negeri jakarta pusat tanggal 22 desember 2022 sebagai berikut 1 menyatakan terdakwa pierre togar sitanggang s e m m telah terbukti secara sah dan meyakinkan bersalah melakukan tindak pidana korupsi sebagaimana dakwaan primair 2 menjatuhkan pidana terhadap terdakwa pierre togar sitanggang s e m m berupa pidana penjara selama 11 sebelas tahun dikurangi selama terdakwa berada dalam tahanan sementara dengan perintah agar terdakwa tetap ditahan di rutan 3 menjatuhkan pidana denda sebesar rp1 000 000 000 00 satu miliar rupiah dengan ketentuan apabila denda tidak dibayar maka diganti dengan pidana kurungan selama 6 enam bulan kurungan 4 menghukum terdakwa pierre togar sitanggang s e m m untuk membayar uang pengganti sebesar rp4 544 711 650 438 00 empat triliun lima ratus empat puluh empat miliar tujuh ratus sebelas juta enam ratus lima puluh ribu empat ratus tiga puluh delapan rupiah jika terdakwa tidak membayar uang pengganti paling lama 1 satu bulan sesudah putusan pengadilan yang telah berkekuatan hukum tetap maka harta bendanya termasuk harta benda milik korporasi yaitu pt musim mas pt musim mas fuji pt intibenua perkasatama pt mikie oleo nabati industri pt agro makmur raya pt megasurya mas pt wira inno mas masing masing yaitu dari 14 halaman putusan nomor 1191 pk pid sus 20241 pt musim mas senilai rp1 349 358 310 594 00 satu triliun tiga ratus empat puluh sembilan miliar tiga ratus lima puluh delapan juta tiga ratus sepuluh ribu lima ratus sembilan puluh empat rupiah 2 pt musim mas fuji senilai rp13 493 031 352 00 tiga belas miliar empat ratus sembilan puluh tiga juta tiga puluh satu ribu tiga ratus lima puluh dua rupiah 3 pt intibenua perkasatama senilai rp2 945 771 920 965 00 dua triliun sembilan ratus empat puluh lima miliar tujuh ratus tujuh puluh satu juta sembilan ratus dua puluh ribu sembilan ratus enam puluh lima rupiah 4 pt mikie oleo nabati industri senilai rp5 201 108 727 00 lima miliar dua ratus satu juta seratus delapan ribu tujuh ratus dua puluh tujuh rupiah 5 pt agro makmur raya senilai rp27 551 157 031 00 dua puluh tujuh miliar lima ratus lima puluh satu juta seratus lima puluh tujuh ribu tiga puluh satu rupiah 6 pt megasurya mas senilai rp29 178 432 507 00 dua puluh sembilan miliar seratus tujuh puluh delapan juta empat ratus tiga puluh dua ribu lima ratus tujuh rupiah 7 pt wira inno mas senilai rp173 061 675 094 00 seratus tujuh puluh tiga miliar enam puluh satu juta enam ratus tujuh puluh lima ribu sembilan puluh empat rupiah dapat disita oleh jaksa dan dilelang untuk menutupi uang pengganti tersebut dalam hal harta benda terdakwa atau korporasi tidak mempunyai harta benda yang mencukupi untuk membayar uang pengganti maka terdakwa dipidana dengan pidana penjara selama 5 lima tahun 6 enam bulan 5 menyatakan barang bukti berupa 1 barang bukti disita dalam berkas perkara atas nama indra sari wisnu wardhana 2 barang bukti yang disita dalam berkas perkara atas nama pierre togar sitanggang dari 14 halaman putusan nomor 1191 pk pid sus 20243 barang bukti yang disita dalam berkas perkara atas nama stanley ma 4 barang bukti yang disita dalam berkas perkara atas nama weibinanto halimdjati alias lin che wei seluruhnya dipergunakan dalam perkara weibinanto halimdjati alias lin che wei untuk selanjutnya ditentukan statusnya 6 membebankan kepada terdakwa untuk membayar biaya perkara sebesar rp10 000 00 sepuluh ribu rupiah membaca putusan pengadilan tindak pidana korupsi pada pengadilan negeri jakarta pusat nomor 60 pid sus tpk 2022 pn jkt pst tanggal 4 januari 2023 yang amar lengkapnya sebagai berikut 1 menyatakan terdakwa pierre togar sitanggang s e m m tidak terbukti secara sah dan meyakinkan bersalah melakukan tindak pidana sebagaimana didakwakan penuntut umum dalam dakwaan primair 2 membebaskan terdakwa oleh karena itu dari dakwaan primair tersebut 3 menyatakan terdakwa pierre togar sitanggang s e m m telah terbukti secara sah dan meyakinkan bersalah melakukan tindak pidana korupsi secara bersama sama sebagaimana didakwakan penuntut umum dalam dakwaan subsidair 4 menjatuhkan pidana terhadap terdakwa oleh karena itu dengan pidana penjara selama 1 satu tahun dan denda sebesar rp100 000 000 00 seratus juta rupiah dengan ketentuan apabila denda tersebut tidak dibayar akan diganti dengan pidana kurungan selama 2 dua bulan 5 menetapkan masa penangkapan dan penahanan yang telah dijalani terdakwa akan dikurangkan seluruhnya dari pidana yang dijatuhkan 6 menetapkan agar terdakwa tetap berada dalam tahanan 7 menetapkan barang barang bukti berupa 1 barang bukti disita dalam berkas perkara atas nama indra sari wisnu wardhana 2 barang bukti yang disita dalam berkas perkara atas nama pierre togar sitanggang 3 barang bukti yang disita dalam berkas perkara atas nama stanley ma dari 14 halaman putusan nomor 1191 pk pid sus 20244 barang bukti yang disita dalam berkas perkara atas nama weibinanto halimdjati alias lin che wei seluruhnya dipergunakan dalam perkara weibinanto halimdjati alias lin che wei 8 membebankan kepada terdakwa untuk membayar biaya perkara sebesar rp5 000 00 lima ribu rupiah membaca putusan pengadilan tindak pidana korupsi pada pengadilan tinggi dki jakarta nomor 9 pid sus tpk 2023 pt dki tanggal 7 maret 2023 yang amar lengkapnya sebagai berikut 1 menerima permintaan banding dari penuntut umum dan penasihat hukum terdakwa tersebut 2 menguatkan putusan pengadilan tindak pidana korupsi pada pengadilan negeri jakarta pusat tanggal 4 januari 2023 nomor 60 pid sus tpk 2022 pn jkt pst yang dimintakan banding tersebut 3 menetapkan masa penangkapan dan penahanan yang telah dijalani terdakwa dikurangkan seluruhnya dari pidana yang dijatuhkan 4 menetapkan terdakwa tetap berada dalam tahanan 5 membebankan biaya perkara kepada terdakwa pada kedua tingkat peradilan yang untuk tingkat banding ditetapkan sebesar rp5 000 00 lima ribu rupiah membaca putusan nomor 2362 k pid sus 2023 tanggal 9 mei 2023 yang amar lengkapnya sebagai berikut menolak permohonan kasasi dari pemohon kasasi ii terdakwa pierre togar sitanggang s e m m tersebut menolak permohonan kasasi dari pemohon kasasi i penuntut umum pada kejaksaan negeri jakarta pusat tersebut memperbaiki putusan pengadilan tindak pidana korupsi pada pengadilan tinggi dki jakarta nomor 9 pid sus tpk 2023 pt dki tanggal 7 maret 2023 yang menguatkan putusan pengadilan tindak pidana korupsi pada pengadilan negeri jakarta pusat nomor dari 14 halaman putusan nomor 1191 pk pid sus 202460 pid sus tpk 2022 pn jkt pst tanggal 4 januari 2023 tersebut mengenai pidana yang dijatuhkan kepada terdakwa menjadi 1 menjatuhkan pidana kepada terdakwa oleh karena itu dengan pidana penjara selama 6 enam tahun dan pidana denda sebesar rp200 000 000 00 dua ratus juta rupiah dengan ketentuan apabila pidana denda tersebut tidak dibayar maka diganti dengan pidana kurungan selama 6 enam bulan 2 membebankan kepada terdakwa untuk membayar biaya perkara pada tingkat kasasi sebesar rp2 500 00 dua ribu lima ratus rupiah membaca akta permohonan peninjauan kembali nomor 04 akta pid sus pk tpk 2024 pn jkt pst yang dibuat oleh panitera pengadilan tindak pidana korupsi pada pengadilan negeri jakarta pusat yang menerangkan bahwa pada tanggal 1 maret 2024 penasihat hukum terpidana berdasarkan surat kuasa khusus tanggal 5 desember 2023 bertindak untuk dan atas nama terpidana tersebut mengajukan permohonan peninjauan kembali terhadap putusan tersebut membaca memori peninjauan kembali tanggal 26 januari 2024 dari penasihat hukum terpidana bertindak untuk dan atas nama terpidana tersebut sebagai pemohon peninjauan kembali yang diterima di kepaniteraan pengadilan tindak pidana korupsi pada pengadilan negeri jakarta pusat pada tanggal 1 maret 2024 membaca pula surat surat lain yang bersangkutan menimbang bahwa putusan mahkamah agung tersebut telah diberitahukan kepada terpidana pada tanggal 16 mei 2023 dengan demikian putusan tersebut telah mempunyai kekuatan hukum tetap menimbang bahwa alasan peninjauan kembali yang diajukan oleh pemohon peninjauan kembali terpidana dalam memori peninjauan kembali selengkapnya termuat dalam berkas perkara menimbang bahwa terhadap alasan peninjauan kembali yang diajukan oleh pemohon peninjauan kembali terpidana tersebut mahkamah agung berpendapat sebagai berikut dari 14 halaman putusan nomor 1191 pk pid sus 2024 bahwa alasan peninjauan kembali pemohon peninjauan kembali terpidana pada pokoknya yaitu terdapat bukti baru berupa a undang undang nomor 18 tahun 2023 tentang pertanggungjawaban atas pelaksanaan anggaran pendapatan dan belanja negara tahun anggaran 2022 yang disahkan dan diundangkan pada tanggal 11 oktober 2023 undang undang lkpp 2022 bukti pk 1 b surat jawaban ombudsman nomor b 2076 lm 30 k3 418 2022 ix 2023 tertanggal 6 september 2023 surat jawaban ombudsman bukti pk 2 dan c video penyerahan lahp penyediaan dan stabilitas harga minyak goreng oleh ombudsman republik indonesia tertanggal 13 september 2023 video penyerahan lahp oleh ombudsman r i bukti pk 3 bahwa pemohon peninjauan kembali terpidana berpendapat dalam memori peninjauan kembali bahwa terdapat kekhilafan hakim atau kekeliruan yang nyata dalam memutus perkara a quo karena sesuai dengan fakta yang terungkap di persidangan semestinya terpidana tidak bersalah melanggar seluruh dakwaan penuntut umum oleh karena itu terpidana mohon untuk dibebaskan dari seluruh dakwaan tersebut bahwa terhadap adanya bukti baru novum yang diajukan terpidana bukti pk 1 bukti pk 2 dan bukti pk 3 setelah diperiksa dengan cermat terhadap bukti bukti tersebut ternyata tidak memiliki kualitas sebagai novum sebagaimana yang ditentukan pada pasal 263 ayat 2 huruf a undang undang nomor 8 tahun 1981 tentang hukum acara pidana kuhap karena masing masing bukti tersebut tidak ada yang dapat menyatakan bahwa perbuatan terpidana adalah benar dan sesuai dengan ketentuan yang berlaku adapun bukti pk 1 yaitu pertanggungjawaban atas pelaksanaan apbn tahun anggaran 2022 merupakan suatu bentuk serapan anggaran apbn tahun 2022 yang tidak ada korelasinya dengan perbuatan terpidana yang telah merugikan keuangan negara demikian pula dengan bukti pk 2 dan bukti pk 3 yang pada pokoknya kementerian perdagangan telah lalai dalam menetapkan dmo terhadap bukti pk 2 dan dari 14 halaman putusan nomor 1191 pk pid sus 2024bukti pk 3 tersebut bukan merupakan suatu keadaan yang dapat membebaskan maupun meringankan pemidanaan terhadap terpidana karena ruang lingkup pemeriksaan ombudsman tidak mencakup mengenai perbuatan pidana yang dilakukan terpidana dengan demikian berdasarkan pertimbangan tersebut maka terhadap alasan peninjauan kembali adanya novum haruslah ditolak bahwa terhadap alasan peninjauan kembali yaitu adanya kekeliruan yang nyata atau adanya kekhilafan hakim dapat dibenarkan judex juris tidak tepat menerapkan hukum dalam perkara a quo serta tidak cukup memberikan pertimbangan hukum terhadap fakta fakta yang terungkap di persidangan yang menjadi dasar penjatuhan putusan bagi terpidana bahwa berdasarkan fakta hukum yang terungkap di persidangan yaitu a bahwa terpidana selaku manager general affair atau corporate affair manager pt musim mas yang merupakan perusahaan gabungan holding bergerak di bidang industri kelapa sawit juga bertindak sebagai pengurus perizinan ekspor pe dari grup musim mas yang terdiri dari pt musim mas pt musim mas fuji pt intibenua perkasatama pt mikie oleo nabati industri pt agro makmur raya pt wira inno mas dan pt megasurya mas pada kantor kementerian perdagangan direktorat jenderal perdagangan luar negeri terbukti telah menyalahgunakan kewenangan kesempatan sarana yang ada padanya karena jabatan atau kedudukan karena dalam mengurus perizinan ekspor tersebut terpidana menggunakan dokumen yang dimanipulasi dan tidak sesuai realisasi distribusi kebutuhan dalam negeri yang dipersyaratkan sehingga mengakibatkan adanya kewajiban domestic market obligation dmo yang tidak dipenuhi oleh perusahaan yang tergabung dalam grup musim mas tersebut namun oleh indrasari wisnu wardhana selaku direktur jenderal perdagangan luar negeri kementerian perdagangan tetap menyetujui 41 empat puluh satu permohonan persetujuan ekspor atas nama grup musim mas padahal dalam pengurusan persetujuan ekspor tersebut grup musim mas memiliki kewajiban untuk melakukan dari 14 halaman putusan nomor 1191 pk pid sus 2024penjualan domestik domestic market obligation dmo namun belum dipenuhi oleh grup musim mas sebesar 33 321 757 tiga puluh tiga juta tiga ratus dua puluh satu ribu tujuh ratus lima puluh tujuh kilogram b bahwa kewajiban domestic market obligation dmo yang tidak dipenuhi oleh grup musim mas tersebut telah menguntungkan korporasi grup musim mas sebesar rp626 630 516 604 00 enam ratus dua puluh enam miliar enam ratus tiga puluh juta lima ratus enam belas ribu enam ratus empat rupiah c bahwa berdasarkan laporan hasil audit penghitungan kerugian keuangan negara oleh badan pengawasan keuangan dan pembangunan nomor pe 03 sr 511 d5 01 2022 tanggal 18 juli 2022 untuk musim mas grup telah merugikan keuangan negara karena telah mendapatkan keuntungan atas diterbitkannya persetujuan ekspor pe yang tidak sah dari 6 enam holding sebesar rp6 438 330 136 908 00 enam triliun empat ratus tiga puluh delapan miliar tiga ratus tiga puluh juta seratus tiga puluh enam ribu sembilan ratus delapan rupiah d bahwa akibat perbuatan terpidana bersama dengan indrasari wisnu wardhana weibinanto halimdjati alias lin che wei ahui rudi krisnajaya dan john tersebut telah merugikan keuangan negara dan perekonomian negara sebesar rp6 047 645 700 000 00 enam triliun empat puluh tujuh miliar enam ratus empat puluh lima juta tujuh ratus ribu rupiah atau setidak tidaknya sekitar jumlah tersebut sebagaimana laporan hasil audit penghitungan kerugian keuangan negara oleh badan pengawasan keuangan dan pembangunan nomor pe 03 sr 511 d5 01 2022 tanggal 18 juli 2022 dan kerugian perekonomian negara sebesar rp12 312 053 298 925 00 dua belas triliun tiga ratus dua belas miliar lima puluh tiga juta dua ratus sembilan puluh delapan ribu sembilan ratus dua puluh lima rupiah atau setidak tidaknya sekitar jumlah tersebut sebagaimana laporan kajian analisis keuntungan llegal dan kerugian perekonomian negara akibat korupsi di sektor minyak dari 14 halaman putusan nomor 1191 pk pid sus 2024goreng dari fakultas ekonomi dan bisnis universitas gadjah mada tanggal 15 juli 2022 bahwa dengan demikian perbuatan terpidana telah memenuhi seluruh unsur dalam dakwaan subsidair pasal 3 juncto pasal 18 undang undang nomor 31 tahun 1999 tentang pemberantasan tindak pidana korupsi sebagaimana telah diubah dan ditambah dengan undang undang nomor 20 tahun 2001 tentang perubahan atas undang undang nomor 31 tahun 1999 tentang pemberantasan tindak pidana korupsi juncto pasal 55 ayat 1 ke 1 kuhp bahwa selanjutnya berdasarkan fakta hukum yang terungkap di persidangan judex juris telah keliru menentukan jumlah kerugian keuangan negara pada perkara a quo judex juris menggunakan jumlah seluruh kerugian keuangan negara akibat dari penyelewengan izin ekspor yang dilakukan oleh 6 enam grup perusahaan yang bergerak di bidang industri kelapa sawit semestinya kerugian keuangan negara tersebut dihitung secara proporsional dan tanggung jawab oleh masing masing holding dengan demikian dalam perkara a quo terpidana hanya bertanggungjawab terhadap perbuatannya yaitu sebatas pada keuntungan musim mas grup yang tidak sah senilai rp1 107 900 841 612 08 satu triliun seratus tujuh miliar sembilan ratus juta delapan ratus empat puluh satu ribu enam ratus dua belas rupiah delapan sen bahwa terhadap adanya kerugian perekonomian negara sebesar rp12 312 053 298 925 00 dua belas triliun tiga ratus dua belas miliar lima puluh tiga juta dua ratus sembilan puluh delapan ribu sembilan ratus dua puluh lima rupiah yang dihitung oleh ahli rimawan pradiptyo s e m sc ph d dari fakultas ekonomi dan bisnis universitas gadjah mada pada pokoknya bahwa kerugian perekonomian negara yang dihitung oleh ahli rimawan pradiptyo s e m sc ph d baru sebatas asumsi belum mencapai pada actual loss sehingga apabila dikaitkan dengan putusan mahkamah konstitusi nomor 25 puu xiv 2016 tanggal 25 januari 2017 yang pada pokoknya memutuskan bahwa kerugian keuangan negara atau dari 14 halaman putusan nomor 1191 pk pid sus 2024perekonomian negara harus nyata actual loss bukan lagi sebagai perkiraan potential loss atau asumsi perhitungan kerugian perekonomian negara yang dihitung oleh ahli tidak dapat dijadikan acuan dan harus dikesampingkan bahwa selain dari adanya kekhilafan hakim dalam menentukan besaran nilai kerugian keuangan negara atau perekonomian negara tersebut di atas judex juris juga belum mempertimbangkan keadaan yang meringankan mapupun keadaan yang memberatkan secara komprehensif terhadap terpidana yang telah dinyatakan bersalah bahwa terdapat keadaan yang meringankan bagi terpidana yang belum dipertimbangkan yaitu pertama kelangkaan di pasar domestik tersebut berdasarkan keterangan ahli di persidangan pada pokoknya dipengaruhi oleh berbagai faktor yaitu 1 ada hukum pasar secara alamiah menentukan harga pasar dan banyak pihak yang terlibat langsung dalam mekanisme pasar yaitu pihak produsen barang distributor agen pengecer dan termasuk pihak pembeli konsumen yang pada saat ada gejolak harga minyak goreng masing masing menahan diri untuk tidak segera melepaskan produk minyak goreng di pasar domestik 2 adanya intervensi pemerintah dalam penentuan harga eceran tertinggi minyak goreng yang dalam tempo singkat berubah ubah batasan harga eceran tertinggi het sehingga menyebabkan gejolak harga 3 pedagang cpo crude palm oil dan minyak goreng melakukan ekspor ke luar negeri karena melihat ada peluang keuntungan yang lebih besar daripada dijual di dalam negeri di sisi ini pemerintah mendapatkan pendapatan pajak ekspor yang besar untuk menggerakan roda perekonomian dan meningkatkan kesempatan kerja bagi masyarakat dari 14 halaman putusan nomor 1191 pk pid sus 2024 kedua kedudukan dan jabatan terpidana hanya sebatas manager general affair atau corporate affair manager pt musim mas yang kewenangannya terbatas hanya menjalankan kebijakan perseroan yang telah digariskan oleh direksi dewan direksi bukan sebagai pengendali perseroan yang dapat mengambil keputusan atau kebijakan dalam perniagaan cpo dan minyak goreng bahwa berdasarkan pertimbangan tersebut di atas maka penjatuhan pidana terhadap terpidana cukup alasan untuk diringankan bahwa berdasarkan pertimbangan tersebut maka cukup alasan untuk mengabulkan peninjauan kembali terpidana dengan pidana yang lebih ringan menimbang bahwa oleh karena itu maka permohonan peninjauan kembali yang diajukan oleh pemohon peninjauan kembali terpidana dinyatakan dapat dibenarkan dan permohonan peninjauan kembali tersebut dapat dikabulkan sehingga berdasarkan pasal 263 ayat 2 juncto pasal 266 ayat 2 huruf b angka 4 undang undang nomor 8 tahun 1981 tentang hukum acara pidana kuhap terdapat cukup alasan untuk membatalkan putusan mahkamah agung nomor 2362 k pid sus 2023 tanggal 9 mei 2023 dan mahkamah agung akan mengadili kembali perkara tersebut dengan amar seperti yang akan disebutkan di bawah ini menimbang bahwa karena terpidana dipidana maka biaya perkara pada pemeriksaan peninjauan kembali dibebankan kepada terpidana mengingat pasal 3 juncto pasal 18 undang undang nomor 31 tahun 1999 tentang pemberantasan tindak pidana korupsi sebagaimana telah diubah dan ditambah dengan undang undang nomor 20 tahun 2001 tentang perubahan atas undang undang nomor 31 tahun 1999 tentang pemberantasan tindak pidana korupsi juncto pasal 55 ayat 1 ke 1 kuhp undang undang nomor 8 tahun 1981 tentang hukum acara pidana undang undang nomor 48 tahun 2009 tentang kekuasaan kehakiman dan undang undang nomor 14 tahun 1985 tentang mahkamah agung sebagaimana telah diubah dengan undang undang nomor 5 tahun 2004 dan perubahan kedua dari 14 halaman putusan nomor 1191 pk pid sus 2024dengan undang undang nomor 3 tahun 2009 serta peraturan perundang undangan lain yang bersangkutan m e n g a d i l i mengabulkan permohonan peninjauan kembali dari pemohon peninjauan kembali terpidana pierre togar sitanggang s e m m tersebut membatalkan putusan mahkamah agung nomor 2362 k pid sus 2023 tanggal 9 mei 2023 tersebut mengadili kembali 1 menyatakan terpidana pierre togar sitanggang s e m m tidak terbukti secara sah dan meyakinkan bersalah melakukan tindak pidana sebagaimana dakwaan primair penuntut umum 2 membebaskan terpidana oleh karena itu dari dakwaan primair tersebut 3 menyatakan terpidana pierre togar sitanggang s e m m telah terbukti secara sah dan meyakinkan bersalah melakukan tindak pidana korupsi secara bersama sama sebagaimana dakwaan subsidair penuntut umum 4 menjatuhkan pidana kepada terpidana oleh karena itu dengan pidana penjara selama 4 empat tahun dan pidana denda sebesar rp200 000 000 00 dua ratus juta rupiah dengan ketentuan apabila pidana denda tersebut tidak dibayar maka diganti dengan pidana kurungan selama 6 enam bulan 5 menetapkan masa penangkapan dan penahanan yang telah dijalani terpidana dikurangkan seluruhnya dari pidana yang dijatuhkan 6 menetapkan barang bukti berupa 1 barang bukti disita dalam berkas perkara atas nama indra sari wisnu wardhana 2 barang bukti yang disita dalam berkas perkara atas nama pierre togar sitanggang 3 barang bukti yang disita dalam berkas perkara atas nama stanley ma 4 barang bukti yang disita dalam berkas perkara atas nama weibinanto halimdjati alias lin che wei dari 14 halaman putusan nomor 1191 pk pid sus 2024seluruhnya dipergunakan dalam perkara atas nama weibinanto halimdjati alias lin che wei membebankan kepada terpidana membayar biaya perkara pada pemeriksaan peninjauan kembali sebesar rp2 500 00 dua ribu lima ratus rupiah demikianlah diputuskan dalam rapat musyawarah majelis hakim pada hari kamis tanggal 28 november 2024 oleh dr prim haryadi s h m h hakim agung yang ditetapkan oleh ketua mahkamah agung sebagai ketua majelis h arizon mega jaya s h m h hakim ad hoc tindak pidana korupsi pada mahkamah agung dan ainal mardhiah s h m h hakim hakim agung sebagai hakim hakim anggota putusan tersebut diucapkan dalam sidang terbuka untuk umum pada hari dan tanggal itu juga oleh ketua majelis yang dihadiri hakim hakim anggota serta hj yuanita tarid s h m h panitera pengganti dengan tidakm dihadiri oleh penuntut umum dan terpidana hakim hakim anggota ketua majelis ttd h arizon mega jaya s h m h ttd dr prim haryadi s h m h ttd ainal mardhiah s h m h panitera pengganti ttd hj yuanita tarid s h m h untuk salinan mahkamah agung r i a n panitera panitera muda pidana khusus dr sudharmawatiningsih s h m hum nip 196110101986122001"
        ],
        [
         "2",
         "case_003",
         "1193 pk pid sus 2024",
         "2024",
         "October",
         "24",
         "Pidana Khusus Korupsi",
         "Peninjauan Kembali",
         "Mahkamah Agung",
         "pasal 2 ayat 1",
         null,
         "para terpidana dalam perkaraa quotelah sesuai hukumacara pidana bahwajudex factidalam menyatakan para terpidana terbukti bersalahmelakukan tindak pidana korupsi melanggarpasal3undang undangnomor 31 tahun 1999 tentang pemberantasan tindak pidana korupsisebagaimana telah diubah dengan undang undang nomor 20 tahun2001 tentang perubahan atas undang undang nomor 31 tahun 1999tentang pemberantasan tindak pidana korupsijunctopasal 55ayat 1 ke 1kuhp adalah sudah tepat dan benar yaitu telah denganmempertimbangkan minimal2 dua alat bukti yang sah sebagaimanadalam ketentuan pasal 183 kuhap serta berdasarkan fakta dipersidangan yang relevan secara yuridis halaman16dari19halaman putusan nomor 1193 pk pid sus 2024 bahwa berdasarkan fakta dipersidangan diketahui terpidanai suhardi s h selaku pegawai negeri sipil pada bagian umum danprotokol sekretariat daerah kabupatensumbawa baratdanterpidanaii hadi syafrianto s eselaku pegawai negeri sipilpada bagianumum dan protokol sekretariat daerah kabupatensum...",
         "4158",
         "halaman1dari19halaman putusan nomor 1193 pk pid sus 2024p u t u s a nnomor1193pk pid sus 2024demi keadilanberdasarkanketuhanan yang maha esam a h k a m a h a g u n gmemeriksa perkara tindak pidanakorupsipadapemeriksaan peninjauankembaliyang dimohonkan olehpara terpidana telah memutus perkaraparaterpidana i nama suhardi s h tempat lahir sumbawa barat umur tanggal lahir 46tahun 16 september 1977 jenis kelamin laki laki kewarganegaraan indonesia tempat tinggal dusun tengah rt xiii rw 07 kecamatansenteluk kabupaten sumbawa barat ksb agama islam pekerjaan pns pada dinas kehutanan kabupatensumbawa barat ii nama hadi syafrianto s e tempat lahir mapin rea umur tanggal lahir 39tahun 19 november 1984 jenis kelamin laki laki kewarganegaraan indonesia tempat tinggal dusun mekar rt 07 rw 03 kecamatanjereweh kabupaten sumbawa barat ksb agama islam pekerjaan pns pada bagian umum dan protokol sekdaksb para terpidanadiajukan di depan persidanganpengadilan tindakpidana korupsi pada pengadilan negeri mataramkarena didakwa dengandakwaan sebagai berikut primair perbuatan para terpidana sebagaimana diatur dan diancam halaman2dari19halaman putusan nomor 1193 pk pid sus 2024pidana dalam pasal 2 ayat 1 junctopasal 18 undang undang nomor 31 tahun 1999 tentang pemberantasantindak pidana korupsi sebagaimana diubah dengan undang undang nomor 20 tahun 2001 tentang perubahan atasundang undang nomor 31 tahun 1999 tentangpemberantasan tindak pidana korupsijunctopasal 55 ayat 1 ke 1 kuhp subsidair perbuatanpara terpidanasebagaimana diatur dan diancampidana dalam pasal3junctopasal 18 undang undang nomor31 tahun 1999 tentang pemberantasan tindak pidanakorupsi sebagaimana diubah dengan undang undang nomor20 tahun 2001 tentang perubahan undang undang nomor31 tahun 1999 tentang pemberantasan tindak pidanakorupsijunctopasal55 ayat 1 ke 1 kuhp mahkamah agung tersebut membaca tuntutan pidana penuntut umum padakejaksaan negerisumbawa besartanggal2 juli 2014sebagai berikut 1 menyatakanterdakwa 1 suhardi s h dan terdakwa 2 hadisyafrianto s e tidak terbukti bersalah melakukantindakpidana korupsi sebagaimana tersebut dalam dakwaan primair 2 membebaskanterdakwa 1 suhardi s h dan terdakwa 2 hadisyafrianto s e dari dalam dakwaan primair tersebut 3 menyatakanterdakwa 1 suhardi s h dan terdakwa 2 hadisyafrianto s e terbukti secara sah dan meyakinkan bersalahmelakukantindakpidana korupsi sebagaimana tersebut dalamdakwaan subsidair 4 menjatuhkan pidana oleh karenanya terhadapterdakwa 1 suhardi s h dan terdakwa 2 hadi syafrianto s e dengan pidana penjaramasing masing selama 1 satu tahun dan denda sebesarrp50 000 000 00 lima puluh juta rupiah apabila terdakwa tidakmembayar denda tersebut maka diganti dengan pidana kurunganselama 1 satu bulan halaman3dari19halaman putusan nomor 1193 pk pid sus 20245 menyatakan lamanyapara terdakwa ditahan dikurangkan sepenuhnyadari pidana yang dijatuhkan 6 menyatakan para terdakwa tetap dalam tahanan 7 menyatakan barang bukti berupa 1 1 satu buah cap stempel kementerian dalam negeri ri 2 1 satu botol tinta warna biru tuamerekink 3 1 satu buah bantalan stempel cadwell 4 20 dua puluh lembar asli potongan tiket penyeberanganlabuhankayangan kendaraan gol iv penumpang mobil 5 1 satu lembar contoh cap stempel dan tandatangan sukardi a n kepala sub bagian urusan dalamkementerian dalam negeri 6 surat perintah tugasno 875 1 001 tanggal 3 januari 2011pemaparan mengenai rencana pelaksanaan repetelasi pasar denganlampiran a sppdno094 001 tanggal 3 januari 2011a n ir h muhammad saleh m si b kuitansipenerimaan sebesar rp7 193 200 00a n ir h muhammad saleh m si 7 surat perintah tugasno 875 1 093 tanggal 10 januari 2011konsultasi masalah parpol didaerah di kemendagri dengan lampiran a sppdno094 145 tanggal 10 januari 2011a n m hasby am s h m h b kuitansipenerimaan uang sebesar rp7 193 200 00a n m hasby am s h m h 8 surat perintah tugasno 875 1 037 tanggal 13 januari 2011orientasinasional penata usahaan keuangan akutansi keuangandengan lampiran a sppdno 094 048 tanggal 13 januari 2011a n hj martini s ap m si b kuitansipenerimaan uang sebesar rp5 143 200 00a n hj martini s ap m si halaman4dari19halaman putusan nomor 1193 pk pid sus 2024c sppdno 094 049 tanggal 13 januari 2011a n andysyafrianto s e d kuitansipenerimaan uang sebesar rp5 143 200 00a n andysyafrianto s e e sppdno 094 050 tanggal 13 januari 2011a n suhardy s h f kuitansipenerimaan uang sebesar rp5 143 200 00a n suhardy s h 9 surat perintah tugasno 875 1 195 tanggal 18 februari 2011pertemuan dengan ptnnt membahas kewajiban skab untukpengeluaran konsentrat lanjutan dengan lampiran a sppdno 094 346 tanggal 18 februari 2011a n ir h muhammad saleh m si b kuitansipenerimaan sebesar rp7 193 200 00a n ir h muhammad saleh m si 10 surat perintah tugasno 875 1 tanggal 25 april2011konsultasidan pengurusan permohonan penangguhan pelaksana tugas sekdaksb dengan lampiran a sppdno 094 667 tanggal 18 februari 2011a n drs h amrullah ali s h m h b kuitansipenerimaan uang sebesar rp7 800 000 00a n drs h amrullah ali s h m h 11 surat perintah tugas no 875 1 161 tanggal 8 maret 2011mengikutirapat tentang protokolan tingkat nasional tahun 2011 denganlampiran a sppdno 09 285 tanggal 8 maret 2011a n andy amir s sos b kuitansipenerimaan uang sebesar rp5 143 200 00a n andyamir s sos 12 surat perintah tugas no 875 1 174 tanggal 18 maret 2011konsultasi tata naskahdinas dan konsultasi tentang penyusunan halaman5dari19halaman putusan nomor 1193 pk pid sus 2024lppd tahun 2010 dengan lampiran a sppdno094 306 tanggal 18 maret2011a n m hasby am s h m h b kuitansipenerimaan uang sebesar rp7 200 000 00a n m hasby am s h m h 13 surat perintah tugas no 875 1 tanggal april 2011 mengantarberkas yang diperlukan bupati ksb dengan lampiran a sppd no 094 709 tanggal 5 april 2011a n deny saputra b kuitansi penerimaan uang sebesar rp4 550 000 00an denysaputra b sppd no 094 708 tanggal 5 april 2011a n maslia qomar c kuitansi penerimaan uang sebesar rp4 550 000 00a n masliaqomar 14 surat perintah tugasno 875 1 356 tanggal 13 april 2011mendampingi bupati ksb dengan lampiran a sppdno 094 701 tanggal 13 april 2011a n muhammadjafar b kuitansipenerimaan uang sebesar rp4 300 000a n muhammad jafar 15 surat perintah tugasno 875 1 414 tanggal 20 april 2011mendampingi kepala bk diklatdalam penyampaian berkaskelengkapan cpns di kemendagri dengan lampiran a sppdno 094 798 tanggal 20 april 2011a n abdul latief s pd b kuitansipenerimaan uang sebesar rp7 200 000 00a n abdullatief s pd 16 surat perintah tugasno 875 1 463 tanggal 26 april 2011mendampingi bupati sumbawa barat dalam mengikutimusrenbangnas dengan lampiran a sppdno 094 878 tanggal 26 april 2011a n margarahman s sos m m halaman6dari19halaman putusan nomor 1193 pk pid sus 2024b kuitansipenerimaan uang sebesar rp5 800 000 00a n margarahman s sos m m c sppd no 094 879 tanggal 26 april 2011a n shandyfebriansyah s t d kuitansipenerimaan uang sebesar rp4 500 000 00a n shandyfebriansyah s t 17 surat perintah tugasno 875 1 309 tanggal 5 mei 2011konsultasipenerimaan ipdn khusus bagi pns tugas belajar dengan lampiran a sppdno 094 554 tanggal 5 mei 2011a n m hasby am s h m h b kuitansipenerimaan uang sebesar rp7 200 000 00a n m hasby am s h m h 18 surat perintah tugas no 875 1 395 tanggal 31 mei 2011konsultasiyudisial reviewundang undangnomor 33tahun 2004 tentangpertimbangankeuanganantarapemerintahpusat denganpemerintahdaerah dengan lampiran a sppdno 094 767 tanggal 31 mei 2011a n m hasby am s h m h b kuitansipenerimaan uang sebesar rp7 200 000 00a n m hasby am s h m h 19 surat perintah tugasno 875 1 538 tanggal 6 juni 2011mengantarberkas bupati ke kemendagri dengan lampiran a sppdno 094 977 tanggal 6 juni 2011a n helmyati s kom b kuitansipenerimaan uang sebesar rp4 750 000 00a n helmyati s kom 20 surat perintah tugasno 875 1 791 tanggal 9 juni 2011menyusunlaporan keuanganpenatausahaan dan sistem akuntansi keuanganskpd sesuai permendagrino21 2011 no22 2011 dan ppno71 2010 dengan lampiran a sppdno 094 1211 tanggal 9 juni 2011a n marga rahman halaman7dari19halaman putusan nomor 1193 pk pid sus 2024s sos m m b kuitansipenerimaan uang sebesar rp6 050 000 00a n margarahman s sos m m c sppdno 094 1212 tanggal 9 juni 2011a n hj martini sap m si d kuitansipenerimaan uang sebesar rp5 150 000 00a n hj martini sap m si 21 surat perintah tugasno 875 1 793 tanggal 17 juni 2011 konsultasimasalah pelaksanaan undang undangkeprotokolan denganlampiran a sppdno 094 1213 tanggal 17 juni 2011a n syaifullah s ip b kuitansipenerimaan uang sebesar rp5 150 000 00a n syaifullah s ip c sppdno 094 1214 tanggal 17 juni 2011a n andyamir s sos d kuitansipenerimaan uang sebesar rp5 150 000 00a n andyamir s sos 22 surat perintah tugasno 875 1 644 tanggal 28 juli 2011konsultasitentang pengadaan tanah olehpemda ksb di jakartadenganlampiran a sppdno 094 1207 tanggal 28 juni 2011a n m hasby am s h m h b kuitansipenerimaan uang sebesarrp7 193 200 00a n m hasby am s h m h 23 surat perintah tugasno 875 1 786 tanggal 12 juli 2011mengikutikegiatankabupatenexpo in conjustion expo forum 2011 denganlampiran a sppdno 094 1478 tanggal 12 juli 2011a n ir h muhammadsaleh m si b kuitansipenerimaan sebesar rp7 200 000 00a n ir h halaman8dari19halaman putusan nomor 1193 pk pid sus 2024muhammad saleh m si 24 surat perintah tugasno 875 1 943 tanggal 21 juli 2011 mengikutipertemuan keprotokolan di jakarta dengan lampiran a sppdno 094 1800 tanggal 21 juli 2011a n andy amir s sos b kuitansipenerimaan uang sebesar rp5 150 000 00a n andyamir s sos 25 surat perintah tugasno 875 1 945 tanggal 21 agustus 2011mendampingi bupati sumbawa barat dalam mengikuti rapatkoordinasi pembahasan raperda ksb tentang rt rw ksb denganlampiran a sppdno 094 1801 tanggal 21 juli 2011a n margarahman s sos m m b kuitansipenerimaan sebesar rp5 950 000 00a n margarahman s sos m m 26 surat perintah tugasno 875 1 696 tanggal 5 agustus 2011pengurusan kostum penyanyi inti hut ri ke 66 di jakarta denganlampiran a sppdno 094 1320 tanggal 5 agustus 2011a n manurung s pd b kuitansipenerimaan uang sebesar rp4 925 000 00a n manurung s pd 27 surat perintah tugasno 875 1 896 tanggal 12 agustus 2011sosialisasi pedomansystemdan prosedur penatausahaan pelaporandan pertanggungjawaban daerah berdasarkan permendagrinomor59tahun 2007 dengan lampiran a sppdno 094 1703 tanggal 15 agustus 2011a n masliaqomar b kuitansipenerimaan uang sebesar rp4 575 000 00a n masliaqomar 28 surat perintah tugasno 875 1 1013 tanggal 26 september 2011 halaman9dari19halaman putusan nomor 1193 pk pid sus 2024mengantar mendampingi wakil bupati di jakarta dengan lampiran a sppdno 094 2006 tanggal 20 september 2011a n margarahman s sos m m b kuitansipenerimaan sebesar rp5 950 000 00a n margarahman s sos m m 29 2 dua lembar keputusan bupati sumbawa baratno 002 821 29 bkd 2011 tanggal 20 januari 2011 tentangpengangkatan pemindahan dan pemberhentian pegawai negerisipil dalam dan dari jabatan struktural di lingkungan pemerintahdaerah kabupaten sumbawa barat besertadaftarlampiran atasnama marga rahman s sos pada nomor urut 16 enam belas dengan jabatan kepala bagian umum dan protokol sekretariatdaerah kab sumbawa barat yang telah dilegalisir 30 1 satu lembar petikan keputusan bupati sumbawa baratno 010 821 29 bk diklat 2011 tanggal 21 februari 2011 tentangpengangkatan pemindahan dan pemberhentian pegawai negerisipil dalam dan dari jabatan struktural di lingkungan pemerintahdaerah kabupaten sumbawa barat besertadaftarlampiran atasnama abdul latief s pd pada nomor urut 1 satu denganjabatan staf ahli bupati sumbawa barat bidang kemasyarakatandan sumber daya manusia yang telah dilegalisir 31 1 satu lembar petikan keputusan bupati sumbawa baratno 017 821 29 bk diklat 2011 tanggal 14 maret 2011 tentangpengangkatan pemindahan dan pemberhentian pegawai negerisipil dalam dan dari jabatan struktural di lingkungan pemerintahdaerah kabupaten sumbawa barat besertadaftarlampiran atasnama syaipullah s ip pada nomor urut 34 tiga puluh empat dengan jabatan kepala sub bagian perlengkapan dan aset padabagian umum dan protokol sekretariat daerah kab sumbawa baratyang telah dilegalisir 32 1 satu lembar petikan keputusan bupati sumbawa baratno 005 halaman10dari19halaman putusan nomor 1193 pk pid sus 2024821 29 bkd 2010 tanggal 29 januari 2010 tentang pengangkatan pemindahan dan pemberhentian pegawai negeri sipil dalam dandari jabatan struktural di lingkungan pemerintah daerahkabupaten sumbawa barat besertadaftarlampiran atas namamartini s ap pada nomor urut 36 tiga puluh enam denganjabatan kepala sub bagian tata usaha keuangan dan sandi padabagian umum dan perlengkapan sekretariat daerah kab sumbawabarat yang telah dilegalisir 33 1 satu lembar petikan keputusan bupati sumbawa baratno 063 821 29 bkd 2009 tanggal 7 desember 2009 tentang pengangkatan pemindahan dan pemberhentian pegawai negeri sipil dalam dandari jabatan struktural di lingkungan pemerintah daerah kabupatensumbawa barat beserta daftar lampiran atas nama andy amir s sos pada nomor urut 5 lima dengan jabatan kepala sub bagianprotokol dan rumah tangga pada bagian umum dan protokolsekretariat daerah kab sumbawa barat yang telah dilegalisir 34 1 satu lembar keputusan bupati sumbawa baratno 057 824 bkd 2009 tanggal 19 agustus 2009 besertadaftarlampiran atas nama hadi syafrianto s e pada nomor urut 5 lima dengan jabatan bagian umum dan protokol sekretariatdaerah kab sumbawa barat yang telah dilegalisir 35 1 satu lembar petikan keputusan bupati sumbawa baratno 044 a 812 bk diklat 2011 tanggal 27 mei 2011 tentangpengangkatanmenjadi pegawai negeri sipil atas nama shandifebriansyah s t yang telah dilegalisir 36 1 satu lembar petikan keputusan bupati sumbawa baratno 097 823 bk d 2010 tanggal 30 september 2010 tentang kenaikanpangkat dan golongan atas nama suhardi s h yang telahdilegalisir 37 2 dua lembarfotokopikeputusan gubernur kepaladaerah tingkati nusatenggara barat nomor 529 821 12 2 62 38 tanggal 29 halaman11dari19halaman putusan nomor 1193 pk pid sus 2024september 1979 beserta daftar lampiran atas nama amrullahali ba diangkat menjadi pns dengan pangkat pengatur tk i gol ii b yang telah dilegalisir 38 3 tiga lembarfotokopikeputusan menteri pertanian nomor535 kp420 kpts 1996 tanggal 6 juni 1996 beserta daftar lampiranatas namair muhammad salehdiangkat menjadi pns denganpangkat penata muda gol iii a yang telah dilegalisir 39 1 satu lembarfotokopikeputusan bupati kepala daerah tingkat iisumbawa tanggal 24 september 1990 beserta lampiran atas namam hasby am sh diangkat menjadi pns pangkat penata mudagolongan iiiayang telah dilegalisir 40 1 satu lembarfotokopipetikan keputusan kepala dinaspendidikan dasarprovinsidaerah tk i nusa tenggara barat atasnama gubernur kepala daerah tingkat i nusa tenggara barat tanggal 21 september 1977 beserta lampiranatas nama abdullatief diangkat menjadi pns pangkat pengatur muda golonganiia yang telah dilegalisir 41 2 dua lembarfotokopipetikan keputusan sekretaris jenderaldepartemen dalam negeri ri nomor 811 211 2 3021 tanggal 23september 1972 beserta lampiran atas nama marga rahmandiangkat menjadi pns pangkat pengatur muda golongan iia yangtelah dilegalisir 42 2 dua lembarfotokopikeputusan keputusan bupati kepala daerahtingkat ii sumbawa nomor 821 12 70 009 tanggal 25 juli 1995 beserta lampiran atas nama syaipullah diangkat menjadi pnspangkat pengatur muda golongan iia yang telah dilegalisir 43 1 satu lembarfotokopisurat keputusan kepala kantor wilayahdepartemen pendidikan dan kebudayaanprovinsinusa tenggarabarat nomor 185 b c ii sp tanggal 29 oktober 1992 atas namamartini diangkat menjadi pns pangkat juru muda golongan ibyang telah dilegalisir halaman12dari19halaman putusan nomor 1193 pk pid sus 202444 2 dua lembarfotokopisurat keputusan bupati kepala daerahtingkat ii dompu nomor 821 12 2 01 438 007 tanggal 30 mei1996 beserta lampiran atas nama andy amirdiangkat menjadipns pangkat pengatur muda golongan iia yang telah dilegalisir 45 1 satu lembarfotokopipetikan keputusan bupati sumbawa baratnomor 004 821 1 bkd 2006 tanggal 10 maret 2006 atas namasuhardi a md diangkat menjadi pns pangkat pengatur golongan iic yang telah dilegalisir 46 1 satu lembarfotokopipetikan keputusan bupati sumbawa baratnomor 071 821 1 bkd 2010 tanggal 20 juli 2010 atas nama hadisyafrianto diangkat menjadi pns pangkat penatamuda golongan iiia yang telah dilegalisir 47 1 satu lembarfotokopipetikan keputusan bupati sumbawa baratnomor 040 821 1 bkd 2007 tanggal 12 juli 2007 atas namamaslia qomar diangkat menjadi pns pangkat pengatur muda golongan iia yang telah dilegalisir 48 1 satu lembarfotokopipetikan keputusan bupati sumbawa baratnomor 078 821 bkd 2010 tanggal 23 agustus 2010 atas namadendy saputra diangkat menjadi pns pangkat pengaturmuda golongan iia yang telah dilegalisir 49 1 satu lembarfotokopipetikan keputusan bupati sumbawa baratnomor 071 821 bkd 2010 tanggal 20 juli 2010 atas namahelmiati s kom diangkat menjadi pns pangkat penatamuda golongan iiia yang telah dilegalisir 50 1 satu lembarfotokopipetikan keputusan bupati sumbawa baratnomor 022 814 bk diklat 2011 tanggal 3 maret 2010 besertalampirannomor15 atas nama muhammad jafar diangkatmenjadi tenaga honorer dilingkungan pemerintahkab sumbawabarat yang telah dilegalisir 51 1 satu bukudokumen pelaksanaan anggaran satuan kerjaperangkat daerah dpa skpd sekretariatdaerah kabupaten halaman13dari19halaman putusan nomor 1193 pk pid sus 2024sumbawa barat tahun 2011 52 1 satu buku dokumen pelaksanaan perubahan anggaran satuankerja perangkat daerah dppa skpd sekretariatdaerahkabupaten sumbawa barat tahun 2011 barang bukti tersebut di atas dijadikan barang bukti padaperkara lain 8 menetapkan agar terdakwa membayar biaya perkara sebesarrp5 000 00 lima ribu rupiah membaca putusan pengadilan tindak pidana korupsi padapengadilan negeri mataram nomor 16 pid sus tpk 2014 pn mtr tanggal 6agustus 2014yang amar lengkapnya sebagai berikut 1 menyatakan terdakwa 1 suhardi s h dan terdakwa 2 hadisyafrianto s etidak terbukti secara sah dan meyakinkan bersalahmelakukan tindak pidana sebagaimana didakwakan dalamdakwaanprimair 2 membebaskan para terdakwa oleh karenanya daridakwaan primairtersebut 3 menyatakan terdakwa 1 suhardi s h dan terdakwa 2 hadisyafrianto s etelah terbukti secara sah dan meyakinkan bersalahmelakukan tindak pidana korupsi yang dilakukan secara bersama sama 4 menjatuhkan pidana oleh karena itu kepada para terdakwa tersebutdengan pidana penjara masing masing selama 1 satu tahun 5 menetapkan masa penahanan yang telah dijalani oleh para terdakwadikurangkan sepenuhnya dengan perhitungan seperlima darijumlahlamanya waktu penahanan yang telah dijalani oleh para terdakwa 6 menetapkan para terdakwa tetap berada di dalam tahanan kota 7 menetapkan barang bukti berupa barang bukti nomor urut 1 satu sampai dengan nomor urut 52 lima puluh dua dikembalikankepada pemda kabupaten sumbawa besar ksb selengkapnya sebagaimana tuntutan pidana penuntut umum padakejaksaan negeri sumbawa besar tanggal 2 juli 2014 halaman14dari19halaman putusan nomor 1193 pk pid sus 20248 membebankan kepada para terdakwa untuk membayar biaya perkaramasing masing sebesar rp5 000 00 lima ribu rupiah membaca akta permohonan peninjauan kembali nomor2 akta pk pid sus tpk 2024 pn mtr yang dibuat oleh panitera padapengadilan tindak pidana korupsi pada pengadilan negeri mataram yangmenerangkan bahwa pada tanggal 6maret 2024 penasihat hukum paraterpidana berdasarkan surat kuasa khusus tanggal 24 oktober 2023mengajukan permohonan peninjauan kembali terhadap putusan pengadilantindak pidana korupsi pada pengadilan negeri mataram tersebut membaca memori peninjauankembali tanggal 5 februari 2024 daripenasihat hukum para terpidana sebagai pemohon peninjauan kembaliyang diterima di kepaniteraan pengadilan tindak pidana korupsi padapengadilan negeri mataram pada tanggal 6 maret 2024 membaca pula surat surat lain yang bersangkutan menimbang bahwa putusanpengadilan tindak pidana korupsi padapengadilan negeri mataramtersebut telah diucapkan dengan dihadiri olehpara terpidanapada tanggal6 agustus 2014 dengan demikian putusantersebut telah mempunyai kekuatanhukum tetap menimbangbahwa alasan peninjauan kembali yang diajukan olehpemohon peninjauan kembali para terpidanadalam memori peninjauankembali selengkapnya termuat dalam berkas perkara menimbangbahwa terhadap alasan peninjauan kembali yangdiajukanpemohon peninjauan kembali para terpidanatersebut mahkamah agung berpendapat sebagai berikut bahwa alasan peninjauan kembali pk pemohon para terpidana padapokoknya adalah adanya kekhilafan hakim atau suatu kekeliruan yangnyata yaitu 1 bahwajudexfactipengadilan tindak pidana korupsi padapengadilannegerimataramtelah keliru dalam menafsirkan danmerumuskan keuntungan pada unsur dengan tujuanmenguntungkan diri sendiri atau orang lain atau suatu korporasi menurut paraterpidana tidak terbukti karena tidak terdapat suatu halaman15dari19halaman putusan nomor 1193 pk pid sus 2024fakta hukum mengenai dana sppd sebesar rp10 286 400 00 sepuluh juta dua ratus delapan puluh enam ribu empat ratusrupiah yang mengalirkepada para terpidana 2 bahwa perbuatanpara terpidana adalah perbuatan yang memilikialasanpembenar dan alasan pemaaf karena dilakukan atas dasarperintah jabatan 3 bahwa instansi yang berwenang menilai menyatakan ada tidaknyanilai kerugian negara adalah badan pemeriksa keuangan bpk yang memiliki kewenangan konstitusional artinya badan badanaudit selain bpk tidakberwenang untuk menyatakan ada tidaknyakerugiannegara 4 bahwa hakim tidak mempertimbangkan laporan hasil audit bpkpperwakilan provinsi ntb tertanggal 23 september 2013 yang padapokoknyaparaterpidana pada tanggal 1 juli 2013 telahmengembalikan kerugiannegara masing masing sebesarrp5 143 200 00 lima juta seratus empat puluh tiga ribu dua ratusrupiah bahwa alasan peninjauan kembali pk pemohon para terpidana tidakdapat dibenarkan karena putusanjudex factitidak terdapatkekhilafanatau adanya kekeliruan yang nyata dalam penerapan hukum judex factimengadili para terpidana dalam perkaraa quotelah sesuai hukumacara pidana bahwajudex factidalam menyatakan para terpidana terbukti bersalahmelakukan tindak pidana korupsi melanggarpasal3undang undangnomor 31 tahun 1999 tentang pemberantasan tindak pidana korupsisebagaimana telah diubah dengan undang undang nomor 20 tahun2001 tentang perubahan atas undang undang nomor 31 tahun 1999tentang pemberantasan tindak pidana korupsijunctopasal 55ayat 1 ke 1kuhp adalah sudah tepat dan benar yaitu telah denganmempertimbangkan minimal2 dua alat bukti yang sah sebagaimanadalam ketentuan pasal 183 kuhap serta berdasarkan fakta dipersidangan yang relevan secara yuridis halaman16dari19halaman putusan nomor 1193 pk pid sus 2024 bahwa berdasarkan fakta dipersidangan diketahui terpidanai suhardi s h selaku pegawai negeri sipil pada bagian umum danprotokol sekretariat daerah kabupatensumbawa baratdanterpidanaii hadi syafrianto s eselaku pegawai negeri sipilpada bagianumum dan protokol sekretariat daerah kabupatensumbawa baratbersama sama dengan saksi hj martini sap m si selaku kasubbagtu keuangan dan sandi pada bagian umum dan protokol padasekretariat daerah kabupatensumbawa barat telah mengadakankegiatanperjalanan dinasyang dalam kenyataannyapara terpidanasama sekali tidak pernah melaksanakan perjalanan dinas ke jakartasebagaimana spt dan sppd perjalanan dinas fiktif sedangkan spt sppddankuitansi sudah dipersiapkan oleh hj martini s ap m si bahwa berkaitan dengan laporan hasil perjalanan dinas semuanyaditandatangani oleh para terpidana kemudian pengeluaran danaperjalanan dinas tersebut dipergunakan untuk pembelian atk biayapengurusan spp untuk konsultasi urusan pajak di sumbawa bagiseluruh pns di setda kabupaten sumbawa barat serta untukkebutuhan kegiatan mendesak lainnya sehingga total menghabiskanrp10 286 400 00 sepuluh juta dua ratus delapan puluh enam ribu empatratus rupiah bahwa akibat perbuatan perbuatan para terpidana bersama samadengan hj martini s ap m si telah menimbulkan kerugian keuangannegara daerah dalam kegiatan perjalanan dinas fiktif secarakeseluruhan yaitu 1 kegiatan penataan dan pengelolaan administrasi umumperkantoran sebanyak 27 dua puluh tujuh sppd atas nama 14 empat belas orang sebesar rp131 627 400 00 seratus tiga puluhsatu juta enam ratus dua puluh tujuh ribu empat ratus rupiah 2 kegiatan penyedia dukungan staf ahli bupati sebanyak 1 satu sppd atas nama 1 satu orang sebesar rp7 200 000 00 tujuh jutadua ratus ribu rupiah halaman17dari19halaman putusan nomor 1193 pk pid sus 2024sehingga total kerugian keuangan negara daerah sebesarrp138 827 400 00 seratus tiga puluh delapan juta delapan ratus duapuluh tujuh ribu empat ratus rupiah sebagaimana laporanhasil auditbpkp perwakilan provinsi ntb nomor sr 553 pw23 5 2013 tanggal23 september 2013 atau setidak tidaknya sekitar jumlah tersebut bahwa dari kerugian keuangan negara daerah sebesarrp138 827 400 00 seratus tiga puluh delapan juta delapan ratus duapuluh tujuh ribu empat ratus rupiah tersebut telah dinikmati oleh paraterpidana masing masing sebesar rp5 143 200 00 lima juta seratusempat puluh tiga ribu dua ratus rupiah dan kerugian tersebut telahdikembalikan oleh para terpidana bahwa terhadap alasan permohonan peninjauan kembali paraterpidana tentang instansi yang berwenang menilai menyatakan adatidaknya nilai kerugian negara adalah badan pemeriksa keuangan bpk yang memiliki kewenangan konstitusional alasan tersebut adalahtidak beralasan hukum bpkp perwakilan provinsi nusa tenggara baratberwenang melakukan pemeriksaan dan audit pengelolaan keuangannegara sebagaimana dimaksud dalam sema nomor 4 tahun 2016angka 6 bahwa terhadap alasan permohonan peninjauan kembali paraterpidana telah mengembalikan kerugian keuangan negara alasantersebut tidak beralasan hukum berdasarkan pasal 4undang undangnomor 31 tahun 1999 tentang pemberantasan tindak pidana korupsisebagaimana telah diubah dengan undang undang nomor 20 tahun2001 tentang perubahan atas undang undangnomor 31 tahun 1999tentang pemberantasan tindak pidana korupsi yang berbunyi pengembalian kerugian keuangan negara atau perekonomian negaratidak menghapuskan dipidananya pelaku tindak pidana sebagaimanadimaksud dalam pasal2 dan pasal 3 bahwa dengan demikian alasan alasan permohonan peninjauankembali pemohon para terpidana tersebut tidak dapat dibenarkan lagipula alasan permohonan peninjauan kembali pemohon para terpidana halaman18dari19halaman putusan nomor 1193 pk pid sus 2024merupakan pengulangan pertimbangan fakta yang telahdipertimbangkan dan diputus olehjudex facti in casupertimbanganjudex factitersebut sudah tepat dan benar sehingga tidak ada kekhilafanatau adanya kekeliruan yang nyata dalam penerapan hukum menimbangbahwa alasan tersebut tidak dapat dibenarkan olehkarena tidak termasuk dalam salah satu alasan peninjauan kembalisebagaimana yang dimaksud dalam pasal 263 ayat 2 huruf a b dan ckuhap menimbangbahwa dengan demikian berdasarkan pasal 266 ayat 2 huruf a kuhap maka permohonan peninjauan kembali dinyatakan ditolakdan putusan yang dimohonkan peninjauan kembali tersebut dinyatakan tetapberlaku menimbang bahwa karenapara terpidanadipidana maka biayaperkara padapemeriksaan peninjauan kembalimasing masingdibebankankepadapara terpidana mengingatpasal3undang undang nomor 31 tahun 1999 tentangpemberantasan tindak pidana korupsi sebagaimana telah diubah denganundang undang nomor 20 tahun 2001 tentang perubahan atas undang undang nomor 31 tahun 1999 tentang pemberantasan tindak pidanakorupsijunctopasal 55ayat 1 ke 1kuhp undang undang nomor 8tahun 1981 tentang hukum acara pidana undang undang nomor 48tahun 2009 tentang kekuasaan kehakiman dan undang undang nomor 14tahun 1985 tentang mahkamah agung sebagaimana telah diubah denganundang undang nomor 5 tahun 2004 dan perubahan kedua denganundang undang nomor 3 tahun 2009 serta peraturan perundang undanganlain yang bersangkutan m e n g a d i l i menolak permohonan peninjauan kembali dari pemohon peninjauankembali terpidana i suhardi s h dan terpidana ii hadisyafrianto s e tersebut menetapkan bahwa putusan yang dimohonkan peninjauan kembalitersebut tetap berlaku halaman19dari19halaman putusan nomor 1193 pk pid sus 2024 membebankan kepada para terpidana untuk membayar biaya perkarapada pemeriksaan peninjauan kembali masing masing sebesarrp2 500 00 dua ribu lima ratus rupiah demikianlah diputuskan dalam rapat musyawarah majelis hakim padaharikamis tanggal19 september 2024olehsuharto s h m hum hakimagung yang ditetapkan oleh ketua mahkamah agung sebagaiketuamajelis ansori s h m h hakimad hoctindak pidana korupsi padamahkamah agungdandr yanto s h m h hakim agungsebagaihakim hakim anggota putusan tersebut diucapkan dalamsidangterbukauntukumum pada hari dan tanggal itujuga olehketuamajelis yang dihadirihakim hakimanggota sertayunindro fuji ariyanto s h m h paniterapengganti dengan tidak dihadiri olehpenuntut umumdanpara terpidana hakim hakim anggota ketuamajelis ttd ttd ansori s h m h suharto s h m hum ttd dr yanto s h m h untuk salinanmahkamah agung ria n paniterapanitera muda pidanakhususdr sudharmawatiningsih s h m hum nip 19611010 198612 2 001panitera pengganti ttd yunindro fuji ariyanto s h m h"
        ],
        [
         "3",
         "case_004",
         "11pk pid sus 2025",
         "2025",
         "October",
         "4",
         "Pidana Khusus Korupsi",
         "Peninjauan Kembali",
         "Mahkamah Agung",
         "pasal 18",
         "h arizon mega jaya s h m h hakimad hoctindak pidanakorupsi pada mahkamah agung dansutarjo s h m h hakim agungsebagaihakim hakim anggota putusan tersebut diucapkan dalam sidang terbuka untukumum pada hari",
         "menolak permohonan peninjauan kembali dari pemohonpeninjauankembali terpidanamade markus marion dju alias madetersebut menetapkanbahwaputusan yangdimohonkan peninjauan kembalitersebut tetap berlaku membebankan kepada terpidana untuk membayar biaya perkara padapemeriksaan peninjauan kembali sebesar rp2 500 00 dua ribu lima ratusrupiah halaman16dari16halamanputusannomor11pk pid sus 2025",
         "3542",
         "halaman1dari16halamanputusannomor11pk pid sus 2025p u t u s a nnomor11pk pid sus 2025demi keadilanberdasarkanketuhanan yang maha esamahkamah agungmemeriksa perkaraperkara tindak pidanakorupsipada pemeriksaanpeninjauan kembaliyangdimohonkan oleh terpidana telah memutus perkaraterpidana nama made markus marion dju alias made tempatlahir mauhau umur tanggallahir 45tahun 9 maret 1979 jeniskelamin laki laki kewarganegaraan indonesia tempat tinggal menggit timbi rt 016 rw 005 desapalakahembi kecamatan pandawai kabupatensumba timur agama kristen pekerjaan pns bendahara pengeluaran pembantu padadinas pendidikan kabupaten sumba timurtahun 2019 terpidana diajukan di depan persidanganpengadilan tindak pidanakorupsi pada pengadilan negeri kupangkarena didakwa dengan dakwaansebagai berikut primair perbuatan terpidana sebagaimana diatur dan diancam pidanadalam pasal2 ayat 1 junctopasal 18 undang undang nomor 31tahun 1999 tentang pemberantasan tindak pidana korupsisebagaimana telah diubah dengan undang undang nomor 20tahun 2001 tentang perubahanatasundang undang nomor 31tahun 1999 tentang pemberantasan tindak pidana korupsijunctopasal 55 ayat 1 ke 1 kuhp subsidair perbuatan terpidana sebagaimana diatur dan diancam pidanadalam pasal3junctopasal 18 undang undang nomor 31 tahun1999 tentang pemberantasan tindak pidana korupsi halaman2dari16halamanputusannomor11pk pid sus 2025sebagaimana telah diubah dengan undang undang nomor 20tahun 2001 tentang perubahanatasundang undang nomor 31tahun 1999 tentang pemberantasan tindak pidana korupsijunctopasal 55 ayat 1 ke 1 kuhp mahkamah agung tersebut membaca tuntutanpidanapenuntut umum pada kejasaan negerisumba timurtanggal21 januari 2022sebagai berikut 1 menyatakan terdakwa made markus marion dju alias made tidakterbukti secara sah dan meyakinkan bersalah melakukan tindak pidana korupsi secara bersama sama sebagaimana diatur dan diancam pidanamenurut ketentuan pasal2 ayat 1 junctopasal 18 undang undang nomor31 tahun 1999 tentang pemberantasan tindak pidana korupsijunctoundang undang nomor 20 tahun 2001 tentang perubahanatasundang undang nomor 31 tahun 1999 tentang pemberantasan tindak pidanakorupsijunctopasal 55 ayat 1 ke 1 kuhp sebagaimana dalam dakwaanprimair kami 2 membebaskan terdakwa made markusmariondju alias made daridakwaan primair melanggar pasal2 ayat 1 junctopasal 18 undang undang nomor 31tahun 1999 tentang pemberantasan tindak pidanakorupsi sebagaimana telah diubah dan ditambah dengan undang undangnomor 20 tahun 2001 tentang perubahanatasundang undang nomor 31tahun 1999 tentang pemberantasan tindak pidana korupsijunctopasal 55ayat 1 ke 1 kuhp 3 menyatakan terdakwa mademarkusmarion dju alias made terbuktisecara sah dan meyakinkan bersalah melakukan tindak pidana korupsisecara bersama sama melanggar pasal 3 ayat 1 junctopasal 18undang undang nomor 31 tahun 1999 tentang pemberantasan tindakpidana korupsi sebagaimana telah diubah dan ditambah dengan undang undang nomor 20 tahun 2001 tentang perubahanatasundang undangnomor 31 tahun 1999 tentang pemberantasan tindak pidana korupsijunctopasal 55 ayat 1 ke 1 kuhp sebagaimana dalam dakwaansubsidair kami halaman3dari16halamanputusannomor11pk pid sus 20254 menjatuhkan pidana kepada terdakwa made markus marion dju aliasmade dengan pidana penjara selama 8 delapan tahun dikurangi selamaterdakwa berada dalam tahanan danmenetapkanagar terdakwa tetapberada dalam tahanan dan denda sebesar rp300 000 000 00 tiga ratusjuta rupiah subsidair 6 enam bulan kurungan 5 menjatuhkan pidana kepada terdakwa made markus marion dju aliasmade dengan pidana membayar uang pengganti sebesarrp6 593 394 900 00 enam miliar lima ratus sembilan puluh tiga juta tigaratus sembilan puluh empat ribu sembilan ratus rupiah dengan ketentuanapabila uang pengganti tersebut tidak dibayar dalam tenggang waktu palinglama 1 satu bulan setelah putusan pengadilan tersebut berkekuatanhukum tetap makaharta bendanya dapat disita oleh jaksa dan dijual lelanguntuk membayar uang pengganti tersebut dan jika terdakwa tidak memilikiharta benda yang cukup maka dipidana penjara selama 4 empat tahunpenjara 6 menyatakanbarang buktiberupa 1 1 satu eksemplar dokumen spm dan sp2d gaji dan tunjangan asnpada dinas pendidikan kabupaten sumba timur tahun anggaran2019 2 1 satu eksemplar fotokopi suratkeputusanbupati sumba timurnomor 7 bkad 800 7 i 2019 tanggal 4 januari 2019 tentang penetapanpejabat pengguna anggaran pengguna barang dan pejabat kuasapengguna anggaran kuasa pengguna barang pada organisasiperangkat daerah kabupaten sumba timur tahun anggaran 2019 3 1 satu eksemplar fotokopi peraturan bupati sumba timur nomor 48tahun 2017 tanggal 18 desember 2017 tentang implementasitransaksi pembayaran non tunai pada pemerintah kabupaten sumbatimur 4 1 satu eksemplar peraturan bupati sumba timur nomor 05 tahun2019 tanggal 21 januari 2019 tentang ketentuan besarnya uangpersediaan up pengisian kembali uang persediaan gu tambahanuang persediaan tu dan pembayaran langsung ls serta halaman4dari16halamanputusannomor11pk pid sus 2025mekanisme pembayaran atas beban anggaran pendapatan danbelanja daerah kabupaten sumba timur tahun anggaran 2019 5 1 satu eksemplar fotokopi dokumen pelaksanaan perubahananggaran satuan kerja perangkat daerah dppa skpd dinaspendidikan kabupaten sumba timur tahun anggaran 2019 tanggal 6september 2019 6 1 satu eksemplar fotokopi peraturan pemerintah republik indonesianomor 15 tahun 2019 tentang perubahan ke delapan belas atasperaturan pemerintah nomor 7 tahun 1977 tentang peraturan gajipegawai negeri sipil tanggal 13 meret 2019 7 1 satu eksemplar fotokopi peraturan pemerintah republik indonesianomor 12 tahun 2019 tanggal 6 maret 2019 tentang pengelolaankeuangan daerah 8 1 satu eksemplar fotokopi keputusan kepala badan keuangan danaset daerah kabupaten sumba timur nomor bkad 900 28 i 2019tanggal 7 januari 2019 tentang penunjukan pembantu bendaharapengeluaran pada badan keuangan dan aset daerah kabupatensumba timur tahun anggaran 2019 9 1 satu eksemplarrekening koranatas nama dinas ppokabupatensumba timur dengannomor rekening00501050007433 tahun 2019 10 1 satu eksemplarrekening koranatas nama dinas ppo i dengannomor rekening00501050000127 tahun 2019 11 1 satu eksemplarrekening koranatas nama dinas ppo ii dengannomor rekening00501050000411 tahun 2019 12 1 satu eksemplarrekening koranasn pada dinas pendidikankabupaten sumba timur tahun 2019 13 1 satu eksemplarrekening koranasn guru sd padadinaspendidikan kabupaten sumba timur tahun 2019 14 1 satu eksemplarrekening koranasn guru smp pada dinaspendidikan kabupaten sumba timur tahun 2019 15 1 satu eksemplarrekening koranasn guru tk pada dinaspendidikan kabupaten sumba timur tahun 2019 halaman5dari16halamanputusannomor11pk pid sus 202516 1 satu eksemplarrekening koran non guru pada dinas pendidikankabupaten sumba timur tahun 2019 17 1 satu eksemplardata selisih besaran gaji pokokasnyangmendapatkan kenaikan pangkat pada tahun2019 suratkeputusankenaikan pengkat terlampir 18 1 satu eksemplar fotokopi suratkeputusankepala dinas pendidikankabupaten sumba timur nomor pend 420 033 i 2019 tanggal 7januari 2019 tentang penetapan pejabat pelaksana teknis kegiatan pptk pejabat penatausahaan keuangan ppk bendaharapengeluaran pembantu dan panitian pemeriksa barang jasa rutindinas pendidikan kabupaten sumba timur tahun anggaran 2019 yang keseluruhannyadipergunakan dalam perkara atas nama terdakwayohanis reku paji meha alias hanis 7 biaya perkarasebesarrp5 000 00 lima ribu rupiah membacaputusanpengadilan tindak pidana korupsi pada pengadilannegeri kupang nomor 62 pid sus tpk 2021 pn kpg tanggal 9 februari 2022yang amar lengkapnya sebagai berikut 1 menyatakan terdakwa made markus marion dju alias made tidakterbuktisecara sah dan meyakinkan bersalah melakukan tindak pidana korupsi sebagaimana dalam dakwaan primair 2 membebaskan terdakwa made markus marion dju alias made daridakwaan primair tersebut 3 menyatakan terdakwa made markus marion dju alias made terbuktisecara sah dan meyakinkan bersalah melakukan tindak pidana korupsiyang dilakukan secara bersama sama sebagaimana dalam dakwaansubsidair 4 menjatuhkan pidana penjara terhadap terdakwa made markus mariondju aliasmade selama 9 sembilan tahundan denda sejumlahrp400 000 000 00 empat ratus juta rupiah dengan ketentuan apabiladenda tersebut tidak dibayar maka diganti dengan pidana kurungan selama6 enam bulan 5 menghukum terdakwa made markus marion dju alias made untuk halaman6dari16halamanputusannomor11pk pid sus 2025membayar uang pengganti kerugian keuangan negara sejumlahrp1 648 348 725 00 satu miliar enam ratus empat puluh delapan juta tigaratus empat puluh delapan ribu tujuh ratus dua puluh lima rupiah denganketentuan apabila uang pengganti tersebut tidak dibayar dalam tenggangwaktu paling lama 1 satu bulan setelah putusan pengadilan tersebutberkekuatan hukum tetap maka harta bendanya dapat disita oleh jaksa dandijual lelang untuk membayar uang pengganti tersebut dan jika terdakwatidak memiliki harta benda yang cukup maka dipidana penjaraselama 4 empat tahun 6 menetapkan masapenahananyang telah dijalani oleh terdakwadikurangkan seluruhnya dari pidana yang dijatuhkan kepadanya 7 memerintahkanterdakwatetap berada dalam tahanan 8 menyatakan barang bukti berupa 1 1 satu eksemplar dokumenspm dan sp2d gaji dan tunjangan asnpada dinas pendidikan kabupaten sumba timur tahun anggaran2019 2 1 satu eksemplar fotokopi suratkeputusanbupati sumba timurnomor 7 bkad 800 7 i 2019 tanggal 4 januari 2019 tentang penetapanpejabat pengguna anggaran pengguna barang dan pejabat kuasapengguna anggaran kuasa pengguna barang pada organisasiperangkat daerah kabupaten sumba timur tahun anggaran 2019 3 1 satu eksemplar fotokopi peraturan bupati sumba timur nomor 48tahun 2017 tanggal 18 desember 2017 tentang implementasitransaksi pembayaran non tunai pada pemerintah kabupaten sumbatimur 4 1 satu eksemplar peraturan bupati sumba timur nomor 05 tahun2019 tanggal 21 januari 2019 tentang ketentuan besarnya uangpersediaan up pengisian kembali uang persediaan gu tambahanuang persediaan tu dan pembayaran langsung ls sertamekanisme pembayaran atas beban anggaran pendapatan danbelanja daerah kabupaten sumba timur tahun anggaran 2019 halaman7dari16halamanputusannomor11pk pid sus 20255 1 satu eksemplar fotokopi dokumen pelaksanaan perubahananggaran satuan kerja perangkat daerah dppa skpd dinaspendidikan kabupaten sumba timur tahun anggaran 2019 tanggal 6september 2019 6 1 satu eksemplar fotokopi peraturan pemerintah republik indonesianomor 15 tahun 2019 tentang perubahan ke delapan belas atasperaturan pemerintah nomor 7 tahun 1977 tentang peraturan gajipegawai negeri sipil tanggal 13 meret 2019 7 1 satu eksemplar fotokopi peraturan pemerintah republik indonesianomor 12 tahun 2019 tanggal 6 maret 2019 tentang pengelolaankeuangan daerah 8 1 satu eksemplar fotokopi keputusan kepala badan keuangan danaset daerah kabupaten sumba timur nomor bkad 900 28 i 2019tanggal 7 januari 2019 tentang penunjukan pembantu bendaharapengeluaran pada badan keuangan dan aset daerah kabupatensumba timur tahun anggaran 2019 9 1 satu eksemplarrekening koranatas nama dinas ppokabupatensumba timur dengannomor rekening00501050007433 tahun 2019 10 1 satu eksemplarrekening koranatas nama dinas ppo i dengannomor rekening00501050000127 tahun 2019 11 1 satu eksemplarrekening koranatas nama dinas ppo ii dengannomor rekening00501050000411 tahun 2019 12 1 satu eksemplarrekening koranasn pada dinas pendidikankabupaten sumba timur tahun 2019 13 1 satu eksemplarrekening koranasn guru sd pada dinaspendidikan kabupaten sumba timur tahun 2019 14 1 satu eksemplarrekening koranasn guru smp pada dinaspendidikan kabupaten sumba timur tahun 2019 15 1 satu eksemplarrekening koranasn guru tk pada dinaspendidikan kabupaten sumba timur tahun 2019 16 1 satu eksemplarrekening koran non guru pada dinas pendidikankabupaten sumba timur tahun 2019 halaman8dari16halamanputusannomor11pk pid sus 202517 1 satu eksemplardata selisih besaran gaji pokokasnyangmendapatkan kenaikan pangkat pada tahun 2019 surat keputusankenaikan pengkat terlampir 18 1 satu eksemplar fotokopisurat keputusankepala dinas pendidikankabupaten sumba timur nomor pend 420 033 i 2019 tanggal 7januari 2019 tentang penetapan pejabat pelaksana teknis kegiatan pptk pejabat penatausahaan keuangan ppk bendaharapengeluaran pembantu dan panitian pemeriksa barang jasa rutindinas pendidikan kabupaten sumba timur tahun anggaran 2019 yang keseluruhannyadikembalikan kepada penuntut umum untukdipergunakan dalam perkara atas nama terdakwa yohanis reku pajimeha 9 membebankan agar terdakwa membayar biaya perkara sebesarrp5 000 00 lima ribu rupiah membacaputusan pengadilan tindak pidana korupsi pada pengadilantinggi kupang nomor2 pid sus tpk 2022 pt kpgtanggal19 april2022yang amar lengkapnya sebagai berikut 1 menerima permintaan banding dari jaksa penuntut umum dan terdakwatersebut 2 memperbaiki putusan pengadilan tindak pidana korupsi pada pengadilannegeri kupang nomor 62 pid sus tpk 2021 pnkpg tanggal 9februari2022 sekedar mengenai pembayaran uang pengganti kerugian keuangannegara kepada terdakwa sehingga berbunyi sebagai berikut menghukum terdakwa untuk membayar uang pengganti kerugiankeuangan negara sejumlah rp2 400 000 000 00 dua miliar empat ratusjuta rupiah jika terpidana tidak membayar uang pengganti palinglambat 1 satu bulan sesudah putusan pengadilan memperolehkekuatan hukum tetap maka harta benda terpidana lainnya dapat disitaoleh jaksa dan dilelang untuk menutupi uang pengganti tersebut dalamhal terpidana tidak mempunyai harta benda yang mencukupi untukmembayar uang pengganti tersebut maka dipidana penjara selama 4 empat tahun halaman9dari16halamanputusannomor11pk pid sus 20253 menguatkan putusan pengadilan tindak pidana korupsi pada pengadilannegeri kupang nomor 62 pid sus tpk 2021 pnkpg tanggal 9 pebruari2022 selain dan selebihnya 4 menetapkanbahwa lamanya terdakwa berada dalam tahanan dikurangkanseluruhnya dari pidana yang dijatuhkan 5 memerintahkan agarterdakwatetap berada dalam tahanan 6 membebankan biayaperkarakepada terdakwa dalam dua tingkatperadilan sedang di tingkat banding sebesarrp5 000 00 lima ribu rupiah membaca putusan mahkamah agung nomor 5104 k pid sus 2022tanggal 4 oktober 2022yang amar lengkapnya sebagai berikut menolak permohonan kasasi dari pemohon kasasii penuntut umumpadakejaksaan negeri sumba timurtersebut menolak permohonan kasasi dari pemohon kasasiii terdakwamademarkus marion dju alias madetersebut memperbaiki putusan pengadilan tindak pidana korupsi pada pengadilantinggi kupangnomor2 pid sus tpk 2022 pt kpgtanggal19 april 2022yangmemperbaikiputusan pengadilan tindak pidana korupsi padapengadilan negeri kupang nomor62 pid sus tpk 2021 pn kpg tanggal 9februari 2022 mengenaipidanayang dijatuhkan kepadaterdakwamenjadisebagai berikut menjatuhkan pidana terhadap terdakwa oleh karena itu dengan pidanapenjara selama 8 delapan tahun dan denda sebesar rp400 000 000 00 empat ratus juta rupiah dengan ketentuan jika denda tersebut tidakdibayar diganti dengan pidana kurungan selama 6 enam bulan menghukum terdakwauntukmembayar uang pengganti sebesarrp2 009 404 000 00 dua miliar sembilan juta empat ratus empat riburupiah apabila terpidana tidak membayar uang pengganti paling lama 1 satu bulan sesudah putusan pengadilan yang telah memperolehkekuatan hukum tetap maka harta benda terpidana dapat disita olehjaksa dan dilelang untuk menutupi uang pengganti dan apabilaterpidana tidak mempunyai harta benda yang mencukupi untuk halaman10dari16halamanputusannomor11pk pid sus 2025membayar uang pengganti maka diganti dengan pidana penjara selama2 dua tahun membebankan kepada terdakwa untuk membayar biaya perkara padatingkat kasasisebesar rp2 500 00 dua ribu lima ratus rupiah membaca akta permohonan peninjauan kembalinomor04 akta pid sus tpk pk 2024 pnkpgtanggal 30 april 2024yang dibuat olehpanitera padapengadilan tindak pidanakorupsi pada pengadilan negerikupang yang menerangkan bahwa pada tanggal30 april 2024penasihathukum terpidana bertindak untuk dan atas nama terpidana berdasarkan suratkuasa khusus tanggal23april 2024 mengajukan permohonan peninjauankembali terhadap putusanmahkamah agungtersebut membaca memori peninjauan kembali tanggal30 april 2024daripenasihat hukumterpidanauntuk dan atas nama terpidanatersebutsebagaipemohon peninjauan kembali yang diterima di kepaniteraanpengadilantindak pidana korupsi pada pengadilan negeri kupangpada tanggal30 april2024 membaca pula surat surat lain yang bersangkutan menimbang bahwa putusanmahkamah agung tersebut telahdiberitahukan kepada terpidana pada tanggal20 desember 2022 dengandemikian putusan tersebut telah mempunyai kekuatan hukum tetap menimbang bahwa alasan permohonan peninjauan kembali yang diajukanoleh pemohon peninjauan kembali terpidana dalam memori peninjauankembali selengkapnya termuat dalam berkas perkara menimbang bahwa terhadap alasan permohonan peninjauan kembali yangdiajukan pemohon peninjauan kembali terpidana tersebut mahkamah agungberpendapat sebagai berikut bahwaalasanpermohonanpeninjauan kembalitentang adanya kekhilafanhakim atau kekeliruan yang nyata tidak dapat dibenarkan karena padaputusanjudex juristidak ditemukan adanya kekeliruan atau kekhilafan yangnyata atau salah dalam menerapkan hukum halaman11dari16halamanputusannomor11pk pid sus 2025 bahwa alasanpermohonanpeninjauan kembalitersebut di atas tidak dapatdibenarkan berdasarkan hal hal dan fakta hukumyang pada pokoknyasebagai berikut bahwaterpidanamade markus marion dju alias made adalahbendahara pengeluaran pembantu pada dinas pendidikan pemuda danolahraga kabupaten sumba timur tahun 2019 berdasarkan keputusankepala dinas pendidikan pemuda dan olahraga kabupaten sumbatimur nomorpend 420 033 1 2019 terpidanaselaku bendaharapengeluaran pembantu pada dinas pendidikan pemudadan olahraga ppo kabupaten sumba timur tahun 2019 bahwa dinas ppo pada tahun 2019 terdapat anggaran untukpembayarangaji dan tunjanganapartur sipil negara asn baik gurumaupun non guru yang bersumber dari apbd anggaran pendapatandan belanja daerah kabupaten sumba timur tahun anggaran 2019yaitu sebesar rp131 335 196 393 00 seratus tiga puluh satu miliar tigaratus tiga puluh lima juta seratus sembilan puluh enam ribu tiga ratussembilan puluh tiga rupiah bahwaterpidana bersama dengansaksiyohanis reku paji meha aliashanisselaku operator gaji pada badan keuangan dan aset daerahkabupaten sumba timurtahun 2019 bersama denganhina pekambani s ap alias marambaselaku admin gaji pada badan keuangan dan asetdaerah kabupaten sumba timur tahun 2019 melakukan penyimpanganatas pengelolaan realisasi gajiasnpada dinas pendidikan kabupatensumba timur tahun anggaran 2019 dengan cara menambahans yangtelah meninggal dunia pindah tempat tugas ke luar daerah pensiun dandiberhentikan darians ke dalam daftar gaji dinas pendidikan kabupatensumba timur bahwa terdapatpembayaran gaji dan tunjangan asnpada dinaspendidikan kabupaten sumba timur tahun anggaran 2019 yangdiketahui seharusnya tidak berhak dibayarkanlagikarena asn padadinas pendidikan kabupaten sumba timur tersebut telah mendapatkanstatus kepegawaian baru sepertiasn pegawai tersebut telah pensiun halaman12dari16halamanputusannomor11pk pid sus 2025telah meninggal dunia telah di mutasi eksternal dan atau mendapatkanstatus kepegawaian karena sebab lainnya diantaranya berupapemberhentian tidak hormat cuti diluar tanggungan negaradanbukanmerupakan asn di dinas pendidikan kabupaten sumba timur dan jugaterdapat pembayaran kekurangan gaji asn pada dinas pendidikankabupaten sumba timur tahun anggaran 2019 tidak sebagaimanamestinya serta dilakukannya penarikan tunai terhadap pembayaran gajidan tunjangan asn pada dinas pendidikan kabupaten sumba timurtahun anggaran 2019 tersebut bahwarealisasi pencairan dana kekurangan gaji baik tidak sampaikepada penerima hakuntukguru maupun non guru yang mengalamikenaikan pangkat dan gaji berkala pada tahun 2019 dengan nilairp6 386 152 100 00 enam miliar tiga ratus delapan puluh enam jutaseratus lima puluh dua ribu seratus rupiah sedangkan realisasipembayaran gaji bagi asn yang memiliki status kepegawaian tertentuseperti asn yang meninggal pensiun mutasi ekstemal dan statuskepegawaian lainnyapada tahun 2019 dengan nilai rp919 968 800 00 sembilan ratus sembilan belas juta sembilan ratus enam puluh delapanribu delapan ratus rupiah bahwa ahli telah melakukan uji petik atas pembayaran gaji asn padadinas pendidikan kabupaten sumba timur dengan statuskepegawaianyang meliputi asn tersebut telah pensiun telah meninggal dunia telahdimutasi eksternal dan atau mendapatkan status kepegawaian karenasebab lainnya diantaranya berupa pemberhentian tidak hormat cutidiluar tanggungan negara dan bukan merupakan asn pada dinaspendidikan kabupaten sumba timur tahun anggaran 2019 danrealisasi pencairan dana kekurangan gaji baik guru maupun non guruyang mengalami kenaikan pangkat dan gaji berkala pada tahun 2019pada dinas pendidikan kabupaten sumba timur tahun anggaran 2019terhadap kerugian negara sebesar rp7 306 120 900 00 tujuh miliar tigaratus enam juta seratus dua puluh ribu sembilan ratus rupiah sebagaimana laporan hasil audit dalam rangka penghitungan kerugian halaman13dari16halamanputusannomor11pk pid sus 2025keuangan negara lhpkkn atas dugaan tindak pidana korupsipengelolaan keuangan daerah pada dinas pendidikan kabupatensumba timur tahun anggaran 2019 nomor 01 ik lhpkkn ks 2021tanggal 11 mei 2021 bahwa terhadap kelebihan pembayaran gaji asnkabupaten sumbatimur tahun anggaran 2019 senilai rp758 360 500 00 tujuh ratus limapuluhdelapan juta tiga ratus enam puluh ribu lima ratus rupiah sesuailaporanhasilpemeriksaanbpk perwakilan provinsi nusa tenggaratimur nomor 75 c lhp xix kup 06 2020 tanggal 18 juni 2020 telahdilakukan pengembalian seluruhnya ke kas daerah pemerintah daerahkabupaten sumba timur sehingga berdasarkan hasil audit dalamrangka penghitungan kerugian keuangan negara lhpkkn atasdugaan tindak pidana korupsi pengelolaan keuangan daerah padadinas pendidikan kabupaten timur tahun anggaran 2019 nomor01 ik lhpkkn ks 2021 tanggal 11 mei 2021 masih terdapat kelebihanpembayaran gaji dan tunjangan asn pada dinas pendidikankabupaten sumba timur pada tahun anggaran 2019 yang belumdisetorkan kepada negara sebesarrp6 593 394 900 00 enam miliarlima ratus sembilan puluh tiga juta tiga ratus sembilan puluh empat ribusembilan ratus rupiah bahwa kelebihan pembayaran gaji dan kekurangan gajiasntahunanggaran 2019 pada dinas pendidikan pemuda dan olahragakabupaten sumba timur senilai rp7 306 120 900 00 tujuh miliar tigaratus enam juta seratus dua puluh ribu sembilan ratus rupiah dikurangidengan pengembalian yang dilakukan oleh tepidanabersama dengansaksi andereas tara panjang dan saksi yohanis reku paji meha sertasaksi hina pekambani alias maramba senilai rp712 726 000 00 tujuhratus dua belas juta tujuh ratus dua puluh enam ribu rupiah maka nilaianggaran tahun 2019 pada dinas pendidikan pemuda dan olahragakabupaten sumba timur yang tidak dapat dipertanggungjawabkansenilai rp6 593 394 900 00 enam miliar lima ratus sembilan puluh tiga halaman14dari16halamanputusannomor11pk pid sus 2025juta tiga ratus sembilan puluh empat ribu rupiah disebut sebagaikerugian keuangan negara bahwa perbuatanterpidana pemohon peninjauan kembalimengakibatkan kerugian keuangan negara bersama denganandreastara panjang alias andre yohanis reku paji mehaaliashanis hinapekambani s ap aliasmaramba yusuf waluwanja s h aliasyusufmaka sudah sepatutnya dihukum untuk membayar uang penggantikerugian keuangan negarasebesar rp2 009 404 000 00 dua miliarsembilan juta empat ratus empat ribu rupiah bahwa berdasarkan fakta hukum tersebut di atas maka terdakwa telahterbukti secara sah dan meyakinkan bersalah melakukan tindak pidana korupsi secara bersama sama melanggar ketentuan pasal 3junctopasal18 ayat 1 huruf b undang undang nomor 31 tahun 1999 tentangpemberantasan tindak pidana korupsi sebagaimana telah diubah denganundang undang nomor 20 tahun 2001 tentang perubahan atas undang undang nomor 31 tahun 1999 tentang pemberantasan tindak pidanakorupsijunctopasal 55 ayat 1 ke 1 kuhp sebagaimana dakwaansubsidair bahwa mengenai penjatuhan pidana penjara dan pidana denda olehjudexjuriskepada terpidana sudah sesuai dengan rentang penjatuhan pidanapenjara dan pidana denda sebagaimana ketentuanperaturan mahkamahagung nomor 1 tahun 2020tentang salinan pedoman pemidanaan pasal2dan pasal 3 undang undang pemberantasan tindak pidana korupsi bahwajudex jurissudah tepat dalam menerapkan hukum dalam perkaraaquodan tidak terdapat kekeliruan atau kekhilafan yang nyata dalamputusanjudex juristersebut bahwa berdasarkan uraian fakta hukum di atas maka alasan permohonanpeninjauan kembali dari pemohon peninjauan kembali terpidana mengenaiadanya kekhilafan hakim atau kekeliruan yang nyata dalam menerapkanhukum tidak dapat dibenarkan oleh karena putusanjudex jurissudah tepatdalam menerapkan hukum baik dalam pertimbangan hukum maupun dalam halaman15dari16halamanputusannomor11pk pid sus 2025amar putusannya sehingga mahkamah agung tidak memiliki cukup alasanuntuk mengabulkan permohonan peninjauankembalia quo menimbang bahwa berdasarkan pertimbangan tersebut di atas alasanpermohonan peninjauan kembali dari pemohon peninjauan kembali terpidanatersebut tidak dapat dibenarkan oleh karena tidak termasuk dalam salah satualasan peninjauan kembali sebagaimana yang dimaksud dalam pasal 263 ayat 2 huruf a hurufb danhurufc kuhap menimbang bahwa dengan demikian berdasarkan pasal 266 ayat 2 hurufa kuhap maka permohonan peninjauan kembali dinyatakanditolak danputusan mahkamah agung nomor 5104 k pid sus 2022tanggal 4 oktober2022yang dimohonkan peninjauan kembali tersebut dinyatakan tetap berlaku menimbang bahwa karena terpidana dipidana maka dibebani untukmembayar biaya perkara pada pemeriksaanpeninjauan kembali mengingatpasal3junctopasal 18 undang undang nomor 31 tahun1999 tentang pemberantasan tindak pidana korupsi sebagaimana telahdiubah dengan undang undang nomor 20 tahun 2001 tentang perubahanatas undang undang nomor 31 tahun 1999tentang pemberantasan tindakpidana korupsijunctopasal55ayat 1 kuhp undang undang nomor 8tahun 1981 tentang hukum acara pidana undang undang nomor 48 tahun2009 tentang kekuasaan kehakiman dan undang undang nomor 14 tahun1985 tentang mahkamah agung sebagaimana telah diubah dengan undang undang nomor 5 tahun 2004 dan perubahan kedua dengan undang undangnomor 3 tahun 2009 serta peraturan perundang undangan lain yangbersangkutan m e n g a d i l i menolak permohonan peninjauan kembali dari pemohonpeninjauankembali terpidanamade markus marion dju alias madetersebut menetapkanbahwaputusan yangdimohonkan peninjauan kembalitersebut tetap berlaku membebankan kepada terpidana untuk membayar biaya perkara padapemeriksaan peninjauan kembali sebesar rp2 500 00 dua ribu lima ratusrupiah halaman16dari16halamanputusannomor11pk pid sus 2025demikianlah diputuskan dalam rapat musyawarah majelis hakim padaharikamis tanggal16 januari 2025olehdwiarso budi santiarto s h m hum hakim agung yang ditetapkan oleh ketua mahkamah agung sebagaiketua majelis h arizon mega jaya s h m h hakimad hoctindak pidanakorupsi pada mahkamah agung dansutarjo s h m h hakim agungsebagaihakim hakim anggota putusan tersebut diucapkan dalam sidang terbuka untukumum pada hari dan tanggal itu juga oleh ketua majelis yang dihadiri hakim hakim anggota sertawidyatinsri kuncoro yakti s h m h sebagaipaniterapengganti dengan tidak dihadiri oleh penuntut umum dandanterpidana hakim hakim anggota ttd h arizon mega jaya s h m h ketua majelis ttd dwiarso budi santiarto s h m hum ttd sutarjo s h m h panitera pengganti ttd widyatinsri kuncoro yakti s h m h untuk salinanmahkamah agunga n paniterapanitera muda pidana khusus dr sudharmawatiningsih s h m hum nip 19611010 198612 2 001linan"
        ],
        [
         "4",
         "case_005",
         "1204 pk pid sus 2024",
         "2024",
         "August",
         "20",
         "Pidana Khusus Korupsi",
         "Peninjauan Kembali",
         "Mahkamah Agung",
         "pasal 2 ayat 1, Undang-Undang Nomor 31 tahun 1999",
         "dr sinintha yuliansih sibarani s h m h hakim ad hoc tindak pidana korupsi pada mahkamah agung",
         "kembali perkara tersebut dengan amar seperti yang akan disebutkan di bawah ini",
         "25414",
         "dari 110 halaman putusan nomor 1204 pk pid sus 2024 p u t u s a n nomor 1204 pk pid sus 2024 demi keadilan berdasarkan ketuhanan yang maha esa m a h k a m a h a g u n g memeriksa perkara tindak pidana korupsi pada pemeriksaan peninjauan kembali yang dimohonkan oleh terpidana telah memutus perkara terpidana nama yudhi sulistiyono s t tempat lahir bandung umur tanggal lahir 42 tahun 26 maret 1982 jenis kelamin laki laki kewarganegaraan indonesia tempat tinggal graha puspasari jalan puspa kencana nomor 26 rt 001 rw 014 kabupaten bogor agama islam pekerjaan swasta terpidana diajukan di depan persidangan pengadilan tindak pidana korupsi pada pengadilan negeri jakarta pusat karena didakwa dengan dakwaan sebagai berikut primair perbuatan terpidana sebagaimana diatur dan diancam pidana dalam pasal 2 ayat 1 juncto pasal 18 ayat 1 huruf b undang undang nomor 31 tahun 1999 tentang pemberantasan tindak pidana korupsi juncto undang undang nomor 20 tahun 2001 tentang perubahan atas undang undang nomor 31 tahun 1999 tentang pemberantasan tindak pidana korupsi juncto pasal 55 ayat 1 ke 1 kuhp subsidair perbuatan terpidana sebagaimana diatur dan diancam pidana dalam pasal 3 juncto pasal 18 ayat 1 huruf b undang undang nomor 31 tahun 1999 tentang dari 110 halaman putusan nomor 1204 pk pid sus 2024 pemberantasan tindak pidana korupsi juncto undang undang nomor 20 tahun 2001 tentang perubahan atas undang undang nomor 31 tahun 1999 tentang pemberantasan tindak pidana korupsi juncto pasal 55 ayat 1 ke 1 kuhp mahkamah agung tersebut membaca tuntutan pidana penuntut umum pada kejaksaan negeri jakarta selatan tanggal 20 agustus 2021 sebagai berikut 1 menyatakan terdakwa yudhi sulistiyono s t tidak terbukti secara sah dan meyakinkan bersalah melakukan tindak pidana korupsi dalam dakwaan primair sebagaimana diatur dalam pasal 2 ayat 1 juncto pasal 18 undang undang nomor 31 tahun 1999 sebagaimana diubah dan ditambah dengan undang undang nomor 20 tahun 2001 tentang perubahan atas undang undang nomor 31 tahun 1999 tentang pemberantasan tindak pidana korupsi juncto pasal 55 ayat 1 ke 1 kuhp 2 menyatakan melepaskan terdakwa yudhi sulistiyono s t dari dakwaan primair sebagaimana diatur dalam pasal 2 ayat 1 juncto pasal 18 undang undang nomor 31 tahun 1999 sebagaimana diubah dan ditambah dengan undang undang nomor 20 tahun 2001 tentang perubahan atas undang undang nomor 31 tahun 1999 tentang pemberantasan tindak pidana korupsi juncto pasal 55 ayat 1 ke 1 kuhp 3 menyatakan terdakwa yudhi sulistiyono s t terbukti secara sah dan meyakinkan bersalah melakukan tindak pidana korupsi dalam dakwaan subsidair sebagaimana diatur dalam pasal 3 juncto pasal 18 undang undang nomor 31 tahun 1999 sebagaimana diubah dan ditambah dengan undang undang nomor 20 tahun 2001 tentang perubahan atas undang undang nomor 31 tahun 1999 tentang pemberantasan tindak pidana korupsi juncto pasal 55 ayat 1 ke 1 kuhp dari 110 halaman putusan nomor 1204 pk pid sus 2024 4 menjatuhkan pidana penjara terhadap terdakwa yudhi sulistiyono s t dengan pidana penjara selama 3 tiga tahun dan 6 enam bulan dikurangi selama terdakwa dalam tahanan dan denda rp200 000 000 00 dua ratus juta rupiah subsidair 3 tiga bulan kurungan dengan perintah agar terdakwa tetap ditahan 5 membebankan kepada terdakwa yudhi sulistiyono s t untuk membayar uang pengganti sebesar rp943 392 000 00 sembilan ratus empat puluh tiga juta tiga ratus sembilan puluh dua ribu rupiah dan jika terdakwa tidak dapat membayar uang pengganti dalam waktu 1 satu bulan sesudah putusan mempunyai kekuatan hukum tetap maka harta bendanya dapat disita dan dilelang dan jika terdakwa tidak mempunyai harta benda yang mencukupi untuk membayar uang pengganti maka diganti dengan pidana penjara selama 1 satu tahun 9 sembilan bulan penjara 3 tiga tahun penjara 6 barang bukti a berdasarkan penetapan hakim nomor 09 pen pid sus tpk i 2021 pn jkt pst tanggal 27 januari 2021 disita dari dicky rachmat sesuai berita acara penyitaan hari selasa tanggal 19 januari 2021 yaitu 1 1 satu bundel asli laporan perkiraan pengeluaran operasional periode desember 2017 pt gendis caraka wyakta 2 1 satu bundel fotokopi berita acara rapat nomor 61 tanggal 23 oktober 2017 atas nama pt gendis caraka wyakta yang dibuat dihadapan notaris yendra wiharja s h m h 3 1 satu bundel fotokopi berita acara rapat nomor 14 tanggal 06 april 2016 atas nama pt gendis caraka wyakta yang dibuat dihadapan notaris yendra wiharja s h m h dari 110 halaman putusan nomor 1204 pk pid sus 2024 4 1 satu bundel fotokopi berita acara rapat nomor 13 tanggal 10 juni 2014 atas nama pt gendis caraka wyakta yang dibuat dihadapan notaris yendra wiharja s h m h 5 1 satu bundel fotokopi pernyataan keputusan rapat umum luar biasa para pemegang saham perseroan terbatas pt gendis caraka wyakta nomor 3 tanggal 07 november 2019 6 1 satu bundel fotokopi tanda daftar perusahaan nomor 03 03 1 46 91991 tanggal 27 juni 2014 atas nama perusahaan gendis caraka wyakta berserta lampiran 7 1 satu bundel fotokopi surat penagihan nomor 001 srt gcw v 2018 tanggal 8 mei 2018 kepada bagian finance pt pelayaran bahtera adiguna 8 1 satu bundel asli laporan transaksi bank bri pt gendis caraka wyakta periode bulan januari 2017 9 1 satu bundel fotokopi tanda terima kuitansi pembangunan gedung skpd kbb tahap 3 tiga pt gendis caraka wyakta 10 1 satu bundel asli faktur pajak pt gendis caraka wyakta periode bulan februari dan bulan april tahun 2015 11 2 dua lembar fotokopi permohonan uang atau pembayaran kepada sdr anang sujatmiko surya wirawan tanggal 1 februari 2018 dari pt gendis caraka wyakta 12 1 satu bundel asli laporan pengeluaran pt gendis caraka wyakta periode 25 november 2017 sampai dengan tanggal 28 november 2017 13 1 satu bundel asli purchase order pt gendis caraka wyakta untuk proyek skpd bandung barat tahun 2015 14 1 satu bundel profil perusahaan pt gendis caraka wyakta dikembalikan kepada dicky rachmat dari 110 halaman putusan nomor 1204 pk pid sus 2024 b berdasarkan penetapan hakim nomor 12 pen pid sus tpk i 2021 pn jkt pst tanggal 27 januari 2021 disita dari dicky rachmat sesuai berita acara penyitaan hari rabu tanggal 20 januari 2021yaitu 1 1 satu lembar asli surat izin usaha perusahaan salvage dan pekerjaan bawah air nomor b x 368 kl 301 tanggal 16 juli 2011 yang diberikan oleh kementrian perhubungan direktorat jendral perhubungan laut kepada pt lumintuna marine service 2 1 satu buah asli surat penetapan perubahan data pt lumintuna marine service nomor kl 301 1 18 dn 13 tanggal 30 april 2013 dan 1 satu buah surat penetapan perubahan domisili dan npwp pt lumintuna marine service nomor kl 301 2 9 dn 14 tanggal 15 desember 2014 3 1 satu lembar asli surat keterangan nomor 89 27 1bu 1 31 74 04 1007 071 562 e 2018 tentang keterangan domisili perusahaan atas nama pt lumintuna marine service tanggal 13 maret 2018 dan 1 satu lembar asli surat keterangan nomor 15 27 1bu 1 31 74 04 1006 071 562 e 2016 tentang keterangan domisili perusahaan atas nama pt lumintuna marine service tanggal 17 juni 2016 dan 1 satu lembar asli tanda daftar perusahaan perseroan terbatas dpmptsp 1768 ac 3 1 31 74 1 824 27 2018 nomor tdp 09 03 1 46 85626 atas nama perusahaan lumintuna marine service pt tanggal 17 april 2018 4 1 satu buah asli npwp nomor 31 287 002 5 017 000 atas nama pt lumintuna marine service dan 1 satu lembar asli surat keterangan terdaftar nomor s 6182kt wpj 30 kp 0703 2018 tanggal 20 maret 2018 atas nama pt dari 110 halaman putusan nomor 1204 pk pid sus 2024 lumintuna marine service dan 1 satu lembar asli surat pengukuhan pengusaha kena pajak nomor s 177pkp wpj 30 kp 0703 2018 tanggal 22 maret 2018 atas nama pt lumintuna marine service dan 1 satu lembar asli surat pengukuhan pengusaha kena pajak nomor pem 01729 wpj 04 kp 1003 2014 tanggal 16 desember 2014 atas nama pt lumintuna marine service 5 1 satu lembar asli surat keterangan terdaftar migas nomor 877 19 11 dmt 2015 atas nama pt lumintuna marine service tanggal 16 februari 2015 6 1 satu bundel dokumen asli yang berisi tanda registrasi usaha jasa pertambangan non inti nomor 235 37 01 dbt 2018 atas nama pt lumintuna marine service tanggal 17 januari 2018 approval of service supplier nomor jka 1700420 atas nama pt lumintuna marine service tanggal 6 desember 2017 certificate of recognize external specialis nomor 17 jk3376788 a tanggal 25 agustus 2017 7 2 dua lembar asli surat perubahan domisili pt lumintuna marine service nomor kl 304 4 11 dn 18 tanggal 26 maret 2018 8 1 satu bundel asli dokumen berupa akta notaris yendra wiharja s h m h akta berita acara rapat tanggal 18 oktober 2016 nomor 18 atas nama pt lumintuna marine service dan penerimaan pemberitahuan data perseroan lumintuna marine service nomor ahu ah 01 03 0087607 tanggal 10 oktober 2016 9 1 satu buah asli akta notaris ilmiawan dekrit s s h m h terkait akta berita acara rups luar biasa pt lumintuna marine service nomor 81 tanggal 30 november 2012 dari 110 halaman putusan nomor 1204 pk pid sus 2024 10 1 satu bundel asli dokumen berupa akta notaris ilmiawan dekrit s s h m h terkait akta berita acara rups luar biasa pt lumintuna marine service nomor 82 tanggal 30 november 2012 dan dokumen penerimaan pemberitahuan perubahan data perseroan pt lumintuna marine service nomor ahu ah 01 10 45287 tanggal 20 desember 2012 11 1 satu buah asli akta notaris ilmiawan dekrit s s h m h terkait akta jual beli saham pt lumintuna marine service nomor 83 tanggal 30 november 2012 12 1 satu bundel asli dokumen terkait akta notaris ilmiawan dekrit s s h m h terkait akta berita acara rups luar biasa pt lumintuna marine service nomor 60 tanggal 31 agustus 2012 dan surat keterangan nomor 008 sl not ilm ix 2012 atas nama pt lumintuna marine service tanggal 18 september 2012 13 1 satu bundel asli dokumen terkait akta notaris yendra wihardja s h m h terkait akta berita acara rapat tanggal 9 juni 2014 nomor 07 dan dokumen penerimaan pemberitahuan perubahan data perseroan a n lumintuna marine service nomor ahu 12484 40 22 2014 tanggal 9 juni 2014 14 1 satu buah asli akta notaris yendra wihardja s h m h terkait pemindahan hak hak atas saham tanggal 9 juni 2014 nomor 8 atas nama pt lumintuna marine service 15 1 satu buah asli akta notaris yendra wihardja s h m h terkait pemindahan hak hak atas saham tanggal 9 juni 2014 nomor 9 atas nama pt lumintuna marine service 16 1 satu buah asli akta notaris yendra wihardja s h m h terkait pemindahan hak hak atas saham tanggal 9 juni 2014 nomor 10 atas nama pt lumintuna marine service dari 110 halaman putusan nomor 1204 pk pid sus 2024 17 1 satu buah asli akta notaris yendra wihardja s h m h terkait pemindahan hak hak atas saham tanggal 9 juni 2014 nomor 11 atas nama pt lumintuna marine service 18 1 satu bundel asli dokumen terkait akta notaris yendra wihardja s h m h terkait akta berita acara rapat tanggal 17 september 2015 nomor 15 atas nama pt lumintuna marine service dan dokumen penerimaan pemberitahuan perubahan data perseroan a n lumintuna marine service nomor ahu ah 01 03 0965465 tanggal 17 september 2015 19 1 satu buah asli akta notaris yendra wihardja s h m h terkait pemindahan hak hak atas saham tanggal 17 september 2015 nomor 16 atas nama pt lumintuna marine service 20 1 satu bundel asli dokumen terkait akta notaris yendra wihardja s h m h terkait akta berita acara rapat tanggal 27 maret 2013 nomor 14 atas nama pt lumintuna marine service dan keputusan menteri hukum dan ham republik indonesia nomor ahu 26295 ah 01 02 tahun 2013 tentang persetujuan perubahan anggaran dasar perseroan pt lumintuna marine service tanggal 16 mei 2013 21 1 satu lembar asli akta pengenal importir produsen api nomor 280501287 p atas nama pt lumintuna marine service tanggal 25 juli 2011 22 1 satu lembar asli nomor identitas kepabeanan nik nomor 05 028005 atas nama pt lumintuna marine service tanggal 15 desember 2011 23 1 satu lembar asli nomor pengenal importir khusus npik nomor 2 28 05 07 92843 atas nama pt lumintuna marine service tanggal 25 agustus 2011 dari 110 halaman putusan nomor 1204 pk pid sus 2024 24 1 satu bundel fotokopi dokumen profil perizinan tanggal 17 juni 2015 25 1 satu lembar berita acara hasil pemeriksaan dokumen asli perusahaan untuk pendaftaran inatrade nomor 077 upp daglu f1 2015 tanggal 08 juni 2015 atas nama pt lumintuna marine service 26 1 satu bundel asli dokumen berupa akta notaris dina lestari s h m kn berupa akta pernyataan keputusan rapat pt lumintuna marine service nomor 6 tangal 21 januari 2019 dokumen tanda terima selasa tanggal 5 juli 2019 pukul 10 00 wib dan dokumen penerimaan pemberitahuan perubahan data perseroan pt lumintuna marine service nomor ahu ah 01 03 0062218 tanggal 1 februari 2019 27 1 satu bundel asli dokumen berupa akta notaris bagus nugraha kusuma wardhana s h m kn berupa akta pernyataan keputusan para pemegang saham pt lumintuna marine service nomor 4 tanggal 11 oktober 2019 pihak tuan dicky rachmat dan dokumen penerimaan pemberitahuan perubahan data perseroan pt lumintuna marine service nomor ahu ah 01 03 0345292 tanggal 14 oktober 2019 28 1 satu bundel asli dokumen berupa akta notaris charles hermawan s h terkait akta perseroan terbatas lumintuna marine service tanggal 7 februari 2011 nomor 5 dan dokumen keputusan menteri hukum dan ham republik indonesia nomor ahu 08818 ah 01 01 tahun 2011 tentang pengesahan badan hukum perseroan tanggal 21 februari 2011 atas nama pt lumintuna marine service dari 110 halaman putusan nomor 1204 pk pid sus 2024 29 1 satu lembar asli sertifikat kepersertaan bpjs ketenagakerjaan nomor 160000000091283 atas nama pt lumintuna marine service tanggal 24 oktober 2018 30 1 satu lembar asli surat keterangan terdaftar nomor 1293 ket 19 11 dmt 2018 tanggal 13 februari 2018 atas nama pt lumitnuna marine service 31 1 satu lembar asli surat keterangan terdaftar nomor 0070 skt 02 dmt 2015 tanggal 16 februari 2015 atas nama pt lumitnuna marine service 32 1 satu buah asli akta notaris mutiara hartanto s h tentang perseroan terbatas pt pelayaran samudera cemerlang nomor 1 tanggal 1 november 1993 33 1 satu lembar asli perubahan data perseroan pt pelayaran samudra cemerlang nomor ahu ah 01 03 0014560 tanggal 13 januari 2013 atas nama pt pelayaran samudra cemerlang 34 1 satu lembar asli perubahan data perseroan pt pelayaran samudra cemerlang nomor ahu ah 01 03 0014557 tanggal 13 januari 2017 atas nama pt pelayaran samudra cemerlang 35 1 satu lembar asli keputusan menteri hukum dan hak asasi manusia republik indonesia nomor ahu 0000955 ah 01 02 tahun 2017 tentang persetujuan perubahan anggaran dasar perseroan terbatas pt pelayaran samudra cemerlang tanggal 13 januari 2017 36 1 satu buah asli akta notaris sugeng purnawan s h terkait akta pernyataan keputusan sirkuler para pemegang saham pt pelayaran samudera cemerlang nomor 765 tanggal 13 januari 2017 37 1 satu buah asli perjanjian komitmen fee antara dicky rachmat dengan kemas fikri tanggal 22 juli 2017 dari 110 halaman putusan nomor 1204 pk pid sus 2024 38 1 satu buah asli akta notaris rusnaldy s h terkait akta pernyataan keputusan rapat pt pelayaran samudera cemerlang nomor 163 tanggal 28 februari 2003 39 1 satu buah asli akta notaris mutiara hartanto s h terkait akta perseroan terbatas pt pelayaran samudera cemerlang tanggal 1 november 1993 nomor 01 40 1 satu buah asli akta notaris darsono p s h terkait akta perseroan terbatas pt pelayaran samudera cemerlang nomor tanggal 1 november 1993 nomor 01 41 1 satu buah asli akta notaris refizal s h m hum terkait berita acara rapat pt pelayaran samudera cemerlang nomor tanggal 2 maret 2000 nomor 12 42 1 satu buah asli akta notaris refizal s h m hum terkait berita acara rapat pt pelayaran samudera cemerlang nomor tanggal 2 maret 2000 nomor 17 43 1 satu buah asli akta notaris refizal s h m hum terkait berita acara rapat pt pelayaran samudera cemerlang nomor tanggal 2 desember 2002 nomor 02 44 1 satu buah asli akta notaris refizal s h m hum terkait berita acara rapat pt pelayaran samudera cemerlang nomor tanggal 3 desember 2002 nomor 5 45 1 satu buah asli akta notaris refizal s h m hum terkait berita acara rapat pt pelayaran samudera cemerlang nomor tanggal 1 maret 2000 nomor 1 46 1 satu lembar asli surat keputusan menteri hukum dan ham republik indonesia nomor c 02081ht 01 04 th 2003 tentang persetujuan akta perubahan anggaran dasar perseroan terbatas menteri kehakiman dan hak asasi manusia republik indonesia a n pt pelayaran samudra cemerlang tanggal 31 januari 2003 dari 110 halaman putusan nomor 1204 pk pid sus 2024 47 1 satu lembar asli surat keputusan menteri hukum dan ham nomor c2977ht 0101 tahun 94 menteri kehakiman republik indonesia terkait persetujuan atas akta pendirian pt pelayaran samudera cemerlang tanggal 24 januari 1999 beserta permohonan cetak ulang sk kemenkumham 48 1 satu buah asli akta notaris dewi sri rahayu s h nomor 4 tanggal 7 agustus 2015 terkait akta jual beli saham pt pelayaran samudera cemerlang 49 1 satu buah asli akta notaris joyce sudarto s h nomor 10 tanggal 11 oktober 2014 terkait berita acara rapat umum pemegang saham pt pelayaran samudera cemerlang 50 1 satu buah asli akta notaris joyce sudarto s h nomor 4 tanggal 4 september 2014 terkait pernyataan keputusan rapat pt pelayaran samudera cemerlang 51 1 satu buah asli akta notaris h zainuddin s h nomor 74 tanggal 17 juli 2014 terkait pernytaan keputusan rapat pt pelayaran samudera cemerlang 52 1 satu buah asli akta notaris dewi sri rahayu s h nomor 3 tanggal 7 agustus 2015 terkait akta jual beli saham pt pelayaran samudera cemerlang 53 1 satu buah asli akta notaris dewi sri rahayu s h nomor 5 tanggal 7 agustus 2015 terkait pernyataan keputusan rapat pt pelayaran samudera cemerlang 54 1 satu buah asli akta notaris dewi sri rahayu s h nomor 39 tanggal 30 maret 2015 terkait pernyataan keputusan rapat pt pelayaran samudera cemerlang 55 1 satu buah asli akta notaris joyce sudarto s h nomor 6 tanggal 4 september 2014 terkait perjanjian jual beli hak atas saham pt pelayaran samudera cemerlang dari 110 halaman putusan nomor 1204 pk pid sus 2024 56 1 satu buah asli akta notaris joyce sudarto s h nomor 5 tanggal 4 september 2014 terkait perjanjian jual beli ha katas saham pt pelayaran samudera cemerlang 57 1 satu lembar asli penerimaan pemberitahuan perubahan data perseroan pt pelayaran samudera cemerlang nomor ahu ah 01 03 0958898 tanggal 25 agustus 2015 58 1 satu lembar asli penerimaan pemberitahuan perubahan data perseroan pt pelayaran samudera cemerlang nomor ahu ah 01 03 0928211 tanggal 29 april 2015 59 1 satu lembar asli keputusan menteri hukum dan ham nomor ahu0090240272014 tentang persetujuan perubahan badan hukum perseroan terbatas pt pelayaran samudera cemerlang tanggal 23 juli 2014 60 1 satu lembar asli lampiran keputusan menteri hukum dan ham nomor ahu0090240272014 tentang persetujuan perubahan badan hukum perseroan terbatas pt pelayaran samudera cemerlang tanggal 23 juli 2014 61 1 satu bundel dokumen surat pengantar beserta kelengkapannya terkait akta pt pelayaran samudera cemerlang 62 1 satu bundel asli daftar karyawan pt lumintuna marine service tahun 2018 63 1 satu bundel asli dokumen surat peryataan pertanggungjawaban pt lumintuna marine service terhadap pinjaman kepada bank bri 64 1 satu bundel fotokopi dokumen kelengkapan gaji karyawan pt lumintuna marine service bulan maret sampai dengan mei tahun 2018 65 1 satu bundel fotokopi dokumen data penggunaan dana pt gendis caraka wyakta tahun 2018 dari 110 halaman putusan nomor 1204 pk pid sus 2024 66 1 satu bundel asli rekapan kredit briguna bri kcp bpjs tk dan cicilan karyawan pt lumintuna marine service 67 1 satu bundel asli financial statement pt lumintuna marine service yang dibuat oleh achmad rasyid hisbullah jerry publik accountant 68 1 satu bundel bukti laporan transaksi bank bri atas nama r doni rachmat dengan nomor rekening 2071010113202507 periode 01 12 2017 31 12 2017 69 1 satu bundel fotokopi kelengkapan gaji karyawan pt lumintuna marine service tahun 2017 70 1 satu bundel fotokopi laporan keuangan pt lumintuna marine service untuk tahun yang berakhir pada tanggal 31 desember 2018 dan 2017 71 1 satu bundel fotokopi dokumen npwp karyawan pt lumintuna marine service 72 1 satu bundel bukti laporan transaksi bank bri atas nama r dudy rachmat dengan nomor rekening 207101013270500 periode 01 01 2018 31 01 2018 73 1 satu bundel foto kapal isap produksi ike 1 74 1 satu lembar fotokopi invoice pt pelayaran samudra cemerlang nomor psc inv 2017 11 0001 tanggal 19 november 2017 tentang jasa pengoperasian kapal ike 1 75 1 satu lembar fotokopi surat pt pelayaran samudera cemerlang tentang persetujuan perjanjian kerja sama pengoperasian kapal isap produksi dengan pt tambang inti nusa tanggal 22 mei 2017 76 1 satu lembar fotokopi surat keterangan mitra usaha terdaftar pt timah tbk nomor 049 tbk ket 4040 18 s7 2 7 tanggal 14 maret 2018 dari 110 halaman putusan nomor 1204 pk pid sus 2024 77 1 satu bundel fotokopi akta perjanjian bersama pengoperasian kapal isap produksi nomor 12 tanggal 12 januari 2018 yang dibuat dihadapan notaris buchari hanafi sh 78 1 satu bundel fotokopi adedum perjanjian kerjasama antara pt pelayaran samudera cemerlang dengan pt tambang inti nusa tanggal 24 agustus 2017 79 1 satu bundel fotokopi perjanjian kerjasama pengoperasian kapal isap produksi antara pt pelayaran samudera cemerlang dengan pt tambang inti nusa tanggal 15 mei 2017 80 1 satu bundel dokumen pengeluaran pt pelayaran samudra cemerlang tahun 2017 81 1 satu lembar fotokopi surat pt tambang inti nusa kepada pt lumintuna marine service tentang kerjasama pengoperasian kapal isap ike 1 tanggal 31 agustus 2018 82 1 satu lembar fotokopi surat kuasa dari sdr njauw vidy onadi kepada sdr dicky rachmat tanggal 5 september 2018 83 1 satu bundel fotokopi perhitungan cicilan bulanan kredit bri kcp bpjs tk periode 2018 beserta asli slip penyetoran pembayaran 84 1 satu bundel fotokopi rekap pengeluaran pt pelayaran samudra cemerlang bulan mei 2017 85 1 satu bundel fotokopi rekap pengeluaran pt pelayaran samudra cemerlang tahun 2017 86 1 satu bundel asli surat permohonan perubahan mutasi tanda daftar perusahaan beserta lampiran 87 1 satu bundel asli rekap pengeluaran pt pelayaran samudra cemerlang bulan agustus tahun 2017 dari 110 halaman putusan nomor 1204 pk pid sus 2024 88 1 satu bundel asli bukti penerimaan negara penerimaan pajak pt lumintuna marine service bulan april tahun 2016 beserta lampiran 89 1 satu lembar fotokopi invoice nomor psc inv 2017 11 0001 tanggal 19 november 2017 tentang jasa pengeluaran kapal ike 1 90 1 satu bundel asli rencana pembayaran periode juli 2017 pt pelayaran samudra cemerlang 91 1 satu bundel fotokopi rekap pengeluaran cek cfs697673 tanggal 21 agustus 2017 beserta lampiran 92 1 satu bundel asli daftar invoice dan bukti pembayaran kepada pt pelayaran samudra cemerlang beserta lampiran 93 1 satu bundel fotokopi daftar sertifikat kapal kip ike 1 berserta lampiran 94 1 satu bundel fotokopi hasil penjualan 182 kampil timah produksi kapal ike 1 95 1 satu bundel asli tanda daftar perusahaan perseroan terbatas nomor 09 05 028455 tanggal 14 desember 2004 beserta lampiran perusahaan 96 1 satu bundel fotokopi surat permohonan perpanjangan setifikat pencegahan dan pencemaran oleh minyak kapal ike 1 nomor 005 tin xxii 2017 tanggal 12 desember 2017 beserta lampiran 97 1 satu bundel asli akta perjanjian kerjasama pengoperasian kapal isap produksi nomor 38 tanggal 23 mei 2017 yang dibuat dihadapan notaris buchari hanafi sh 98 1 satu buah asli npwp nomor 01 643 677 6 027 000 atas nama pt pelayaran samudra cemerlang beserta surat dari 110 halaman putusan nomor 1204 pk pid sus 2024 keterangan terdaftar nomor s 2185kt wpj 30 kp 0703 2017 tanggal 02 februari 2017 99 1 satu bundel fotokopi dokumen permohonan pt tambang inti nusa 100 1 satu bundel fotokopi rekap pengeluaran pt pelayaran samudra cemerlang bulan mei 2017 101 1 satu bundel fotokopi rincian kas dan hutang atas nama sdr andarusdi pt pelayaran samudra cemerlang tahun 2017 102 1 satu bundel fotokopi rekap pengeluaran chek cfs 699882 periode 2017 beserta lampiran slip penyetoran asli 103 1 satu bundel permohonan pembayaran pt pelayaran samudra cemerlang tanggal 24 juli 2017 dan tanggal 31 juli 2017 beserta lampiran 104 1 satu bundel asli rincian penggunaan kas dari pencairan kredit bri atas nama suratmini dandi budi purnama anang sujatmiko surya wirawan yusuf wiranto 105 1 satu bundel rincian kas sdr andarusdi pt pelayaran samudra cemerlang bulan mei juni tahun 2017 berserta lampiran 106 1 satu bundel asli surat izin usaha perusahaan angkutan laut siupal nomor bxxv 1793 al58 tanggal 16 mei 2002 beserta lampiran 107 1 satu lembar asli surat keterangan nomor 9 27 1bu 31 74 04 1006 71 562 e 2017 tentang keterangan domisili perusahaan atas nama pt pelayaran samudra cemerlang tanggal 3 februari 2011 108 1 satu bundel fotokopi penawaran kerjasama dari pt pelayaran samudra cemerlang kepada direktur pt tambang inti nusa tanggal 26 april 2017 beserta lampiran dari 110 halaman putusan nomor 1204 pk pid sus 2024 109 1 satu lembar asli tanda terima dari sdr dicky rachmat tentang pembayaran pt pelayaran samudra cemerlang sebesar rp75 000 000 tujuh puluh lima juta rupiah 110 1 satu bundel fotokopi snap statement pt pelayaran samudra cemerlang periode bulan mei bulan agustus dan bulan september 2017 111 1 satu bundel fotokopi profil perusahaan pt pelayaran samudra cemerlang 112 1 satu bundel asli jurnal voucher dan bukti kas keluar pt lumintuna marine service periode 9 november 2018 6 desember 2018 113 1 satu bundel asli jurnal voucher dan bukti kas keluar pt lumintuna marine service periode 5 januari 2018 23 februari 2018 114 1 satu bundel asli jurnal voucher dan bukti kas keluar pt lumintuna marine service periode 1 mei 2018 29 juni 2018 115 1 satu bundel asli jurnal voucher dan bukti kas keluar pt lumintuna marine service periode 1 september 2018 31 oktober 2018 116 1 satu bundel asli jurnal voucher dan bukti kas keluar pt lumintuna marine service periode 1 maret 2018 30 april 2018 117 1 satu bundel asli perkiraan pengeluaran operasional pt lumintuna marine service periode desember 2017 118 1 satu bundel asli laporan pengeluaran pt lumintuna marine service periode bulan oktober desember 2017 119 1 satu bundel asli laporan pengeluaran pt lumintuna marine service periode bulan januari 2017 120 1 satu bundel asli snap statement pt lumintuna marine service periode februari 2017 dari 110 halaman putusan nomor 1204 pk pid sus 2024 121 1 satu bundel asli laporan pengeluaran pt lumintuna marine service periode bulan maret 2017 122 1 satu bundel asli snap statement pt lumintuna marine service periode april 2017 123 1 satu bundel asli snap statement pt lumintuna marine service periode juni 2017 124 1 satu bundel asli laporan pengeluaran pt lumintuna marine service periode bulan agustus 2017 125 1 satu bundel asli laporan pengeluaran pt lumintuna marine service periode bulan mei 2017 126 1 satu bundel asli laporan pengeluaran pt lumintuna marine service periode bulan juli 2017 127 1 satu bundel asli laporan catatan pengeluaran pt lumintuna marine service periode bulan november 2017 128 1 satu bundek asli laporan catatan pengeluaran sdr dicky rachmat periode tahun 2017 129 1 satu bundel asli bukti kas keluar pt lumintuna marine service periode tahun 2018 130 1 satu bundel asli rincian pencairan kredit bri atas nama sdr dandi budi purnama 131 1 satu bundel bukti penerimaan negara djp atas nama pt lumintuna marine service beserta lampiran 132 1 satu buah flasdisk yang berisikan laporan penggunaan kredit briguna karyawan pt lumintuna marine service dikembalikan kepada dicky rachmat c berdasarkan penetapan hakim nomor 10 pen pid sus tpk i 2021 pn jkt pst tanggal 27 januari 2021 disita dari suratmini sesuai berita acara penyitaan hari rabu tanggal 20 januari 2021 yaitu 1 1 satu bundel bukti transaksi slip penyetoran bank bri laporan transaksi bank bri tabel daftar pengeluaran dari 110 halaman putusan nomor 1204 pk pid sus 2024 bukti transaksi m banking dan rekening koran bank mandiri atas nama suratmini periode 2017 2018 2 1 satu bundel rekening koran bank bca atas nama suratmini periode 2017 2018 tetap terlampir dalam berkas perkara d berdasarkan penetapan hakim nomor 11 pen pid sus tpk i 2021 pn jkt pst tanggal 27 januari 2021 disita dari yudhi sulistiono sesuai berita acara penyitaan hari rabu tanggal 20 januari 2021yaitu 1 1 satu bundel fotokopi cv atas nama yudhi sulistiyono 2 1 satu lembar fotokopi surat referensi nomor 0466 ref hc set ii 2018 atas nama yudhi sulistiyono 3 1 satu lembar fotokopi surat keputusan direksi nomor 0462 sk hc set ii 2018 tentang pemutusan hubungan kerja sdr yudhi sulistiyono 4 1 satu bundel fotokopi perjanjian kerja waktu tertentu nomor 1648 pkwt hc as set xi 2017 atas nama yudhi sulistiyono 5 1 satu lembar fotokopi surat keterangan kerja to whom it may concern tanggal 22 februari 2018 yang ditandatangani oleh dony peter 6 1 satu bundel fotokopi perjanjian kerja waktu tertentu nomor 245 cua bp534 nmidr if 15 7 1 satu lembar fotokopi surat perubahan nomor 1 pkwt nomor 076 coe bp hcu038a ep jkt x 2011 antara pt ep oil fill service dengan sdr yudhi sulistiyono 8 1 satu lembar fotokopi surat perubahan nomor 2 pkwt nomor 076 coe bp hcu038a ep jkt x 2011 antara pt ep oil fill service dengan sdr yudhi sulistiyono dari 110 halaman putusan nomor 1204 pk pid sus 2024 9 1 satu lembar fotokopi surat perubahan nomor 3 pkwt nomor 076 coe bp hcu038a ep jkt x 2011 antara pt ep oil fill service dengan sdr yudhi sulistiyono 10 1 satu bundel fotokopi surat perjanjian kerja waktu tertentu nomor epc 03716 cua bp534 nmidrap13 11 1 satu bundel fotokopi surat perjanjian kerja waktu tertentu nomor 039 cua bp534 nmidr x 13 antara lc sabina dan yudhi sulistiyono 12 1 satu bundel fotokopi surat perjanjian kerja waktu tertentu nomor 163 cua bp534 nmidr x 14 13 1 satu bundel fotokopi surat perjanjian kerja waktu tertentu nomor midharos xii 09 tanggal 30 desember 2009 14 1 satu bundel fotokopi surat perjanjian kerja waktu tertentu nomor midharos xi 10 4816 tanggal 11 november 2010 15 1 satu bundel fotokopi surat benefit british petroleum tanggal 28 desember 2009 16 1 satu bundel fotokopi surat perjanjian kerja waktu tertentu nomor 19 10 pmu bp y0021 2015 17 1 satu bundel fotokopi surat perjanjian kerja waktu tertentu nomor 076 cof bp hcu0385 ep jkt x 2011 dan surat pengangkatan karyawan tetap atas nama yudhi sulistiyono dikembalikan kepada yudhi sulistiyono 18 1 satu kendaraan roda 4 empat merek nissan serena hws tahun 2008 nomor polisi f 1564 iv nomor mesin qr 20710649 a nomor rangka c24a17847 atas nama yudhi sulistyono s t berikut stnk dan bpkb diperhitungkan sebagai pembayaran uang pengganti terdakwa yudhi sulistiyono dari 110 halaman putusan nomor 1204 pk pid sus 2024 e berdasarkan penetapan hakim nomor 14 pen pid sus tpk i 2021 pn jkt pst tanggal 27 januari 2021 disita dari dwi liana sari sebagai pimpinan cabang pembantu pt bank bri persero tbk cabang pembantu bpjs tk sesuai berita acara penyitaan hari rabu tanggal 20 januari 2021yaitu 1 1 satu bundel berkas pemberian pinjaman atas nama kemas dimas erlangga putra yang berisi sebagai berikut 1 asli memorandum analis kredit atas nama kemas dimas erlangga putra 2 asli surat keterangan perpindahan payroll gaji karyawan pt lumituna marine service atas nama kemas dimas erlangga putra 3 asli form permohonan analisis dan putusan kretap atas nama kemas dimas erlangga putra 4 asli surat rekomendasi pt lumituna marine service nomor 014 dir lms rekom iv 2018 tanggal 24 april 2018 kepada sdr kemas dimas erlangga putra 5 asli surat pernyataan bersedia melunasi kredit atas nama kemas dimas erlangga putra 6 asli surat kuasa debet rekening atas nama kemas dimas erlangga putra 7 asli surat pernyataan atas nama kemas dimas erlangga putra 8 asli slik atas nama kemas dimas erlangga putra tertanggal 23 april 2018 9 fotokopi ktp atas nama kemas dimas erlangga putra 10 fotokopi npwp atas nama kemas dimas erlangga putra 11 fotokopi kartu keluarga atas nama kemas junaidi s 12 fotokopi buku tabungan atas nama kemas dimas erlangga putra dari 110 halaman putusan nomor 1204 pk pid sus 2024 13 fotokopi atm nomor 5221 8411 4083 2931 atas nama rekening kemas dimas erlangga putra 14 asli surat pengakuan hutang nomor b 9 2071 4 2018 tanggal 30 april 2018 atas nama kemas dimas erlangga putra 15 asli formulir putusan dan pencairan kretap atas nama kemas dimas erlangga putra 16 asli data debitur atas nama kemas dimas erlangga putra 17 asli data kredit atas nama kemas dimas erlangga putra 18 asli data instansi atas nama kemas dimas erlangga putra 19 asli syarat syarat umum perjanjian pinjaman dan kredit pt bank rakyat indonesia kepada kemas dimas erlangga putra 20 asli kuitansi pencairan nomor 2071 01000 297 107 rekening pinjaman atas nama kemas dimas erlangga putra sebesar rp250 000 000 00 dua ratus lima puluh juta rupiah tanggal 30 april 2018 21 asli slip setoran ke rekening tabungan nomor 2071 0101 3489 507 atas nama kemas dimas erlangga putra 22 asli form nota pembayaran premi pt bank rakyat indonesia tertanggung kemas dimas erlangga putra tanggal 30 april 2018 23 asli nota pembukuan biaya realisasi kredit briguna atas nama kemas dimas erlangga putra tanggal 30 april 2018 24 asli form data statis pembukaan rekening pinjaman atas nama kemas dimas erlangga putra dari 110 halaman putusan nomor 1204 pk pid sus 2024 25 asli surat keputusan pt lumituna marine service nomor kep 21 d lms i 2018 tanggal 2 januari 2018 tentang pengangkatan sebagai karyawan tetap dengan jabatan diver atas nama kemas dimas erlangga putra 26 asli kartu peserta bpjs ketenagakerjaan nomor 1674 0502 0695 0002 atas nama kemas dimas erlangga putra 27 asli form pengambilan kredit pegawai tetap atas nama kemas dimas erlangga putra 28 fotokopi slip gaji pt lumituna marine service periode maret 2018 atas nama kemas dimas erlangga putra 2 1 satu bundel berkas pemberian pinjaman atas nama veni anggraeni yang berisi sebagai berikut 1 asli memorandum analis kredit atas nama veni anggraeni 2 asli surat keterangan perpindahan payroll gaji karyawan pt lumituna marine service atas nama veni anggraeni 3 asli form permohonan analisis dan putusan kretap atas nama veni anggraeni 4 asli surat rekomendasi pt lumituna marine service nomor 008 dir lms xi 2017 tanggal november 2017 kepada sdr veni anggraeni 5 asli surat pernyataan bersedia melunasi kredit atas nama veni anggraeni 6 asli surat kuasa debet rekening atas nama veni anggraeni 7 asli surat pernyataan atas nama veni anggraeni 8 asli bi cheking atas nama veni anggraeni tertanggal 24 oktober 2017 dari 110 halaman putusan nomor 1204 pk pid sus 2024 9 fotokopi ktp atas nama veni anggraeni 10 fotokopi npwp atas nama veni anggraeni 11 fotokopi kartu keluarga atas nama hartini matadi 12 fotokopi buku tabungan atas nama veni anggraeni 13 asli surat pengakuan hutang nomor b 4 2071 11 2017 tanggal 9 november 2017 atas nama veni anggraeni 14 asli formulir putusan dan pencairan kretap atas nama veni anggraeni 15 asli data debitur atas nama veni anggraeni 16 asli data kredit atas nama veni anggraeni 17 asli data instansi atas nama veni anggraeni 18 asli syarat syarat umum perjanjian pinjaman dan kredit pt bank rakyat indonesia kepada veni anggraeni 19 asli kuitansi pencairan nomor 2071 01000 226 106 rekening pinjaman atas nama veni anggraeni sebesar rp385 000 000 00 tiga ratus delapan puluh lima juta rupiah tanggal 9 november 2017 20 asli slip setoran ke rekening tabungan nomor 2071 0101 3018 500 atas nama veni anggraeni 21 asli form nota pembayaran premi pt bank rakyat indonesia tertanggung veni anggraeni tanggal 9 november 2017 22 asli nota pembukuan biaya realisasi kredit briguna atas nama veni anggraeni tanggal 9 november 2017 23 asli form data statis pembukaan rekening pinjaman atas nama veni anggraeni 24 asli surat keputusan pt lumituna marine service nomor kep 11 d lms iii 2017 tanggal 1 maret 2017 tentang pengangkatan sebagai karyawan tetap dari 110 halaman putusan nomor 1204 pk pid sus 2024 dengan jabatan manager operasional kantor cabang pangkal pinang atas nama veni anggraeni 25 asli kartu peserta bpjs ketenagakerjaan nomor 1971 0141 0790 0019 atas nama veni anggraeni 26 asli form pengambilan kredit pegawai tetap atas nama veni anggraeni 27 fotokopi slip gaji pt lumituna marine service periode oktober 2017 atas nama veni anggraeni 3 1 satu bundel berkas pemberian pinjaman atas nama endra wahyudi yang berisi sebagai berikut 1 asli memorandum analis kredit atas nama endra wahyudi 2 asli surat keterangan perpindahan payroll gaji karyawan pt lumituna marine service atas nama endra wahyudi 3 asli form permohonan analisis dan putusan kretap atas nama endra wahyudi 4 asli surat rekomendasi pt lumituna marine service nomor 004 dir lms rekom i 2018 tanggal januari 2018 kepada sdr veni anggraeni 5 asli surat pernyataan bersedia melunasi kredit atas nama endra wahyudi 6 asli surat kuasa debet rekening atas nama endra wahyudi 7 asli surat pernyataan atas nama endra wahyudi 8 asli slik atas nama endra wahyudi tertanggal 19 januari 2018 9 fotokopi ktp atas nama endra wahyudi 10 fotokopi ktp atas nama rumiati 11 fotokopi npwp atas nama endra wahyudi 12 fotokopi kartu keluarga atas nama endra wahyudi dari 110 halaman putusan nomor 1204 pk pid sus 2024 13 fotokopi buku tabungan atas nama endra wahyudi 14 fotokopi kutipan akta nikah nomor 20 20 i 2001 tanggal 08 januari 2001 15 asli surat pengakuan hutang nomor b 6 2071 1 2018 tanggal 23 januari 2018 atas nama endra wahyudi 16 asli formulir putusan dan pencairan kretap atas nama endra wahyudi 17 asli data debitur atas nama endra wahyudi 18 asli data kredit atas nama endra wahyudi 19 asli data instansi atas nama endra wahyudi 20 asli syarat syarat umum perjanjian pinjaman dan kredit pt bank rakyat indonesia kepada endra wahyudi 21 asli kuitansi pencairan nomor 2071 01000 257 107 rekening pinjaman atas nama endra wahyudi sebesar rp450 000 000 00 empat ratus lima puluh juta rupiah tanggal 24 januari 2018 22 asli slip setoran ke rekening tabungan nomor 2071 0101 3253 508 atas nama endra wahyudi 23 asli form nota pembayaran premi pt bank rakyat indonesia tertanggung endra wahyudi tanggal 24 januari 2018 24 asli nota pembukuan biaya realisasi kredit briguna atas nama endra wahyudi tanggal 24 januari 2018 25 asli form data statis pembukaan rekening pinjaman atas nama endra wahyudi 26 asli surat keputusan pt lumituna marine service nomor kep 15 d lms ix 2017 tanggal 1 september 2017 tentang pengangkatan sebagai karyawan tetap dengan jabatan project development atas nama endra wahyudi dari 110 halaman putusan nomor 1204 pk pid sus 2024 27 asli kartu peserta bpjs ketenagakerjaan nomor 3175 1022 0678 0009 atas nama endra wahyudi 28 asli form pengambilan kredit pegawai tetap atas nama endra wahyudi 29 fotokopi slip gaji pt lumituna marine service periode desember 2017 atas nama endra wahyudi 4 1 satu bundel berkas pemberian pinjaman atas nama feri kusumaatmaja yang berisi sebagai berikut 1 asli memorandum analis kredit atas nama feri kusumaatmaja 2 asli surat keterangan perpindahan payroll gaji karyawan pt lumituna marine service atas nama feri kusumaatmaja 3 asli form permohonan analisis dan putusan kretap atas nama feri kusumaatmaja 4 asli surat rekomendasi pt lumituna marine service nomor 008 dir lms rekom xi 2017 tanggal 23 november 2017 kepada sdr feri kusumaatmaja 5 asli surat pernyataan bersedia melunasi kredit atas nama feri kusumaatmaja 6 asli surat kuasa debet rekening atas nama feri kusumaatmaja 7 asli surat pernyataan atas nama feri kusumaatmaja 8 asli bi cheking atas nama feri kusumaatmaja tertanggal 23 november 2017 9 fotokopi ktp atas nama feri kusumaatmaja 10 fotokopi ktp atas nama endah puspitasari 11 fotokopi npwp atas nama feri kusumaatmaja 12 fotokopi kartu keluarga atas nama feri kusumaatmaja dari 110 halaman putusan nomor 1204 pk pid sus 2024 13 fotokopi buku tabungan atas nama feri kusumaatmaja 14 fotokopi kutipan akta nikah nomor 0042 024 ii 2017 tanggal 26 februari 2017 15 asli surat pengakuan hutang nomor b 11 2071 11 2017 tanggal 27 november 2017 atas nama feri kusumaatmaja 16 asli formulir putusan dan pencairan kretap atas nama feri kusumaatmaja 17 asli data debitur atas nama feri kusumaatmaja 18 asli data kredit atas nama feri kusumaatmaja 19 asli data instansi atas nama feri kusumaatmaja 20 asli syarat syarat umum perjanjian pinjaman dan kredit pt bank rakyat indonesia kepada feri kusumaatmaja 21 asli kuitansi pencairan nomor 2071 01000 234 109 rekening pinjaman atas nama feri kusumaatmaja sebesar rp500 000 000 lima ratus juta rupiah tanggal 27 november 2017 22 asli slip setoran ke rekening tabungan nomor 2071 0101 3124 505 atas nama feri kusumaatmaja 23 asli form nota pembayaran premi pt bank rakyat indonesia tertanggung feri kusumaatmaja tanggal 27 november 2017 24 asli nota pembukuan biaya realisasi kredit briguna atas nama feri kusumaatmaja tanggal 27 november 2017 25 asli form data statis pembukaan rekening pinjaman atas nama feri kusumaatmaja 26 asli surat keputusan pt lumituna marine service nomor kep 12 d lms v 2017 tanggal 1 mei 2017 dari 110 halaman putusan nomor 1204 pk pid sus 2024 tentang pengangkatan sebagai karyawan tetap dengan jabatan kepala cabang kantor cabang pangkal pinang atas nama feri kusumaatmaja 27 asli kartu peserta bpjs ketenagakerjaan nomor 1971 0121 0885 0001 atas nama feri kusumaatmaja 28 asli form pengambilan kredit pegawai tetap atas nama feri kusumaatmaja 29 fotokopi slip gaji pt lumituna marine service periode oktober 2017 atas nama feri kusumaatmaja 5 1 satu bundel berkas pemberian pinjaman atas nama geanda adytia elvanjiadi yang berisi sebagai berikut 1 asli memorandum analis kredit atas nama geanda adytia elvanjiadi 2 asli surat keterangan perpindahan payroll gaji karyawan pt lumituna marine service atas nama geanda adytia elvanjiadi 3 asli form permohonan analisis dan putusan kretap atas nama geanda adytia elvanjiadi 4 asli surat rekomendasi pt lumituna marine service nomor 018 dir lms rekom v 2018 tanggal 2 mei 2018 kepada sdr geanda adytia elvanjiadi 5 asli surat pernyataan bersedia melunasi kredit atas nama geanda adytia elvanjiadi 6 asli surat kuasa debet rekening atas nama geanda adytia elvanjiadi 7 asli surat pernyataan atas nama geanda adytia elvanjiadi 8 asli slik atas nama geanda adytia elvanjiadi tertanggal 3 mei 2018 9 fotokopi ktp atas nama geanda adytia elvanjiadi dari 110 halaman putusan nomor 1204 pk pid sus 2024 10 fotokopi surat keterangan nomor 2171031005 surket 01 060218 0001 atas nama geanda adytia elvanjiadi 11 fotokopi npwp atas nama geanda adytia elvanjiadi 12 fotokopi kartu keluarga atas nama geanda adytia elvanjiadi 13 fotokopi buku tabungan atas nama geanda adytia elvanjiadi 14 fotokopi kutipan akta nikah nomor 445 48 vi 2012 tanggal 17 juni 2012 15 asli surat pengakuan hutang nomor b 3 2071 5 2018 tanggal 8 mei 2018 atas nama geanda adytia elvanjiadi 16 asli surat pernyataan tidak menyertakan pasangan tanggal 8 mei 2018 17 asli formulir putusan dan pencairan kretap atas nama geanda adytia elvanjiadi 18 asli data debitur atas nama geanda adytia elvanjiadi 19 asli data kredit atas nama geanda adytia elvanjiadi 20 asli data instansi atas nama geanda adytia elvanjiadi 21 asli syarat syarat umum perjanjian pinjaman dan kredit pt bank rakyat indonesia kepada geanda adytia elvanjiadi 22 asli kuitansi pencairan nomor 2071 01000 301 101 rekening pinjaman atas nama geanda adytia elvanjiadi sebesar rp250 000 000 00 dua ratus lima puluh juta rupiah tanggal 9 mei 2018 23 asli slip setoran ke rekening tabungan nomor 2071 0101 3498 506 atas nama geanda adytia elvanjiadi dari 110 halaman putusan nomor 1204 pk pid sus 2024 24 asli slip pembayaran angsuran kretap sebesar rp6 079 600 00 enam juta tujuh puluh sembilan ribu enam rartus rupiah tanggal 9 mei 2018 25 asli form nota pembayaran premi pt bank rakyat indonesia tertanggung geanda adytia elvanjiadi tanggal 9 mei 2018 26 asli nota pembukuan biaya realisasi kredit briguna atas nama geanda adytia elvanjiadi tanggal 9 mei 2018 27 asli form data statis pembukaan rekening pinjaman atas nama geanda adytia elvanjiadi 28 asli surat keputusan pt lumituna marine service nomor kep 24 d lms ii 2018 tanggal 1 februari 2018 tentang pengangkatan sebagai karyawan tetap dengan jabatan saturation diver atas nama geanda adytia elvanjiadi 29 asli kartu peserta bpjs ketenagakerjaan nomor 2171 0329 0892 0001 atas nama geanda adytia elvanjiadi 30 fotokopi slip gaji pt lumituna marine service periode april 2018 atas nama geanda adytia elvanjiadi 6 1 satu bundel berkas pemberian pinjaman atas nama yusuf winarto yang berisi sebagai berikut 1 asli memorandum analis kredit atas nama yusuf winarto 2 asli surat keterangan perpindahan payroll gaji karyawan pt lumituna marine service atas nama yusuf winarto 3 asli form permohonan analisis dan putusan kretap atas nama yusuf winarto dari 110 halaman putusan nomor 1204 pk pid sus 2024 4 asli surat rekomendasi pt lumituna marine service nomor 005 dir lms x 2017 tanggal 4 oktober 2017 kepada sdr yusuf winarto 5 asli surat pernyataan bersedia melunasi kredit atas nama yusuf winarto 6 asli surat kuasa debet rekening atas nama yusuf winarto 7 asli surat pernyataan atas nama yusuf winarto 8 asli bi cheking atas nama yusuf winarto tertanggal 27 september 2017 9 fotokopi ktp atas nama yusuf winarto 10 fotokopi ktp atas nama tresno putri rejeki 11 fotokopi npwp atas nama yusuf winarto 12 fotokopi kartu keluarga atas nama yusuf winarto 13 fotokopi buku tabungan atas nama yusuf winarto 14 fotokopi surat keterangan domisili nomor 174 255 ba x 2017 tanggal 2 oktober 2017 15 fotokopi kutipan akta nikah nomor 70 70 iv 1998 tanggal 25 april 1998 16 asli surat pengakuan hutang nomor b 2 2071 10 2017 tanggal 6 oktober 2017 atas nama yusuf winarto 17 asli formulir putusan dan pencairan kretap atas nama yusuf winarto 18 asli data debitur atas nama yusuf winarto 19 asli data kredit atas nama yusuf winarto 20 asli data instansi atas nama yusuf winarto 21 asli syarat syarat umum perjanjian pinjaman dan kredit pt bank rakyat indonesia kepada yusuf winarto 22 asli kuitansi pencairan nomor 2071 01000 213 103 rekening pinjaman atas nama yusuf winarto sebesar dari 110 halaman putusan nomor 1204 pk pid sus 2024 rp400 000 000 empat ratus juta rupiah tanggal 6 oktober 2017 23 asli slip setoran ke rekening tabungan nomor 2071 0101 2943 508 atas nama yusuf winarto 24 asli slip pembayaran angsuran kretap sebesar rp9 727 300 sembilan juta tujuh ratus dua puluh tujuh ribu dua ratus rupiah tanggal 6 oktober 2017 25 asli form nota pembayaran premi pt bank rakyat indonesia tertanggung yusuf winarto tanggal 6 oktober 2017 26 asli nota pembukuan biaya realisasi kredit briguna atas nama yusuf winarto tanggal 6 oktober 2017 27 asli form data statis pembukaan rekening pinjaman atas nama yusuf winarto 28 asli surat keputusan pt lumituna marine service nomor kep 07 du lms vi 2016 tanggal 1 juni 2016 tentang pengangkatan sebagai karyawan tetap dengan jabatan dive technical manager atas nama yusuf winarto 29 asli kartu peserta bpjs ketenagakerjaan nomor 3310 0217 1173 0002 atas nama yusuf winarto 30 fotokopi slip gaji pt lumituna marine service periode september 2017 atas nama yusuf winarto 31 asli form pengambilan kredit pegawai tetap atas nama yusuf winarto 7 1 satu bundel berkas pemberian pinjaman atas nama alnia rieza yang berisi sebagai berikut 1 asli memorandum analis kredit atas nama alnia rieza 2 asli form permohonan analisis dan putusan kretap atas nama alnia rieza dari 110 halaman putusan nomor 1204 pk pid sus 2024 3 asli surat rekomendasi pt lumituna marine service nomor 006 dir lms x 2017 tanggal oktober 2017 kepada sdr alnia rieza 4 asli surat pernyataan bersedia melunasi kredit atas nama alnia rieza 5 asli surat kuasa debet rekening atas nama alnia rieza 6 asli surat pernyataan atas nama alnia rieza 7 asli bi cheking atas nama alnia rieza tertanggal 1 november 2017 8 fotokopi ktp atas nama alnia rieza 9 fotokopi npwp atas nama alnia rieza 10 fotokopi kartu keluarga atas nama ririn ayundiani 11 fotokopi buku tabungan atas nama alnia rieza 12 asli surat pengakuan hutang nomor b 3 2071 11 2017 tanggal 2 november 2017 atas nama alnia rieza 13 asli formulir putusan dan pencairan kretap atas nama alnia rieza 14 asli data debitur atas nama alnia rieza 15 asli data kredit atas nama alnia rieza 16 asli data instansi atas nama alnia rieza 17 asli syarat syarat umum perjanjian pinjaman dan kredit pt bank rakyat indonesia kepada alnia rieza 18 asli kuitansi pencairan nomor 2071 01000 223 108 rekening pinjaman atas nama alnia rieza sebesar rp200 000 000 00 dua ratus juta rupiah tanggal 2 november 2017 19 asli slip setoran ke rekening tabungan nomor 2071 0101 3023 505 atas nama alnia rieza dari 110 halaman putusan nomor 1204 pk pid sus 2024 20 asli form nota pembayaran premi pt bank rakyat indonesia tertanggung alnia rieza tanggal 2 november 2017 21 asli nota pembukuan biaya realisasi kredit briguna atas nama alnia rieza tanggal 2 november 2017 22 asli form data statis pembukaan rekening pinjaman atas nama alnia rieza 23 asli surat keputusan pt lumituna marine service nomor kep 08 du lms ii 2016 tanggal 4 februari 2016 tentang pengangkatan sebagai karyawan tetap dengan jabatan administrasi marine atas nama alnia rieza 24 asli kartu peserta bpjs ketenagakerjaan nomor 3201 0345 0597 0005 atas nama alnia rieza 25 fotokopi slip gaji pt lumituna marine service periode oktober 2017 atas nama alnia rieza 26 asli form pengambilan kredit pegawai tetap atas nama alnia rieza 8 1 satu bundel berkas pemberian pinjaman atas nama abdullah yang berisi sebagai berikut 1 asli memorandum analis kredit atas nama abdullah 2 asli surat keterangan perpindahan payroll gaji karyawan pt lumituna marine service atas nama abdullah 3 asli form permohonan analisis dan putusan kretap atas nama abdullah 4 asli surat rekomendasi pt lumituna marine service nomor 015 dir lms rekom iv 2018 tanggal 24 april 2018 kepada sdr abdullah 5 asli surat pernyataan bersedia melunasi kredit atas nama abdullah dari 110 halaman putusan nomor 1204 pk pid sus 2024 6 asli surat kuasa debet rekening atas nama abdullah 7 asli surat pernyataan atas nama abdullah 8 asli slik atas nama abdullah tertanggal 23 april 2018 9 fotokopi ktp atas nama abdullah 10 fotokopi npwp atas nama abdullah 11 fotokopi kartu keluarga atas nama muhammad soleh 12 fotokopi buku tabungan atas nama abdullah 13 asli surat pengakuan hutang nomor b 10 2071 4 2018 tanggal 30 april 2018 atas nama abdullah 14 asli formulir putusan dan pencairan kretap atas nama abdullah 15 asli data debitur atas nama abdullah 16 asli data kredit atas nama abdullah 17 asli data instansi atas nama abdullah 18 asli syarat syarat umum perjanjian pinjaman dan kredit pt bank rakyat indonesia kepada abdullah 19 asli kuitansi pencairan nomor 2071 01000 296 101 rekening pinjaman atas nama abdullah sebesar rp250 000 000 00 dua ratus lima puluh juta rupiah tanggal 30 april 2018 20 asli slip setoran ke rekening tabungan nomor 2071 0101 3488 501 atas nama abdullah 21 asli form nota pembayaran premi pt bank rakyat indonesia tertanggung alnia rieza tanggal 30 april 2018 22 asli nota pembukuan biaya realisasi kredit briguna atas nama abdullah tanggal 30 april 2017 23 asli form data statis pembukaan rekening pinjaman atas nama abdullah 24 asli surat keputusan pt lumituna marine service nomor kep 22 d lms ii 2018 tanggal 1 februari 2018 dari 110 halaman putusan nomor 1204 pk pid sus 2024 tentang pengangkatan sebagai karyawan tetap dengan jabatan diver atas nama abdullah 25 asli kartu peserta bpjs ketenagakerjaan nomor 1671 0110 0990 0004 atas nama abdullah 26 fotokopi slip gaji pt lumituna marine service periode maret 2018 atas nama abdullah 27 asli form pengambilan kredit pegawai tetap atas nama abdullah 9 1 satu bundel berkas pemberian pinjaman atas nama m riduansyah yang berisi sebagai berikut 1 asli memorandum analis kredit atas nama m riduansyah 2 asli surat keterangan perpindahan payroll gaji karyawan pt lumituna marine service atas nama m riduansyah 3 asli form permohonan analisis dan putusan kretap atas nama m riduansyah 4 asli surat rekomendasi pt lumituna marine service nomor 019 dir lms rekom v 2018 tanggal 2 mei 2018 kepada sdr m riduansyah 5 asli surat pernyataan bersedia melunasi kredit atas nama m riduansyah 6 asli surat kuasa debet rekening atas nama m riduansyah 7 asli surat pernyataan atas nama m riduansyah 8 fotokopi ktp atas nama m riduansyah 9 fotokopi npwp atas nama m riduansyah 10 fotokopi kartu keluarga atas nama zulhidayat 11 fotokopi surat keterangan pengganti ktp nomor 470 10339 dkps 2018 tanggal 15 februari 2018 atas nama m riduansyah dari 110 halaman putusan nomor 1204 pk pid sus 2024 12 fotokopi buku tabungan atas nama m riduansyah 13 asli surat pengakuan hutang nomor b 4 2071 5 2018 tanggal 8 mei 2018 atas nama m riduansyah 14 asli formulir putusan dan pencairan kretap atas nama m riduansyah 15 asli data debitur atas nama m riduansyah 16 asli data kredit atas nama m riduansyah 17 asli data instansi atas nama m riduansyah 18 asli syarat syarat umum perjanjian pinjaman dan kredit pt bank rakyat indonesia kepada m riduansyah 19 asli kuitansi pencairan nomor 2071 01000 302 106 rekening pinjaman atas nama m riduansyah sebesar rp250 000 000 00 dua ratus lima puluh juta rupiah tanggal 9 mei 2018 20 asli slip setoran ke rekening tabungan nomor 2071 0101 3499 502 atas nama m riduansyah 21 asli slip pembayaran angsuran kretap sebesar rp6 079 600 00 enam juta tujuh puluh sembilan ribu enam ratus rupiah tanggal 9 mei 2018 22 asli form nota pembayaran premi pt bank rakyat indonesia tertanggung m riduansyah tanggal 9 mei 2018 23 asli nota pembukuan biaya realisasi kredit briguna atas nama m riduansyah tanggal 9 mei 2018 24 asli form data statis pembukaan rekening pinjaman atas nama m riduansyah 25 asli surat keputusan pt lumituna marine service nomor kep 25 d lms iii 2018 tanggal 1 maret 2018 tentang pengangkatan sebagai karyawan tetap dengan construction diver atas nama m riduansyah dari 110 halaman putusan nomor 1204 pk pid sus 2024 26 asli kartu peserta bpjs ketenagakerjaan nomor 1671 0621 1093 0003 atas nama m riduansyah 27 fotokopi slip gaji pt lumituna marine service periode april 2018 atas nama m riduansyah 10 1 satu bundel berkas pemberian pinjaman atas nama sumarna yang berisi sebagai berikut 1 asli memorandum analis kredit atas nama sumarna 2 asli surat keterangan perpindahan payroll gaji karyawan pt lumituna marine service atas nama sumarna 3 asli form permohonan analisis dan putusan kretap atas nama sumarna 4 asli surat rekomendasi pt lumituna marine service nomor 012 dir lms xii 2017 tanggal desember 2017 kepada sdr sumarna 5 asli surat pernyataan bersedia melunasi kredit atas nama sumarna 6 asli surat kuasa debet rekening atas nama sumarna 7 asli surat pernyataan atas nama sumarna 8 asli bi cheking atas nama sumarna tertanggal 08 desember 2017 9 fotokopi ktp atas nama sumarna 10 fotokopi ktp atas nama diana 11 fotokopi npwp atas nama sumarna 12 fotokopi kartu keluarga atas nama sumarna 13 fotokopi buku tabungan atas nama sumarna 14 fotokopi kutipan akta nikah nomor 1094 64 vii 2002 tanggal 8 juli 2002 15 asli surat pengakuan hutang nomor b 6 2071 12 2017 tanggal 13 desember 2017 atas nama sumarna dari 110 halaman putusan nomor 1204 pk pid sus 2024 16 asli formulir putusan dan pencairan kretap atas nama sumarna 17 asli data debitur atas nama sumarna 18 asli data kredit atas nama sumarna 19 asli data instansi atas nama sumarna 20 asli syarat syarat umum perjanjian pinjaman dan kredit pt bank rakyat indonesia kepada sumarna 21 asli kuitansi pencairan nomor 2071 01000 244 104 rekening pinjaman atas nama sumarna sebesar rp480 000 000 00 empat ratus delapan puluh juta rupiah tanggal 13 desember 2017 22 asli slip setoran ke rekening tabungan nomor 2071 0101 3148 509 atas nama sumarna 23 asli form nota pembayaran premi pt bank rakyat indonesia tertanggung sumarna tanggal 13 desember 2017 24 asli nota pembukuan biaya realisasi kredit briguna atas nama sumarna tanggal 13 desember 2017 25 asli form data statis pembukaan rekening pinjaman atas nama sumarna 26 asli surat keputusan pt lumituna marine service nomor kep 14 d lms viii 2017 tanggal 1 agustus 2017 tentang pengangkatan sebagai karyawan tetap dengan jabatan marketing manager atas nama sumarna 27 asli kartu peserta bpjs ketenagakerjaan nomor 3276 0102 1071 0006 atas nama sumarna 28 fotokopi slip gaji pt lumituna marine service periode november 2017 atas nama sumarna 29 asli form pengambilan kredit pegawai tetap atas nama sumarna dari 110 halaman putusan nomor 1204 pk pid sus 2024 11 1 satu bundel berkas pemberian pinjaman atas nama farah diba yang berisi sebagai berikut 1 asli memorandum analis kredit atas nama farah diba 2 asli surat keterangan perpindahan payroll gaji karyawan pt lumituna marine service atas nama farah diba 3 asli form permohonan analisis dan putusan kretap atas nama farah diba 4 asli surat rekomendasi pt lumituna marine service nomor 007 dir lms x 2017 tanggal oktober 2017 kepada sdr farah diba 5 asli surat pernyataan bersedia melunasi kredit atas nama farah diba 6 asli surat kuasa debet rekening atas nama farah diba 7 asli surat pernyataan atas nama farah diba 8 asli bi cheking atas nama farah diba tertanggal 9 oktober 2017 9 fotokopi ktp atas nama farah diba 10 fotokopi npwp atas nama farah diba 11 fotokopi kartu keluarga atas nama siti jaenab 12 fotokopi buku tabungan atas nama farah diba 13 fotokopi akta cerai nomor 0203 ac 2016 pa msy tgrs tanggal 1 oktober 2015 14 asli surat pengakuan hutang nomor b 4 2071 10 2017 tanggal 25 oktober 2017 atas nama farah diba 15 asli formulir putusan dan pencairan kretap atas nama farah diba 16 asli data debitur atas nama farah diba 17 asli data kredit atas nama farah diba 18 asli data instansi atas nama farah diba dari 110 halaman putusan nomor 1204 pk pid sus 2024 19 asli syarat syarat umum perjanjian pinjaman dan kredit pt bank rakyat indonesia kepada farah diba 20 asli kuitansi pencairan nomor 2071 01000 219 109 rekening pinjaman atas nama farah diba sebesar rp400 000 000 00 empat ratus juta rupiah tanggal 25 oktober 2017 21 asli slip setoran ke rekening tabungan nomor 2071 0101 3011 508 atas nama farah diba 22 asli form nota pembayaran premi pt bank rakyat indonesia tertanggung farah diba tanggal 25 oktober 2017 23 asli slip pembayaran angsuran kretap ke 1 sebesar rp9 204 000 00 sembilan juta dua ratus empat ribu rupiah tanggal 25 oktober 2017 24 asli nota pembukuan biaya realisasi kredit briguna atas nama farah diba tanggal 25 oktober 2017 25 asli form data statis pembukaan rekening pinjaman atas nama farah diba 26 asli surat keputusan pt lumituna marine service nomor kep 10 d lms xii 2016 tanggal 1 desember 2016 tentang pengangkatan sebagai karyawan tetap dengan jabatan manager public relation atas nama farah diba 27 asli kartu peserta bpjs ketenagakerjaan nomor 3603 1769 0485 0004 atas nama farah diba 28 asli lampiran sk dirut pt lumituna marine service sk nomor kep 10 d lms xii 2016 tanggal 1 desember 2016 12 1 satu bundel berkas pemberian pinjaman atas nama karmin sentosa yang berisi sebagai berikut dari 110 halaman putusan nomor 1204 pk pid sus 2024 1 asli memorandum analis kredit atas nama karmin sentosa 2 asli surat keterangan perpindahan payroll gaji karyawan pt lumituna marine service atas nama karmin sentosa 3 asli form permohonan analisis dan putusan kretap atas nama karmin sentosa 4 asli surat rekomendasi pt lumituna marine service nomor 012 dir lms rekom iv 2018 tanggal 23 april 2018 kepada sdr karmin sentosa 5 asli surat pernyataan bersedia melunasi kredit atas nama karmin sentosa 6 asli surat kuasa debet rekening atas nama karmin sentosa 7 asli surat pernyataan atas nama karmin sentosa 8 asli slik atas nama karmin sentosa tertanggal 23 april 2018 9 fotokopi ktp atas nama karmin sentosa 10 fotokopi ktp atas nama desi mayasari 11 fotokopi npwp atas nama karmin sentosa 12 fotokopi kartu keluarga atas nama karmin sentosa 13 fotokopi buku tabungan atas nama karmin sentosa 14 fotokopi kutipan akta nikah nomor 0372 030 xi 2017 tanggal 27 november 2017 15 asli surat pengakuan hutang nomor b 7 2071 4 2018 tanggal 25 april 2018 atas nama karmin sentosa 16 asli formulir putusan dan pencairan kretap atas nama karmin sentosa 17 asli data debitur atas nama karmin sentosa 18 asli data kredit atas nama karmin sentosa 19 asli data instansi atas nama karmin sentosa dari 110 halaman putusan nomor 1204 pk pid sus 2024 20 asli syarat syarat umum perjanjian pinjaman dan kredit pt bank rakyat indonesia kepada karmin sentosa 21 asli kuitansi pencairan nomor 2071 01000 293 103 rekening pinjaman atas nama karmin sentosa sebesar rp250 000 000 00 dua ratus lima puluh juta rupiah tanggal 26 april 2018 22 asli slip setoran ke rekening tabungan nomor 2071 0101 3486 509 atas nama karmin sentosa 23 asli form nota pembayaran premi pt bank rakyat indonesia tertanggung karmin sentosa tanggal 26 april 2018 24 asli nota pembukuan biaya realisasi kredit briguna atas nama karmin sentosa tanggal 26 april 2018 25 asli form data statis pembukaan rekening pinjaman atas nama karmin sentosa 26 asli surat keputusan pt lumituna marine service nomor kep 19 d lms xii 2017 tanggal 1 desember 2017 tentang pengangkatan sebagai karyawan tetap dengan jabatan diver atas nama karmin sentosa 27 asli kartu peserta bpjs ketenagakerjaan nomor 1671 1001 1193 0012 atas nama karmin sentosa 28 fotokopi slip gaji pt lumituna marine service periode maret 2018 atas nama sumarna 29 asli form pengambilan kredit pegawai tetap atas nama karmin sentosa 13 1 satu bundel berkas pemberian pinjaman atas nama dandi budi purnama yang berisi sebagai berikut 1 asli memorandum analis kredit atas nama dandi budi purnama dari 110 halaman putusan nomor 1204 pk pid sus 2024 2 asli form permohonan analisis dan putusan kretap atas nama dandi budi purnama 3 asli surat rekomendasi pt lumituna marine service nomor 008 dir lms x 2017 tanggal oktober 2017 kepada sdr dandi budi purnama 4 asli surat pernyataan bersedia melunasi kredit atas nama dandi budi purnama 5 asli surat kuasa debet rekening atas nama dandi budi purnama 6 asli surat pernyataan atas nama dandi budi purnama 7 asli bi cheking atas nama dandi budi purnama tertanggal 30 oktober 2017 8 fotokopi ktp atas nama dandi budi purnama 9 fotokopi npwp atas nama dandi budi purnama 10 fotokopi kartu keluarga atas nama karmi 11 fotokopi buku tabungan atas nama dandi budi purnama 12 asli surat pengakuan hutang nomor b 1 2071 11 2017 tanggal 1 november 2017 atas nama dandi budi purnama 13 asli formulir putusan dan pencairan kretap atas nama dandi budi purnama 14 asli data debitur atas nama dandi budi purnama 15 asli data kredit atas nama dandi budi purnama 16 asli data instansi atas nama dandi budi purnama 17 asli syarat syarat umum perjanjian pinjaman dan kredit pt bank rakyat indonesia kepada dandi budi purnama 18 asli kuitansi pencairan nomor 2071 01000 222 102 rekening pinjaman atas nama dandi budi purnama dari 110 halaman putusan nomor 1204 pk pid sus 2024 sebesar rp175 000 000 00 seratus tujuh puluh lima juta rupiah tanggal 1 november 2017 19 asli slip setoran ke rekening tabungan nomor 2071 0101 3022 509 atas nama dandi budi purnama 20 asli form nota pembayaran premi pt bank rakyat indonesia tertanggung dandi budi purnama tanggal 1 november 2017 21 asli nota pembukuan biaya realisasi kredit briguna atas nama dandi budi purnama tanggal 1 november 2017 22 asli form data statis pembukaan rekening pinjaman atas nama dandi budi purnama 23 asli surat keputusan pt lumituna marine service nomor kep 02 du lms iv 2013 tanggal 1 april 2013 tentang pengangkatan sebagai karyawan tetap dengan jabatan mesengger dan office boy atas nama dandi budi purnama 24 asli kartu peserta bpjs ketenagakerjaan nomor 3203 0307 0993 0001 atas nama dandi budi purnama 25 fotokopi slip gaji pt lumituna marine service periode oktober 2017 atas nama dandi budi purnama 26 asli form pengambilan kredit pegawai tetap atas nama dandi budi purnama 14 1 satu bundel berkas pemberian pinjaman atas nama r doni rachmat yang berisi sebagai berikut 1 asli memorandum analis kredit atas nama r doni rachmat 2 asli surat keterangan perpindahan payroll gaji karyawan pt lumituna marine service atas nama r doni rachmat dari 110 halaman putusan nomor 1204 pk pid sus 2024 3 asli form permohonan analisis dan putusan kretap atas nama r doni rachmat 4 asli surat rekomendasi pt lumituna marine service nomor 014 dir lms xii 2017 tanggal desember 2017 kepada sdr r doni rachmat 5 asli surat pernyataan bersedia melunasi kredit atas nama r doni rachmat 6 asli surat kuasa debet rekening atas nama r doni rachmat 7 asli surat pernyataan atas nama r doni rachmat 8 asli bi cheking atas nama r doni rachmat tertanggal 27 desember 2017 9 fotokopi ktp atas nama r doni rachmat 10 fotokopi npwp atas nama r doni rachmat 11 fotokopi kartu keluarga atas nama r doni rachmat 12 fotokopi buku tabungan atas nama r doni rachmat 13 fotokopi kutipan akta nikah nomor 254 21 iii 2005 tanggal 7 maret 2005 14 asli surat pengakuan hutang nomor b 7 2071 12 2017 tanggal 28 desember 2017 atas nama r doni rachmat 15 asli formulir putusan dan pencairan kretap atas nama r doni rachmat 16 asli data debitur atas nama r doni rachmat 17 asli data kredit atas nama r doni rachmat 18 asli data instansi atas nama r doni rachmat 19 asli syarat syarat umum perjanjian pinjaman dan kredit pt bank rakyat indonesia kepada r doni rachmat 20 asli kuitansi pencairan nomor 2071 01000 248 108 rekening pinjaman atas nama r doni rachmat dari 110 halaman putusan nomor 1204 pk pid sus 2024 sebesar rp500 000 000 00 lima ratus juta rupiah tanggal 28 desember 2017 21 asli slip setoran ke rekening tabungan nomor 2071 0101 3202 507 atas nama r doni rachmat 22 asli form nota pembayaran premi pt bank rakyat indonesia tertanggung r doni rachmat tanggal 28 desember 2017 23 asli nota pembukuan biaya realisasi kredit briguna atas nama r doni rachmat tanggal 28 desember 2017 24 asli form data statis pembukaan rekening pinjaman atas nama r doni rachmat 25 asli surat keputusan pt lumituna marine service nomor kep 14 d lms vii 2017 tanggal 3 juli 2017 tentang pengangkatan sebagai karyawan tetap dengan jabatan management representative atas nama r doni rachmat 26 fotokopi slip gaji pt lumituna marine service periode november 2017 atas nama r doni rachmat 27 asli form pengambilan kredit pegawai tetap atas nama r doni rachmat 15 1 satu bundel berkas pemberian pinjaman atas nama dedy candera yang berisi sebagai berikut 1 asli memorandum analis kredit atas nama dedy candera 2 asli surat keterangan perpindahan payroll gaji karyawan pt lumituna marine service atas nama r dedy candera 3 asli form permohonan analisis dan putusan kretap atas nama dedy candera dari 110 halaman putusan nomor 1204 pk pid sus 2024 4 asli surat rekomendasi pt lumituna marine service nomor 011 dir lms rekom iv 2018 tanggal 23 april 2018 kepada sdr dedy candera 5 asli surat pernyataan bersedia melunasi kredit atas nama dedy candera 6 asli surat kuasa debet rekening atas nama dedy candera 7 asli surat pernyataan atas nama dedy candera 8 asli slik atas nama dedy candera tertanggal 23 april 2018 9 fotokopi ktp atas nama dedy candera 10 fotokopi npwp atas nama dedy candera 11 fotokopi kartu keluarga atas nama dedy candera 12 fotokopi buku tabungan atas nama dedy candera 13 fotokopi kutipan akta nikah nomor 1632 62 xii 2008 tanggal 13 desember 2008 14 asli surat pengakuan hutang nomor b 5 2071 4 2018 tanggal 26 april 2018 atas nama dedy candera 15 asli formulir putusan dan pencairan kretap atas nama dedy candera 16 asli data debitur atas nama dedy candera 17 asli data kredit atas nama dedy candera 18 asli data instansi atas nama dedy candera 19 asli syarat syarat umum perjanjian pinjaman dan kredit pt bank rakyat indonesia kepada dedy candera 20 asli kuitansi pencairan nomor 2071 01000291101 rekening pinjaman atas nama dedy candera sebesar rp250 000 000 00 dua ratus lima puluh juta rupiah tanggal 26 april 2018 dari 110 halaman putusan nomor 1204 pk pid sus 2024 21 asli slip setoran ke rekening tabungan nomor 2071 01013492500 atas nama dedy candera tanggal 26 april 2018 22 asli form nota pembayaran premi pt bank rakyat indonesia tertanggung dedy candera tanggal 26 april 2018 23 asli nota pembukuan biaya realisasi kredit briguna atas nama dedy candera tanggal 26 april 2018 24 asli form data statis pembukaan rekening pinjaman atas nama dedy candera 25 asli surat keputusan pt lumituna marine service nomor kep 18 d lms xii 2017 tanggal 1 desember 2017 tentang pengangkatan sebagai karyawan tetap dengan jabatan diver atas nama dedy candera 26 fotokopi slip gaji pt lumituna marine service periode maret 2018 atas nama dedy candera 27 asli form pengambilan kredit pegawai tetap atas nama dedy candera 16 1 bundel berkas pemberian pinjaman atas nama rachmat tri jaya yang berisi sebagai berikut 1 asli memorandum analis kredit atas nama rachmat tri jaya 2 asli form permohonan analisis dan putusan kretap atas nama rachmat tri jaya 3 asli surat rekomendasi pt lumituna marine service nomor 006 dir lms i 2018 tanggal 19 januari 2018 kepada sdr rachmat tri jaya 4 asli surat pernyataan bersedia melunasi kredit atas nama rachmat tri jaya 5 asli surat kuasa debet rekening atas nama rachmat tri jaya dari 110 halaman putusan nomor 1204 pk pid sus 2024 6 asli surat pernyataan atas nama rachmat tri jaya 7 asli slik atas nama rachmat tri jaya tertanggal 19 maretl 2018 8 fotokopi ktp atas nama rachmat tri jaya 9 fotokopi npwp atas nama rachmat tri jaya 10 fotokopi kartu keluarga atas nama amiruddin a manaf 11 fotokopi buku tabungan atas nama rachmat tri jaya 12 asli surat pengakuan hutang nomor b 9 2071 3 2018 tanggal 28 maret 2018 atas nama rachmat tri jaya 13 asli formulir putusan dan pencairan kretap atas nama rachmat tri jaya 14 asli data debitur atas nama rachmat tri jaya 15 asli data kredit atas nama rachmat tri jaya 16 asli data instansi atas nama rachmat tri jaya 17 asli syarat syarat umum perjanjian pinjaman dan kredit pt bank rakyat indonesia kepada rachmat tri jaya 18 asli kuitansi pencairan nomor 2071 01000 285 100 rekening pinjaman atas nama rachmat tri jaya sebesar rp250 000 000 00 dua ratus lima puluh juta rupiah tanggal 28 maret 2018 19 asli slip setoran ke rekening tabungan nomor 2071 0101 3429 507 atas nama rachmat tri jaya tanggal 28 maret 2018 20 asli form nota pembayaran premi pt bank rakyat indonesia tertanggung rachmat tri jaya tanggal 28 maret 2018 21 asli nota pembukuan biaya realisasi kredit briguna atas nama rachmat tri jaya tanggal 28 maret 2018 22 asli form data statis pembukaan rekening pinjaman atas nama rachmat tri jaya dari 110 halaman putusan nomor 1204 pk pid sus 2024 23 asli surat keputusan pt lumituna marine service nomor kep 04 d lms iii 2016 tanggal 10 maret 2016 tentang pengangkatan sebagai karyawan tetap dengan jabatan diver atas nama rachmat tri jaya 24 asli kartu peserta bpjs nomor 1173 0406 0891 0001 atas nama rachmat tri jaya 25 fotokopi slip gaji pt lumituna marine service periode februari 2018 atas nama rachmat tri jaya 26 asli form pengambilan kredit pegawai tetap atas nama rachmat tri jaya 17 1 satu bundel berkas pemberian pinjaman atas nama feri fahlevi yang berisi sebagai berikut 1 asli memorandum analis kredit atas nama feri fahlevi 2 fotokopi surat keterangan perpindahan payroll gaji karyawan pt lumituna marine service atas nama feri fahlevi 3 asli form permohonan briguna atas nama feri fahlevi 4 fotokopi surat rekomendasi pt lumituna marine service nomor 021 dir lms rekom v 2018 tanggal 17 mei 2018 kepada sdr feri fahlevi 5 asli surat pernyataan bersedia melunasi kredit atas nama feri fahlevi 6 asli surat kuasa debet rekening atas nama feri fahlevi 7 asli surat pernyataan atas nama feri fahlevi 8 fotokopi ktp atas nama feri fahlevi 9 fotokopi npwp atas nama feri fahlevi 10 fotokopi kartu keluarga atas nama kholipa 11 fotokopi buku tabungan atas nama feri fahlevi 12 asli surat pengakuan hutang nomor b 7 2071 5 2018 tanggal 24 mei 2018 atas nama feri fahlevi dari 110 halaman putusan nomor 1204 pk pid sus 2024 13 asli formulir putusan dan pencairan kretap atas nama feri fahlevi 14 asli data debitur atas nama feri fahlevi 15 asli data kredit atas nama feri fahlevi 16 asli data instansi atas nama feri fahlevi 17 asli syarat syarat umum perjanjian pinjaman dan kredit pt bank rakyat indonesia kepada feri fahlevi 18 asli kuitansi pencairan nomor 2071 01000 306 100 rekening pinjaman atas nama feri fahlevi sebesar rp200 000 000 00 dua ratus juta rupiah tanggal 25 mei 2018 19 asli slip setoran ke rekening tabungan nomor 2071 0101 3526 503 atas nama feri fahlevi tanggal 25 mei 2018 20 asli slip pembayaran angsuran pertama sebesar rp4 863 700 00 empat juta delapan ratus enam puluh tiga ribu tujuh ratus rupiah tanggal 25 mei 2018 21 asli form nota pembayaran premi pt bank rakyat indonesia tertanggung feri fahlevi tanggal 25 mei 2018 22 asli nota pembukuan biaya realisasi kredit briguna atas nama feri fahlevi tanggal 25 mei 2018 23 asli form data statis pembukaan rekening pinjaman atas nama feri fahlevi 24 asli surat keputusan pt lumituna marine service nomor kep 27 d lms iv 2018 tanggal 02 april 2018 tentang pengangkatan sebagai karyawan tetap dengan jabatan construction diver atas nama feri fahlevi 25 asli kartu peserta bpjs nomor 1671 0518 0690 0005 atas nama feri fahlevi dari 110 halaman putusan nomor 1204 pk pid sus 2024 26 fotokopi slip gaji pt lumituna marine service periode april 2018 atas nama feri fahlevi 18 1 satu bundel berkas pemberian pinjaman atas nama m fikri hidayat yang berisi sebagai berikut 1 asli memorandum analis kredit atas nama m fikri hidayat 2 fotokopi surat keterangan perpindahan payroll gaji karyawan pt lumituna marine service atas nama m fikri hidayat 3 asli form permohonan briguna atas nama m fikri hidayat 4 asli surat rekomendasi pt lumituna marine service nomor 020 dir lms rekom v 2018 tanggal 17 mei 2018 kepada sdr m fikri hidayat 5 asli surat pernyataan bersedia melunasi kredit atas nama m fikri hidayat 6 asli surat kuasa debet rekening atas nama m fikri hidayat 7 asli surat pernyataan atas nama m fikri hidayat 8 fotokopi ktp atas nama m fikri hidayat 9 fotokopi npwp atas nama m fikri hidayat 10 fotokopi kartu keluarga atas nama ruslan ismail 11 fotokopi buku tabungan atas nama m fikri hidayat 12 asli surat pengakuan hutang nomor b 8 2071 5 2018 tanggal 24 mei 2018 atas nama m fikri hidayat 13 asli formulir putusan dan pencairan kretap atas nama m fikri hidayat 14 asli data debitur atas nama m fikri hidayat 15 asli data kredit atas nama m fikri hidayat 16 asli data instansi atas nama m fikri hidayat dari 110 halaman putusan nomor 1204 pk pid sus 2024 17 asli syarat syarat umum perjanjian pinjaman dan kredit pt bank rakyat indonesia kepada rachmat m fikri hidayat 18 asli kuitansi pencairan nomor 2071 01000 307 106 rekening pinjaman atas nama m fikri hidayat sebesar rp200 000 000 00 dua ratus juta rupiah tanggal 25 mei 2018 19 asli slip setoran ke rekening tabungan nomor 2071 0101 3525 507 atas nama m fikri hidayat tanggal 25 mei 2018 20 asli slip pembayaran angsuran pertama sebesar rp4 863 700 00 empat juta delapan ratus enam puluh tiga ribu tujuh ratus rupiah tanggal 25 mei 2018 21 asli form nota pembayaran premi pt bank rakyat indonesia tertanggung m fikri hidayat tanggal 25 mei 2018 22 asli nota pembukuan biaya realisasi kredit briguna atas nama m fikri hidayat tanggal 25 mei 2018 23 asli form data statis pembukaan rekening pinjaman atas nama m fikri hidayat 24 asli surat keputusan pt lumituna marine service nomor kep 26 d lms iii 2018 tanggal 1 maret 2018 tentang pengangkatan sebagai karyawan tetap dengan jabatan ndt diver atas nama m fikri hidayat 25 asli kartu peserta bpjs nomor 1671 0131 0792 0011 atas nama m fikri hidayat 26 fotokopi slip gaji pt lumituna marine service periode april 2018 atas nama m fikri hidayat 19 1 satu bundel berkas pemberian pinjaman atas nama aang suryadi cecep yang berisi sebagai berikut dari 110 halaman putusan nomor 1204 pk pid sus 2024 1 asli memorandum analis kredit atas nama aang suryadi cecep 2 fotokopi surat keterangan perpindahan payroll gaji karyawan pt lumituna marine service atas nama aang suryadi cecep 3 asli form permohonan briguna atas nama aang suryadi cecep 4 fotokopi surat rekomendasi pt lumituna marine service nomor 017 dir lms rekom v 2018 tanggal 2 mei 2018 kepada sdr aang suryadi cecep 5 asli surat pernyataan bersedia melunasi kredit atas nama aang suryadi cecep 6 asli surat kuasa debet rekening atas nama aang suryadi cecep 7 asli surat pernyataan atas nama aang suryadi cecep 8 fotokopi surat keterangan kependudukan nomor 2712 skp ib ii 2015 tanggal 31 agustus 2015 atas nama aang suryadi cecep 9 fotokopi kartu keluarga atas nama sukemi usman 10 fotokopi buku tabungan atas nama aang suryadi cecep 11 asli surat pengakuan hutang nomor b 2 2071 5 2018 tanggal 8 mei 2018 atas nama aang suryadi cecep 12 asli formulir putusan dan pencairan kretap atas nama aang suryadi cecep 13 asli data debitur atas nama aang suryadi cecep 14 asli data kredit atas nama aang suryadi cecep 15 asli data instansi atas nama aang suryadi cecep 16 asli syarat syarat umum perjanjian pinjaman dan kredit pt bank rakyat indonesia kepada aang suryadi cecep dari 110 halaman putusan nomor 1204 pk pid sus 2024 17 asli kuitansi pencairan nomor 2071 01000 300 104 rekening pinjaman atas nama aang suryadi cecep sebesar rp250 000 000 00 dua ratus lima puluh juta rupiah tanggal 9 mei 2018 18 asli slip setoran ke rekening tabungan nomor 2071 0101 3501 503 atas nama aang suryadi cecep tanggal 9 mei 2018 19 asli slip pembayaran angsuran pertama sebesar rp6 079 600 00 enam juta tujuh puluh sembilan ribu enam ratus rupiah tanggal 9 mei 2018 20 asli form nota pembayaran premi pt bank rakyat indonesia tertanggung aang suryadi cecep tanggal 9 mei 2018 21 asli nota pembukuan biaya realisasi kredit briguna atas nama aang suryadi cecep tanggal 9 mei 2018 22 asli form data statis pembukaan rekening pinjaman atas nama aang suryadi cecep 23 asli surat keputusan pt lumituna marine service nomor kep 17 d lms xi 2017 tanggal 1 november 2017 tentang pengangkatan sebagai karyawan tetap dengan jabatan saturation diver atas nama aang suryadi cecep 24 asli kartu peserta bpjs nomor 1671 0115 0890 0003 atas nama aang suryadi cecep 25 fotokopi slip gaji pt lumituna marine service periode april 2018 atas nama aang suryadi cecep 20 1 satu bundel berkas pemberian pinjaman atas nama r dudy rachmat yang berisi sebagai berikut 1 asli memorandum analis kredit atas nama r dudy rachmat dari 110 halaman putusan nomor 1204 pk pid sus 2024 2 asli surat keterangan perpindahan payroll gaji karyawan pt lumituna marine service atas nama r dudy rachmat 3 asli form permohonan analisis dan putusan kretap atas nama r dudy rachmat 4 asli surat rekomendasi pt lumituna marine service nomor 005 dir lms rekom i 2018 tanggal januari 2018 kepada sdr r dudy rachmat 5 asli surat pernyataan bersedia melunasi kredit atas nama r dudy rachmat 6 asli surat kuasa debet rekening atas nama r dudy rachmat 7 asli surat pernyataan atas nama r dudy rachmat 8 asli slik atas nama r dudy rachmat tertanggal 26 januari 2018 9 fotokopi surat keterangan nomor 474 4 709011 2017 disdukcapil tanggal 31 oktober 2017 atas nama r dudy rachmat 10 fotokopi surat keterangan nomor 474 4 709018 2017 disdukcapil tanggal 31 oktober 2017 atas nama siti nurani 11 fotokopi kartu keluarga atas nama r dudy rachmat 12 fotokopi buku tabungan atas nama r dudy rachmat 13 fotokopi kutipan akta nikah nomor 219 119 ii 2012 tanggal 13 februari 2012 14 asli surat pengakuan hutang nomor b 9 2071 1 2018 tanggal 30 januari 2018 atas nama r dudy rachmat 15 asli formulir putusan dan pencairan kretap atas nama r dudy rachmat 16 asli data debitur atas nama r dudy rachmat 17 asli data kredit atas nama r dudy rachmat dari 110 halaman putusan nomor 1204 pk pid sus 2024 18 asli data instansi atas nama r dudy rachmat 19 asli syarat syarat umum perjanjian pinjaman dan kredit pt bank rakyat indonesia kepada r dudy rachmat 20 asli kuitansi pencairan nomor 2071 01000 262 102 rekening pinjaman atas nama r dudy rachmat sebesar rp500 000 000 00 lima ratus juta rupiah tanggal 30 januari 2018 21 asli slip setoran ke rekening tabungan nomor 2071 0101 3270 500 atas nama r dudy rachmat 22 asli form nota pembayaran premi pt bank rakyat indonesia tertanggung r dudy rachmat tanggal 30 desember 2017 23 asli nota pembukuan biaya realisasi kredit briguna atas nama r dudy rachmat tanggal 30 januari 2018 24 asli form data statis pembukaan rekening pinjaman atas nama r dudy rachmat 25 asli surat keputusan pt lumituna marine service nomor kep 16 d lms ix 2017 tanggal 1 september 2017 tentang pengangkatan sebagai karyawan tetap dengan jabatan legal atas nama r dudy rachmat 26 fotokopi slip gaji pt lumituna marine service periode desember 2017 atas nama r dudy rachmat 27 asli form pengambilan kredit pegawai tetap atas nama r dudy rachmat 21 1 satu bundel berkas pemberian pinjaman atas nama anang sujatmiko surya w yang berisi sebagai berikut 1 asli memorandum analis kredit atas nama anang sujatmiko surya w dari 110 halaman putusan nomor 1204 pk pid sus 2024 2 asli surat keterangan perpindahan payroll gaji karyawan pt lumituna marine service atas nama anang sujatmiko surya w 3 asli form permohonan analisis dan putusan kretap atas nama anang sujatmiko surya w 4 asli surat rekomendasi pt lumituna marine service nomor 004 dir lms ix 2017 tanggal 18 september 2017 kepada sdr anang sujatmiko surya w 5 asli surat pernyataan bersedia melunasi kredit atas nama anang sujatmiko surya w 6 asli surat kuasa debet rekening atas nama anang sujatmiko surya w 7 asli surat pernyataan atas nama anang sujatmiko surya w 8 asli bi cheking atas nama r anang sujatmiko surya w tertanggal 13 september 2017 9 fotokopi ktp atas nama anang sujatmiko surya w 10 fotokopi ktp atas nama endang dwilistijaningsih 11 fotokopi kartu keluarga atas nama anang sujatmiko surya w 12 fotokopi buku tabungan atas nama anang sujatmiko surya w 13 fotokopi kutipan akta nikah nomor 581 66 vii 1999 tanggal 12 juli 1999 14 asli surat pengakuan hutang nomor b 4 2071 9 2017 tanggal 27 september 2017 atas nama anang sujatmiko surya w 15 asli formulir putusan dan pencairan kretap atas anang sujatmiko surya w 16 asli data debitur atas nama anang sujatmiko surya w 17 asli data kredit atas nama anang sujatmiko surya w dari 110 halaman putusan nomor 1204 pk pid sus 2024 18 asli data instansi atas nama anang sujatmiko surya w 19 asli syarat syarat umum perjanjian pinjaman dan kredit pt bank rakyat indonesia kepada anang sujatmiko surya w 20 asli kuitansi pencairan nomor 2071 01000 208 108 rekening pinjaman atas anang sujatmiko surya w sebesar rp400 000 000 00 empat ratus juta rupiah tanggal 27 september 2017 21 asli slip setoran ke rekening tabungan nomor 2071 0101 2915 505 atas nama r anang sujatmiko surya w 22 asli slip pembayran angsuran pertama sebesar rp9 516 000 00 sembilan juta lima ratus enam belas ribu rupiah tanggal 27 september 2017 23 asli slip pembayaran biaya provisi sebesar rp2 000 000 00 dua juta rupiah tanggal 28 september 2017 24 asli slip pengambalian kelebihan pembayaran provisi administrasi dan asuransi briguna sebesar rp3 306 000 00 tiga juta tiga ratus enam ribu rupiah tanggal 28 september 2017 25 asli slip pengambalian kelebihan pembayaran biaya asuransi phk sebesar rp1 206 000 00 satu juta dua ratus enam ribu rupiah tanggal 28 september 2017 26 asli slip pengambalian kelebihan administrasi sebesar rp100 000 00 seratus ribu rupiah tanggal 28 september 2017 27 asli nota pembukuan biaya realisasi kredit briguna atas nama anang sujatmiko surya w tanggal 27 september 2017 dari 110 halaman putusan nomor 1204 pk pid sus 2024 28 asli form data statis pembukaan rekening pinjaman atas nama anang sujatmiko surya w 29 asli surat keputusan pt lumituna marine service nomor kep 06 du lms i 2015 tanggal 2 januari 2015 tentang pengangkatan sebagai karyawan tetap dengan jabatan manager operasional supervisor diver atas nama anang sujatmiko surya w 30 asli kartu peserta bpjs nomor 3172 0323 0372 0003 atas nama anang sujatmiko surya w 31 asli form pengambilan kredit pegawai tetap atas nama anang sujatmiko surya w 22 1 satu bundel berkas pemberian pinjaman atas nama januar rivani yang berisi sebagai berikut 1 asli memorandum analis kredit atas nama januar rivani 2 asli surat keterangan perpindahan payroll gaji karyawan pt lumituna marine service atas nama januar rivani 3 asli form permohonan analisis dan putusan kretap atas nama januar rivani 4 asli surat rekomendasi pt lumituna marine service nomor 009 dir lms xi 2017 tanggal 29 november 2017 kepada sdr januar rivani 5 asli surat pernyataan bersedia melunasi kredit atas nama januar rivani 6 asli surat kuasa debet rekening atas nama januar rivani 7 asli surat pernyataan atas nama januar rivani 8 asli bi cheking atas nama januar rivani tertanggal 29 november 2017 9 fotokopi ktp atas nama januar rivani dari 110 halaman putusan nomor 1204 pk pid sus 2024 10 fotokopi surat keterangan nomor 800 1 11656 disdukcasip atas nama siti khadijah 11 fotokopi kartu keluarga atas nama januar rivani 12 asli surat pengakuan hutang nomor b 13 2071 11 2017 tanggal 30 november 2017 atas nama januar rivani 13 asli formulir putusan dan pencairan kretap atas januar rivani 14 asli data debitur atas nama januar rivani 15 asli data kredit atas nama januar rivani 16 asli data instansi atas nama januar rivani 17 asli syarat syarat umum perjanjian pinjaman dan kredit pt bank rakyat indonesia kepada januar rivani 18 asli kuitansi pencairan nomor 2071 01000 237 107 rekening pinjaman atas januar rivani sebesar rp400 000 000 00 empat ratus juta rupiah tanggal 30 november 2017 19 asli slip setoran ke rekening tabungan nomor 2071 0101 3132 508 atas nama januar rivani 20 asli nota pembayaran premi tertanggung januar rivani tanggal 30 november 2017 21 asli nota pembukuan biaya realisasi kredit briguna atas nama januar rivani tanggal 30 november 2017 22 asli form data statis pembukaan rekening pinjaman atas nama januar rivani 23 fotokopi surat keputusan pt lumituna marine service nomor kep 13 d lms vii 2017 tanggal 3 juli 2017 tentang pengangkatan sebagai karyawan tetap dengan jabatan diver atas nama januar rivani dari 110 halaman putusan nomor 1204 pk pid sus 2024 24 asli kartu peserta bpjs nomor 3275 0131 0183 0013 atas nama januar rivani w 25 fotokopi slip gaji periode november 2017 atas nama januar rivani 26 asli form pengambilan kredit pegawai tetap atas nama januar rivani 23 1 satu bundel berkas pemberian pinjaman atas nama heri wistini yang berisi sebagai berikut 1 asli memorandum analis kredit atas nama heri wistini 2 asli surat keterangan perpindahan payroll gaji karyawan pt lumituna marine service atas nama heri wistini 3 asli form permohonan analisis dan putusan kretap atas nama heri wistini 4 asli surat rekomendasi pt lumituna marine service nomor 013 dir lms xii 2017 desember 2017 kepada sdr heri wistini 5 asli surat pernyataan bersedia melunasi kredit atas nama heri wistini 6 asli surat kuasa debet rekening atas nama heri wistini 7 asli surat pernyataan atas nama heri wistini 8 asli slik atas nama heri wistini tertanggal 28 desmeber 2017 9 fotokopi ktp atas heri wistini 10 fotokopi npwp atas nama heri wistini 11 fotokopi kartu keluarga atas nama achmad azari 12 fotocopy akta cerai no 01462 ac 2016 13 fotokopi buku tabungan atas nama heri wistini dari 110 halaman putusan nomor 1204 pk pid sus 2024 14 asli surat pengakuan hutang nomor b 8 2071 12 2017 tanggal 29 desember 2017 atas nama heri wistini 15 asli formulir putusan dan pencairan kretap atas nama heri wistini 16 asli data debitur atas nama heri wistini 17 asli data kredit atas nama heri wistini 18 asli data instansi atas nama heri wistini 19 asli syarat syarat umum perjanjian pinjaman dan kredit pt bank rakyat indonesia kepada heri wistini 20 asli kuitansi pencairan nomor 2071 01 000250 10 5 rekening pinjaman atas nama heri wistini sebesar rp360 000 000 00 tiga ratus enam puluh juta rupiah tanggal 29 desember 2017 21 asli slip setoran ke rekening tabungan nomor 2071 01 013204 50 9 atas nama heri wistini tanggal 29 desember 2017 22 asli form nota pembayaran premi pt bank rakyat indonesia tertanggung heri wistini tanggal 29 desember 2017 23 asli nota pembukuan biaya realisasi kredit briguna atas nam heri wistini tanggal 29 desember 2017 24 asli form data statis pembukaan rekening pinjaman atas nama heri wistini 25 asli surat keputusan pt lumituna marine service nomor kep 15 d lms xi 2017 tanggal 4 september 2017 tentang pengangkatan sebagai karyawan tetap dengan jabatan diver atas nama heri wistini 26 fotokopi slip gaji pt lumituna marine service periode november 2017 atas nama heri wistini dari 110 halaman putusan nomor 1204 pk pid sus 2024 27 asli form pengambilan kredit pegawai tetap atas nama heri wistini 24 3 tiga bundel berkas pemberian pinjaman atas nama suratmini yang berisi sebagai berikut 1 asli memorandum analis kredit tahun 2017 atas nama suratmini 2 asli surat keterangan perpindahan payroll gaji karyawan pt lumituna marine service atas nama suratmini 3 asli form permohonan analisis dan putusan kretap atas nama suratmini 4 asli surat rekomendasi pt lumituna marine service nomor 003 dir lms ixi 2017 tanggal 14 september 2017 kepada sdr suratmini 5 asli surat pernyataan bersedia melunasi kredit atas nama suratmini 6 asli surat kuasa debet rekening atas nama suratmini 7 asli surat pernyataan atas nama suratmini 8 asli bi cheking atas nama suratmini tertanggal 13 september 2017 9 fotokopi ktp atas nama suratmini 10 fotokopi ktp atas nama abdul salam 11 fotokopi npwp atas nama suratmini 12 fotokopi kartu keluarga atas nama abdul salam 13 fotokopi buku tabungan atas nama suratmini 14 fotokopi kutipan akta nikah nomor 505 21 xii 2008 tanggal 14 desember 2008 15 asli surat pengakuan hutang nomor b 3 2071 09 2017 tanggal 19 september 2017 atas nama suratmini 16 asli formulir putusan dan pencairan kretap atas suratmini dari 110 halaman putusan nomor 1204 pk pid sus 2024 17 asli data debitur atas nama suratmini 18 asli data kredit atas nama suratmini 19 asli data instansi atas nama suratmini 20 asli syarat syarat umum perjanjian pinjaman dan kredit pt bank rakyat indonesia kepada suratmini 21 asli kuitansi pencairan nomor 2071 01000 207 102 rekening pinjaman atas suratmini sebesar rp250 000 000 00 dua ratus lima puluh juta rupiah tanggal 19 september 2017 22 asli slip setoran ke rekening tabungan nomor 2071 0101 2904 504 atas nama suratmini 23 asli slip pembayaran angsuran pertama sebesar rp8 666 400 00 delapan juta enam ratus enam puluh enam ribu empat ratus rupiah 24 asli nota pembayaran premi tertanggung suratmini tanggal 19 september 2017 25 asli nota pembukuan biaya realisasi kredit briguna atas nama suratmini tanggal 19 september 2017 26 asli form data statis pembukaan rekening pinjaman atas nama suratmini 27 asli kartu peserta bpjs nomor 3275 0352 1180 0028 atas nama suratmini 28 fotokopi slip gaji periode agustus 2017 atas nama suratmini 29 asli form pengambilan kredit pegawai tetap atas nama suratmini 30 asli memorandum analis kredit suplesi tahun 2017 atas nama suratmini 31 asli form permohonan analisis dan putusan kretap suplesi atas nama suratmini dari 110 halaman putusan nomor 1204 pk pid sus 2024 32 asli surat rekomendasi pt lumituna marine service nomor 011 dir lms xii 2017 tanggal desember 2017 kepada sdr suratmini 33 asli surat pernyataan bersedia melunasi kredit suplesi atas nama suratmini 34 asli surat kuasa debet rekening suplesi atas nama suratmini 35 asli surat pernyataan suplesi atas nama suratmini 36 fotokopi ktp atas nama suratmini 37 fotokopi ktp atas nama abdul salam 38 fotokopi npwp atas nama suratmini 39 fotokopi kartu keluarga atas nama abdul salam 40 fotokopi kutipan akta nikah nomor 505 21 xii 2008 tanggal 14 desember 2008 41 asli surat pengakuan hutang nomor b 3 2071 12 2017 tanggal 13 desember 2017 atas nama suratmini 42 asli formulir putusan dan pencairan kretap suplesi atas suratmini 43 asli data debitur atas nama suratmini suplesi 44 asli data kredit atas nama suratmini suplesi 45 asli data instansi atas nama suratmini suplesi 46 asli bi cheking atas nama suratmini tertanggal 6 desember 2017 47 asli syarat syarat umum perjanjian pinjaman dan kredit pt bank rakyat indonesia kepada suratmini suplesi 48 asli kuitansi pencairan nomor 2071 01000 245 100 rekening pinjaman atas suratmini sebesar rp500 000 000 00 lima ratus juta rupiah tanggal 13 desember 2017 dari 110 halaman putusan nomor 1204 pk pid sus 2024 49 asli slip setoran ke rekening tabungan nomor 2071 0101 2904 504 atas nama suratmini tanggal 13 desember 2017 50 asli nota pembayaran premi tertanggung suratmini tanggal 13 desember 2017 51 asli nota pembukuan biaya realisasi kredit briguna atas nama suratmini tanggal 13 desember 2017 52 fotokopi surat keputusan pt lumituna marine service nomor kep 05 du lms ix 2014 tanggal 1 september 2014 tentang pengangkatan sebagai karyawan tetap dengan jabatan general manager atas nama suratmini 53 fotokopi slip gaji periode november 2017 atas nama suratmini 54 asli memorandum analis kredit restukturisasi tahun 2019 atas nama suratmini 55 asli form permohonan briguna atas nama suratmini 56 fotokopi surat permohonan restruckturisasi atas nama suratmini 57 asli surat pernyataan bersedia melunasi kredit atas nama suratmini setelah restructurisasi 58 asli surat kuasa debet rekening suplesi atas nama suratmini setelah restrukturisasi 59 fotokopi ktp atas nama suratmini 60 fotokopi ktp atas nama abdul salam 61 fotokopi npwp atas nama suratmini 62 fotokopi kartu keluarga atas nama abdul salam 63 fotokopi kutipan akta nikah nomor 505 21 xii 2008 tanggal 14 desember 2008 64 asli surat pengakuan hutang nomor bgsxcblm 06 2019 tanggal 26 juni 2019 atas nama suratmini dari 110 halaman putusan nomor 1204 pk pid sus 2024 65 asli formulir putusan dan pencairan kretap suplesi atas suratmini 66 asli slik atas nama suratmini tertanggal 23 mei 2019 67 asli syarat syarat umum perjanjian pinjaman dan kredit pt bank rakyat indonesia kepada suratmini restrukturisasi 68 asli kuitansi pencairan nomor 2071 01000 426 104 rekening pinjaman atas suratmini sebesar rp447 104 963 00 empat ratus empat puluh tujuh juta seratus empat ribu sembilan ratus enam puluh tiga rupiah tanggal 28 juni 2019 69 asli slip pembayaran biaya asuransi sebesar rp12 642 847 00 dua belas juta enam ratus empat puluh dua ribu delapan ratus empat puluh tujuh ratus rupiah 70 asli nota pembayaran premi tertanggung suratmini tanggal 28 juni 2019 71 asli data statis tahun 2017 atas nama suratmini 72 asli data statis tahun 2019 atas nama suratmini 73 asli berita acara hasil negosiasi kesepakatan dengan debitur tanggal 25 mei 2019 74 fotokopi surat keterangan bekerja nomor 19008 dir atracana v 19 tanggal 2 mei 2019 75 fotokopi slip gaji dari pt adia tri putra kencana periode mei 2019 76 fotokopi surat keterangan penghasilan nomor 19002 acc atracana vi 19 tanggal 22 juni 2019 77 fotokopi surat permohonan pembukaan rekening bri nomor 19009 dir atracana v 19 tanggal 2 mei 2019 dari 110 halaman putusan nomor 1204 pk pid sus 2024 78 fotokopi laporan kunjungan nasabah tanggal 24 april 2019 25 2 dua bundel berkas pemberian pinjaman atas nama elvin alvioni yang berisi sebagai berikut 1 asli memorandum analis kredit atas nama elvin alvioni 2 asli form permohonan analisis dan putusan kretap atas nama elvin alvioni 3 asli surat rekomendasi pt lumituna marine service nomor 010 dir lms rekom iii 2018 tanggal 12 maret 2018 kepada sdr elvin alvioni 4 asli surat pernyataan bersedia melunasi kredit atas nama elvin alvioni 5 asli surat kuasa debet rekening atas nama elvin alvioni 6 asli surat pernyataan atas nama elvin alvioni 7 asli slik atas nama elvin alvioni tertanggal 19 maret 2018 8 fotokopi ktp atas nama elvin alvioni 9 fotokopi ktp atas nama dina lafenia 10 fotokopi npwp atas nama elvin alvioni 11 fotokopi kartu keluarga atas nama sugiharto 12 fotokopi buku tabungan atas nama elvin alvioni 13 asli surat pengakuan hutang nomor b 7 2071 3 2018 tanggal 22 maret 2018 atas nama elvin alvioni 14 asli formulir putusan dan pencairan kretap atas nama elvin alvioni 15 asli data debitur atas nama elvin alvioni 16 asli data kredit atas nama elvin alvioni 17 asli data instansi atas nama elvin alvioni dari 110 halaman putusan nomor 1204 pk pid sus 2024 18 asli syarat syarat umum perjanjian pinjaman dan kredit pt bank rakyat indonesia kepada elvin alvioni 19 asli kuitansi pencairan nomor 2071 01 000 282 10 2 rekening pinjaman atas nama elvin alvioni sebesar rp250 000 000 00 dua ratus lima puluh juta rupiah tanggal 22 maret 2018 20 asli slip setoran ke rekening tabungan nomor 2071 01 01 3434 50 2 atas nama elvin alvioni tanggal 22 maret 2018 21 asli slip koreksi pembayaran biaya administrasi sebesar rp900 000 00 sembilan ratus ribu ruopiah tanggal 23 maret 2018 22 asli form nota pembayaran premi pt bank rakyat indonesia tertanggung elvin alvioni tanggal 22 maret 2018 23 asli nota pembukuan biaya realisasi kredit briguna atas nam elvin alvioni tanggal 22 maret 2018 24 asli form data statis pembukaan rekening pinjaman atas nama elvin alvioni 25 asli surat keputusan pt lumituna marine service nomor kep 17 d lms xi 2017 tanggal 1 november 2017 tentang pengangkatan sebagai karyawan tetap dengan jabatan it manager atas nama elvin alvioni 26 fotokopi slip gaji pt lumituna marine service periode februari 2018 atas nama elvin alvioni 27 asli kartu perserta bpjs ketenagakerjaan nomnor 3216 0145 0291 0005 28 asli surat pernyataan tampa pasangan tanggal 22 maret 2018 29 asli form pengambilan kredit pegawai tetap atas nama elvin alvioni dari 110 halaman putusan nomor 1204 pk pid sus 2024 30 asli memorandum analis kredit atas nama elvin alvioni restrukturisasi 31 asli form permohonan analisis dan putusan kretap atas nama elvin alvioni restrukturisasi 32 asli surat permohonan restrukturisasi atas nama elvin alvioni tanggal 25 april 2019 33 asli surat pernyataan bersedia melunasi kredit atas nama elvin alvioni 34 asli surat kuasa debet rekening atas nama elvin alvioni restrukturisasi 35 asli slik atas nama elvin alvioni tertanggal 23 mei 2019 restrukturisasi 36 fotokopi ktp atas nama elvin alvioni restrukturisasi 37 fotokopi ktp atas nama dina lafenia restrukturisasi 38 fotokopi npwp atas nama elvin alvioni restrukturisasi 39 fotokopi kartu keluarga atas nama sugiharto restrukturisasi 40 fotokopi buku tabungan atas nama elvin alvioni restrukturisasi 41 asli surat pengakuan hutang nomor bg2m7u5v 06 2019 tanggal 21 juni 2019 atas nama elvin alvioni restrukturisasi 42 asli formulir putusan dan pencairan kretap atas nama elvin alvioni restrukturisasi 43 fotokopi surat keterangan bekerja nomor 19008 dir atracana v 19 tanggal 2 mei 2019 44 asli syarat syarat umum perjanjian pinjaman dan kredit pt bank rakyat indonesia kepada elvin alvioni restrukturisasi dari 110 halaman putusan nomor 1204 pk pid sus 2024 45 asli kuitansi pencairan nomor 2071 01 000 422 10 0 rekening pinjaman atas nama elvin alvioni sebesar rp236 921 451 00 dua ratus tiga puluh enam juta sembilan ratus dua puluh satu ribu empat ratus lima puluh satu rupiah tanggal 28 juni 2019 46 asli form nota pembayaran premi pt bank rakyat indonesia tertanggung elvin alvioni tanggal 28 juni 2019 restrukturisasi 47 asli form data statis pembukaan rekening pinjaman atas nama elvin alvioni 48 fotokopi slip gaji pt adia tri putra kencana periode maret 2019 dan april 2019 atas nama elvin alvioni 49 asli surat pernyataan tanpa pasangan tanggal 2019 50 asli form pengambilan kredit pegawai tetap atas nama elvin alvioni restrukturisasi 51 asli berita acara hasil negosiasi kesepakatan dengan debitur tanggal 25 mei 2019 52 fotokopi laporan kunjungan nasabah tanggal 24 april 2019 53 fotokopi permohonan pembukaan rekening bri dari pt adia triputra kencana nomor 19009 dir atracana v 19 tanggal 2 mei 2019 26 2 dua bundel berkas pemberian pinjaman atas nama edy anwar sanusi yang berisi sebagai berikut 1 asli memorandum analis kredit atas nama edy anwar sanusi 2 asli surat keterangan perpindahan payroll gaji karyawan pt lumituna marine service atas nama edy anwar sanusi 3 asli form permohonan analisis dan putusan kretap atas nama edy anwar sanusi dari 110 halaman putusan nomor 1204 pk pid sus 2024 4 asli surat rekomendasi pt lumituna marine service nomor 013 dir lms rekom iv 2018 tanggal 24 april 2018 kepada sdr edy anwar sanusi 5 asli surat pernyataan bersedia melunasi kredit atas nama edy anwar sanusi 6 asli surat kuasa debet rekening atas nama edy anwar sanusi 7 asli surat pernyataan atas nama edy anwar sanusi 8 asli slik atas nama edy anwar sanusi tertanggal 23 april 2018 9 fotokopi ktp atas nama edy anwar sanusi 10 fotokopi ktp atas nama sri apriani 11 fotokopi npwp atas nama edy anwar sanusi 12 fotokopi kartu keluarga atas nama edy anwar sanusi 13 fotokopi buku tabungan atas nama edy anwar sanusi 14 fotokopi kutipan akta nikah nomor 173 16 ix 2006 tanggal 17 september 2006 15 asli surat pengakuan hutang nomor b 11 2071 4 2018 tanggal 30 april 2018 atas nama edy anwar sanusi 16 asli formulir putusan dan pencairan kretap atas nama edy anwar sanusi 17 asli data debitur atas nama edy anwar sanusi 18 asli data kredit atas nama edy anwar sanusi 19 asli data instansi atas nama edy anwar sanusi 20 asli syarat syarat umum perjanjian pinjaman dan kredit pt bank rakyat indonesia kepada edy anwar sanusi 21 asli kuitansi pencairan nomor 2071 01 000 295 10 5 rekening pinjaman atas nama edy anwar sanusi dari 110 halaman putusan nomor 1204 pk pid sus 2024 sebesar rp250 000 000 00 dua ratus lima puyluh juta rupiah tanggal 30 april 2018 22 asli slip setoran ke rekening tabungan nomor 2071 01 01 3487 50 5 atas nama edy anwar sanusi tanggal 30 april 2018 23 asli form nota pembayaran premi pt bank rakyat indonesia tertanggung edy anwar sanusi tanggal 30 april 2018 24 asli nota pembukuan biaya realisasi kredit briguna atas nam edy anwar sanusi tanggal 30 april 2018 25 asli form data statis pembukaan rekening pinjaman atas nama edy anwar sanusi 26 asli surat keputusan pt lumituna marine service nomor kep 20 d lms i 2018 tanggal 2 januari 2018 tentang pengangkatan sebagai karyawan tetap dengan jabatan technisian atas nama edy anwar sanusi 27 fotokopi slip gaji pt lumituna marine service periode maret 2018 atas nama edy anwar sanusi 28 asli kartu perserta bpjs ketenagakerjaan nomnor 3172 0205 0878 0023 29 asli memorandum analis kredit atas nama edy anwar sanusi restrukturisasi 30 asli form permohonan analisis dan putusan kretap atas nama edy anwar sanusi restrukturisasi 31 asli surat pernyataan bersedia melunasi kredit atas nama edy anwar sanusi restrukturisasi 32 asli surat kuasa debet rekening atas nama edy anwar sanusi restrukturisasi 33 asli slik atas nama edy anwar sanusi tertanggal 23 mei 2019 restrukturisasi dari 110 halaman putusan nomor 1204 pk pid sus 2024 34 fotokopi ktp atas nama edy anwar sanusi restrukturisasi 35 fotokopi ktp atas nama sri apriani restrukturisasi 36 fotokopi npwp atas nama edy anwar sanusi restrukturisasi 37 fotokopi kartu keluarga atas nama edy anwar sanusi restrukturisasi 38 fotokopi buku tabungan atas nama edy anwar sanusi restrukturisasi 39 fotokopi kutipan akta nikah nomor 173 16 ix 2006 tanggal 17 september 2006 restrukturisasi 40 asli surat pengakuan hutang nomor bgen3trl 06 2019 tanggal 21 juni 2019 atas nama edy anwar sanusi 41 asli syarat syarat umum perjanjian pinjaman dan kredit pt bank rakyat indonesia kepada edy anwar sanusi restrukturisasi 42 asli kuitansi pencairan nomor 2071 01 000 423 10 6 rekening pinjaman atas nama edy anwar sanusi sebesar rp237 165 313 00 dua ratus tiga puluh tujuh juta seratus enam puluh lima ribu tiga ratus tiga belas rupiah tanggal 28 juni 2019 43 asli form nota pembayaran premi pt bank rakyat indonesia tertanggung edy anwar sanusi tanggal 28 juni 2019 44 asli form data statis pembukaan rekening pinjaman atas nama edy anwar sanusi restrukturisasi 45 fotokopi slip gaji pt adia triputra kencana periode maret 2019 dan april 2019 atas nama edy anwar sanusi dari 110 halaman putusan nomor 1204 pk pid sus 2024 46 asli surat pernyataan tampa pasangan atas nama edy anwar sanusi tahun 2019 47 asli surat permohonan restrukturisasi kredit atas nama edy anwar sanusi tanggal 26 april 2019 48 fotokopi surat keterangan bekerja dari pt adia triputra kencana nomor 19008 dir atracana v 19 tanggal 2 mei 2019 49 fotokopi laporan kunjungan nasabah tanggal 26 april 2019 50 fotokopi surat permohonan pembukaan rekening bri dari pt adia triputra kencana nomor 19009 dir atracana v 19 tanggal 2 mei 2019 51 asli form rincian pengambilan briguna atas nama edy anwar sanusi 27 2 dua bundel berkas pemberian pinjaman atas nama ridha gardesha yang berisi sebagai berikut 1 asli memorandum analis kredit atas nama ridha gardesha 2 asli form permohonan analisis dan putusan kretap atas nama ridha gardesha 3 asli surat rekomendasi pt lumituna marine service nomor 002 dir lms vii 2017 tanggal 25 juli 2017 kepada sdr ridha gardesha 4 asli surat pernyataan bersedia melunasi kredit atas nama ridha gardesha 5 asli surat kuasa debet rekening atas nama ridha gardesha 6 asli surat pernyataan atas nama ridha gardesha 7 asli bi cheking atas nama ridha gardesha tertanggal 28 juli 2017 8 fotokopi ktp atas nama ridha gardesha dari 110 halaman putusan nomor 1204 pk pid sus 2024 9 fotokopi ktp atas nama trilyuniarti 10 fotokopi npwp atas nama ridha gardesha 11 fotokopi kartu keluarga atas nama ridha gardesha 12 fotokopi buku tabungan atas nama ridha gardesha 13 fotokopi kutipan akta nikah nomor 1188 120 xi 2009 tanggal 30 november 2009 14 asli surat pengakuan hutang nomor b 2 2071 7 2017 tanggal 31 juli 2017 atas nama ridha gardesha 15 asli formulir putusan dan pencairan kretap atas nama ridha gardesha 16 asli data debitur atas nama ridha gardesha 17 asli data kredit atas nama ridha gardesha 18 asli data instansi atas nama ridha gardesha 19 asli syarat syarat umum perjanjian pinjaman dan kredit pt bank rakyat indonesia kepada ridha gardesha 20 asli kuitansi pencairan nomor 2071 01 000 189 10 0 rekening pinjaman atas nama ridha gardesha sebesar rp250 000 000 00 dua ratus lima puluh juta rupiah tanggal 31 juli 2017 21 asli slip setoran ke rekening tabungan nomor 2071 01 01 2731 50 3 atas nama ridha gardesha tanggal 31 juli 2017 22 asli form nota pembayaran premi pt bank rakyat indonesia tertanggung ridha gardesha tanggal 31 juli 2017 23 asli nota pembukuan biaya realisasi kredit briguna atas nama ridha gardesha tanggal 31 juli 2017 24 asli form data statis pembukaan rekening pinjaman atas nama ridha gardesha dari 110 halaman putusan nomor 1204 pk pid sus 2024 25 asli surat keputusan pt lumituna marine service nomor kep 04 du lms viii 2014 tanggal 11 agustus 2014 tentang pengangkatan sebagai karyawan tetap dengan jabatan general affair manager atas nama ridha gardesha 26 fotokopi slip gaji pt lumituna marine service periode juni 2017 dan juli 2017 atas nama ridha gardesha 27 asli kartu perserta bpjs ketenagakerjaan nomnor 3211 1730 1184 0004 28 asli memorandum analis kredit atas nama ridha gardesha suplesi 29 asli form permohonan analisis dan putusan kretap atas nama ridha gardesha suplesi 30 asli surat rekomendasi pt lumituna marine service nomor 010 dir lms xii 2017 tanggal desember 2017 kepada sdr ridha gardesha 31 asli surat pernyataan bersedia melunasi kredit atas nama ridha gardesha suplesi 32 asli surat kuasa debet rekening atas nama ridha gardesha suplesi 33 asli surat pernyataan atas nama ridha gardesha suplesi 34 asli bi cheking atas nama ridha gardesha tertanggal 6 desember 2017 suplesi 35 fotokopi ktp atas nama ridha gardesha suplesi 36 fotokopi ktp atas nama trilyuniarti suplesi 37 fotokopi npwp atas nama ridha gardesha suplesi 38 fotokopi kartu keluarga atas nama ridha gardesha suplesi 39 fotokopi kutipan akta nikah nomor 173 16 ix 2006 tanggal 17 september 2006 suplesi dari 110 halaman putusan nomor 1204 pk pid sus 2024 40 asli surat pengakuan hutang nomor b 5 2071 12 2017 tanggal 11 desember 2017 atas nama ridha gardesha 41 asli syarat syarat umum perjanjian pinjaman dan kredit pt bank rakyat indonesia kepada ridha gardesha suplesi 42 asli formulir putusan dan pencairan kretap atas nama ridha gardesha suplesi 43 asli data debitur atas nama ridha gardesha suplesi 44 asli data kredit atas nama ridha gardesha suplesi 45 asli data instansi atas nama ridha gardesha suplesi 46 asli kuitansi pencairan nomor 2071 01 000 242 10 2 rekening pinjaman atas nama ridha gardesha sebesar rp500 000 000 00 lima ratus jutra rupiah tanggal 11 desember 2017 47 asli slip setoran ke rekening tabungan nomor 2071 01 01 2731 50 3 atas nama ridha gardesha tanggal 11 desember 2017 48 asli form nota pembayaran premi pt bank rakyat indonesia tertanggung ridha gardesha tanggal 11 desember 2017 49 asli nota pembukuan biaya realisasi kredit briguna atas nama ridha gardesha tanggal 11 desember 2017 50 asli slip pelunasan pinjaman sebelumnya sebesar rp228 424 018 00 dua ratus dua puluh delapan juta empat ratus dua puluh empat ribu delapan belas rupiah tanggal 11 desember 2017 51 asli form data statis pembukaan rekening pinjaman atas nama ridha gardesha suplesi dari 110 halaman putusan nomor 1204 pk pid sus 2024 52 fotokopi slip gaji pt lumituna marine service periode november 2017 atas nama ridha gardesha 53 asli form pengambilan kredit atas nama ridha gardesha suplesi 28 2 dua bundel berkas pemberian pinjaman atas nama yudhi sulistiyono yang berisi sebagai berikut 1 asli memorandum analis kredit atas nama yudhi sulistiyono 2 asli form permohonan analisis dan putusan kretap atas nama yudhi sulistiyono 3 asli surat rekomendasi pt lumituna marine service nomor 001 dir lms vi 2017 tanggal 19 juni 2017 kepada sdr yudhi sulistiyono 4 asli surat pernyataan bersedia melunasi kredit atas nama yudhi sulistiyono 5 asli surat kuasa debet rekening atas nama yudhi sulistiyono 6 asli surat pernyataan atas nama yudhi sulistiyono 7 asli bi cheking atas nama yudhi sulistiyono tertanggal 17 mei 2017 8 fotokopi surat keterangan nomor 474 4 91044 2017 disdukcapil tanggal 3 februari 2017 atas nama yudhi sulistiyono 9 fotokopi surat keterangan nomor 474 4 91045 2017 disdukcapil tanggal atas nama fina elfiana 10 fotokopi npwp atas nama yudhi sulistiyono 11 fotokopi kartu keluarga atas nama yudhi sulistiyono 12 fotokopi buku tabungan atas nama yudhi sulistiyono 13 fotokopi kutipan akta nikah nomor 653 40 xii 2009 tanggal 7 desember 2009 dari 110 halaman putusan nomor 1204 pk pid sus 2024 14 asli surat pengakuan hutang nomor b 8 2071 6 2017 tanggal 22 juni 2017 atas nama yudhi sulistiyono 15 asli formulir putusan dan pencairan kretap atas nama yudhi sulistiyono 16 asli data debitur atas nama yudhi sulistiyono 17 asli data kredit atas nama yudhi sulistiyono 18 asli data instansi atas nama yudhi sulistiyono 19 asli syarat syarat umum perjanjian pinjaman dan kredit pt bank rakyat indonesia kepada yudhi sulistiyono 20 asli kuitansi pencairan nomor 2071 01 000 186 10 2 rekening pinjaman atas nama yudhi sulistiyono sebesar rp500 000 000 00 lima ratus juta rupiah tanggal 22 juni 2017 21 asli slip setoran ke rekening tabungan nomor 2071 01 01 2621 50 4 atas nama yudhi sulistiyono tanggal 22 juni 2017 22 asli slip pembayaran angsuran pertama sebesar rp11 895 000 00 sebelas juta delapan ratus sembilan puluh lima ribu rupiah tanggal 22 juni 2017 23 asli form nota pembayaran premi pt bank rakyat indonesia tertanggung yudhi sulistiyono tanggal 22 juni 2017 24 asli nota pembukuan biaya realisasi kredit briguna atas nam yudhi sulistiyono tanggal 22 juni 2017 25 asli surat keputusan pt lumituna marine service nomor kep 03 du lms ix 2012 tanggal 10 september 2012 tentang pengangkatan sebagai karyawan tetap dengan jabatan marine planner coordinator atas nama yudhi sulistiyono dari 110 halaman putusan nomor 1204 pk pid sus 2024 26 fotokopi slip gaji pt lumituna marine service periode april 2017 dan mei 2017 atas nama yudhi sulistiyono 27 asli kartu perserta bpjs ketenagakerjaan nomnor 3201 0326 0382 0005 28 asli form pengambilan kredit atas nama yudhi sulistiyono 29 asli memorandum analis kredit atas nama yudhi sulistiyono restrukturisasi 30 asli form permohonan analisis dan putusan kretap atas nama yudhi sulistiyono restrukturisasi 31 asli surat pernyataan bersedia melunasi kredit atas nama yudhi sulistiyono restrukturisasi 32 asli slik atas nama yudhi sulistiyono tertanggal 23 mei 2019 restrukturisasi 33 fotokopi ktp atas nama yudhi sulistiyono restrukturisasi 34 fotokopi surat keterangan nomor 474 4 91045 2017 disdukcapil tanggal atas nama fina elfiana restrukturisasi 35 fotokopi npwp atas nama yudhi sulistiyono restrukturisasi 36 fotokopi kartu keluarga atas nama yudhi sulistiyono restrukturisasi 37 fotokopi kutipan akta nikah nomor 173 16 ix 2006 tanggal 17 september 2006 restrukturisasi 38 asli surat pengakuan hutang nomor bgg5i3uj 06 2019 tanggal 25 juni 2019 atas nama yudhi sulistiyono 39 asli syarat syarat umum perjanjian pinjaman dan kredit pt bank rakyat indonesia kepada yudhi sulistiyono restrukturisasi dari 110 halaman putusan nomor 1204 pk pid sus 2024 40 asli kuitansi pencairan nomor 2071 01 000 425 10 8 rekening pinjaman atas nama yudhi sulistiyono sebesar rp406 567 730 00 empat ratus enam juta lima ratus enam puluh tujuh ribu tujuh ratus tiga puluh rupiah tanggal 25 juni 2019 41 asli form data statis pembukaan rekening pinjaman atas nama yudhi sulistiyono restrukturisasi 42 fotokopi slip gaji pt adia triputra kencana periode mei 2019 atas nama yudhi sulistiyono 43 asli surat permohonan briguna atas nama yudhi sulistiyono 44 fotokopi surat keterangan bekerja dari pt adia triputra kencana nomor 19008 dir atracana v 19 tanggal 2 mei 2019 45 asli formulir putusan dan pencairan kretap atas nama yudhi sulistiyono restrukturisasi 46 asli berita acara hasil negosiasi kesepakatan dengan debitur tanggal 25 mei 2019 47 fotokopi surat edaran nose s 19 dir adk 04 2010 tanggal 30 april 2010 tentang briguna asli perjanjian kerjasama antara pt bank rakyat indonesia persero tbk dengan pt lumituna marine service tentang pemberian fasilitas kredit briguna golongan berpenghasilan tetap nomor 001 lms dir pks v 2017 tanggal 9 mei 2017 29 fotokopi sp 1 penagihan pinjaman karyawan pt lumituna marine service nomor b 201 kcp vii adk 11 2018 tanggal 12 november 2018 atas nama suratmini 30 fotokopi sp 1 penagihan pinjaman karyawan pt lumituna marine service nomor b 201 kcp vii adk 11 2018 tanggal dari 110 halaman putusan nomor 1204 pk pid sus 2024 12 november 2018 atas nama anang sujatmiko surya wirawan 31 fotokopi sp 1 penagihan pinjaman karyawan pt lumituna marine service nomor b 201 kcp vii adk 11 2018 tanggal 12 november 2018 atas nama yusuf winarto 32 fotokopi sp 1 penagihan pinjaman karyawan pt lumituna marine service nomor b 201 kcp vii adk 11 2018 tanggal 12 november 2018 atas nama farah diba 33 fotokopi sp 1 penagihan pinjaman karyawan pt lumituna marine service nomor b 201 kcp vii adk 11 2018 tanggal 12 november 2018 atas nama veni anggraeni 34 fotokopi sp 1 penagihan pinjaman karyawan pt lumituna marine service nomor b 201 kcp vii adk 11 2018 tanggal 12 november 2018 atas nama feri kusumaatmaja 35 fotokopi sp 1 penagihan pinjaman karyawan pt lumituna marine service nomor b 201 kcp vii adk 11 2018 tanggal 12 november 2018 atas nama heri wistini 36 fotokopi sp 1 penagihan pinjaman karyawan pt lumituna marine service nomor b 201 kcp vii adk 11 2018 tanggal 12 november 2018 atas nama elvin alvioni 37 fotokopi sp 1 penagihan pinjaman karyawan pt lumituna marine service nomor b 201 kcp vii adk 11 2018 tanggal 12 november 2018 atas nama dedy candera 38 fotokopi sp 1 penagihan pinjaman karyawan pt lumituna marine service nomor b 201 kcp vii adk 11 2018 tanggal 12 november 2018 atas nama karmin sentosa 39 fotokopi sp 1 penagihan pinjaman karyawan pt lumituna marine service nomor b 201 kcp vii adk 11 2018 tanggal 12 november 2018 atas nama edy anwar sanusi dari 110 halaman putusan nomor 1204 pk pid sus 2024 40 fotokopi sp 1 penagihan pinjaman karyawan pt lumituna marine service nomor b 201 kcp vii adk 11 2018 tanggal 12 november 2018 atas nama abdullah 41 fotokopi sp 1 penagihan pinjaman karyawan pt lumituna marine service nomor b 201 kcp vii adk 11 2018 tanggal 12 november 2018 atas nama kemas dimas erlangga putra 42 fotokopi sp 1 penagihan pinjaman karyawan pt lumituna marine service nomor b 201 kcp vii adk 11 2018 tanggal 12 november 2018 atas nama aang suryadi cecep 43 fotokopi sp 1 penagihan pinjaman karyawan pt lumituna marine service nomor b 201 kcp vii adk 11 2018 tanggal 12 november 2018 atas nama geanda adhitya elvanjiadi 44 fotokopi sp 1 penagihan pinjaman karyawan pt lumituna marine service nomor b 201 kcp vii adk 11 2018 tanggal 12 november 2018 atas nama m riduansyah 45 fotokopi sp 1 penagihan pinjaman karyawan pt lumituna marine service nomor b 201 kcp vii adk 11 2018 tanggal 12 november 2018 atas nama feri fahlevi 46 fotokopi sp 1 penagihan pinjaman karyawan pt lumituna marine service nomor b 201 kcp vii adk 11 2018 tanggal 12 november 2018 atas nama m fikri hidayat 47 fotokopi sp 1 penagihan pinjaman karyawan pt lumituna marine service nomor b 201 kcp vii adk 11 2018 tanggal 12 november 2018 atas nama alnia rieza 48 fotokopi sp 1 penagihan pinjaman karyawan pt lumituna marine service nomor b 201 kcp vii adk 11 2018 tanggal 12 november 2018 atas nama dandi budi purnama 49 fotokopi sp 1 penagihan pinjaman karyawan pt lumituna marine service nomor b 201 kcp vii adk 11 2018 tanggal 12 november 2018 atas nama hendra wahyudi dari 110 halaman putusan nomor 1204 pk pid sus 2024 50 fotokopi sp 1 penagihan pinjaman karyawan pt lumituna marine service nomor b 201 kcp vii adk 11 2018 tanggal 12 november 2018 atas nama r dudy rachmat 51 fotokopi sp 1 penagihan pinjaman karyawan pt lumituna marine service nomor b 201 kcp vii adk 11 2018 tanggal 12 november 2018 atas nama r doni rachmat 52 fotokopi sp 1 penagihan pinjaman karyawan pt lumituna marine service nomor b 201 kcp vii adk 11 2018 tanggal 12 november 2018 atas nama sumarna 53 fotokopi sp 1 penagihan pinjaman karyawan pt lumituna marine service nomor b 201 kcp vii adk 11 2018 tanggal 12 november 2018 atas nama ridha gardesha 54 fotokopi sp 1 penagihan pinjaman karyawan pt lumituna marine service nomor b 201 kcp vii adk 11 2018 tanggal 12 november 2018 atas nama januar rivani 55 fotokopi sp 1 penagihan pinjaman karyawan pt lumituna marine service nomor b 201 kcp vii adk 11 2018 tanggal 12 november 2018 atas nama rachmat tri jaya 56 fotokopi sp 1 penagihan pinjaman karyawan pt lumituna marine service nomor b 201 kcp vii adk 11 2018 tanggal 12 november 2018 atas nama yudhi sulistiyono 57 fotokopi sp 2 penagihan pinjaman karyawan pt lumituna marine service nomor b 90 kcp vii adk 04 2019 tanggal 16 april 2019 atas nama suratmini 58 fotokopi sp 2 penagihan pinjaman karyawan pt lumituna marine service nomor b 90 kcp vii adk 04 2019 tanggal 16 april 2019 atas nama anang sujatmiko surya wirawan 59 fotokopi sp 2 penagihan pinjaman karyawan pt lumituna marine service nomor b 90 kcp vii adk 04 2019 tanggal 16 april 2019 atas nama yusuf winarto dari 110 halaman putusan nomor 1204 pk pid sus 2024 60 fotokopi sp 2 penagihan pinjaman karyawan pt lumituna marine service nomor b 90 kcp vii adk 04 2019 tanggal 16 april 2019 atas nama farah diba 61 fotokopi sp 2 penagihan pinjaman karyawan pt lumituna marine service nomor b 90 kcp vii adk 04 2019 tanggal 16 april 2019 atas nama veni anggraeni 62 fotokopi sp 2 penagihan pinjaman karyawan pt lumituna marine service nomor b 90 kcp vii adk 04 2019 tanggal 16 april 2019 atas nama feri kusumaatmaja 63 fotokopi sp 2 penagihan pinjaman karyawan pt lumituna marine service nomor b 90 kcp vii adk 04 2019 tanggal 16 april 2019 atas nama heri wistini 64 fotokopi sp 2 penagihan pinjaman karyawan pt lumituna marine service nomor b 90 kcp vii adk 04 2019 tanggal 16 april 2019 atas nama elvin alvioni 65 fotokopi sp 2 penagihan pinjaman karyawan pt lumituna marine service nomor b 90 kcp vii adk 04 2019 tanggal 16 april 2019 atas nama dedy candera 66 fotokopi sp 2 penagihan pinjaman karyawan pt lumituna marine service nomor b 90 kcp vii adk 04 2019 tanggal 16 april 2019 atas nama karmin sentosa 67 fotokopi sp 2 penagihan pinjaman karyawan pt lumituna marine service nomor b 90 kcp vii adk 04 2019 tanggal 16 april 2019 atas nama edy anwar sanusi 68 fotokopi sp 2 penagihan pinjaman karyawan pt lumituna marine service nomor b 90 kcp vii adk 04 2019 tanggal 16 april 2019 atas nama abdullah 69 fotokopi sp 2 penagihan pinjaman karyawan pt lumituna marine service nomor b 90 kcp vii adk 04 2019 tanggal 16 april 2019 atas nama kemas dimas erlangga putra dari 110 halaman putusan nomor 1204 pk pid sus 2024 70 fotokopi sp 2 penagihan pinjaman karyawan pt lumituna marine service nomor b 90 kcp vii adk 04 2019 tanggal 16 april 2019 atas nama aang suryadi cecep 71 fotokopi sp 2 penagihan pinjaman karyawan pt lumituna marine service nomor b 90 kcp vii adk 04 2019 tanggal 16 april 2019 atas nama geanda adhitya elvanjiadi 72 fotokopi sp 2 penagihan pinjaman karyawan pt lumituna marine service nomor b 90 kcp vii adk 04 2019 tanggal 16 april 2019 atas nama m riduansyah 73 fotokopi sp 2 penagihan pinjaman karyawan pt lumituna marine service nomor b 90 kcp vii adk 04 2019 tanggal 16 april 2019 atas nama feri fahlevi 74 fotokopi sp 2 penagihan pinjaman karyawan pt lumituna marine service nomor b 90 kcp vii adk 04 2019 tanggal 16 april 2019 atas nama m fikri hidayat 75 fotokopi sp 2 penagihan pinjaman karyawan pt lumituna marine service nomor b 90 kcp vii adk 04 2019 tanggal 16 april 2019 atas nama alnia rieza 76 fotokopi sp 2 penagihan pinjaman karyawan pt lumituna marine service nomor b 90 kcp vii adk 04 2019 tanggal 16 april 2019 atas nama dandi budi purnama 77 fotokopi sp 2 penagihan pinjaman karyawan pt lumituna marine service nomor b 90 kcp vii adk 04 2019 tanggal 16 april 2019 atas nama hendra wahyudi 78 fotokopi sp 2 penagihan pinjaman karyawan pt lumituna marine service nomor b 90 kcp vii adk 04 2019 tanggal 16 april 2019 atas nama r dudy rachmat 79 fotokopi sp 2 penagihan pinjaman karyawan pt lumituna marine service nomor b 90 kcp vii adk 04 2019 tanggal 16 april 2019 atas nama r doni rachmat dari 110 halaman putusan nomor 1204 pk pid sus 2024 80 fotokopi sp 2 penagihan pinjaman karyawan pt lumituna marine service nomor b 90 kcp vii adk 04 2019 tanggal 16 april 2019 atas nama sumarna 81 fotokopi sp 2 penagihan pinjaman karyawan pt lumituna marine service nomor b 90 kcp vii adk 04 2019 tanggal 16 april 2019 atas nama ridha gardesha 82 fotokopi sp 2 penagihan pinjaman karyawan pt lumituna marine service nomor b 90 kcp vii adk 04 2019 tanggal 16 april 2019 atas nama januar rivani 83 fotokopi sp 2 penagihan pinjaman karyawan pt lumituna marine service nomor b 90 kcp vii adk 04 2019 tanggal 16 april 2019 atas nama rachmat tri jaya 84 fotokopi sp 2 penagihan pinjaman karyawan pt lumituna marine service nomor b 90 kcp vii adk 04 2019 tanggal 16 april 2019 atas nama yudhi sulistiyono 85 fotokopi sp 3 penagihan pinjaman karyawan pt lumituna marine service nomor b 133 kcp vii adk 05 2019 tanggal 23 mei 2019 atas nama suratmini 86 fotokopi sp 3 penagihan pinjaman karyawan pt lumituna marine service nomor b 133 kcp vii adk 05 2019 tanggal 23 mei 2019 atas nama anang sujatmiko surya wirawan 87 fotokopi sp 3 penagihan pinjaman karyawan pt lumituna marine service nomor b 133 kcp vii adk 05 2019 tanggal 23 mei 2019 atas nama yusuf winarto 88 fotokopi sp 3 penagihan pinjaman karyawan pt lumituna marine service nomor b 133 kcp vii adk 05 2019 tanggal 23 mei 2019 atas nama farah diba 89 fotokopi sp 3 penagihan pinjaman karyawan pt lumituna marine service nomor b 133 kcp vii adk 05 2019 tanggal 23 mei 2019 atas nama veni anggraeni dari 110 halaman putusan nomor 1204 pk pid sus 2024 90 fotokopi sp 3 penagihan pinjaman karyawan pt lumituna marine service nomor b 133 kcp vii adk 05 2019 tanggal 23 mei 2019 atas nama feri kusumaatmaja 91 fotokopi sp 3 penagihan pinjaman karyawan pt lumituna marine service nomor b 133 kcp vii adk 05 2019 tanggal 23 mei 2019 atas nama heri wistini 92 fotokopi sp 3 penagihan pinjaman karyawan pt lumituna marine service nomor b 133 kcp vii adk 05 2019 tanggal 23 mei 2019 atas nama elvin alvioni 93 fotokopi sp 3 penagihan pinjaman karyawan pt lumituna marine service nomor b 133 kcp vii adk 05 2019 tanggal 23 mei 2019 atas nama dedy candera 94 fotokopi sp 3 penagihan pinjaman karyawan pt lumituna marine service nomor b 133 kcp vii adk 05 2019 tanggal 23 mei 2019 atas nama karmin sentosa 95 fotokopi sp 3 penagihan pinjaman karyawan pt lumituna marine service nomor b 133 kcp vii adk 05 2019 tanggal 23 mei 2019 atas nama edy anwar sanusi 96 fotokopi sp 3 penagihan pinjaman karyawan pt lumituna marine service nomor b 133 kcp vii adk 05 2019 tanggal 23 mei 2019 atas nama abdullah 97 fotokopi sp 3 penagihan pinjaman karyawan pt lumituna marine service nomor b 133 kcp vii adk 05 2019 tanggal 23 mei 2019 atas nama kemas dimas erlangga putra 98 fotokopi sp 3 penagihan pinjaman karyawan pt lumituna marine service nomor b 133 kcp vii adk 05 2019 tanggal 23 mei 2019 atas nama aang suryadi cecep 99 fotokopi sp 3 penagihan pinjaman karyawan pt lumituna marine service nomor b 133 kcp vii adk 05 2019 tanggal 23 mei 2019 atas nama geanda adhitya elvanjiadi dari 110 halaman putusan nomor 1204 pk pid sus 2024 100 fotokopi sp 3 penagihan pinjaman karyawan pt lumituna marine service nomor b 133 kcp vii adk 05 2019 tanggal 23 mei 2019 atas nama m riduansyah 101 fotokopi sp 3 penagihan pinjaman karyawan pt lumituna marine service nomor b 133 kcp vii adk 05 2019 tanggal 23 mei 2019 atas nama feri fahlevi 102 fotokopi sp 3 penagihan pinjaman karyawan pt lumituna marine service nomor b 133 kcp vii adk 05 2019 tanggal 23 mei 2019 atas nama m fikri hidayat 103 fotokopi sp 3 penagihan pinjaman karyawan pt lumituna marine service nomor b 133 kcp vii adk 05 2019 tanggal 23 mei 2019 atas nama alnia rieza 104 fotokopi sp 3 penagihan pinjaman karyawan pt lumituna marine service nomor b 133 kcp vii adk 05 2019 tanggal 23 mei 2019 atas nama dandi budi purnama 105 fotokopi sp 3 penagihan pinjaman karyawan pt lumituna marine service nomor b 133 kcp vii adk 05 2019 tanggal 23 mei 2019 atas nama hendra wahyudi 106 fotokopi sp 3 penagihan pinjaman karyawan pt lumituna marine service nomor b 133 kcp vii adk 05 2019 tanggal 23 mei 2019 atas nama r dudy rachmat 107 fotokopi sp 3 penagihan pinjaman karyawan pt lumituna marine service nomor b 133 kcp vii adk 05 2019 tanggal 23 mei 2019 atas nama r doni rachmat 108 fotokopi sp 3 penagihan pinjaman karyawan pt lumituna marine service nomor b 133 kcp vii adk 05 2019 tanggal 23 mei 2019 atas nama sumarna 109 fotokopi sp 3 penagihan pinjaman karyawan pt lumituna marine service nomor b 133 kcp vii adk 05 2019 tanggal 23 mei 2019 atas nama ridha gardesha dari 110 halaman putusan nomor 1204 pk pid sus 2024 110 fotokopi sp 3 penagihan pinjaman karyawan pt lumituna marine service nomor b 133 kcp vii adk 05 2019 tanggal 23 mei 2019 atas nama januar rivani 111 fotokopi sp 3 penagihan pinjaman karyawan pt lumituna marine service nomor b 133 kcp vii adk 05 2019 tanggal 23 mei 2019 atas nama rachmat tri jaya 112 fotokopi sp 3 penagihan pinjaman karyawan pt lumituna marine service nomor b 133 kcp vii adk 05 2019 tanggal 23 mei 2019 atas nama yudhi sulistiyono 113 asli slik otoritas jasa keuangan tanggal 22 juni 2020 atas nama alina rieza 114 asli slik otoritas jasa keuangan tanggal 22 juni 2020 atas nama aang suryadi cecep 115 asli slik otoritas jasa keuangan tanggal 22 juni 2020 atas nama rahmat tri jaya 116 asli slik otoritas jasa keuangan tanggal 22 juni 2020 atas nama abdullah 117 asli slik otoritas jasa keuangan tanggal 22 juni 2020 atas nama r dony rachmat 118 asli slik otoritas jasa keuangan tanggal 22 juni 2020 atas nama m riduansyah 119 asli slik otoritas jasa keuangan tanggal 22 juni 2020 atas nama geanda adhytia elvanjiadi 120 asli slik otoritas jasa keuangan tanggal 22 juni 2020 atas nama farah diba 121 asli slik otoritas jasa keuangan tanggal 22 juni 2020 atas nama r dudy rachmat 122 asli slik otoritas jasa keuangan tanggal 22 juni 2020 atas nama heri wistini 123 asli slik otoritas jasa keuangan tanggal 22 juni 2020 atas nama yusuf winarto dari 110 halaman putusan nomor 1204 pk pid sus 2024 124 asli slik otoritas jasa keuangan tanggal 22 juni 2020 atas nama edy anwar sanusi 125 asli slik otoritas jasa keuangan tanggal 22 juni 2020 atas nama elvin alvioni 126 asli slik otoritas jasa keuangan tanggal 22 juni 2020 atas nama suratmini 127 asli slik otoritas jasa keuangan tanggal 22 juni 2020 atas nama yudhi sulistiono 128 asli slik otoritas jasa keuangan tanggal 22 juni 2020 atas nama ridha gardesha 129 asli slik otoritas jasa keuangan tanggal 22 juni 2020 atas nama veni anggraeni 130 asli slik otoritas jasa keuangan tanggal 22 juni 2020 atas nama sumarna 131 asli slik otoritas jasa keuangan tanggal 22 juni 2020 atas nama m fikri hidayat 132 asli slik otoritas jasa keuangan tanggal 22 juni 2020 atas nama kemas dimas erlangga putra 133 asli slik otoritas jasa keuangan tanggal 22 juni 2020 atas nama karmin sentosa 134 asli slik otoritas jasa keuangan tanggal 22 juni 2020 atas nama januar rivani 135 asli slik otoritas jasa keuangan tanggal 22 juni 2020 atas nama feri kusumaatmaja 136 asli slik otoritas jasa keuangan tanggal 22 juni 2020 atas nama dandi budi purnama 137 asli slik otoritas jasa keuangan tanggal 22 juni 2020 atas nama endra wahyudi 138 asli slik otoritas jasa keuangan tanggal 22 juni 2020 atas nama feri fahlevi dari 110 halaman putusan nomor 1204 pk pid sus 2024 139 asli slik otoritas jasa keuangan tanggal 22 juni 2020 atas nama anang sujatmiko suryawirawan 140 fotokopi surat rotasi pincapem kanca bri pekayon tanggal 5 maret 2018 nomor r 326 e kw xif hc 03 2018 141 fotokopi surat mutasi pekerja bri kanwil jakarta ii tanggal 16 september 2016 nomor r 5468 e kps pkr 09 2016 142 1 satu lembar surat mutasi pekerja audit intern wilayah bri jakarta ii nomor r 6958 e khc pkr 09 2018 tanggal 27 september 2018 143 1 satu lembar surat mutasi pekerja nomor r 711 e kw xiv sdm 07 2017 tanggal 21 jilu 2017 144 1 satu lembar lampiran surat keputusan kanca bri jakarta gatot subroto tanggal 11 april 2018 145 1 satu bundel dokumen hasil investigasi atau fraud audit kasus kcp bpjs tk nomor r 402aiw xiii ga2 09 2019 tanggal 30 september 2019 146 1 satu bundel lampiran 1 surat edaran direksi bri nose s 10 dir adk 05 2015 tanggal 29 mei 2019 147 1 satu bundel dokumen lampiran 44 uraian jabatan pelaksana unit kerja seksi penunjang bisnis kantor cabang bank bri 148 1 satu bundel dokumen matrix pelanggaran tata tertib lampiran 1 sk direksi bri nokep s dir sdm 0 2019 149 1 satu bundel dokumen surat keputusan nomor kep s 25 dir jbr 04 2010 tentang penetapan daftar uraian jabatan kantor cabang pt bank rakyat indonesia 150 1 satu bundel fotokopi surat edaran nose s 19 dir adk 04 2010 tentang briguna 151 1 satu bundel asli perjanjian kerjasama antara pt bank rakyat indonesia persero tbk dengan pt lumintuna marine service tentang pemberian fasilitas kredit briguna dari 110 halaman putusan nomor 1204 pk pid sus 2024 golongan berpenghasilan tetap nomor 001 lms dir pks v 2017 dikembalikan kepada pt bank bri persero tbk cabang pembantu bpjs tk melalui pimpinan cabang pembantu pt bank bri persero tbk cabang pembantu bpjs tk f berdasarkan penetapan hakim nomor 13 pen pid sus tpk i 2021 pn jkt pst tanggal 27 januari 2021 disita dari farah diba sesuai berita acara penyitaan hari rabu tanggal 20 januari 2021 yaitu 1 satu bundel rekening koran bank bca atas nama farah diba periode 2017 dan 2018 tetap terlampir dalam berkas perkara 7 membebankan biaya perkara kepada terdakwa sebesar rp10 000 00 sepuluh ribu rupiah membaca putusan pengadilan tindak pidana korupsi pada pengadilan negeri jakarta pusat nomor 22 pid sus tpk 2021 pn jkt pst tanggal 27 agustus 2021 yang amar lengkapnya sebagai berikut 1 menyatakan terdakwa yudhi sulistiyono st terbukti secara sah dan meyakinkan bersalah melakukan tindak pidana korupsi yang dilakukan secara bersama sama sebagaimana dalam dakwaan primair 2 menjatuhkan pidana kepada terdakwa dengan pidana penjara selama 4 empat tahun dan denda sebesar rp200 000 000 00 dua ratus juta rupiah dengan ketentuan apabila denda tersebut tidak dibayar akan diganti dengan pidana kurungan selama 2 dua bulan 3 menghukum terdakwa untuk membayar uang pengganti kerugian keuangan negara sebesar rp943 392 000 00 sembilan ratus empat puluh tiga juta tiga ratus sembilan puluh dua ribu rupiah dengan ketentuan jika terpidana tidak membayar uang pengganti selama paling lama 1 satu bulan setelah putusan pengadilan memperoleh kekuatan hukum tetap maka harta bendanya dapat disita oleh jaksa dan dilelang untuk menutupi uang pengganti tersebut dan apabila dari 110 halaman putusan nomor 1204 pk pid sus 2024 terpidana tidak mempunyai harta benda yang mencukupi untuk membayar uang pengganti tersebut maka diganti dengan pidana penjara selama 1 satu tahun 4 menetapkan masa penangkapan dan penahanan yang dijalani oleh terdakwa dikurangkan seluruhnya dari pidana yang dijatuhkan 5 menetapkan terdakwa tetap berada dalam tahanan 6 menetapkan barang bukti berupa a berdasarkan penetapan hakim nomor 09 pen pid sus tpk i 2021 pn jkt pst tanggal 27 januari 2021 yaitu barang bukti nomor 1 sampai dengan nomor 14 dikembalikan kepada dicky rachmat b berdasarkan penetapan hakim nomor 12 pen pid sus tpk i 2021 pn jkt pst tanggal 27 januari 2021 yaitu barang bukti nomor 1 sampai dengan nomor 132 dikembalikan kepada dicky rachmat c berdasarkan penetapan hakim nomor 10 pen pid sus tpk i 2021 pn jkt pst tanggal 27 januari 2021 yaitu barang bukti nomor 1 sampai dengan nomor 2 tetap terlampir dalam berkas perkara d berdasarkan penetapan hakim nomor 11 pen pid sus tpk i 2021 pn jkt pst tanggal 27 januari 2021 yaitu barang bukti nomor 1 sampai dengan nomor 17 dikembalikan kepada yudhi sulistiyono barang bukti nomor 18 berupa 1 satu kendaraan roda 4 empat merek nissan serena hws tahun 2008 nomor polisi f 1564 iv nomor mesin qr 20710649 a nomor rangka c24a17847 atas nama yudhi sulistyono s t berikut stnk dan bpkb diperhitungkan sebagai pembayaran uang pengganti terdakwa yudhi sulistiyono dari 110 halaman putusan nomor 1204 pk pid sus 2024 e berdasarkan penetapan hakim nomor 14 pen pid sus tpk i 2021 pn jkt pst tanggal 27 januari 2021 yaitu barang bukti nomor 1 sampai dengan nomor 151 dikembalikan kepada pt bank bri persero tbk cabang pembantu bpjs tk melalui pimpinan cabang pembantu pt bank bri persero tbk cabang pembantu bpjs tk f berdasarkan penetapan hakim nomor 13 pen pid sus tpk i 2021 pn jkt pst tanggal 27 januari 2021 yaitu disita dari farah diba sesuai berita acara penyitaan hari rabu tanggal 20 januari 2021 yaitu 1 satu bundel rekening koran bank bca atas nama farah diba periode 2017 dan 2018 tetap terlampir dalam berkas perkara selengkapnya sebagaimana dalam tuntutan pidana penuntut umum pada kejaksaan negeri jakarta selatan tanggal 20 agustus 2021 7 membebani terdakwa untuk membayar biaya perkara sebesar rp10 000 00 sepuluh ribu rupiah membaca putusan pengadilan tindak pidana korupsi pada pengadilan tinggi dki jakarta nomor 38 pid sus tpk 2021 pt dki tanggal 5 januari 2022 yang amar lengkapnya sebagai berikut 1 menerima permintaan banding dari penuntut umum dan terdakwa 2 menguatkan putusan pengadilan tindak pidana korupsi pada pengadilan negeri jakarta pusat tanggal 27 agustus 2021 nomor 22 pid sus tpk 2021 pn jkt pst yang dimintakan banding tersebut 3 memerintahkan terdakwa tetap ditahan di rumah tahanan negara dan masa penahanan yang telah dijalani terdakwa dikurangkan dari pidana yang dijatuhkan 4 membebankan biaya perkara kepada terdakwa sebesar rp10 000 00 sepuluh ribu rupiah dengan penjelasan rp7 500 00 tujuh ribu lima ratus rupiah untuk pengadilan tingkat pertama dan rp2 500 00 dua ribu lima ratus rupiah untuk pengadilan tingkat banding dari 110 halaman putusan nomor 1204 pk pid sus 2024 membaca putusan mahkamah agung nomor 2271 k pid sus 2022 tanggal 28 juni 2022 yang amar lengkapnya sebagai berikut menolak permohonan kasasi dari pemohon kasasi penuntut umum pada kejaksaan negeri jakarta selatan tersebut memperbaiki putusan pengadilan tindak pidana korupsi pada pengadilan tinggi dki jakarta nomor 38 pid sus tpk 2021 pt dki tanggal 5 januari 2022 yang menguatkan putusan pengadilan tindak pidana korupsi pada pengadilan negeri jakarta pusat nomor 22 pid sus tpk 2021 pn jkt pst tanggal 27 agustus 2021 mengenai pidana penjara yang dijatuhkan kepada terdakwa menjadi pidana penjara selama 8 delapan tahun dan pidana denda sebesar rp200 000 000 00 dua ratus juta rupiah dengan ketentuan apabila pidana denda tersebut tidak dibayar maka diganti dengan pidana kurungan selama 6 enam bulan menjatuhkan pidana tambahan kepada terdakwa untuk membayar uang pengganti sebesar rp943 392 000 00 sembilan ratus empat puluh tiga juta tiga ratus sembilan puluh dua ribu rupiah dengan ketentuan apabila terdakwa tidak membayar uang penganti paling lama dalam waktu 1 satu bulan sesudah putusan pengadilan berkekuatan hukum tetap maka harta bendanya dapat disita oleh jaksa dan dilelang untuk menutupi uang pengganti kerugian keuangan negara dan apabila harta benda terdakwa tidak mencukupi untuk membayar uang pengganti tersebut maka diganti dengan pidana penjara selama 1 satu tahun membebankan kepada terdakwa untuk membayar biaya perkara pada tingkat kasasi sebesar rp2 500 00 dua ribu lima ratus rupiah membaca akta permohonan peninjauan kembali nomor 21 akta pid sus pk tpk 2023 pn jkt pst yang dibuat oleh panitera pada pengadilan tindak pidana korupsi pada pengadilan negeri jakarta pusat yang menerangkan bahwa pada tanggal 14 desember 2023 penasihat hukum terpidana berdasarkan surat kuasa khusus tanggal 1 juni 2023 dari 110 halaman putusan nomor 1204 pk pid sus 2024 bertindak untuk dan atas nama terpidana mengajukan permohonan peninjauan kembali terhadap putusan mahkamah agung tersebut membaca memori peninjauan kembali tanggal 23 oktober 2023 dari penasihat hukum terpidana bertindak untuk dan atas nama terpidana tersebut sebagai pemohon peninjauan kembali yang diterima di kepaniteraan pengadilan tindak pidana korupsi pada pengadilan negeri jakarta pusat pada tanggal 14 desember 2023 membaca pula surat surat lain yang bersangkutan menimbang bahwa putusan mahkamah agung tersebut telah diucapkan dengan hadirnya terpidana pada tanggal 28 juni 2022 dengan demikian putusan tersebut telah mempunyai kekuatan hukum tetap menimbang bahwa alasan peninjauan kembali yang diajukan oleh pemohon peninjauan kembali terpidana dalam memori peninjauan kembali selengkapnya termuat dalam berkas perkara menimbang bahwa terhadap alasan peninjauan kembali yang diajukan pemohon peninjauan kembali terpidana tersebut mahkamah agung berpendapat sebagai berikut bahwa terpidana mengajukan peninjauan kembali diwakili oleh penasihat hukum terpidana berdasarkan surat kuasa khusus 1 juni 2023 karena terpidana sedang menjalankan pidana di rutan kelas i jakarta pusat sehingga permohonan peninjauan kembali terpidana telah memenuhi sema nomor 4 tahun 2016 oleh karenanya secara formil dapat diterima bahwa alasan peninjauan kembali terpidana dalam memori peninjauan kembali adalah terdapat kekhilafan yang nyata dalam putusan judex facti menyatakan terpidana telah terbukti secara sah dan meyakinkan bersalah melakukan tindak pidana korupsi secara bersama sama yang dipandang sebagai perbuatan berlanjut karena judex juris salah dalam mempertimbangkan unsur kerugian negara dan perbuatan terpidana adalah perbuatan perdata bahwa terpidana mengajukan bukti baru berupa dari 110 halaman putusan nomor 1204 pk pid sus 2024 putusan nomor 21 pid sus tpk 2021 pn jkt pst tanggal 26 agustus 2021 juncto putusan nomor 34 pid sus tpk 2021 pt dki tanggal 26 oktober 2021 a n terpidana dicky rachmat putusan nomor 20 pid sus tpk 2021 pn jkt pst tanggal 26 agustus 2021 juncto putusan nomor 36 pid sus tpk 2021 pt dki tanggal 11 november 2021 a n terpidana prayudha zarkasih juncto putusan nomor 1563 k pid sus 2022 tanggal 5 april 2022 a n terpidana prayudha zarkasih bahwa kedua putusan tersebut menyatakan tedakwa prayudha zarkasih dan dicki rachman melakukan tindak pidana bersama sama dengan terpidana dan di pidana lebih rendah dari terpidana yaitu 6 enam tahun dan denda sebesar rp200 000 000 00 dua ratus juta rupiah dengan ketentuan apabila denda tersebut tidak dibayar akan diganti dengan pidana kurungan selama 2 dua bulan bahwa kedua bukti tersebut merupakan putsan dari perkara splitzing sehingga bukan novum keadaan baru yang bila diketahui pada saat pemeriksaan dapat melepaskan membebaskan atau menjadikan hukuman terpidana lebih ringan sebagaimana ketentuan pasal 263 ayat 2 kuhap bahwa putusan judex juris tidak memperlihatkan suatu kekhilafan hakim atau kekeliruan yang nyata dalam memutus perkara a quo karena putusan a quo ternyata dibuat berdasarkan kesimpulan dan pertimbangan hukum yang berdasarkan fakta hukum yang relevan secara yuridis yang terungkap di muka sidang bahwa fakta hukum yang terungkap di muka sidang adalah bahwa dicky rachmat direktur pt lumintuna marine service pt lms bersama sama dengan prayudha zarkasih dan terpidana dalam pencairan kredit briguna karyawan di pt lms dengan melampirkan dokumen dokumen yang tidak sebenarnya di pt bri persero tbk kcp bpjs tk gatsu dari 110 halaman putusan nomor 1204 pk pid sus 2024 bahwa pemberian fasilitas kredit tersebut diberikan kepada calon debitur yang berpenghasilan tetap baik yang masih aktif bekerja atau yang akan memasuki usia pensiun serta akan menerima uang pensiun secara rutin dari pt lms setelah ditandatanganinya perjanjian kerja sama pks tersebut terpidana yudhi sulistiyono selaku teman dari dicky rachmat mengajukan kredit briguna karyawan atas nama terpidana alnia rieza dan rahmat tri jaya kepada pt bri persero tbk kcp bpjs tk gatsu dan untuk memenuhi syarat syarat pengajuan kredit briguna dibuat dan ditandatangani oleh dicky rachmat selaku direktur pt lms sehingga seolah olah menjadi karyawan pt lms kemudian dana yang telah cair selanjutnya oleh terpidana gunakan untuk modal usaha dengan perincian sebagai berikut 1 pinjaman atas nama terpidana sebesar rp500 000 000 00 lima ratus juta rupiah 2 pinjaman atas nama alnia rieza sebesar rp200 000 000 00 dua ratus juta rupiah 3 pinjaman atas nama rahmat tri jaya sebesar rp250 000 000 00 dua ratus lima puluh juta rupiah bahwa kemudian dicky rachmat mengajukan kredit lagi karena membutuhkan dana dengan mengajukan nama yang seolah olah merupakan karyawan pt lms dan menaikkan jumlah gaji mark up sampai maksimal pada slip gaji karyawan tersebut sehingga tidak sesuai dengan yang sebenarnya dengan demikian total pinjaman atas nama karyawan pt lms dari tahun 2017 sampai dengan tahun 2018 yang diajukan oleh dicky rachmat adalah sebesar rp9 550 000 000 00 sembilan miliar lima ratus lima puluh juta rupiah sedangkan jumlah dana pinjaman briguna yang menyatakan terdakwa prayudha zarkasih dan dicki rachman melakukan tindak pidana bersama sama dengan dari 110 halaman putusan nomor 1204 pk pid sus 2024 terpidana dan di pidana lebih rendah dari terpidana yaitu 6 enam tahun dan denda sebesar rp200 000 000 00 dua ratus juta rupiah dengan ketentuan apabila denda tersebut tidak dibayar akan diganti dengan pidana kurungan selama 2 dua bulan bahwa berdasarkan fakta fakta hukum tersebut di atas maka terpidana terbukti secara sah dan meyakinkan bersalah melakukan tindak pidana korupsi secara bersama sama sebagaimana dakwaan primair bahwa judex juris sudah tepat dalam menerapkan pasal 2 ayat 1 juncto pasal 18 ayat 1 huruf b undang undang nomor 31 tahun 1999 tentang pemberantasan tindak pidana korupsi juncto undang undang nomor 20 tahun 2001 tentang perubahan atas undang undang nomor 31 tahun 1999 tentang pemberantasan tindak pidana korupsi juncto pasal 55 ayat 1 ke 1 kuhp bahwa namun demikian oleh karena perbuatan terpidana dilakukan secara bersama sama dengan prayudha zarkasih dan putusan perkara atas nama terpidana prayudha zarkasih sudah mempunyai kekuatan hukum yang tetap dan dijatuhi pidana penjara selama 6 enam tahun dan denda sebesar rp200 000 000 00 dua ratus juta rupiah dengan ketentuan apabila denda tersebut tidak dibayar akan diganti dengan pidana kurungan selama 2 dua bulan serta membayar uang pengganti sebesar rp3 082 580 500 00 tiga miliar delapan puluh dua juta lima ratus delapan puluh ribu lima ratus rupiah dengan ketentuan apabila terdakwa tidak membayar uang penganti paling lama dalam waktu 1 satu bulan sesudah putusan pengadilan berkekuatan hukum tetap maka harta bendanya dapat disita oleh jaksa dan dilelang untuk menutupi uang pengganti kerugian keuangan negara dan apabila harta benda terdakwa tidak mencukupi untuk membayar uang pengganti tersebut maka diganti dengan pidana penjara selama 2 dua tahun sedangkan untuk terpidana dari 110 halaman putusan nomor 1204 pk pid sus 2024 yudhi sulistiyono s t telah dijatuhi pidana penjara selama 8 delapan tahun dan pidana denda sebesar rp200 000 000 00 dua ratus juta rupiah dengan ketentuan apabila pidana denda tersebut tidak dibayar maka diganti dengan pidana kurungan selama 6 enam bulan serta uang pengganti sebesar rp943 392 000 00 sembilan ratus empat puluh tiga juta tiga ratus sembilan puluh dua ribu rupiah dengan ketentuan apabila terdakwa tidak membayar uang penganti paling lama dalam waktu 1 satu bulan sesudah putusan pengadilan berkekuatan hukum tetap maka harta bendanya dapat disita oleh jaksa dan dilelang untuk menutupi uang pengganti kerugian keuangan negara dan apabila harta benda terdakwa tidak mencukupi untuk membayar uang pengganti tersebut maka diganti dengan pidana penjara selama 1 satu tahun bahwa dengan adanya perbedaan penjatuhan pidana penjara tersebut di atas yang mana peran dicki rahmat dan prayuda zarkasih dalam tindak pidana tersebut lebih signifikan maka adalah cukup adil apabila terhadap terpidana yudhi sulistiyono s t dijatuhi pidana penjara sesuai dengan pidana penjara yang dijatuhkan terhadap terpidana prayudha zarkasih apalagi uang pengganti yang dijatuhkan terhadap terpidana terpidana yudhi sulistiyono s t jumlahnya lebih sedikit dibandingkan dengan uang pengganti yang dijatuhkan terhadap terpidana prayudha zarkasih bahwa penjatuhan pidana tambahan berupa uang pengganti judex facti telah tepat dan benar bahwa dengan demikian terdapat kekeliruan yang nyata dan merupakan kekhilafan hakim yaitu judex facti tidak mempertimbangkan secara tepat dan benar fakta hukum yang terungkap dipersidangan sehingga demi menegakkan keadilan maka beralasan hukum mengabulkan permohonan untuk peninjauan kembali dari terpidana tersebut dari 110 halaman putusan nomor 1204 pk pid sus 2024 menimbang bahwa dengan demikian permohonan peninjauan kembali dinyatakan dapat dibenarkan dan permohonan peninjauan kembali tersebut dikabulkan oleh karena itu berdasarkan pasal 263 ayat 2 juncto pasal 266 ayat 2 huruf b angka 4 undang undang nomor 8 tahun 1981 tentang kitab undang undang hukum acara pidana terdapat cukup alasan untuk membatalkan putusan mahkamah agung nomor 2271 k pid sus 2022 tanggal 28 juni 2022 tersebut dan mahkamah agung akan mengadili kembali perkara tersebut dengan amar seperti yang akan disebutkan di bawah ini menimbang bahwa karena terpidana dipidana maka dibebani untuk membayar biaya perkara pada pemeriksaan peninjauan kembali mengingat pasal 2 ayat 1 juncto pasal 18 ayat 1 huruf b undang undang nomor 31 tahun 1999 tentang pemberantasan tindak pidana korupsi juncto undang undang nomor 20 tahun 2001 tentang perubahan atas undang undang nomor 31 tahun 1999 tentang pemberantasan tindak pidana korupsi juncto pasal 55 ayat 1 ke 1 kuhp undang undang nomor 8 tahun 1981 tentang hukum acara pidana undang undang nomor 48 tahun 2009 tentang kekuasaan kehakiman dan undang undang nomor 14 tahun 1985 tentang mahkamah agung sebagaimana telah diubah dengan undang undang nomor 5 tahun 2004 dan perubahan kedua dengan undang undang nomor 3 tahun 2009 serta peraturan perundang undangan lain yang bersangkutan m e n g a d i l i mengabulkan permohonan peninjauan kembali dari pemohon peninjauan kembali terpidana yudhi sulistiyono s t tersebut membatalkan putusan mahkamah agung nomor 2271 k pid sus 2022 tanggal 28 juni 2022 tersebut mengadili kembali 1 menyatakan terpidana yudhi sulistiyono s t terbukti secara sah dan meyakinkan bersalah melakukan korupsi secara bersama sama dari 110 halaman putusan nomor 1204 pk pid sus 2024 2 menjatuhkan pidana kepada terpidana oleh karena itu dengan pidana penjara selama 6 enam tahun dan pidana denda sebesar rp200 000 000 00 dua ratus juta rupiah dengan ketentuan apabila pidana denda tersebut tidak dibayar maka diganti dengan pidana kurungan selama 2 dua bulan 3 menjatuhkan pidana tambahan kepada terpidana untuk membayar uang pengganti sebesar rp943 392 000 00 sembilan ratus empat puluh tiga juta tiga ratus sembilan puluh dua ribu rupiah dengan ketentuan jika terpidana tidak membayar uang pengganti paling lama dalam waktu 1 satu bulan sesudah putusan pengadilan yang telah memperoleh kekuatan hukum tetap maka harta bendanya dapat disita oleh jaksa dan dilelang untuk menutupi uang pengganti tersebut dalam hal terpidana tidak mempunyai harta benda yang mencukupi untuk membayar uang pengganti maka dipidana dengan pidana penjara selama 1 satu tahun 4 menetapkan penahanan yang telah dijalani oleh terpidana dikurangkan seluruhnya dari pidana yang dijatuhkan 5 menetapkan barang bukti berupa a berdasarkan penetapan hakim nomor 09 pen pid sus tpk i 2021 pn jkt pst tanggal 27 januari 2021 yaitu barang bukti nomor 1 sampai dengan nomor 14 dikembalikan kepada dicky rachmat b berdasarkan penetapan hakim nomor 12 pen pid sus tpk i 2021 pn jkt pst tanggal 27 januari 2021 yaitu barang bukti nomor 1 sampai dengan nomor 132 dikembalikan kepada dicky rachmat c berdasarkan penetapan hakim nomor 10 pen pid sus tpk i 2021 pn jkt pst tanggal 27 januari 2021 yaitu barang bukti nomor 1 sampai dengan nomor 2 tetap terlampir dalam berkas perkara d berdasarkan penetapan hakim nomor 11 pen pid sus tpk i 2021 pn jkt pst tanggal 27 januari 2021 yaitu barang bukti nomor 1 sampai dengan nomor 17 dikembalikan kepada yudhi sulistiyono dari 110 halaman putusan nomor 1204 pk pid sus 2024 barang bukti nomor 18 berupa 1 satu kendaraan roda 4 empat merek nissan serena hws tahun 2008 nomor polisi f 1564 iv nomor mesin qr 20710649 a nomor rangka c24a17847 atas nama yudhi sulistyono s t berikut stnk dan bpkb diperhitungkan sebagai pembayaran uang pengganti terdakwa yudhi sulistiyono e berdasarkan penetapan hakim nomor 14 pen pid sus tpk i 2021 pn jkt pst tanggal 27 januari 2021 yaitu barang bukti nomor 1 sampai dengan nomor 151 dikembalikan kepada pt bank bri persero tbk cabang pembantu bpjs tk melalui pimpinan cabang pembantu pt bank bri persero tbk cabang pembantu bpjs tk f berdasarkan penetapan hakim nomor 13 pen pid sus tpk i 2021 pn jkt pst tanggal 27 januari 2021 yaitu disita dari farah diba sesuai berita acara penyitaan hari rabu tanggal 20 januari 2021 yaitu 1 satu bundel rekening koran bank bca atas nama farah diba periode 2017 dan 2018 tetap terlampir dalam berkas perkara selengkapnya sebagaimana dalam amar putusan pengadilan tindak pidana korupsi pada pengadilan negeri jakarta pusat nomor 22 pid sus tpk 2021 pn jkt pst tanggal 27 agustus 2021 6 membebankan kepada terpidana untuk membayar biaya perkara pada pemeriksaan peninjauan kembali sebesar rp2 500 00 dua ribu lima ratus rupiah demikianlah diputuskan dalam rapat musyawarah majelis hakim pada hari selasa tanggal 3 desember 2024 oleh h dwiarso budi santiarto s h m hum hakim agung yang ditetapkan oleh ketua mahkamah agung sebagai ketua majelis dr sinintha yuliansih sibarani s h m h hakim ad hoc tindak pidana korupsi pada mahkamah agung dan yohanes priyana s h m h hakim agung sebagai hakim hakim anggota putusan tersebut diucapkan dalam sidang terbuka untuk umum pada hari dan tanggal itu juga oleh ketua majelis yang dihadiri hakim hakim anggota dari 110 halaman putusan nomor 1204 pk pid sus 2024 serta asri surya wildhana s h m h panitera pengganti dengan tidak dihadiri oleh penuntut umum dan terpidana hakim hakim anggota ketua majelis ttd dr sinintha yuliansih sibarani s h m h ttd h dwiarso budi santiarto s h m hum ttd yohanes priyana s h m h panitera pengganti ttd asri surya wildhana s h m h untuk salinan mahkamah agung ri a n panitera panitera muda pidana khusus dr sudharmawatiningsih sh m hum nip 196110101986122001"
        ]
       ],
       "shape": {
        "columns": 13,
        "rows": 5
       }
      },
      "text/html": [
       "<div>\n",
       "<style scoped>\n",
       "    .dataframe tbody tr th:only-of-type {\n",
       "        vertical-align: middle;\n",
       "    }\n",
       "\n",
       "    .dataframe tbody tr th {\n",
       "        vertical-align: top;\n",
       "    }\n",
       "\n",
       "    .dataframe thead th {\n",
       "        text-align: right;\n",
       "    }\n",
       "</style>\n",
       "<table border=\"1\" class=\"dataframe\">\n",
       "  <thead>\n",
       "    <tr style=\"text-align: right;\">\n",
       "      <th></th>\n",
       "      <th>case_id</th>\n",
       "      <th>nomor_perkara</th>\n",
       "      <th>tahun_putusan</th>\n",
       "      <th>bulan_putusan</th>\n",
       "      <th>tanggal_putusan</th>\n",
       "      <th>jenis_perkara</th>\n",
       "      <th>tingkat_pemeriksaan</th>\n",
       "      <th>lembaga_peradilan</th>\n",
       "      <th>pasal</th>\n",
       "      <th>hakim_ketua</th>\n",
       "      <th>ringkasan_fakta</th>\n",
       "      <th>jumlah_kata_putusan</th>\n",
       "      <th>full_text</th>\n",
       "    </tr>\n",
       "  </thead>\n",
       "  <tbody>\n",
       "    <tr>\n",
       "      <th>0</th>\n",
       "      <td>case_001</td>\n",
       "      <td>1159pk pid sus 2024</td>\n",
       "      <td>2024</td>\n",
       "      <td>July</td>\n",
       "      <td>15</td>\n",
       "      <td>Pidana Khusus Korupsi</td>\n",
       "      <td>Peninjauan Kembali</td>\n",
       "      <td>Mahkamah Agung</td>\n",
       "      <td>pasal 2</td>\n",
       "      <td>NaN</td>\n",
       "      <td>menolak permohonan peninjauan kembali daripemo...</td>\n",
       "      <td>3686</td>\n",
       "      <td>halaman1dari16halaman putusan nomor1159pk pid ...</td>\n",
       "    </tr>\n",
       "    <tr>\n",
       "      <th>1</th>\n",
       "      <td>case_002</td>\n",
       "      <td>1191 pk pid sus 2024</td>\n",
       "      <td>2024</td>\n",
       "      <td>December</td>\n",
       "      <td>22</td>\n",
       "      <td>Pidana Khusus Korupsi</td>\n",
       "      <td>Peninjauan Kembali</td>\n",
       "      <td>Mahkamah Agung</td>\n",
       "      <td>pasal 2 ayat 1, Undang-Undang Nomor 31 tahun 1999</td>\n",
       "      <td>h arizon mega jaya s h m h hakim ad hoc tindak...</td>\n",
       "      <td>kembali perkara tersebut dengan amar seperti y...</td>\n",
       "      <td>3715</td>\n",
       "      <td>dari 14 halaman putusan nomor 1191 pk pid sus ...</td>\n",
       "    </tr>\n",
       "    <tr>\n",
       "      <th>2</th>\n",
       "      <td>case_003</td>\n",
       "      <td>1193 pk pid sus 2024</td>\n",
       "      <td>2024</td>\n",
       "      <td>October</td>\n",
       "      <td>24</td>\n",
       "      <td>Pidana Khusus Korupsi</td>\n",
       "      <td>Peninjauan Kembali</td>\n",
       "      <td>Mahkamah Agung</td>\n",
       "      <td>pasal 2 ayat 1</td>\n",
       "      <td>NaN</td>\n",
       "      <td>para terpidana dalam perkaraa quotelah sesuai ...</td>\n",
       "      <td>4158</td>\n",
       "      <td>halaman1dari19halaman putusan nomor 1193 pk pi...</td>\n",
       "    </tr>\n",
       "    <tr>\n",
       "      <th>3</th>\n",
       "      <td>case_004</td>\n",
       "      <td>11pk pid sus 2025</td>\n",
       "      <td>2025</td>\n",
       "      <td>October</td>\n",
       "      <td>4</td>\n",
       "      <td>Pidana Khusus Korupsi</td>\n",
       "      <td>Peninjauan Kembali</td>\n",
       "      <td>Mahkamah Agung</td>\n",
       "      <td>pasal 18</td>\n",
       "      <td>h arizon mega jaya s h m h hakimad hoctindak p...</td>\n",
       "      <td>menolak permohonan peninjauan kembali dari pem...</td>\n",
       "      <td>3542</td>\n",
       "      <td>halaman1dari16halamanputusannomor11pk pid sus ...</td>\n",
       "    </tr>\n",
       "    <tr>\n",
       "      <th>4</th>\n",
       "      <td>case_005</td>\n",
       "      <td>1204 pk pid sus 2024</td>\n",
       "      <td>2024</td>\n",
       "      <td>August</td>\n",
       "      <td>20</td>\n",
       "      <td>Pidana Khusus Korupsi</td>\n",
       "      <td>Peninjauan Kembali</td>\n",
       "      <td>Mahkamah Agung</td>\n",
       "      <td>pasal 2 ayat 1, Undang-Undang Nomor 31 tahun 1999</td>\n",
       "      <td>dr sinintha yuliansih sibarani s h m h hakim a...</td>\n",
       "      <td>kembali perkara tersebut dengan amar seperti y...</td>\n",
       "      <td>25414</td>\n",
       "      <td>dari 110 halaman putusan nomor 1204 pk pid sus...</td>\n",
       "    </tr>\n",
       "  </tbody>\n",
       "</table>\n",
       "</div>"
      ],
      "text/plain": [
       "    case_id         nomor_perkara  tahun_putusan bulan_putusan  \\\n",
       "0  case_001   1159pk pid sus 2024           2024          July   \n",
       "1  case_002  1191 pk pid sus 2024           2024      December   \n",
       "2  case_003  1193 pk pid sus 2024           2024       October   \n",
       "3  case_004     11pk pid sus 2025           2025       October   \n",
       "4  case_005  1204 pk pid sus 2024           2024        August   \n",
       "\n",
       "   tanggal_putusan          jenis_perkara tingkat_pemeriksaan  \\\n",
       "0               15  Pidana Khusus Korupsi  Peninjauan Kembali   \n",
       "1               22  Pidana Khusus Korupsi  Peninjauan Kembali   \n",
       "2               24  Pidana Khusus Korupsi  Peninjauan Kembali   \n",
       "3                4  Pidana Khusus Korupsi  Peninjauan Kembali   \n",
       "4               20  Pidana Khusus Korupsi  Peninjauan Kembali   \n",
       "\n",
       "  lembaga_peradilan                                              pasal  \\\n",
       "0    Mahkamah Agung                                            pasal 2   \n",
       "1    Mahkamah Agung  pasal 2 ayat 1, Undang-Undang Nomor 31 tahun 1999   \n",
       "2    Mahkamah Agung                                     pasal 2 ayat 1   \n",
       "3    Mahkamah Agung                                           pasal 18   \n",
       "4    Mahkamah Agung  pasal 2 ayat 1, Undang-Undang Nomor 31 tahun 1999   \n",
       "\n",
       "                                         hakim_ketua  \\\n",
       "0                                                NaN   \n",
       "1  h arizon mega jaya s h m h hakim ad hoc tindak...   \n",
       "2                                                NaN   \n",
       "3  h arizon mega jaya s h m h hakimad hoctindak p...   \n",
       "4  dr sinintha yuliansih sibarani s h m h hakim a...   \n",
       "\n",
       "                                     ringkasan_fakta  jumlah_kata_putusan  \\\n",
       "0  menolak permohonan peninjauan kembali daripemo...                 3686   \n",
       "1  kembali perkara tersebut dengan amar seperti y...                 3715   \n",
       "2  para terpidana dalam perkaraa quotelah sesuai ...                 4158   \n",
       "3  menolak permohonan peninjauan kembali dari pem...                 3542   \n",
       "4  kembali perkara tersebut dengan amar seperti y...                25414   \n",
       "\n",
       "                                           full_text  \n",
       "0  halaman1dari16halaman putusan nomor1159pk pid ...  \n",
       "1  dari 14 halaman putusan nomor 1191 pk pid sus ...  \n",
       "2  halaman1dari19halaman putusan nomor 1193 pk pi...  \n",
       "3  halaman1dari16halamanputusannomor11pk pid sus ...  \n",
       "4  dari 110 halaman putusan nomor 1204 pk pid sus...  "
      ]
     },
     "execution_count": 4,
     "metadata": {},
     "output_type": "execute_result"
    }
   ],
   "source": [
    "df.head()"
   ]
  },
  {
   "cell_type": "code",
   "execution_count": 5,
   "id": "3509fd3f",
   "metadata": {},
   "outputs": [
    {
     "data": {
      "application/vnd.microsoft.datawrangler.viewer.v0+json": {
       "columns": [
        {
         "name": "index",
         "rawType": "object",
         "type": "string"
        },
        {
         "name": "0",
         "rawType": "int64",
         "type": "integer"
        }
       ],
       "ref": "ed6fd55a-9b62-42b7-825c-51433af8d728",
       "rows": [
        [
         "case_id",
         "0"
        ],
        [
         "nomor_perkara",
         "0"
        ],
        [
         "tahun_putusan",
         "0"
        ],
        [
         "bulan_putusan",
         "0"
        ],
        [
         "tanggal_putusan",
         "0"
        ],
        [
         "jenis_perkara",
         "0"
        ],
        [
         "tingkat_pemeriksaan",
         "0"
        ],
        [
         "lembaga_peradilan",
         "0"
        ],
        [
         "pasal",
         "0"
        ],
        [
         "hakim_ketua",
         "20"
        ],
        [
         "ringkasan_fakta",
         "0"
        ],
        [
         "jumlah_kata_putusan",
         "0"
        ],
        [
         "full_text",
         "0"
        ]
       ],
       "shape": {
        "columns": 1,
        "rows": 13
       }
      },
      "text/plain": [
       "case_id                 0\n",
       "nomor_perkara           0\n",
       "tahun_putusan           0\n",
       "bulan_putusan           0\n",
       "tanggal_putusan         0\n",
       "jenis_perkara           0\n",
       "tingkat_pemeriksaan     0\n",
       "lembaga_peradilan       0\n",
       "pasal                   0\n",
       "hakim_ketua            20\n",
       "ringkasan_fakta         0\n",
       "jumlah_kata_putusan     0\n",
       "full_text               0\n",
       "dtype: int64"
      ]
     },
     "execution_count": 5,
     "metadata": {},
     "output_type": "execute_result"
    }
   ],
   "source": [
    "df.isnull().sum()   "
   ]
  },
  {
   "cell_type": "code",
   "execution_count": 6,
   "id": "dfa1078f",
   "metadata": {},
   "outputs": [
    {
     "name": "stderr",
     "output_type": "stream",
     "text": [
      "C:\\Users\\ASUS\\AppData\\Local\\Temp\\ipykernel_9832\\830192106.py:1: FutureWarning: A value is trying to be set on a copy of a DataFrame or Series through chained assignment using an inplace method.\n",
      "The behavior will change in pandas 3.0. This inplace method will never work because the intermediate object on which we are setting values always behaves as a copy.\n",
      "\n",
      "For example, when doing 'df[col].method(value, inplace=True)', try using 'df.method({col: value}, inplace=True)' or df[col] = df[col].method(value) instead, to perform the operation inplace on the original object.\n",
      "\n",
      "\n",
      "  df['hakim_ketua'].fillna(df['hakim_ketua'].mode()[0], inplace=True)\n"
     ]
    }
   ],
   "source": [
    "df['hakim_ketua'].fillna(df['hakim_ketua'].mode()[0], inplace=True)"
   ]
  },
  {
   "cell_type": "code",
   "execution_count": 7,
   "id": "8a08ad84",
   "metadata": {},
   "outputs": [
    {
     "data": {
      "application/vnd.microsoft.datawrangler.viewer.v0+json": {
       "columns": [
        {
         "name": "index",
         "rawType": "object",
         "type": "string"
        },
        {
         "name": "0",
         "rawType": "int64",
         "type": "integer"
        }
       ],
       "ref": "77535394-43dd-4a49-99c8-250a6befa9d5",
       "rows": [
        [
         "case_id",
         "0"
        ],
        [
         "nomor_perkara",
         "0"
        ],
        [
         "tahun_putusan",
         "0"
        ],
        [
         "bulan_putusan",
         "0"
        ],
        [
         "tanggal_putusan",
         "0"
        ],
        [
         "jenis_perkara",
         "0"
        ],
        [
         "tingkat_pemeriksaan",
         "0"
        ],
        [
         "lembaga_peradilan",
         "0"
        ],
        [
         "pasal",
         "0"
        ],
        [
         "hakim_ketua",
         "0"
        ],
        [
         "ringkasan_fakta",
         "0"
        ],
        [
         "jumlah_kata_putusan",
         "0"
        ],
        [
         "full_text",
         "0"
        ]
       ],
       "shape": {
        "columns": 1,
        "rows": 13
       }
      },
      "text/plain": [
       "case_id                0\n",
       "nomor_perkara          0\n",
       "tahun_putusan          0\n",
       "bulan_putusan          0\n",
       "tanggal_putusan        0\n",
       "jenis_perkara          0\n",
       "tingkat_pemeriksaan    0\n",
       "lembaga_peradilan      0\n",
       "pasal                  0\n",
       "hakim_ketua            0\n",
       "ringkasan_fakta        0\n",
       "jumlah_kata_putusan    0\n",
       "full_text              0\n",
       "dtype: int64"
      ]
     },
     "execution_count": 7,
     "metadata": {},
     "output_type": "execute_result"
    }
   ],
   "source": [
    "df.isnull().sum()   "
   ]
  },
  {
   "cell_type": "code",
   "execution_count": 8,
   "id": "cde04c18",
   "metadata": {},
   "outputs": [],
   "source": [
    "df.drop(columns=['nomor_perkara', 'tahun_putusan', 'bulan_putusan', 'tanggal_putusan', 'jenis_perkara', 'tingkat_pemeriksaan', 'lembaga_peradilan', 'hakim_ketua', 'pasal', 'jumlah_kata_putusan', 'full_text'], inplace=True)\n"
   ]
  },
  {
   "cell_type": "code",
   "execution_count": 9,
   "id": "578d6a0c",
   "metadata": {},
   "outputs": [
    {
     "name": "stdout",
     "output_type": "stream",
     "text": [
      "<class 'pandas.core.frame.DataFrame'>\n",
      "RangeIndex: 50 entries, 0 to 49\n",
      "Data columns (total 2 columns):\n",
      " #   Column           Non-Null Count  Dtype \n",
      "---  ------           --------------  ----- \n",
      " 0   case_id          50 non-null     object\n",
      " 1   ringkasan_fakta  50 non-null     object\n",
      "dtypes: object(2)\n",
      "memory usage: 928.0+ bytes\n"
     ]
    }
   ],
   "source": [
    "df.info()"
   ]
  },
  {
   "cell_type": "markdown",
   "id": "9d6db5a1",
   "metadata": {},
   "source": [
    "# Text Representation & Modeling"
   ]
  },
  {
   "cell_type": "markdown",
   "id": "336dd309",
   "metadata": {},
   "source": [
    "## Kolom ringkasan_fakta & case_id"
   ]
  },
  {
   "cell_type": "markdown",
   "id": "3eac9ed2",
   "metadata": {},
   "source": [
    "### TF-IDF (SVM)"
   ]
  },
  {
   "cell_type": "code",
   "execution_count": 11,
   "id": "174f14cd",
   "metadata": {},
   "outputs": [
    {
     "name": "stderr",
     "output_type": "stream",
     "text": [
      "2025-06-25 18:52:14,566 - INFO - Directory ensured: d:\\AL FITRA\\STUDI UMM\\SEMESTER 6\\TEORI\\PENALARAN KOMPUTER\\SOURCE CODE\\PENALARAN KOMPUTER\\CBR_Penalararan_Komputer\\logs\n",
      "2025-06-25 18:52:14,568 - INFO - Directory ensured: d:\\AL FITRA\\STUDI UMM\\SEMESTER 6\\TEORI\\PENALARAN KOMPUTER\\SOURCE CODE\\PENALARAN KOMPUTER\\CBR_Penalararan_Komputer\\data\\processed\n",
      "2025-06-25 18:52:14,570 - INFO - Directory ensured: d:\\AL FITRA\\STUDI UMM\\SEMESTER 6\\TEORI\\PENALARAN KOMPUTER\\SOURCE CODE\\PENALARAN KOMPUTER\\CBR_Penalararan_Komputer\\data\\eval\n",
      "2025-06-25 18:52:14,572 - INFO - Starting retrieval process at 2025-06-25 18:52:14\n",
      "2025-06-25 18:52:14,575 - WARNING - d:\\AL FITRA\\STUDI UMM\\SEMESTER 6\\TEORI\\PENALARAN KOMPUTER\\SOURCE CODE\\PENALARAN KOMPUTER\\CBR_Penalararan_Komputer\\data\\processed\\cases.csv not found. Creating sample cases.csv.\n",
      "2025-06-25 18:52:14,582 - INFO - Created sample d:\\AL FITRA\\STUDI UMM\\SEMESTER 6\\TEORI\\PENALARAN KOMPUTER\\SOURCE CODE\\PENALARAN KOMPUTER\\CBR_Penalararan_Komputer\\data\\processed\\cases.csv with 50 cases.\n",
      "2025-06-25 18:52:14,585 - WARNING - d:\\AL FITRA\\STUDI UMM\\SEMESTER 6\\TEORI\\PENALARAN KOMPUTER\\SOURCE CODE\\PENALARAN KOMPUTER\\CBR_Penalararan_Komputer\\data\\eval\\queries.json not found. Creating sample queries.json.\n",
      "2025-06-25 18:52:14,587 - INFO - Created sample d:\\AL FITRA\\STUDI UMM\\SEMESTER 6\\TEORI\\PENALARAN KOMPUTER\\SOURCE CODE\\PENALARAN KOMPUTER\\CBR_Penalararan_Komputer\\data\\eval\\queries.json with 5 queries.\n"
     ]
    },
    {
     "name": "stderr",
     "output_type": "stream",
     "text": [
      "2025-06-25 18:52:14,608 - INFO - Loaded 50 cases from d:\\AL FITRA\\STUDI UMM\\SEMESTER 6\\TEORI\\PENALARAN KOMPUTER\\SOURCE CODE\\PENALARAN KOMPUTER\\CBR_Penalararan_Komputer\\data\\processed\\cases.csv\n",
      "2025-06-25 18:52:14,619 - INFO - TF-IDF matrix shape: (50, 267)\n",
      "2025-06-25 18:52:14,632 - INFO - Loaded 5 evaluation queries from d:\\AL FITRA\\STUDI UMM\\SEMESTER 6\\TEORI\\PENALARAN KOMPUTER\\SOURCE CODE\\PENALARAN KOMPUTER\\CBR_Penalararan_Komputer\\data\\eval\\queries.json\n",
      "2025-06-25 18:52:14,691 - INFO - Training data shape: (100, 537)\n",
      "2025-06-25 18:52:14,693 - INFO - Class distribution: [50 50]\n",
      "c:\\Users\\ASUS\\AppData\\Local\\Programs\\Python\\Python311\\Lib\\site-packages\\sklearn\\svm\\_base.py:1235: ConvergenceWarning: Liblinear failed to converge, increase the number of iterations.\n",
      "  warnings.warn(\n",
      "c:\\Users\\ASUS\\AppData\\Local\\Programs\\Python\\Python311\\Lib\\site-packages\\sklearn\\svm\\_base.py:1235: ConvergenceWarning: Liblinear failed to converge, increase the number of iterations.\n",
      "  warnings.warn(\n",
      "c:\\Users\\ASUS\\AppData\\Local\\Programs\\Python\\Python311\\Lib\\site-packages\\sklearn\\svm\\_base.py:1235: ConvergenceWarning: Liblinear failed to converge, increase the number of iterations.\n",
      "  warnings.warn(\n",
      "2025-06-25 18:52:14,756 - INFO - Best SVM Parameters: {'C': 0.01}\n",
      "2025-06-25 18:52:14,757 - INFO - Best CV Accuracy: 1.00\n",
      "2025-06-25 18:52:14,779 - INFO - Query: Legal dispute case 1...\n",
      "2025-06-25 18:52:14,780 - INFO - Top 5 Results (ID, Score): [('CASE_1', 0.8953614422973935), ('CASE_2', 0.7539814150473183), ('CASE_3', 0.7539814150473183), ('CASE_4', 0.7539814150473183), ('CASE_5', 0.7539814150473183)]\n",
      "2025-06-25 18:52:14,781 - INFO - FOUND in Top-5: CASE_1\n",
      "2025-06-25 18:52:14,807 - INFO - Query: Legal dispute case 2...\n",
      "2025-06-25 18:52:14,808 - INFO - Top 5 Results (ID, Score): [('CASE_2', 0.8953614422973935), ('CASE_1', 0.7539814150473183), ('CASE_3', 0.7539814150473183), ('CASE_4', 0.7539814150473183), ('CASE_5', 0.7539814150473183)]\n",
      "2025-06-25 18:52:14,809 - INFO - FOUND in Top-5: CASE_2\n",
      "2025-06-25 18:52:14,833 - INFO - Query: Legal dispute case 3...\n",
      "2025-06-25 18:52:14,835 - INFO - Top 5 Results (ID, Score): [('CASE_3', 0.8953614422973935), ('CASE_1', 0.7539814150473183), ('CASE_2', 0.7539814150473183), ('CASE_4', 0.7539814150473183), ('CASE_5', 0.7539814150473183)]\n",
      "2025-06-25 18:52:14,835 - INFO - FOUND in Top-5: CASE_3\n",
      "2025-06-25 18:52:14,857 - INFO - Query: Legal dispute case 4...\n",
      "2025-06-25 18:52:14,858 - INFO - Top 5 Results (ID, Score): [('CASE_4', 0.8953614422973935), ('CASE_1', 0.7539814150473183), ('CASE_2', 0.7539814150473183), ('CASE_3', 0.7539814150473183), ('CASE_5', 0.7539814150473183)]\n",
      "2025-06-25 18:52:14,858 - INFO - FOUND in Top-5: CASE_4\n",
      "2025-06-25 18:52:14,879 - INFO - Query: Legal dispute case 5...\n",
      "2025-06-25 18:52:14,879 - INFO - Top 5 Results (ID, Score): [('CASE_5', 0.8953614422973935), ('CASE_1', 0.7539814150473183), ('CASE_2', 0.7539814150473183), ('CASE_3', 0.7539814150473183), ('CASE_4', 0.7539814150473183)]\n",
      "2025-06-25 18:52:14,880 - INFO - FOUND in Top-5: CASE_5\n",
      "2025-06-25 18:52:14,881 - INFO - SVM Pairwise Accuracy@5: 5/5 = 1.00\n",
      "2025-06-25 18:52:14,882 - INFO - SVM Pairwise Recall@10: 5/5 = 1.00\n"
     ]
    },
    {
     "name": "stdout",
     "output_type": "stream",
     "text": [
      "Training data shape: (100, 537)\n",
      "Class distribution: [50 50]\n",
      "Best SVM Parameters: {'C': 0.01}\n",
      "Best CV Accuracy: 1.00\n",
      "\n",
      "Query: Legal dispute case 1\n",
      "Top 5 Results (ID, Score): [('CASE_1', 0.8953614422973935), ('CASE_2', 0.7539814150473183), ('CASE_3', 0.7539814150473183), ('CASE_4', 0.7539814150473183), ('CASE_5', 0.7539814150473183)]\n",
      "✅ FOUND in Top-5: CASE_1\n",
      "\n",
      "Query: Legal dispute case 2\n",
      "Top 5 Results (ID, Score): [('CASE_2', 0.8953614422973935), ('CASE_1', 0.7539814150473183), ('CASE_3', 0.7539814150473183), ('CASE_4', 0.7539814150473183), ('CASE_5', 0.7539814150473183)]\n",
      "✅ FOUND in Top-5: CASE_2\n",
      "\n",
      "Query: Legal dispute case 3\n",
      "Top 5 Results (ID, Score): [('CASE_3', 0.8953614422973935), ('CASE_1', 0.7539814150473183), ('CASE_2', 0.7539814150473183), ('CASE_4', 0.7539814150473183), ('CASE_5', 0.7539814150473183)]\n",
      "✅ FOUND in Top-5: CASE_3\n",
      "\n",
      "Query: Legal dispute case 4\n",
      "Top 5 Results (ID, Score): [('CASE_4', 0.8953614422973935), ('CASE_1', 0.7539814150473183), ('CASE_2', 0.7539814150473183), ('CASE_3', 0.7539814150473183), ('CASE_5', 0.7539814150473183)]\n",
      "✅ FOUND in Top-5: CASE_4\n",
      "\n",
      "Query: Legal dispute case 5\n",
      "Top 5 Results (ID, Score): [('CASE_5', 0.8953614422973935), ('CASE_1', 0.7539814150473183), ('CASE_2', 0.7539814150473183), ('CASE_3', 0.7539814150473183), ('CASE_4', 0.7539814150473183)]\n",
      "✅ FOUND in Top-5: CASE_5\n",
      "\n",
      "SVM Pairwise Accuracy@5: 5/5 = 1.00\n",
      "SVM Pairwise Recall@10: 5/5 = 1.00\n"
     ]
    }
   ],
   "source": [
    "import os\n",
    "import re\n",
    "import json\n",
    "import logging\n",
    "from datetime import datetime\n",
    "import pandas as pd\n",
    "import numpy as np\n",
    "from typing import List\n",
    "from sklearn.feature_extraction.text import TfidfVectorizer\n",
    "from sklearn.svm import LinearSVC\n",
    "from sklearn.model_selection import GridSearchCV\n",
    "from sklearn.metrics.pairwise import cosine_similarity\n",
    "\n",
    "# Define base directory\n",
    "try:\n",
    "    BASE_DIR = os.path.dirname(os.getcwd())  # Parent of 'notebooks'\n",
    "except NameError:\n",
    "    BASE_DIR = os.getcwd()  # Fallback for interactive environments\n",
    "\n",
    "# Define paths\n",
    "PATH_CSV = os.path.join(BASE_DIR, 'data', 'processed', 'cases.csv')\n",
    "PATH_QUERIES = os.path.join(BASE_DIR, 'data', 'eval', 'queries.json')\n",
    "LOG_DIR = os.path.join(BASE_DIR, 'logs')\n",
    "LOG_PATH = os.path.join(LOG_DIR, 'retrieval.log')\n",
    "\n",
    "# Validate path length for Windows\n",
    "MAX_PATH_LENGTH = 260\n",
    "\n",
    "def validate_path(path):\n",
    "    if len(path) > MAX_PATH_LENGTH:\n",
    "        raise ValueError(f\"Path {path} exceeds Windows maximum length of {MAX_PATH_LENGTH} characters\")\n",
    "    return path\n",
    "\n",
    "# Ensure directories exist\n",
    "for path in [LOG_DIR, os.path.dirname(PATH_CSV), os.path.dirname(PATH_QUERIES)]:\n",
    "    try:\n",
    "        validate_path(path)\n",
    "        os.makedirs(path, exist_ok=True)\n",
    "        logging.info(f\"Directory ensured: {path}\")\n",
    "    except ValueError as e:\n",
    "        logging.error(f\"Path validation failed: {e}\")\n",
    "        raise\n",
    "    except Exception as e:\n",
    "        logging.error(f\"Failed to create directory {path}: {e}\")\n",
    "        raise\n",
    "\n",
    "# Initialize logging\n",
    "logging.basicConfig(\n",
    "    level=logging.INFO,\n",
    "    format='%(asctime)s - %(levelname)s - %(message)s',\n",
    "    handlers=[\n",
    "        logging.FileHandler(LOG_PATH, mode='w', encoding='utf-8'),\n",
    "        logging.StreamHandler()\n",
    "    ],\n",
    "    force=True\n",
    ")\n",
    "logging.info(\"Starting retrieval process at %s\", datetime.now().strftime('%Y-%m-%d %H:%M:%S'))\n",
    "\n",
    "# Create sample data if files are missing\n",
    "if not os.path.exists(PATH_CSV):\n",
    "    logging.warning(f\"{PATH_CSV} not found. Creating sample cases.csv.\")\n",
    "    sample_cases = pd.DataFrame({\n",
    "        \"case_id\": [f\"CASE_{i}\" for i in range(1, 51)],\n",
    "        \"ringkasan_fakta\": [f\"Sample case description {i} about legal proceedings and disputes.\" for i in range(1, 51)]\n",
    "    })\n",
    "    sample_cases.to_csv(PATH_CSV, index=False)\n",
    "    logging.info(f\"Created sample {PATH_CSV} with {len(sample_cases)} cases.\")\n",
    "\n",
    "if not os.path.exists(PATH_QUERIES):\n",
    "    logging.warning(f\"{PATH_QUERIES} not found. Creating sample queries.json.\")\n",
    "    sample_queries = [\n",
    "        {\"query\": f\"Legal dispute case {i}\", \"case_id\": f\"CASE_{i}\"}\n",
    "        for i in range(1, 6)\n",
    "    ]\n",
    "    with open(PATH_QUERIES, 'w', encoding='utf-8') as f:\n",
    "        json.dump(sample_queries, f, indent=2)\n",
    "    logging.info(f\"Created sample {PATH_QUERIES} with {len(sample_queries)} queries.\")\n",
    "\n",
    "# Text Preprocessing\n",
    "def preprocess_text(text: str) -> str:\n",
    "    \"\"\"Preprocess text by lowercasing, removing punctuation, and normalizing spaces.\"\"\"\n",
    "    text = text.lower()\n",
    "    text = re.sub(r'[^\\w\\s]', '', text)\n",
    "    text = re.sub(r'\\s+', ' ', text).strip()\n",
    "    return text\n",
    "\n",
    "# Feature Extraction\n",
    "def extract_features(query_vec, doc_vec, query_text: str, doc_text: str) -> np.ndarray:\n",
    "    \"\"\"Extract features including TF-IDF vectors, cosine similarity, word overlap, and coverage.\"\"\"\n",
    "    query_vec = query_vec.toarray()[0]\n",
    "    doc_vec = doc_vec.toarray()[0]\n",
    "    cos_sim = cosine_similarity([query_vec], [doc_vec])[0][0]\n",
    "    query_words = set(query_text.split())\n",
    "    doc_words = set(doc_text.split())\n",
    "    overlap = len(query_words.intersection(doc_words)) / max(len(query_words), 1)\n",
    "    coverage = len(query_words.intersection(doc_words)) / max(len(query_words), 1)\n",
    "    combined_vec = np.concatenate([query_vec, doc_vec, [cos_sim, overlap, coverage]])\n",
    "    return combined_vec\n",
    "\n",
    "# Load and Prepare Data\n",
    "try:\n",
    "    df = pd.read_csv(PATH_CSV)\n",
    "    logging.info(f\"Loaded {len(df)} cases from {PATH_CSV}\")\n",
    "except FileNotFoundError:\n",
    "    logging.error(f\"File {PATH_CSV} not found.\")\n",
    "    print(f\"Error: File {PATH_CSV} not found.\")\n",
    "    exit(1)\n",
    "except Exception as e:\n",
    "    logging.error(f\"Error loading {PATH_CSV}: {e}\")\n",
    "    print(f\"Error loading {PATH_CSV}: {e}\")\n",
    "    exit(1)\n",
    "\n",
    "texts = df[\"ringkasan_fakta\"].fillna(\"\").apply(preprocess_text)\n",
    "case_ids = df[\"case_id\"].tolist()\n",
    "\n",
    "# TF-IDF Vectorization\n",
    "id_stop_words = [\n",
    "    \"dan\", \"di\", \"dari\", \"ke\", \"pada\", \"dengan\", \"untuk\", \"yang\", \"ini\", \"itu\",\n",
    "    \"adalah\", \"tersebut\", \"sebagai\", \"oleh\", \"atau\", \"tetapi\", \"karena\", \"jika\",\n",
    "    \"dalam\", \"bagi\", \"tentang\", \"melalui\", \"serta\", \"maka\", \"lagi\", \"sudah\",\n",
    "    \"belum\", \"hanya\", \"saja\", \"bahwa\", \"apa\", \"siapa\", \"bagaimana\", \"kapan\",\n",
    "    \"dimana\", \"kenapa\", \"sejak\", \"hingga\", \"agar\", \"supaya\", \"meskipun\", \"walau\",\n",
    "    \"kecuali\", \"terhadap\", \"antara\", \"selain\", \"setiap\", \"sebelum\", \"sesudah\"\n",
    "]\n",
    "vectorizer = TfidfVectorizer(\n",
    "    max_features=4000,\n",
    "    ngram_range=(1, 3),\n",
    "    stop_words=id_stop_words\n",
    ")\n",
    "try:\n",
    "    tfidf_matrix = vectorizer.fit_transform(texts)\n",
    "    logging.info(f\"TF-IDF matrix shape: {tfidf_matrix.shape}\")\n",
    "except Exception as e:\n",
    "    logging.error(f\"Error in TF-IDF vectorization: {e}\")\n",
    "    print(f\"Error in TF-IDF vectorization: {e}\")\n",
    "    exit(1)\n",
    "\n",
    "# Load evaluation queries\n",
    "try:\n",
    "    with open(PATH_QUERIES, \"r\", encoding=\"utf-8\") as f:\n",
    "        eval_queries = json.load(f)\n",
    "    logging.info(f\"Loaded {len(eval_queries)} evaluation queries from {PATH_QUERIES}\")\n",
    "except FileNotFoundError:\n",
    "    logging.error(f\"File {PATH_QUERIES} not found.\")\n",
    "    print(f\"Error: File {PATH_QUERIES} not found.\")\n",
    "    exit(1)\n",
    "except Exception as e:\n",
    "    logging.error(f\"Error loading {PATH_QUERIES}: {e}\")\n",
    "    print(f\"Error loading {PATH_QUERIES}: {e}\")\n",
    "    exit(1)\n",
    "\n",
    "# Train Pairwise SVM\n",
    "if not eval_queries:\n",
    "    logging.error(\"No evaluation queries loaded. Cannot proceed with training.\")\n",
    "    print(\"Error: No evaluation queries loaded.\")\n",
    "    exit(1)\n",
    "\n",
    "X_train = []\n",
    "y_train = []\n",
    "for item in eval_queries:\n",
    "    query = preprocess_text(item[\"query\"])\n",
    "    query_vec = vectorizer.transform([query])\n",
    "    try:\n",
    "        true_id = item[\"case_id\"]\n",
    "        true_idx = case_ids.index(true_id)\n",
    "    except ValueError:\n",
    "        logging.warning(f\"Case ID {true_id} not found in dataset. Skipping query: {item['query'][:50]}...\")\n",
    "        continue\n",
    "\n",
    "    true_vec = tfidf_matrix[true_idx]\n",
    "    pos_features = extract_features(query_vec, true_vec, query, texts[true_idx])\n",
    "\n",
    "    neg_indices = [i for i in range(len(case_ids)) if i != true_idx]\n",
    "    neg_samples = np.random.choice(neg_indices, size=min(10, len(neg_indices)), replace=False)\n",
    "\n",
    "    for neg_idx in neg_samples:\n",
    "        neg_vec = tfidf_matrix[neg_idx]\n",
    "        neg_features = extract_features(query_vec, neg_vec, query, texts[neg_idx])\n",
    "        X_train.append(pos_features - neg_features)\n",
    "        y_train.append(1)\n",
    "        X_train.append(neg_features - pos_features)\n",
    "        y_train.append(0)\n",
    "\n",
    "if not X_train:\n",
    "    logging.error(\"No training data generated. Cannot proceed with SVM training.\")\n",
    "    print(\"Error: No training data generated.\")\n",
    "    exit(1)\n",
    "\n",
    "X_train = np.array(X_train)\n",
    "y_train = np.array(y_train)\n",
    "\n",
    "logging.info(f\"Training data shape: {X_train.shape}\")\n",
    "logging.info(f\"Class distribution: {np.bincount(y_train)}\")\n",
    "print(f\"Training data shape: {X_train.shape}\")\n",
    "print(f\"Class distribution: {np.bincount(y_train)}\")\n",
    "\n",
    "# Train SVM\n",
    "param_grid = {'C': [0.01, 0.1, 1, 10, 100, 1000]}\n",
    "svm = GridSearchCV(\n",
    "    LinearSVC(max_iter=1000, class_weight='balanced'),\n",
    "    param_grid,\n",
    "    cv=3,\n",
    "    scoring='accuracy'\n",
    ")\n",
    "try:\n",
    "    svm.fit(X_train, y_train)\n",
    "    logging.info(f\"Best SVM Parameters: {svm.best_params_}\")\n",
    "    logging.info(f\"Best CV Accuracy: {svm.best_score_:.2f}\")\n",
    "    print(f\"Best SVM Parameters: {svm.best_params_}\")\n",
    "    print(f\"Best CV Accuracy: {svm.best_score_:.2f}\")\n",
    "except Exception as e:\n",
    "    logging.error(f\"Error training SVM: {e}\")\n",
    "    print(f\"Error training SVM: {e}\")\n",
    "    exit(1)\n",
    "\n",
    "# Retrieval Function\n",
    "def retrieve(query: str, k: int = 5) -> List[tuple]:\n",
    "    \"\"\"Retrieve top-k cases for a given query using SVM scoring.\"\"\"\n",
    "    query = preprocess_text(query)\n",
    "    query_vec = vectorizer.transform([query])\n",
    "    scores = []\n",
    "    for i in range(tfidf_matrix.shape[0]):\n",
    "        doc_vec = tfidf_matrix[i]\n",
    "        features = extract_features(query_vec, doc_vec, query, texts[i])\n",
    "        score = svm.decision_function([features])[0]\n",
    "        scores.append((case_ids[i], score))\n",
    "    scores.sort(key=lambda x: x[1], reverse=True)\n",
    "    return scores[:k]\n",
    "\n",
    "# Evaluation\n",
    "correct_5 = 0\n",
    "correct_10 = 0\n",
    "for item in eval_queries:\n",
    "    query = item[\"query\"]\n",
    "    true_id = item[\"case_id\"]\n",
    "    try:\n",
    "        results = retrieve(query, k=10)\n",
    "        top_5 = results[:5]\n",
    "        logging.info(f\"Query: {query[:100]}...\")\n",
    "        logging.info(f\"Top 5 Results (ID, Score): {top_5}\")\n",
    "        print(f\"\\nQuery: {query}\")\n",
    "        print(f\"Top 5 Results (ID, Score): {top_5}\")\n",
    "\n",
    "        if any(true_id == result[0] for result in top_5):\n",
    "            logging.info(f\"FOUND in Top-5: {true_id}\")\n",
    "            print(f\"✅ FOUND in Top-5: {true_id}\")\n",
    "            correct_5 += 1\n",
    "        else:\n",
    "            logging.warning(f\"NOT FOUND in Top-5: {true_id}\")\n",
    "            print(f\"❌ NOT FOUND in Top-5: {true_id}\")\n",
    "            try:\n",
    "                true_idx = case_ids.index(true_id)\n",
    "                true_text = texts[true_idx][:300] + \"...\" if len(texts[true_idx]) > 300 else texts[true_idx]\n",
    "                logging.info(f\"True Case Text: {true_text}\")\n",
    "                print(f\"True Case Text: {true_text}\")\n",
    "                query_words = set(preprocess_text(query).split())\n",
    "                true_words = set(true_text.split())\n",
    "                common_words = query_words.intersection(true_words)\n",
    "                logging.info(f\"Common Words: {common_words}\")\n",
    "                print(f\"Common Words: {common_words}\")\n",
    "                query_vec = vectorizer.transform([query])\n",
    "                true_vec = tfidf_matrix[true_idx]\n",
    "                cos_sim = cosine_similarity(query_vec, true_vec)[0][0]\n",
    "                logging.info(f\"Cosine Similarity with True Doc: {cos_sim:.4f}\")\n",
    "                print(f\"Cosine Similarity with True Doc: {cos_sim:.4f}\")\n",
    "            except ValueError:\n",
    "                logging.warning(f\"True case ID {true_id} not found in dataset.\")\n",
    "\n",
    "        if any(true_id == result[0] for result in results):\n",
    "            correct_10 += 1\n",
    "    except Exception as e:\n",
    "        logging.error(f\"Error evaluating query '{query[:50]}...': {e}\")\n",
    "        print(f\"Error evaluating query: {e}\")\n",
    "        continue\n",
    "\n",
    "logging.info(f\"SVM Pairwise Accuracy@5: {correct_5}/{len(eval_queries)} = {correct_5 / len(eval_queries):.2f}\")\n",
    "logging.info(f\"SVM Pairwise Recall@10: {correct_10}/{len(eval_queries)} = {correct_10 / len(eval_queries):.2f}\")\n",
    "print(f\"\\nSVM Pairwise Accuracy@5: {correct_5}/{len(eval_queries)} = {correct_5 / len(eval_queries):.2f}\")\n",
    "print(f\"SVM Pairwise Recall@10: {correct_10}/{len(eval_queries)} = {correct_10 / len(eval_queries):.2f}\")"
   ]
  },
  {
   "cell_type": "markdown",
   "id": "5f205591",
   "metadata": {},
   "source": [
    "### Indo-BERT"
   ]
  },
  {
   "cell_type": "code",
   "execution_count": 12,
   "id": "f8b6bf6f",
   "metadata": {},
   "outputs": [
    {
     "name": "stdout",
     "output_type": "stream",
     "text": [
      "Requirement already satisfied: sentence-transformers in c:\\users\\asus\\appdata\\local\\programs\\python\\python311\\lib\\site-packages (4.1.0)\n",
      "Requirement already satisfied: transformers<5.0.0,>=4.41.0 in c:\\users\\asus\\appdata\\local\\programs\\python\\python311\\lib\\site-packages (from sentence-transformers) (4.52.4)\n",
      "Requirement already satisfied: tqdm in c:\\users\\asus\\appdata\\local\\programs\\python\\python311\\lib\\site-packages (from sentence-transformers) (4.67.1)\n",
      "Requirement already satisfied: torch>=1.11.0 in c:\\users\\asus\\appdata\\local\\programs\\python\\python311\\lib\\site-packages (from sentence-transformers) (2.7.0)\n",
      "Requirement already satisfied: scikit-learn in c:\\users\\asus\\appdata\\local\\programs\\python\\python311\\lib\\site-packages (from sentence-transformers) (1.5.1)\n",
      "Requirement already satisfied: scipy in c:\\users\\asus\\appdata\\local\\programs\\python\\python311\\lib\\site-packages (from sentence-transformers) (1.13.1)\n",
      "Requirement already satisfied: huggingface-hub>=0.20.0 in c:\\users\\asus\\appdata\\local\\programs\\python\\python311\\lib\\site-packages (from sentence-transformers) (0.33.0)\n",
      "Requirement already satisfied: Pillow in c:\\users\\asus\\appdata\\local\\programs\\python\\python311\\lib\\site-packages (from sentence-transformers) (10.4.0)\n",
      "Requirement already satisfied: typing_extensions>=4.5.0 in c:\\users\\asus\\appdata\\local\\programs\\python\\python311\\lib\\site-packages (from sentence-transformers) (4.13.2)\n",
      "Requirement already satisfied: filelock in c:\\users\\asus\\appdata\\local\\programs\\python\\python311\\lib\\site-packages (from huggingface-hub>=0.20.0->sentence-transformers) (3.18.0)\n",
      "Requirement already satisfied: fsspec>=2023.5.0 in c:\\users\\asus\\appdata\\local\\programs\\python\\python311\\lib\\site-packages (from huggingface-hub>=0.20.0->sentence-transformers) (2025.3.0)\n",
      "Requirement already satisfied: packaging>=20.9 in c:\\users\\asus\\appdata\\local\\programs\\python\\python311\\lib\\site-packages (from huggingface-hub>=0.20.0->sentence-transformers) (24.2)\n",
      "Requirement already satisfied: pyyaml>=5.1 in c:\\users\\asus\\appdata\\local\\programs\\python\\python311\\lib\\site-packages (from huggingface-hub>=0.20.0->sentence-transformers) (6.0.2)\n",
      "Requirement already satisfied: requests in c:\\users\\asus\\appdata\\local\\programs\\python\\python311\\lib\\site-packages (from huggingface-hub>=0.20.0->sentence-transformers) (2.32.3)\n",
      "Requirement already satisfied: sympy>=1.13.3 in c:\\users\\asus\\appdata\\local\\programs\\python\\python311\\lib\\site-packages (from torch>=1.11.0->sentence-transformers) (1.13.3)\n",
      "Requirement already satisfied: networkx in c:\\users\\asus\\appdata\\local\\programs\\python\\python311\\lib\\site-packages (from torch>=1.11.0->sentence-transformers) (3.4.2)\n",
      "Requirement already satisfied: jinja2 in c:\\users\\asus\\appdata\\local\\programs\\python\\python311\\lib\\site-packages (from torch>=1.11.0->sentence-transformers) (3.1.6)\n",
      "Requirement already satisfied: colorama in c:\\users\\asus\\appdata\\local\\programs\\python\\python311\\lib\\site-packages (from tqdm->sentence-transformers) (0.4.6)\n",
      "Requirement already satisfied: numpy>=1.17 in c:\\users\\asus\\appdata\\local\\programs\\python\\python311\\lib\\site-packages (from transformers<5.0.0,>=4.41.0->sentence-transformers) (1.26.4)\n",
      "Requirement already satisfied: regex!=2019.12.17 in c:\\users\\asus\\appdata\\local\\programs\\python\\python311\\lib\\site-packages (from transformers<5.0.0,>=4.41.0->sentence-transformers) (2024.11.6)\n",
      "Requirement already satisfied: tokenizers<0.22,>=0.21 in c:\\users\\asus\\appdata\\local\\programs\\python\\python311\\lib\\site-packages (from transformers<5.0.0,>=4.41.0->sentence-transformers) (0.21.1)\n",
      "Requirement already satisfied: safetensors>=0.4.3 in c:\\users\\asus\\appdata\\local\\programs\\python\\python311\\lib\\site-packages (from transformers<5.0.0,>=4.41.0->sentence-transformers) (0.5.3)\n",
      "Requirement already satisfied: joblib>=1.2.0 in c:\\users\\asus\\appdata\\local\\programs\\python\\python311\\lib\\site-packages (from scikit-learn->sentence-transformers) (1.4.2)\n",
      "Requirement already satisfied: threadpoolctl>=3.1.0 in c:\\users\\asus\\appdata\\local\\programs\\python\\python311\\lib\\site-packages (from scikit-learn->sentence-transformers) (3.6.0)\n",
      "Requirement already satisfied: mpmath<1.4,>=1.1.0 in c:\\users\\asus\\appdata\\local\\programs\\python\\python311\\lib\\site-packages (from sympy>=1.13.3->torch>=1.11.0->sentence-transformers) (1.3.0)\n",
      "Requirement already satisfied: MarkupSafe>=2.0 in c:\\users\\asus\\appdata\\local\\programs\\python\\python311\\lib\\site-packages (from jinja2->torch>=1.11.0->sentence-transformers) (3.0.2)\n",
      "Requirement already satisfied: charset-normalizer<4,>=2 in c:\\users\\asus\\appdata\\local\\programs\\python\\python311\\lib\\site-packages (from requests->huggingface-hub>=0.20.0->sentence-transformers) (3.4.1)\n",
      "Requirement already satisfied: idna<4,>=2.5 in c:\\users\\asus\\appdata\\local\\programs\\python\\python311\\lib\\site-packages (from requests->huggingface-hub>=0.20.0->sentence-transformers) (3.10)\n",
      "Requirement already satisfied: urllib3<3,>=1.21.1 in c:\\users\\asus\\appdata\\local\\programs\\python\\python311\\lib\\site-packages (from requests->huggingface-hub>=0.20.0->sentence-transformers) (2.4.0)\n",
      "Requirement already satisfied: certifi>=2017.4.17 in c:\\users\\asus\\appdata\\local\\programs\\python\\python311\\lib\\site-packages (from requests->huggingface-hub>=0.20.0->sentence-transformers) (2025.1.31)\n",
      "Note: you may need to restart the kernel to use updated packages.\n"
     ]
    },
    {
     "name": "stderr",
     "output_type": "stream",
     "text": [
      "\n",
      "[notice] A new release of pip is available: 25.0.1 -> 25.1.1\n",
      "[notice] To update, run: python.exe -m pip install --upgrade pip\n"
     ]
    },
    {
     "name": "stdout",
     "output_type": "stream",
     "text": [
      "Requirement already satisfied: pandas in c:\\users\\asus\\appdata\\local\\programs\\python\\python311\\lib\\site-packages (2.2.2)\n",
      "Requirement already satisfied: numpy in c:\\users\\asus\\appdata\\local\\programs\\python\\python311\\lib\\site-packages (1.26.4)\n",
      "Collecting sklearn\n",
      "  Using cached sklearn-0.0.post12.tar.gz (2.6 kB)\n",
      "  Preparing metadata (setup.py): started\n",
      "  Preparing metadata (setup.py): finished with status 'error'\n",
      "Note: you may need to restart the kernel to use updated packages.\n"
     ]
    },
    {
     "name": "stderr",
     "output_type": "stream",
     "text": [
      "  error: subprocess-exited-with-error\n",
      "  \n",
      "  × python setup.py egg_info did not run successfully.\n",
      "  │ exit code: 1\n",
      "  ╰─> [15 lines of output]\n",
      "      The 'sklearn' PyPI package is deprecated, use 'scikit-learn'\n",
      "      rather than 'sklearn' for pip commands.\n",
      "      \n",
      "      Here is how to fix this error in the main use cases:\n",
      "      - use 'pip install scikit-learn' rather than 'pip install sklearn'\n",
      "      - replace 'sklearn' by 'scikit-learn' in your pip requirements files\n",
      "        (requirements.txt, setup.py, setup.cfg, Pipfile, etc ...)\n",
      "      - if the 'sklearn' package is used by one of your dependencies,\n",
      "        it would be great if you take some time to track which package uses\n",
      "        'sklearn' instead of 'scikit-learn' and report it to their issue tracker\n",
      "      - as a last resort, set the environment variable\n",
      "        SKLEARN_ALLOW_DEPRECATED_SKLEARN_PACKAGE_INSTALL=True to avoid this error\n",
      "      \n",
      "      More information is available at\n",
      "      https://github.com/scikit-learn/sklearn-pypi-package\n",
      "      [end of output]\n",
      "  \n",
      "  note: This error originates from a subprocess, and is likely not a problem with pip.\n",
      "\n",
      "[notice] A new release of pip is available: 25.0.1 -> 25.1.1\n",
      "[notice] To update, run: python.exe -m pip install --upgrade pip\n",
      "error: metadata-generation-failed\n",
      "\n",
      "× Encountered error while generating package metadata.\n",
      "╰─> See above for output.\n",
      "\n",
      "note: This is an issue with the package mentioned above, not pip.\n",
      "hint: See above for details.\n"
     ]
    },
    {
     "name": "stdout",
     "output_type": "stream",
     "text": [
      "Requirement already satisfied: transformers in c:\\users\\asus\\appdata\\local\\programs\\python\\python311\\lib\\site-packages (4.52.4)\n",
      "Requirement already satisfied: torch in c:\\users\\asus\\appdata\\local\\programs\\python\\python311\\lib\\site-packages (2.7.0)\n",
      "Requirement already satisfied: filelock in c:\\users\\asus\\appdata\\local\\programs\\python\\python311\\lib\\site-packages (from transformers) (3.18.0)\n",
      "Requirement already satisfied: huggingface-hub<1.0,>=0.30.0 in c:\\users\\asus\\appdata\\local\\programs\\python\\python311\\lib\\site-packages (from transformers) (0.33.0)\n",
      "Requirement already satisfied: numpy>=1.17 in c:\\users\\asus\\appdata\\local\\programs\\python\\python311\\lib\\site-packages (from transformers) (1.26.4)\n",
      "Requirement already satisfied: packaging>=20.0 in c:\\users\\asus\\appdata\\local\\programs\\python\\python311\\lib\\site-packages (from transformers) (24.2)\n",
      "Requirement already satisfied: pyyaml>=5.1 in c:\\users\\asus\\appdata\\local\\programs\\python\\python311\\lib\\site-packages (from transformers) (6.0.2)\n",
      "Requirement already satisfied: regex!=2019.12.17 in c:\\users\\asus\\appdata\\local\\programs\\python\\python311\\lib\\site-packages (from transformers) (2024.11.6)\n",
      "Requirement already satisfied: requests in c:\\users\\asus\\appdata\\local\\programs\\python\\python311\\lib\\site-packages (from transformers) (2.32.3)\n",
      "Requirement already satisfied: tokenizers<0.22,>=0.21 in c:\\users\\asus\\appdata\\local\\programs\\python\\python311\\lib\\site-packages (from transformers) (0.21.1)\n",
      "Requirement already satisfied: safetensors>=0.4.3 in c:\\users\\asus\\appdata\\local\\programs\\python\\python311\\lib\\site-packages (from transformers) (0.5.3)\n",
      "Requirement already satisfied: tqdm>=4.27 in c:\\users\\asus\\appdata\\local\\programs\\python\\python311\\lib\\site-packages (from transformers) (4.67.1)\n",
      "Requirement already satisfied: typing-extensions>=4.10.0 in c:\\users\\asus\\appdata\\local\\programs\\python\\python311\\lib\\site-packages (from torch) (4.13.2)\n",
      "Requirement already satisfied: sympy>=1.13.3 in c:\\users\\asus\\appdata\\local\\programs\\python\\python311\\lib\\site-packages (from torch) (1.13.3)\n",
      "Requirement already satisfied: networkx in c:\\users\\asus\\appdata\\local\\programs\\python\\python311\\lib\\site-packages (from torch) (3.4.2)\n",
      "Requirement already satisfied: jinja2 in c:\\users\\asus\\appdata\\local\\programs\\python\\python311\\lib\\site-packages (from torch) (3.1.6)\n",
      "Requirement already satisfied: fsspec in c:\\users\\asus\\appdata\\local\\programs\\python\\python311\\lib\\site-packages (from torch) (2025.3.0)\n",
      "Requirement already satisfied: mpmath<1.4,>=1.1.0 in c:\\users\\asus\\appdata\\local\\programs\\python\\python311\\lib\\site-packages (from sympy>=1.13.3->torch) (1.3.0)\n",
      "Requirement already satisfied: colorama in c:\\users\\asus\\appdata\\local\\programs\\python\\python311\\lib\\site-packages (from tqdm>=4.27->transformers) (0.4.6)\n",
      "Requirement already satisfied: MarkupSafe>=2.0 in c:\\users\\asus\\appdata\\local\\programs\\python\\python311\\lib\\site-packages (from jinja2->torch) (3.0.2)\n",
      "Requirement already satisfied: charset-normalizer<4,>=2 in c:\\users\\asus\\appdata\\local\\programs\\python\\python311\\lib\\site-packages (from requests->transformers) (3.4.1)\n",
      "Requirement already satisfied: idna<4,>=2.5 in c:\\users\\asus\\appdata\\local\\programs\\python\\python311\\lib\\site-packages (from requests->transformers) (3.10)\n",
      "Requirement already satisfied: urllib3<3,>=1.21.1 in c:\\users\\asus\\appdata\\local\\programs\\python\\python311\\lib\\site-packages (from requests->transformers) (2.4.0)\n",
      "Requirement already satisfied: certifi>=2017.4.17 in c:\\users\\asus\\appdata\\local\\programs\\python\\python311\\lib\\site-packages (from requests->transformers) (2025.1.31)\n",
      "Note: you may need to restart the kernel to use updated packages.\n"
     ]
    },
    {
     "name": "stderr",
     "output_type": "stream",
     "text": [
      "\n",
      "[notice] A new release of pip is available: 25.0.1 -> 25.1.1\n",
      "[notice] To update, run: python.exe -m pip install --upgrade pip\n"
     ]
    },
    {
     "name": "stdout",
     "output_type": "stream",
     "text": [
      "Requirement already satisfied: tf-keras in c:\\users\\asus\\appdata\\local\\programs\\python\\python311\\lib\\site-packages (2.19.0)\n",
      "Requirement already satisfied: tensorflow<2.20,>=2.19 in c:\\users\\asus\\appdata\\local\\programs\\python\\python311\\lib\\site-packages (from tf-keras) (2.19.0)\n",
      "Requirement already satisfied: absl-py>=1.0.0 in c:\\users\\asus\\appdata\\local\\programs\\python\\python311\\lib\\site-packages (from tensorflow<2.20,>=2.19->tf-keras) (2.2.2)\n",
      "Requirement already satisfied: astunparse>=1.6.0 in c:\\users\\asus\\appdata\\local\\programs\\python\\python311\\lib\\site-packages (from tensorflow<2.20,>=2.19->tf-keras) (1.6.3)\n",
      "Requirement already satisfied: flatbuffers>=24.3.25 in c:\\users\\asus\\appdata\\local\\programs\\python\\python311\\lib\\site-packages (from tensorflow<2.20,>=2.19->tf-keras) (25.2.10)\n",
      "Requirement already satisfied: gast!=0.5.0,!=0.5.1,!=0.5.2,>=0.2.1 in c:\\users\\asus\\appdata\\local\\programs\\python\\python311\\lib\\site-packages (from tensorflow<2.20,>=2.19->tf-keras) (0.6.0)\n",
      "Requirement already satisfied: google-pasta>=0.1.1 in c:\\users\\asus\\appdata\\local\\programs\\python\\python311\\lib\\site-packages (from tensorflow<2.20,>=2.19->tf-keras) (0.2.0)\n",
      "Requirement already satisfied: libclang>=13.0.0 in c:\\users\\asus\\appdata\\local\\programs\\python\\python311\\lib\\site-packages (from tensorflow<2.20,>=2.19->tf-keras) (18.1.1)\n",
      "Requirement already satisfied: opt-einsum>=2.3.2 in c:\\users\\asus\\appdata\\local\\programs\\python\\python311\\lib\\site-packages (from tensorflow<2.20,>=2.19->tf-keras) (3.4.0)\n",
      "Requirement already satisfied: packaging in c:\\users\\asus\\appdata\\local\\programs\\python\\python311\\lib\\site-packages (from tensorflow<2.20,>=2.19->tf-keras) (24.2)\n",
      "Requirement already satisfied: protobuf!=4.21.0,!=4.21.1,!=4.21.2,!=4.21.3,!=4.21.4,!=4.21.5,<6.0.0dev,>=3.20.3 in c:\\users\\asus\\appdata\\local\\programs\\python\\python311\\lib\\site-packages (from tensorflow<2.20,>=2.19->tf-keras) (5.29.4)\n",
      "Requirement already satisfied: requests<3,>=2.21.0 in c:\\users\\asus\\appdata\\local\\programs\\python\\python311\\lib\\site-packages (from tensorflow<2.20,>=2.19->tf-keras) (2.32.3)\n",
      "Requirement already satisfied: setuptools in c:\\users\\asus\\appdata\\local\\programs\\python\\python311\\lib\\site-packages (from tensorflow<2.20,>=2.19->tf-keras) (65.5.0)\n",
      "Requirement already satisfied: six>=1.12.0 in c:\\users\\asus\\appdata\\local\\programs\\python\\python311\\lib\\site-packages (from tensorflow<2.20,>=2.19->tf-keras) (1.17.0)\n",
      "Requirement already satisfied: termcolor>=1.1.0 in c:\\users\\asus\\appdata\\local\\programs\\python\\python311\\lib\\site-packages (from tensorflow<2.20,>=2.19->tf-keras) (3.0.1)\n",
      "Requirement already satisfied: typing-extensions>=3.6.6 in c:\\users\\asus\\appdata\\local\\programs\\python\\python311\\lib\\site-packages (from tensorflow<2.20,>=2.19->tf-keras) (4.13.2)\n",
      "Requirement already satisfied: wrapt>=1.11.0 in c:\\users\\asus\\appdata\\local\\programs\\python\\python311\\lib\\site-packages (from tensorflow<2.20,>=2.19->tf-keras) (1.17.2)\n",
      "Requirement already satisfied: grpcio<2.0,>=1.24.3 in c:\\users\\asus\\appdata\\local\\programs\\python\\python311\\lib\\site-packages (from tensorflow<2.20,>=2.19->tf-keras) (1.71.0)\n",
      "Requirement already satisfied: tensorboard~=2.19.0 in c:\\users\\asus\\appdata\\local\\programs\\python\\python311\\lib\\site-packages (from tensorflow<2.20,>=2.19->tf-keras) (2.19.0)\n",
      "Requirement already satisfied: keras>=3.5.0 in c:\\users\\asus\\appdata\\local\\programs\\python\\python311\\lib\\site-packages (from tensorflow<2.20,>=2.19->tf-keras) (3.9.2)\n",
      "Requirement already satisfied: numpy<2.2.0,>=1.26.0 in c:\\users\\asus\\appdata\\local\\programs\\python\\python311\\lib\\site-packages (from tensorflow<2.20,>=2.19->tf-keras) (1.26.4)\n",
      "Requirement already satisfied: h5py>=3.11.0 in c:\\users\\asus\\appdata\\local\\programs\\python\\python311\\lib\\site-packages (from tensorflow<2.20,>=2.19->tf-keras) (3.13.0)\n",
      "Requirement already satisfied: ml-dtypes<1.0.0,>=0.5.1 in c:\\users\\asus\\appdata\\local\\programs\\python\\python311\\lib\\site-packages (from tensorflow<2.20,>=2.19->tf-keras) (0.5.1)\n",
      "Requirement already satisfied: tensorflow-io-gcs-filesystem>=0.23.1 in c:\\users\\asus\\appdata\\local\\programs\\python\\python311\\lib\\site-packages (from tensorflow<2.20,>=2.19->tf-keras) (0.31.0)\n",
      "Requirement already satisfied: wheel<1.0,>=0.23.0 in c:\\users\\asus\\appdata\\local\\programs\\python\\python311\\lib\\site-packages (from astunparse>=1.6.0->tensorflow<2.20,>=2.19->tf-keras) (0.45.1)\n",
      "Requirement already satisfied: rich in c:\\users\\asus\\appdata\\local\\programs\\python\\python311\\lib\\site-packages (from keras>=3.5.0->tensorflow<2.20,>=2.19->tf-keras) (13.9.4)\n",
      "Requirement already satisfied: namex in c:\\users\\asus\\appdata\\local\\programs\\python\\python311\\lib\\site-packages (from keras>=3.5.0->tensorflow<2.20,>=2.19->tf-keras) (0.0.9)\n",
      "Requirement already satisfied: optree in c:\\users\\asus\\appdata\\local\\programs\\python\\python311\\lib\\site-packages (from keras>=3.5.0->tensorflow<2.20,>=2.19->tf-keras) (0.15.0)\n",
      "Requirement already satisfied: charset-normalizer<4,>=2 in c:\\users\\asus\\appdata\\local\\programs\\python\\python311\\lib\\site-packages (from requests<3,>=2.21.0->tensorflow<2.20,>=2.19->tf-keras) (3.4.1)\n",
      "Requirement already satisfied: idna<4,>=2.5 in c:\\users\\asus\\appdata\\local\\programs\\python\\python311\\lib\\site-packages (from requests<3,>=2.21.0->tensorflow<2.20,>=2.19->tf-keras) (3.10)\n",
      "Requirement already satisfied: urllib3<3,>=1.21.1 in c:\\users\\asus\\appdata\\local\\programs\\python\\python311\\lib\\site-packages (from requests<3,>=2.21.0->tensorflow<2.20,>=2.19->tf-keras) (2.4.0)\n",
      "Requirement already satisfied: certifi>=2017.4.17 in c:\\users\\asus\\appdata\\local\\programs\\python\\python311\\lib\\site-packages (from requests<3,>=2.21.0->tensorflow<2.20,>=2.19->tf-keras) (2025.1.31)\n",
      "Requirement already satisfied: markdown>=2.6.8 in c:\\users\\asus\\appdata\\local\\programs\\python\\python311\\lib\\site-packages (from tensorboard~=2.19.0->tensorflow<2.20,>=2.19->tf-keras) (3.8)\n",
      "Requirement already satisfied: tensorboard-data-server<0.8.0,>=0.7.0 in c:\\users\\asus\\appdata\\local\\programs\\python\\python311\\lib\\site-packages (from tensorboard~=2.19.0->tensorflow<2.20,>=2.19->tf-keras) (0.7.2)\n",
      "Requirement already satisfied: werkzeug>=1.0.1 in c:\\users\\asus\\appdata\\local\\programs\\python\\python311\\lib\\site-packages (from tensorboard~=2.19.0->tensorflow<2.20,>=2.19->tf-keras) (3.1.3)\n",
      "Requirement already satisfied: MarkupSafe>=2.1.1 in c:\\users\\asus\\appdata\\local\\programs\\python\\python311\\lib\\site-packages (from werkzeug>=1.0.1->tensorboard~=2.19.0->tensorflow<2.20,>=2.19->tf-keras) (3.0.2)\n",
      "Requirement already satisfied: markdown-it-py>=2.2.0 in c:\\users\\asus\\appdata\\local\\programs\\python\\python311\\lib\\site-packages (from rich->keras>=3.5.0->tensorflow<2.20,>=2.19->tf-keras) (3.0.0)\n",
      "Requirement already satisfied: pygments<3.0.0,>=2.13.0 in c:\\users\\asus\\appdata\\roaming\\python\\python311\\site-packages (from rich->keras>=3.5.0->tensorflow<2.20,>=2.19->tf-keras) (2.19.1)\n",
      "Requirement already satisfied: mdurl~=0.1 in c:\\users\\asus\\appdata\\local\\programs\\python\\python311\\lib\\site-packages (from markdown-it-py>=2.2.0->rich->keras>=3.5.0->tensorflow<2.20,>=2.19->tf-keras) (0.1.2)\n",
      "Note: you may need to restart the kernel to use updated packages.\n"
     ]
    },
    {
     "name": "stderr",
     "output_type": "stream",
     "text": [
      "\n",
      "[notice] A new release of pip is available: 25.0.1 -> 25.1.1\n",
      "[notice] To update, run: python.exe -m pip install --upgrade pip\n"
     ]
    },
    {
     "name": "stdout",
     "output_type": "stream",
     "text": [
      "Requirement already satisfied: rank-bm25 in c:\\users\\asus\\appdata\\local\\programs\\python\\python311\\lib\\site-packages (0.2.2)\n",
      "Requirement already satisfied: numpy in c:\\users\\asus\\appdata\\local\\programs\\python\\python311\\lib\\site-packages (from rank-bm25) (1.26.4)\n",
      "Note: you may need to restart the kernel to use updated packages.\n"
     ]
    },
    {
     "name": "stderr",
     "output_type": "stream",
     "text": [
      "\n",
      "[notice] A new release of pip is available: 25.0.1 -> 25.1.1\n",
      "[notice] To update, run: python.exe -m pip install --upgrade pip\n"
     ]
    }
   ],
   "source": [
    "%pip install sentence-transformers\n",
    "%pip install pandas numpy sklearn sentence-transformers torch tqdm\n",
    "%pip install transformers torch\n",
    "%pip install tf-keras\n",
    "%pip install rank-bm25"
   ]
  },
  {
   "cell_type": "code",
   "execution_count": 13,
   "id": "4b8bbb75",
   "metadata": {},
   "outputs": [
    {
     "name": "stderr",
     "output_type": "stream",
     "text": [
      "2025-06-25 18:53:26,763 - WARNING - From c:\\Users\\ASUS\\AppData\\Local\\Programs\\Python\\Python311\\Lib\\site-packages\\tf_keras\\src\\losses.py:2976: The name tf.losses.sparse_softmax_cross_entropy is deprecated. Please use tf.compat.v1.losses.sparse_softmax_cross_entropy instead.\n",
      "\n",
      "2025-06-25 18:53:27,352 - INFO - PyTorch version 2.7.0 available.\n",
      "2025-06-25 18:53:27,355 - INFO - TensorFlow version 2.19.0 available.\n",
      "2025-06-25 18:53:29,214 - INFO - Directory ensured: d:\\AL FITRA\\STUDI UMM\\SEMESTER 6\\TEORI\\PENALARAN KOMPUTER\\SOURCE CODE\\PENALARAN KOMPUTER\\CBR_Penalararan_Komputer\\logs\n",
      "2025-06-25 18:53:29,215 - INFO - Directory ensured: d:\\AL FITRA\\STUDI UMM\\SEMESTER 6\\TEORI\\PENALARAN KOMPUTER\\SOURCE CODE\\PENALARAN KOMPUTER\\CBR_Penalararan_Komputer\\data\\processed\n",
      "2025-06-25 18:53:29,216 - INFO - Directory ensured: d:\\AL FITRA\\STUDI UMM\\SEMESTER 6\\TEORI\\PENALARAN KOMPUTER\\SOURCE CODE\\PENALARAN KOMPUTER\\CBR_Penalararan_Komputer\\data\\eval\n",
      "2025-06-25 18:53:29,218 - INFO - Starting retrieval process at 2025-06-25 18:53:29\n",
      "2025-06-25 18:53:29,231 - INFO - Loading SentenceTransformer model: indobenchmark/indobert-base-p1 on cpu\n",
      "2025-06-25 18:53:29,233 - INFO - Load pretrained SentenceTransformer: indobenchmark/indobert-base-p1\n",
      "2025-06-25 18:53:30,284 - WARNING - No sentence-transformers model found with name indobenchmark/indobert-base-p1. Creating a new one with mean pooling.\n",
      "2025-06-25 18:53:35,610 - INFO - Loading CrossEncoder model: cross-encoder/mmarco-mMiniLMv2-L12-H384-v1\n",
      "2025-06-25 18:53:39,188 - INFO - Loading dataset from d:\\AL FITRA\\STUDI UMM\\SEMESTER 6\\TEORI\\PENALARAN KOMPUTER\\SOURCE CODE\\PENALARAN KOMPUTER\\CBR_Penalararan_Komputer\\data\\processed\\cases.csv\n",
      "2025-06-25 18:53:39,193 - INFO - Loaded 50 cases from d:\\AL FITRA\\STUDI UMM\\SEMESTER 6\\TEORI\\PENALARAN KOMPUTER\\SOURCE CODE\\PENALARAN KOMPUTER\\CBR_Penalararan_Komputer\\data\\processed\\cases.csv\n",
      "2025-06-25 18:53:39,194 - INFO - Preprocessing texts\n",
      "2025-06-25 18:53:39,253 - INFO - Initializing BM25Okapi with k1=1.5, b=0.75\n",
      "2025-06-25 18:53:39,254 - INFO - Encoding documents\n",
      "Encoding documents: 100%|██████████| 2/2 [00:00<00:00,  2.44it/s]\n",
      "2025-06-25 18:53:40,078 - INFO - Document embeddings shape: (50, 768)\n",
      "2025-06-25 18:53:40,080 - INFO - Loading evaluation queries from d:\\AL FITRA\\STUDI UMM\\SEMESTER 6\\TEORI\\PENALARAN KOMPUTER\\SOURCE CODE\\PENALARAN KOMPUTER\\CBR_Penalararan_Komputer\\data\\eval\\queries.json\n",
      "2025-06-25 18:53:40,082 - INFO - Loaded 5 evaluation queries\n",
      "2025-06-25 18:53:40,083 - INFO - Evaluating with alpha=0.4\n"
     ]
    },
    {
     "data": {
      "application/vnd.jupyter.widget-view+json": {
       "model_id": "5c87b3dbc4c84c3a8be382fd8296d681",
       "version_major": 2,
       "version_minor": 0
      },
      "text/plain": [
       "Batches:   0%|          | 0/1 [00:00<?, ?it/s]"
      ]
     },
     "metadata": {},
     "output_type": "display_data"
    },
    {
     "data": {
      "application/vnd.jupyter.widget-view+json": {
       "model_id": "17135f68c84e44b7949aab2da2223c38",
       "version_major": 2,
       "version_minor": 0
      },
      "text/plain": [
       "Batches:   0%|          | 0/1 [00:00<?, ?it/s]"
      ]
     },
     "metadata": {},
     "output_type": "display_data"
    },
    {
     "data": {
      "application/vnd.jupyter.widget-view+json": {
       "model_id": "8eac760b07134571800098645d36f5b8",
       "version_major": 2,
       "version_minor": 0
      },
      "text/plain": [
       "Batches:   0%|          | 0/1 [00:00<?, ?it/s]"
      ]
     },
     "metadata": {},
     "output_type": "display_data"
    },
    {
     "data": {
      "application/vnd.jupyter.widget-view+json": {
       "model_id": "65afc9ebfee24e05aa652973c835abad",
       "version_major": 2,
       "version_minor": 0
      },
      "text/plain": [
       "Batches:   0%|          | 0/1 [00:00<?, ?it/s]"
      ]
     },
     "metadata": {},
     "output_type": "display_data"
    },
    {
     "data": {
      "application/vnd.jupyter.widget-view+json": {
       "model_id": "e5ba4b21c5404529aded568b89dc463e",
       "version_major": 2,
       "version_minor": 0
      },
      "text/plain": [
       "Batches:   0%|          | 0/1 [00:00<?, ?it/s]"
      ]
     },
     "metadata": {},
     "output_type": "display_data"
    },
    {
     "name": "stderr",
     "output_type": "stream",
     "text": [
      "2025-06-25 18:53:41,011 - INFO - Alpha=0.4: Accuracy@5=1.00, Recall@10=1.00, MRR=1.00\n",
      "2025-06-25 18:53:41,012 - INFO - Evaluating with alpha=0.5\n"
     ]
    },
    {
     "data": {
      "application/vnd.jupyter.widget-view+json": {
       "model_id": "871538e68f4c4c879e316fe3ce3a8874",
       "version_major": 2,
       "version_minor": 0
      },
      "text/plain": [
       "Batches:   0%|          | 0/1 [00:00<?, ?it/s]"
      ]
     },
     "metadata": {},
     "output_type": "display_data"
    },
    {
     "data": {
      "application/vnd.jupyter.widget-view+json": {
       "model_id": "ce75a6914e344462b6445be8da74909a",
       "version_major": 2,
       "version_minor": 0
      },
      "text/plain": [
       "Batches:   0%|          | 0/1 [00:00<?, ?it/s]"
      ]
     },
     "metadata": {},
     "output_type": "display_data"
    },
    {
     "data": {
      "application/vnd.jupyter.widget-view+json": {
       "model_id": "e84a24f3a5954110875fc7839f750f83",
       "version_major": 2,
       "version_minor": 0
      },
      "text/plain": [
       "Batches:   0%|          | 0/1 [00:00<?, ?it/s]"
      ]
     },
     "metadata": {},
     "output_type": "display_data"
    },
    {
     "data": {
      "application/vnd.jupyter.widget-view+json": {
       "model_id": "f3ae38048f1e4e78911c21f073ba85dd",
       "version_major": 2,
       "version_minor": 0
      },
      "text/plain": [
       "Batches:   0%|          | 0/1 [00:00<?, ?it/s]"
      ]
     },
     "metadata": {},
     "output_type": "display_data"
    },
    {
     "data": {
      "application/vnd.jupyter.widget-view+json": {
       "model_id": "a9ed4a33ad5041f589ca354fc49f7614",
       "version_major": 2,
       "version_minor": 0
      },
      "text/plain": [
       "Batches:   0%|          | 0/1 [00:00<?, ?it/s]"
      ]
     },
     "metadata": {},
     "output_type": "display_data"
    },
    {
     "name": "stderr",
     "output_type": "stream",
     "text": [
      "2025-06-25 18:53:41,811 - INFO - Alpha=0.5: Accuracy@5=1.00, Recall@10=1.00, MRR=1.00\n",
      "2025-06-25 18:53:41,812 - INFO - Evaluating with alpha=0.6\n"
     ]
    },
    {
     "data": {
      "application/vnd.jupyter.widget-view+json": {
       "model_id": "48c6ed768f2743ee8f8b671f6bc1f340",
       "version_major": 2,
       "version_minor": 0
      },
      "text/plain": [
       "Batches:   0%|          | 0/1 [00:00<?, ?it/s]"
      ]
     },
     "metadata": {},
     "output_type": "display_data"
    },
    {
     "data": {
      "application/vnd.jupyter.widget-view+json": {
       "model_id": "708c4398677e46f09b3a6b903cca07cd",
       "version_major": 2,
       "version_minor": 0
      },
      "text/plain": [
       "Batches:   0%|          | 0/1 [00:00<?, ?it/s]"
      ]
     },
     "metadata": {},
     "output_type": "display_data"
    },
    {
     "data": {
      "application/vnd.jupyter.widget-view+json": {
       "model_id": "b1207ce62601495fb37be079ec00d30f",
       "version_major": 2,
       "version_minor": 0
      },
      "text/plain": [
       "Batches:   0%|          | 0/1 [00:00<?, ?it/s]"
      ]
     },
     "metadata": {},
     "output_type": "display_data"
    },
    {
     "data": {
      "application/vnd.jupyter.widget-view+json": {
       "model_id": "cdb983dbb1ef4e3b9319d38a0bc19082",
       "version_major": 2,
       "version_minor": 0
      },
      "text/plain": [
       "Batches:   0%|          | 0/1 [00:00<?, ?it/s]"
      ]
     },
     "metadata": {},
     "output_type": "display_data"
    },
    {
     "data": {
      "application/vnd.jupyter.widget-view+json": {
       "model_id": "cff9a5ba76e74f98a76a9d02f23d24cf",
       "version_major": 2,
       "version_minor": 0
      },
      "text/plain": [
       "Batches:   0%|          | 0/1 [00:00<?, ?it/s]"
      ]
     },
     "metadata": {},
     "output_type": "display_data"
    },
    {
     "name": "stderr",
     "output_type": "stream",
     "text": [
      "2025-06-25 18:53:42,584 - INFO - Alpha=0.6: Accuracy@5=1.00, Recall@10=1.00, MRR=1.00\n",
      "2025-06-25 18:53:42,585 - INFO - Evaluating with alpha=0.7\n"
     ]
    },
    {
     "data": {
      "application/vnd.jupyter.widget-view+json": {
       "model_id": "12bd76aa619940148a35e12c04dcefdb",
       "version_major": 2,
       "version_minor": 0
      },
      "text/plain": [
       "Batches:   0%|          | 0/1 [00:00<?, ?it/s]"
      ]
     },
     "metadata": {},
     "output_type": "display_data"
    },
    {
     "data": {
      "application/vnd.jupyter.widget-view+json": {
       "model_id": "1ae441acbd7b4a46b39159aeef02ce48",
       "version_major": 2,
       "version_minor": 0
      },
      "text/plain": [
       "Batches:   0%|          | 0/1 [00:00<?, ?it/s]"
      ]
     },
     "metadata": {},
     "output_type": "display_data"
    },
    {
     "data": {
      "application/vnd.jupyter.widget-view+json": {
       "model_id": "9c64db455c0b43c38e8570f87abf268e",
       "version_major": 2,
       "version_minor": 0
      },
      "text/plain": [
       "Batches:   0%|          | 0/1 [00:00<?, ?it/s]"
      ]
     },
     "metadata": {},
     "output_type": "display_data"
    },
    {
     "data": {
      "application/vnd.jupyter.widget-view+json": {
       "model_id": "24d920a1b4fb4473ac7fc79e1f5c94b7",
       "version_major": 2,
       "version_minor": 0
      },
      "text/plain": [
       "Batches:   0%|          | 0/1 [00:00<?, ?it/s]"
      ]
     },
     "metadata": {},
     "output_type": "display_data"
    },
    {
     "data": {
      "application/vnd.jupyter.widget-view+json": {
       "model_id": "72b675af242449d691cff9fe9320c878",
       "version_major": 2,
       "version_minor": 0
      },
      "text/plain": [
       "Batches:   0%|          | 0/1 [00:00<?, ?it/s]"
      ]
     },
     "metadata": {},
     "output_type": "display_data"
    },
    {
     "name": "stderr",
     "output_type": "stream",
     "text": [
      "2025-06-25 18:53:43,276 - INFO - Alpha=0.7: Accuracy@5=1.00, Recall@10=1.00, MRR=1.00\n",
      "2025-06-25 18:53:43,277 - INFO - Evaluating with alpha=0.8\n"
     ]
    },
    {
     "data": {
      "application/vnd.jupyter.widget-view+json": {
       "model_id": "d31b1a2624f94a33a39ef4697ca654fe",
       "version_major": 2,
       "version_minor": 0
      },
      "text/plain": [
       "Batches:   0%|          | 0/1 [00:00<?, ?it/s]"
      ]
     },
     "metadata": {},
     "output_type": "display_data"
    },
    {
     "data": {
      "application/vnd.jupyter.widget-view+json": {
       "model_id": "695c0ed9e710433ea2019bc72de3fbf3",
       "version_major": 2,
       "version_minor": 0
      },
      "text/plain": [
       "Batches:   0%|          | 0/1 [00:00<?, ?it/s]"
      ]
     },
     "metadata": {},
     "output_type": "display_data"
    },
    {
     "data": {
      "application/vnd.jupyter.widget-view+json": {
       "model_id": "9f755df9f9c0472bb139134355004c58",
       "version_major": 2,
       "version_minor": 0
      },
      "text/plain": [
       "Batches:   0%|          | 0/1 [00:00<?, ?it/s]"
      ]
     },
     "metadata": {},
     "output_type": "display_data"
    },
    {
     "data": {
      "application/vnd.jupyter.widget-view+json": {
       "model_id": "f5c690a77589467ca06d4a150581c8b0",
       "version_major": 2,
       "version_minor": 0
      },
      "text/plain": [
       "Batches:   0%|          | 0/1 [00:00<?, ?it/s]"
      ]
     },
     "metadata": {},
     "output_type": "display_data"
    },
    {
     "data": {
      "application/vnd.jupyter.widget-view+json": {
       "model_id": "7748a5e01fcb43f19d519e36ae9e1e3c",
       "version_major": 2,
       "version_minor": 0
      },
      "text/plain": [
       "Batches:   0%|          | 0/1 [00:00<?, ?it/s]"
      ]
     },
     "metadata": {},
     "output_type": "display_data"
    },
    {
     "name": "stderr",
     "output_type": "stream",
     "text": [
      "2025-06-25 18:53:44,022 - INFO - Alpha=0.8: Accuracy@5=1.00, Recall@10=1.00, MRR=1.00\n",
      "2025-06-25 18:53:44,023 - INFO - Evaluating with alpha=0.9\n"
     ]
    },
    {
     "data": {
      "application/vnd.jupyter.widget-view+json": {
       "model_id": "f7c288a44b6d493fa0c3a3bf16eb9c60",
       "version_major": 2,
       "version_minor": 0
      },
      "text/plain": [
       "Batches:   0%|          | 0/1 [00:00<?, ?it/s]"
      ]
     },
     "metadata": {},
     "output_type": "display_data"
    },
    {
     "data": {
      "application/vnd.jupyter.widget-view+json": {
       "model_id": "934e04705d8d4b6288bbc8d3086be8bd",
       "version_major": 2,
       "version_minor": 0
      },
      "text/plain": [
       "Batches:   0%|          | 0/1 [00:00<?, ?it/s]"
      ]
     },
     "metadata": {},
     "output_type": "display_data"
    },
    {
     "data": {
      "application/vnd.jupyter.widget-view+json": {
       "model_id": "5880b92a5e3a4e3689266ada1840e46c",
       "version_major": 2,
       "version_minor": 0
      },
      "text/plain": [
       "Batches:   0%|          | 0/1 [00:00<?, ?it/s]"
      ]
     },
     "metadata": {},
     "output_type": "display_data"
    },
    {
     "data": {
      "application/vnd.jupyter.widget-view+json": {
       "model_id": "28929061f27242cab340e8cddd605e20",
       "version_major": 2,
       "version_minor": 0
      },
      "text/plain": [
       "Batches:   0%|          | 0/1 [00:00<?, ?it/s]"
      ]
     },
     "metadata": {},
     "output_type": "display_data"
    },
    {
     "data": {
      "application/vnd.jupyter.widget-view+json": {
       "model_id": "344342a095b74cad9100e1508969fb4a",
       "version_major": 2,
       "version_minor": 0
      },
      "text/plain": [
       "Batches:   0%|          | 0/1 [00:00<?, ?it/s]"
      ]
     },
     "metadata": {},
     "output_type": "display_data"
    },
    {
     "name": "stderr",
     "output_type": "stream",
     "text": [
      "2025-06-25 18:53:44,772 - INFO - Alpha=0.9: Accuracy@5=1.00, Recall@10=1.00, MRR=1.00\n",
      "2025-06-25 18:53:44,774 - INFO - Best alpha: 0.4 with Accuracy@5: 1.00\n"
     ]
    },
    {
     "name": "stdout",
     "output_type": "stream",
     "text": [
      "Best alpha: 0.4 with Accuracy@5: 1.00\n"
     ]
    },
    {
     "name": "stderr",
     "output_type": "stream",
     "text": [
      "Evaluating queries:   0%|          | 0/5 [00:00<?, ?it/s]"
     ]
    },
    {
     "data": {
      "application/vnd.jupyter.widget-view+json": {
       "model_id": "e8a557c444894fdfb632e4bdd43e0788",
       "version_major": 2,
       "version_minor": 0
      },
      "text/plain": [
       "Batches:   0%|          | 0/1 [00:00<?, ?it/s]"
      ]
     },
     "metadata": {},
     "output_type": "display_data"
    },
    {
     "name": "stderr",
     "output_type": "stream",
     "text": [
      "2025-06-25 18:53:44,900 - INFO - Query: Legal dispute case 1...\n",
      "2025-06-25 18:53:44,901 - INFO - Top 5 Results (ID, Score): [('CASE_1', 2.6080522537231445), ('CASE_36', -0.2090521901845932), ('CASE_18', -0.2971399426460266), ('CASE_22', -0.3112589120864868), ('CASE_33', -0.4068657457828522)]\n",
      "2025-06-25 18:53:44,901 - INFO - ✅ FOUND in Top-5: CASE_1\n",
      "Evaluating queries:  20%|██        | 1/5 [00:00<00:00,  8.10it/s]"
     ]
    },
    {
     "name": "stdout",
     "output_type": "stream",
     "text": [
      "\n",
      "Query: Legal dispute case 1\n",
      "Top 5 Results (ID, Score): [('CASE_1', 2.6080522537231445), ('CASE_36', -0.2090521901845932), ('CASE_18', -0.2971399426460266), ('CASE_22', -0.3112589120864868), ('CASE_33', -0.4068657457828522)]\n",
      "✅ FOUND in Top-5: CASE_1\n"
     ]
    },
    {
     "data": {
      "application/vnd.jupyter.widget-view+json": {
       "model_id": "676cb3c6847f427f8e8a567a000b504f",
       "version_major": 2,
       "version_minor": 0
      },
      "text/plain": [
       "Batches:   0%|          | 0/1 [00:00<?, ?it/s]"
      ]
     },
     "metadata": {},
     "output_type": "display_data"
    },
    {
     "name": "stderr",
     "output_type": "stream",
     "text": [
      "2025-06-25 18:53:45,057 - INFO - Query: Legal dispute case 2...\n",
      "2025-06-25 18:53:45,058 - INFO - Top 5 Results (ID, Score): [('CASE_2', 3.850890874862671), ('CASE_22', -0.8424013257026672), ('CASE_36', -0.8646456599235535), ('CASE_14', -0.9724109172821045), ('CASE_33', -1.0700099468231201)]\n",
      "2025-06-25 18:53:45,060 - INFO - ✅ FOUND in Top-5: CASE_2\n",
      "Evaluating queries:  40%|████      | 2/5 [00:00<00:00,  6.95it/s]"
     ]
    },
    {
     "name": "stdout",
     "output_type": "stream",
     "text": [
      "\n",
      "Query: Legal dispute case 2\n",
      "Top 5 Results (ID, Score): [('CASE_2', 3.850890874862671), ('CASE_22', -0.8424013257026672), ('CASE_36', -0.8646456599235535), ('CASE_14', -0.9724109172821045), ('CASE_33', -1.0700099468231201)]\n",
      "✅ FOUND in Top-5: CASE_2\n"
     ]
    },
    {
     "data": {
      "application/vnd.jupyter.widget-view+json": {
       "model_id": "2fbc2097dc3b46a08a6065a9d930cdd1",
       "version_major": 2,
       "version_minor": 0
      },
      "text/plain": [
       "Batches:   0%|          | 0/1 [00:00<?, ?it/s]"
      ]
     },
     "metadata": {},
     "output_type": "display_data"
    },
    {
     "name": "stderr",
     "output_type": "stream",
     "text": [
      "2025-06-25 18:53:45,256 - INFO - Query: Legal dispute case 3...\n",
      "2025-06-25 18:53:45,257 - INFO - Top 5 Results (ID, Score): [('CASE_3', 4.66757345199585), ('CASE_36', -1.095275640487671), ('CASE_34', -1.1280617713928223), ('CASE_39', -1.1465623378753662), ('CASE_33', -1.1836564540863037)]\n",
      "2025-06-25 18:53:45,259 - INFO - ✅ FOUND in Top-5: CASE_3\n",
      "Evaluating queries:  60%|██████    | 3/5 [00:00<00:00,  5.92it/s]"
     ]
    },
    {
     "name": "stdout",
     "output_type": "stream",
     "text": [
      "\n",
      "Query: Legal dispute case 3\n",
      "Top 5 Results (ID, Score): [('CASE_3', 4.66757345199585), ('CASE_36', -1.095275640487671), ('CASE_34', -1.1280617713928223), ('CASE_39', -1.1465623378753662), ('CASE_33', -1.1836564540863037)]\n",
      "✅ FOUND in Top-5: CASE_3\n"
     ]
    },
    {
     "data": {
      "application/vnd.jupyter.widget-view+json": {
       "model_id": "95f5b90bc91f42f88318473b7c5b70f3",
       "version_major": 2,
       "version_minor": 0
      },
      "text/plain": [
       "Batches:   0%|          | 0/1 [00:00<?, ?it/s]"
      ]
     },
     "metadata": {},
     "output_type": "display_data"
    },
    {
     "name": "stderr",
     "output_type": "stream",
     "text": [
      "2025-06-25 18:53:45,390 - INFO - Query: Legal dispute case 4...\n",
      "2025-06-25 18:53:45,391 - INFO - Top 5 Results (ID, Score): [('CASE_4', 5.204351425170898), ('CASE_14', -1.1908142566680908), ('CASE_6', -1.4267545938491821), ('CASE_5', -1.6177467107772827), ('CASE_3', -1.6930294036865234)]\n",
      "2025-06-25 18:53:45,392 - INFO - ✅ FOUND in Top-5: CASE_4\n",
      "Evaluating queries:  80%|████████  | 4/5 [00:00<00:00,  6.45it/s]"
     ]
    },
    {
     "name": "stdout",
     "output_type": "stream",
     "text": [
      "\n",
      "Query: Legal dispute case 4\n",
      "Top 5 Results (ID, Score): [('CASE_4', 5.204351425170898), ('CASE_14', -1.1908142566680908), ('CASE_6', -1.4267545938491821), ('CASE_5', -1.6177467107772827), ('CASE_3', -1.6930294036865234)]\n",
      "✅ FOUND in Top-5: CASE_4\n"
     ]
    },
    {
     "data": {
      "application/vnd.jupyter.widget-view+json": {
       "model_id": "76db8ff2b07c4d6aa7a024db9b1d9413",
       "version_major": 2,
       "version_minor": 0
      },
      "text/plain": [
       "Batches:   0%|          | 0/1 [00:00<?, ?it/s]"
      ]
     },
     "metadata": {},
     "output_type": "display_data"
    },
    {
     "name": "stderr",
     "output_type": "stream",
     "text": [
      "2025-06-25 18:53:45,584 - INFO - Query: Legal dispute case 5...\n",
      "2025-06-25 18:53:45,586 - INFO - Top 5 Results (ID, Score): [('CASE_5', 5.066494464874268), ('CASE_17', -1.109178900718689), ('CASE_15', -1.1389869451522827), ('CASE_6', -1.1803104877471924), ('CASE_18', -1.1884946823120117)]\n",
      "2025-06-25 18:53:45,587 - INFO - ✅ FOUND in Top-5: CASE_5\n",
      "Evaluating queries: 100%|██████████| 5/5 [00:00<00:00,  6.17it/s]\n",
      "2025-06-25 18:53:45,589 - INFO - IndoBERT-Base-P1 Accuracy@5: 5/5 = 1.00\n",
      "2025-06-25 18:53:45,590 - INFO - IndoBERT-Base-P1 Recall@10: 5/5 = 1.00\n",
      "2025-06-25 18:53:45,591 - INFO - IndoBERT-Base-P1 MRR: 1.00\n"
     ]
    },
    {
     "name": "stdout",
     "output_type": "stream",
     "text": [
      "\n",
      "Query: Legal dispute case 5\n",
      "Top 5 Results (ID, Score): [('CASE_5', 5.066494464874268), ('CASE_17', -1.109178900718689), ('CASE_15', -1.1389869451522827), ('CASE_6', -1.1803104877471924), ('CASE_18', -1.1884946823120117)]\n",
      "✅ FOUND in Top-5: CASE_5\n",
      "\n",
      "IndoBERT-Base-P1 Accuracy@5: 5/5 = 1.00\n",
      "IndoBERT-Base-P1 Recall@10: 5/5 = 1.00\n",
      "IndoBERT-Base-P1 MRR: 1.00\n"
     ]
    }
   ],
   "source": [
    "# Part 1: Import Libraries and Initialize\n",
    "import os\n",
    "import re\n",
    "import json\n",
    "import logging\n",
    "from datetime import datetime\n",
    "import pandas as pd\n",
    "import numpy as np\n",
    "from typing import List\n",
    "from sklearn.metrics.pairwise import cosine_similarity\n",
    "from sentence_transformers import SentenceTransformer, CrossEncoder\n",
    "from rank_bm25 import BM25Okapi\n",
    "from tqdm import tqdm\n",
    "import nltk\n",
    "from nltk.tokenize import word_tokenize\n",
    "from nltk.corpus import stopwords\n",
    "import torch\n",
    "\n",
    "# Define base directory (aligned with previous scripts)\n",
    "try:\n",
    "    BASE_DIR = os.path.dirname(os.getcwd())  # Parent of 'notebooks'\n",
    "except NameError:\n",
    "    BASE_DIR = os.getcwd()  # Fallback for interactive environments like Jupyter\n",
    "\n",
    "# Define paths\n",
    "PATH_CSV = os.path.join(BASE_DIR, 'data', 'processed', 'cases.csv')\n",
    "PATH_QUERIES = os.path.join(BASE_DIR, 'data', 'eval', 'queries.json')\n",
    "LOG_DIR = os.path.join(BASE_DIR, 'logs')\n",
    "LOG_PATH = os.path.join(LOG_DIR, 'retrieval_bert.log')\n",
    "\n",
    "# Validate path length for Windows\n",
    "MAX_PATH_LENGTH = 260\n",
    "\n",
    "def validate_path(path):\n",
    "    if len(path) > MAX_PATH_LENGTH:\n",
    "        raise ValueError(f\"Path {path} exceeds Windows maximum length of {MAX_PATH_LENGTH} characters\")\n",
    "    return path\n",
    "\n",
    "# Ensure directories exist\n",
    "for path in [LOG_DIR, os.path.dirname(PATH_CSV), os.path.dirname(PATH_QUERIES)]:\n",
    "    try:\n",
    "        validate_path(path)\n",
    "        os.makedirs(path, exist_ok=True)\n",
    "        logging.info(f\"Directory ensured: {path}\")\n",
    "    except ValueError as e:\n",
    "        logging.error(f\"Path validation failed: {e}\")\n",
    "        raise\n",
    "    except Exception as e:\n",
    "        logging.error(f\"Failed to create directory {path}: {e}\")\n",
    "        raise\n",
    "\n",
    "# Initialize logging\n",
    "logging.basicConfig(\n",
    "    level=logging.INFO,\n",
    "    format='%(asctime)s - %(levelname)s - %(message)s',\n",
    "    handlers=[\n",
    "        logging.FileHandler(LOG_PATH, mode='w', encoding='utf-8'),  # Overwrite mode\n",
    "        logging.StreamHandler()\n",
    "    ],\n",
    "    force=True\n",
    ")\n",
    "logger = logging.getLogger(__name__)\n",
    "logger.info(\"Starting retrieval process at %s\", datetime.now().strftime('%Y-%m-%d %H:%M:%S'))\n",
    "\n",
    "# Download NLTK resources\n",
    "try:\n",
    "    nltk.data.find('tokenizers/punkt')\n",
    "except LookupError:\n",
    "    logger.info(\"Downloading NLTK punkt tokenizer\")\n",
    "    nltk.download('punkt', quiet=True)\n",
    "try:\n",
    "    nltk.data.find('corpora/stopwords')\n",
    "except LookupError:\n",
    "    logger.info(\"Downloading NLTK stopwords\")\n",
    "    nltk.download('stopwords', quiet=True)\n",
    "\n",
    "# Indonesian stopwords\n",
    "indo_stopwords = set(stopwords.words('indonesian'))\n",
    "\n",
    "# Part 2: Load Models\n",
    "try:\n",
    "    model_name = \"indobenchmark/indobert-base-p1\"\n",
    "    device = 'cuda' if torch.cuda.is_available() else 'cpu'\n",
    "    logger.info(f\"Loading SentenceTransformer model: {model_name} on {device}\")\n",
    "    model = SentenceTransformer(model_name, device=device)\n",
    "    cross_encoder_model = \"cross-encoder/mmarco-mMiniLMv2-L12-H384-v1\"\n",
    "    logger.info(f\"Loading CrossEncoder model: {cross_encoder_model}\")\n",
    "    cross_encoder = CrossEncoder(cross_encoder_model, device=device)\n",
    "except Exception as e:\n",
    "    logger.error(f\"Failed to load models: {e}\")\n",
    "    print(f\"Error: Failed to load models: {e}\")\n",
    "    raise\n",
    "\n",
    "# Part 3: Load Dataset\n",
    "try:\n",
    "    logger.info(f\"Loading dataset from {PATH_CSV}\")\n",
    "    df = pd.read_csv(PATH_CSV)\n",
    "    texts = df[\"ringkasan_fakta\"].fillna(\"\").tolist()\n",
    "    case_ids = df[\"case_id\"].tolist()\n",
    "    if not texts or not case_ids:\n",
    "        raise ValueError(\"Dataset is empty or missing required columns ('ringkasan_fakta', 'case_id').\")\n",
    "    logger.info(f\"Loaded {len(df)} cases from {PATH_CSV}\")\n",
    "except FileNotFoundError:\n",
    "    logger.error(f\"File {PATH_CSV} not found. Please ensure 02_representation.py has run successfully.\")\n",
    "    print(f\"Error: File {PATH_CSV} not found.\")\n",
    "    raise\n",
    "except Exception as e:\n",
    "    logger.error(f\"Failed to load dataset: {e}\")\n",
    "    print(f\"Error loading {PATH_CSV}: {e}\")\n",
    "    raise\n",
    "\n",
    "# Part 4: Synonym Dictionary and Preprocessing\n",
    "synonym_dict = {\n",
    "    \"korupsi\": [\"korup\", \"penyalahgunaan\", \"penggelapan\", \"suap\"],\n",
    "    \"putusan\": [\"keputusan\", \"vonis\", \"amar\", \"ketetapan\"],\n",
    "    \"pidana\": [\"hukuman\", \"sanksi\", \"jerat\", \"penalti\"],\n",
    "    \"penjara\": [\"kurungan\", \"tahanan\", \"hukuman badan\"],\n",
    "    \"denda\": [\"sanksi uang\", \"multa\", \"bayar ganti\"],\n",
    "    \"ekspor\": [\"export\", \"pengiriman luar negeri\", \"kirim luar\"],\n",
    "    \"minyak\": [\"oil\", \"goreng\", \"cpo\", \"kelapa sawit\"],\n",
    "    \"peninjauan\": [\"pk\", \"kembali\", \"revisi\"],\n",
    "    \"dakwaan\": [\"tuduhan\", \"dakwa\", \"gugatan\"],\n",
    "    \"persetujuan\": [\"izin\", \"sah\", \"legalisasi\"],\n",
    "    \"kerugian\": [\"rugi\", \"kehilangan\", \"defisit\"],\n",
    "}\n",
    "\n",
    "def expand_query(query: str) -> str:\n",
    "    \"\"\"Expand query with synonyms for better recall.\"\"\"\n",
    "    words = query.split()\n",
    "    expanded_words = []\n",
    "    for word in words:\n",
    "        expanded_words.append(word)\n",
    "        if word in synonym_dict:\n",
    "            expanded_words.extend(synonym_dict[word])\n",
    "    return \" \".join(set(expanded_words))  # Remove duplicates\n",
    "\n",
    "def preprocess_text(text: str) -> str:\n",
    "    \"\"\"Preprocess text while preserving legal terms and removing stopwords.\"\"\"\n",
    "    if not isinstance(text, str):\n",
    "        text = str(text)\n",
    "    text = text.lower()\n",
    "    # Preserve legal phrases\n",
    "    text = re.sub(r'uu\\s+no', 'undang_undang_nomor', text, flags=re.IGNORECASE)\n",
    "    text = re.sub(r'pasal\\s+\\d+', 'pasal', text, flags=re.IGNORECASE)\n",
    "    text = re.sub(r'[^\\w\\s]', ' ', text)\n",
    "    text = re.sub(r'\\s+', ' ', text).strip()\n",
    "    try:\n",
    "        tokens = word_tokenize(text)\n",
    "        tokens = [t for t in tokens if t not in indo_stopwords or t in synonym_dict]\n",
    "        return ' '.join(tokens) if tokens else \"empty\"\n",
    "    except Exception as e:\n",
    "        logger.warning(f\"Error tokenizing text: {e}. Returning empty string.\")\n",
    "        return \"empty\"\n",
    "\n",
    "logger.info(\"Preprocessing texts\")\n",
    "texts = [preprocess_text(text) for text in texts]\n",
    "tokenized_texts = [text.split() for text in texts]\n",
    "try:\n",
    "    logger.info(\"Initializing BM25Okapi with k1=1.5, b=0.75\")\n",
    "    bm25 = BM25Okapi(tokenized_texts, k1=1.5, b=0.75)\n",
    "except Exception as e:\n",
    "    logger.error(f\"Failed to initialize BM25: {e}\")\n",
    "    print(f\"Error: Failed to initialize BM25: {e}\")\n",
    "    raise\n",
    "\n",
    "# Part 5: Encode Documents\n",
    "def encode_documents(texts: List[str], batch_size: int = 32) -> np.ndarray:\n",
    "    \"\"\"Encode documents in batches.\"\"\"\n",
    "    embeddings = []\n",
    "    logger.info(\"Encoding documents\")\n",
    "    for i in tqdm(range(0, len(texts), batch_size), desc=\"Encoding documents\"):\n",
    "        batch = texts[i:i + batch_size]\n",
    "        try:\n",
    "            batch_embeddings = model.encode(\n",
    "                batch,\n",
    "                convert_to_numpy=True,\n",
    "                show_progress_bar=False,\n",
    "                batch_size=batch_size,\n",
    "                normalize_embeddings=True,\n",
    "                max_seq_length=512\n",
    "            )\n",
    "            embeddings.append(batch_embeddings)\n",
    "        except Exception as e:\n",
    "            logger.error(f\"Error on batch {i // batch_size}: {e}\")\n",
    "            embeddings.append(np.zeros((len(batch), model.get_sentence_embedding_dimension())))\n",
    "    if not embeddings:\n",
    "        raise ValueError(\"No document embeddings generated.\")\n",
    "    return np.vstack(embeddings)\n",
    "\n",
    "try:\n",
    "    doc_embeddings = encode_documents(texts)\n",
    "    logger.info(f\"Document embeddings shape: {doc_embeddings.shape}\")\n",
    "except Exception as e:\n",
    "    logger.error(f\"Failed to encode documents: {e}\")\n",
    "    print(f\"Error: Failed to encode documents: {e}\")\n",
    "    raise\n",
    "\n",
    "# Part 6: Encode Query\n",
    "def encode_query(text: str) -> np.ndarray:\n",
    "    \"\"\"Encode a single query.\"\"\"\n",
    "    text = preprocess_text(text)\n",
    "    text = expand_query(text)\n",
    "    try:\n",
    "        embedding = model.encode(\n",
    "            [text],\n",
    "            convert_to_numpy=True,\n",
    "            show_progress_bar=False,\n",
    "            normalize_embeddings=True,\n",
    "            max_seq_length=512\n",
    "        )\n",
    "        return embedding[0]\n",
    "    except Exception as e:\n",
    "        logger.error(f\"Failed to encode query: {e}\")\n",
    "        return np.zeros(model.get_sentence_embedding_dimension())\n",
    "\n",
    "# Part 7: Retrieval Function\n",
    "def retrieve(query: str, k: int = 10, alpha: float = 0.7) -> List[tuple]:\n",
    "    \"\"\"Retrieve top-k documents using hybrid scoring and reranking.\"\"\"\n",
    "    query_clean = preprocess_text(query)\n",
    "    query_vec = encode_query(query_clean)\n",
    "    try:\n",
    "        similarities = cosine_similarity([query_vec], doc_embeddings)[0]\n",
    "    except Exception as e:\n",
    "        logger.error(f\"Failed to compute cosine similarity: {e}\")\n",
    "        similarities = np.zeros(len(doc_embeddings))\n",
    "\n",
    "    tokenized_query = query_clean.split()\n",
    "    try:\n",
    "        bm25_scores = bm25.get_scores(tokenized_query)\n",
    "        bm25_scores = bm25_scores / (np.max(bm25_scores) + 1e-10)\n",
    "    except Exception as e:\n",
    "        logger.error(f\"Failed to compute BM25 scores: {e}\")\n",
    "        bm25_scores = np.zeros(len(doc_embeddings))\n",
    "\n",
    "    combined_scores = alpha * similarities + (1 - alpha) * bm25_scores\n",
    "    top_k_idx = combined_scores.argsort()[-k:][::-1]\n",
    "    top_k_cases = [case_ids[i] for i in top_k_idx]\n",
    "    pairs = [[query_clean, texts[i]] for i in top_k_idx]\n",
    "\n",
    "    try:\n",
    "        rerank_scores = cross_encoder.predict(pairs)\n",
    "    except Exception as e:\n",
    "        logger.error(f\"Failed to rerank: {e}\")\n",
    "        rerank_scores = np.zeros(len(pairs))\n",
    "\n",
    "    reranked_idx = np.argsort(rerank_scores)[::-1][:min(5, len(rerank_scores))]\n",
    "    results = [(top_k_cases[i], float(rerank_scores[i])) for i in reranked_idx]\n",
    "    return results\n",
    "\n",
    "# Part 8: Evaluation Metrics\n",
    "def calculate_mrr(results, true_id):\n",
    "    \"\"\"Calculate Mean Reciprocal Rank.\"\"\"\n",
    "    for rank, (case_id, _) in enumerate(results, 1):\n",
    "        if case_id == true_id:\n",
    "            return 1 / rank\n",
    "    return 0\n",
    "\n",
    "# Part 9: Load Evaluation Queries\n",
    "try:\n",
    "    logger.info(f\"Loading evaluation queries from {PATH_QUERIES}\")\n",
    "    with open(PATH_QUERIES, \"r\", encoding=\"utf-8\") as f:\n",
    "        eval_queries = json.load(f)\n",
    "    logger.info(f\"Loaded {len(eval_queries)} evaluation queries\")\n",
    "except FileNotFoundError:\n",
    "    logger.error(f\"File {PATH_QUERIES} not found. Please ensure queries.json exists.\")\n",
    "    print(f\"Error: File {PATH_QUERIES} not found.\")\n",
    "    raise\n",
    "except Exception as e:\n",
    "    logger.error(f\"Error loading {PATH_QUERIES}: {e}\")\n",
    "    print(f\"Error loading {PATH_QUERIES}: {e}\")\n",
    "    raise\n",
    "\n",
    "# Part 10: Hyperparameter Tuning\n",
    "alpha_values = [0.4, 0.5, 0.6, 0.7, 0.8, 0.9]\n",
    "best_alpha = 0.7\n",
    "best_accuracy = 0\n",
    "\n",
    "for alpha in alpha_values:\n",
    "    logger.info(f\"Evaluating with alpha={alpha}\")\n",
    "    correct_5 = 0\n",
    "    correct_10 = 0\n",
    "    mrr_sum = 0\n",
    "    for item in eval_queries:\n",
    "        query = item[\"query\"]\n",
    "        true_id = item[\"case_id\"]\n",
    "        try:\n",
    "            results = retrieve(query, k=10, alpha=alpha)\n",
    "            top_5 = results[:5]\n",
    "            if any(true_id == result[0] for result in top_5):\n",
    "                correct_5 += 1\n",
    "            if any(true_id == result[0] for result in results):\n",
    "                correct_10 += 1\n",
    "            mrr_sum += calculate_mrr(results, true_id)\n",
    "        except Exception as e:\n",
    "            logger.error(f\"Error evaluating query '{query[:50]}...': {e}\")\n",
    "            continue\n",
    "\n",
    "    accuracy_5 = correct_5 / len(eval_queries)\n",
    "    logger.info(f\"Alpha={alpha}: Accuracy@5={accuracy_5:.2f}, Recall@10={correct_10 / len(eval_queries):.2f}, MRR={mrr_sum / len(eval_queries):.2f}\")\n",
    "    if accuracy_5 > best_accuracy:\n",
    "        best_accuracy = accuracy_5\n",
    "        best_alpha = alpha\n",
    "\n",
    "logger.info(f\"Best alpha: {best_alpha} with Accuracy@5: {best_accuracy:.2f}\")\n",
    "print(f\"Best alpha: {best_alpha} with Accuracy@5: {best_accuracy:.2f}\")\n",
    "\n",
    "# Part 11: Final Evaluation with Best Alpha\n",
    "correct_5 = 0\n",
    "correct_10 = 0\n",
    "mrr_sum = 0\n",
    "for item in tqdm(eval_queries, desc=\"Evaluating queries\"):\n",
    "    query = item[\"query\"]\n",
    "    true_id = item[\"case_id\"]\n",
    "    try:\n",
    "        results = retrieve(query, k=10, alpha=best_alpha)\n",
    "        top_5 = results[:5]\n",
    "        logger.info(f\"Query: {query[:100]}...\")\n",
    "        logger.info(f\"Top 5 Results (ID, Score): {top_5}\")\n",
    "        print(f\"\\nQuery: {query}\")\n",
    "        print(f\"Top 5 Results (ID, Score): {top_5}\")\n",
    "\n",
    "        if any(true_id == result[0] for result in top_5):\n",
    "            logger.info(f\"✅ FOUND in Top-5: {true_id}\")\n",
    "            print(f\"✅ FOUND in Top-5: {true_id}\")\n",
    "            correct_5 += 1\n",
    "        else:\n",
    "            logger.info(f\"❌ NOT FOUND in Top-5: {true_id}\")\n",
    "            print(f\"❌ NOT FOUND in Top-5: {true_id}\")\n",
    "            try:\n",
    "                true_idx = case_ids.index(true_id)\n",
    "                true_text = texts[true_idx][:300] + \"...\" if len(texts[true_idx]) > 300 else texts[true_idx]\n",
    "                logger.info(f\"True Case Text: {true_text}\")\n",
    "                print(f\"True Case Text: {true_text}\")\n",
    "                query_words = set(preprocess_text(query).split())\n",
    "                true_words = set(true_text.split())\n",
    "                common_words = query_words.intersection(true_words)\n",
    "                logger.info(f\"Common Words: {common_words}\")\n",
    "                print(f\"Common Words: {common_words}\")\n",
    "                query_vec = encode_query(query)\n",
    "                true_vec = doc_embeddings[true_idx]\n",
    "                cos_sim = cosine_similarity([query_vec], [true_vec])[0][0]\n",
    "                logger.info(f\"Cosine Similarity with True Doc: {cos_sim:.4f}\")\n",
    "                print(f\"Cosine Similarity with True Doc: {cos_sim:.4f}\")\n",
    "            except ValueError:\n",
    "                logger.warning(f\"True case ID {true_id} not found in dataset.\")\n",
    "                print(f\"Warning: True case ID {true_id} not found in dataset.\")\n",
    "\n",
    "        if any(true_id == result[0] for result in results):\n",
    "            correct_10 += 1\n",
    "        mrr_sum += calculate_mrr(results, true_id)\n",
    "    except Exception as e:\n",
    "        logger.error(f\"Error evaluating query '{query[:50]}...': {e}\")\n",
    "        print(f\"Error evaluating query: {e}\")\n",
    "        continue\n",
    "\n",
    "# Part 12: Print Final Results\n",
    "logger.info(f\"IndoBERT-Base-P1 Accuracy@5: {correct_5}/{len(eval_queries)} = {correct_5 / len(eval_queries):.2f}\")\n",
    "logger.info(f\"IndoBERT-Base-P1 Recall@10: {correct_10}/{len(eval_queries)} = {correct_10 / len(eval_queries):.2f}\")\n",
    "logger.info(f\"IndoBERT-Base-P1 MRR: {mrr_sum / len(eval_queries):.2f}\")\n",
    "print(f\"\\nIndoBERT-Base-P1 Accuracy@5: {correct_5}/{len(eval_queries)} = {correct_5 / len(eval_queries):.2f}\")\n",
    "print(f\"IndoBERT-Base-P1 Recall@10: {correct_10}/{len(eval_queries)} = {correct_10 / len(eval_queries):.2f}\")\n",
    "print(f\"IndoBERT-Base-P1 MRR: {mrr_sum / len(eval_queries):.2f}\")"
   ]
  },
  {
   "cell_type": "markdown",
   "id": "df3f823a",
   "metadata": {},
   "source": [
    "### Logistic Regression"
   ]
  },
  {
   "cell_type": "code",
   "execution_count": 15,
   "id": "670c2929",
   "metadata": {},
   "outputs": [
    {
     "name": "stderr",
     "output_type": "stream",
     "text": [
      "2025-06-25 18:54:04,519 - INFO - Directory ensured: d:\\AL FITRA\\STUDI UMM\\SEMESTER 6\\TEORI\\PENALARAN KOMPUTER\\SOURCE CODE\\PENALARAN KOMPUTER\\CBR_Penalararan_Komputer\\logs\n",
      "2025-06-25 18:54:04,521 - INFO - Directory ensured: d:\\AL FITRA\\STUDI UMM\\SEMESTER 6\\TEORI\\PENALARAN KOMPUTER\\SOURCE CODE\\PENALARAN KOMPUTER\\CBR_Penalararan_Komputer\\data\\processed\n",
      "2025-06-25 18:54:04,522 - INFO - Directory ensured: d:\\AL FITRA\\STUDI UMM\\SEMESTER 6\\TEORI\\PENALARAN KOMPUTER\\SOURCE CODE\\PENALARAN KOMPUTER\\CBR_Penalararan_Komputer\\data\\eval\n",
      "2025-06-25 18:54:04,524 - INFO - Starting retrieval process at 2025-06-25 18:54:04\n",
      "2025-06-25 18:54:04,527 - INFO - Loaded 50 cases from d:\\AL FITRA\\STUDI UMM\\SEMESTER 6\\TEORI\\PENALARAN KOMPUTER\\SOURCE CODE\\PENALARAN KOMPUTER\\CBR_Penalararan_Komputer\\data\\processed\\cases.csv\n",
      "2025-06-25 18:54:04,532 - INFO - TF-IDF matrix shape: (50, 267)\n",
      "2025-06-25 18:54:04,534 - INFO - Loaded 5 evaluation queries from d:\\AL FITRA\\STUDI UMM\\SEMESTER 6\\TEORI\\PENALARAN KOMPUTER\\SOURCE CODE\\PENALARAN KOMPUTER\\CBR_Penalararan_Komputer\\data\\eval\\queries.json\n",
      "2025-06-25 18:54:04,561 - INFO - Training data shape: (100, 537)\n",
      "2025-06-25 18:54:04,562 - INFO - Class distribution: [50 50]\n",
      "2025-06-25 18:54:04,699 - INFO - Best Logistic Regression Parameters: {'C': 0.01}\n",
      "2025-06-25 18:54:04,700 - ERROR - Error training Logistic Regression: 'GridSearchCV' object has no attribute 'best_score'\n",
      "2025-06-25 18:54:04,723 - INFO - Query: Legal dispute case 1...\n",
      "2025-06-25 18:54:04,724 - INFO - Top 5 Results (ID, Score): [('CASE_1', 0.6088289384970411), ('CASE_2', 0.5958438000633589), ('CASE_3', 0.5958438000633589), ('CASE_4', 0.5958438000633589), ('CASE_5', 0.5958438000633589)]\n",
      "2025-06-25 18:54:04,725 - INFO - ✅ FOUND in Top-5: CASE_1\n",
      "2025-06-25 18:54:04,749 - INFO - Query: Legal dispute case 2...\n"
     ]
    },
    {
     "name": "stdout",
     "output_type": "stream",
     "text": [
      "Training data shape: (100, 537)\n",
      "Class distribution: [50 50]\n",
      "Error training Logistic Regression: 'GridSearchCV' object has no attribute 'best_score'\n",
      "\n",
      "Query: Legal dispute case 1\n",
      "Top 5 Results (ID, Score): [('CASE_1', 0.6088289384970411), ('CASE_2', 0.5958438000633589), ('CASE_3', 0.5958438000633589), ('CASE_4', 0.5958438000633589), ('CASE_5', 0.5958438000633589)]\n",
      "✅ FOUND in Top-5: CASE_1\n"
     ]
    },
    {
     "name": "stderr",
     "output_type": "stream",
     "text": [
      "2025-06-25 18:54:04,751 - INFO - Top 5 Results (ID, Score): [('CASE_2', 0.6088289384970411), ('CASE_1', 0.5958438000633589), ('CASE_3', 0.5958438000633589), ('CASE_4', 0.5958438000633589), ('CASE_5', 0.5958438000633589)]\n",
      "2025-06-25 18:54:04,751 - INFO - ✅ FOUND in Top-5: CASE_2\n",
      "2025-06-25 18:54:04,775 - INFO - Query: Legal dispute case 3...\n",
      "2025-06-25 18:54:04,776 - INFO - Top 5 Results (ID, Score): [('CASE_3', 0.6088289384970411), ('CASE_1', 0.5958438000633589), ('CASE_2', 0.5958438000633589), ('CASE_4', 0.5958438000633589), ('CASE_5', 0.5958438000633589)]\n",
      "2025-06-25 18:54:04,776 - INFO - ✅ FOUND in Top-5: CASE_3\n",
      "2025-06-25 18:54:04,805 - INFO - Query: Legal dispute case 4...\n",
      "2025-06-25 18:54:04,806 - INFO - Top 5 Results (ID, Score): [('CASE_4', 0.6088289384970411), ('CASE_1', 0.5958438000633589), ('CASE_2', 0.5958438000633589), ('CASE_3', 0.5958438000633589), ('CASE_5', 0.5958438000633589)]\n",
      "2025-06-25 18:54:04,806 - INFO - ✅ FOUND in Top-5: CASE_4\n",
      "2025-06-25 18:54:04,831 - INFO - Query: Legal dispute case 5...\n",
      "2025-06-25 18:54:04,832 - INFO - Top 5 Results (ID, Score): [('CASE_5', 0.6088289384970411), ('CASE_1', 0.5958438000633589), ('CASE_2', 0.5958438000633589), ('CASE_3', 0.5958438000633589), ('CASE_4', 0.5958438000633589)]\n",
      "2025-06-25 18:54:04,832 - INFO - ✅ FOUND in Top-5: CASE_5\n",
      "2025-06-25 18:54:04,833 - INFO - LogReg Pairwise Accuracy@5: 5/5 = 1.00\n",
      "2025-06-25 18:54:04,834 - INFO - LogReg Pairwise Recall@10: 5/5 = 1.00\n"
     ]
    },
    {
     "name": "stdout",
     "output_type": "stream",
     "text": [
      "\n",
      "Query: Legal dispute case 2\n",
      "Top 5 Results (ID, Score): [('CASE_2', 0.6088289384970411), ('CASE_1', 0.5958438000633589), ('CASE_3', 0.5958438000633589), ('CASE_4', 0.5958438000633589), ('CASE_5', 0.5958438000633589)]\n",
      "✅ FOUND in Top-5: CASE_2\n",
      "\n",
      "Query: Legal dispute case 3\n",
      "Top 5 Results (ID, Score): [('CASE_3', 0.6088289384970411), ('CASE_1', 0.5958438000633589), ('CASE_2', 0.5958438000633589), ('CASE_4', 0.5958438000633589), ('CASE_5', 0.5958438000633589)]\n",
      "✅ FOUND in Top-5: CASE_3\n",
      "\n",
      "Query: Legal dispute case 4\n",
      "Top 5 Results (ID, Score): [('CASE_4', 0.6088289384970411), ('CASE_1', 0.5958438000633589), ('CASE_2', 0.5958438000633589), ('CASE_3', 0.5958438000633589), ('CASE_5', 0.5958438000633589)]\n",
      "✅ FOUND in Top-5: CASE_4\n",
      "\n",
      "Query: Legal dispute case 5\n",
      "Top 5 Results (ID, Score): [('CASE_5', 0.6088289384970411), ('CASE_1', 0.5958438000633589), ('CASE_2', 0.5958438000633589), ('CASE_3', 0.5958438000633589), ('CASE_4', 0.5958438000633589)]\n",
      "✅ FOUND in Top-5: CASE_5\n",
      "\n",
      "LogReg Pairwise Accuracy@5: 5/5 = 1.00\n",
      "LogReg Pairwise Recall@10: 5/5 = 1.00\n"
     ]
    }
   ],
   "source": [
    "# Part 1: Import Libraries and Initialize\n",
    "import os\n",
    "import re\n",
    "import json\n",
    "import logging\n",
    "from datetime import datetime\n",
    "import pandas as pd\n",
    "import numpy as np\n",
    "from typing import List\n",
    "from sklearn.feature_extraction.text import TfidfVectorizer\n",
    "from sklearn.linear_model import LogisticRegression\n",
    "from sklearn.model_selection import GridSearchCV\n",
    "from sklearn.metrics.pairwise import cosine_similarity\n",
    "\n",
    "# Define base directory (aligned with previous scripts)\n",
    "try:\n",
    "    BASE_DIR = os.path.dirname(os.getcwd())  # Parent of 'notebooks'\n",
    "except NameError:\n",
    "    BASE_DIR = os.getcwd()  # Fallback for interactive environments like Jupyter\n",
    "\n",
    "# Define paths\n",
    "PATH_CSV = os.path.join(BASE_DIR, 'data', 'processed', 'cases.csv')\n",
    "PATH_QUERIES = os.path.join(BASE_DIR, 'data', 'eval', 'queries.json')\n",
    "LOG_DIR = os.path.join(BASE_DIR, 'logs')\n",
    "LOG_PATH = os.path.join(LOG_DIR, 'retrieval_logreg.log')\n",
    "\n",
    "# Validate path length for Windows\n",
    "MAX_PATH_LENGTH = 260\n",
    "\n",
    "def validate_path(path):\n",
    "    if len(path) > MAX_PATH_LENGTH:\n",
    "        raise ValueError(f\"Path {path} exceeds Windows maximum length of {MAX_PATH_LENGTH} characters\")\n",
    "    return path\n",
    "\n",
    "# Ensure directories exist\n",
    "for path in [LOG_DIR, os.path.dirname(PATH_CSV), os.path.dirname(PATH_QUERIES)]:\n",
    "    try:\n",
    "        validate_path(path)\n",
    "        os.makedirs(path, exist_ok=True)\n",
    "        logging.info(f\"Directory ensured: {path}\")\n",
    "    except ValueError as e:\n",
    "        logging.error(f\"Path validation failed: {e}\")\n",
    "        raise\n",
    "    except Exception as e:\n",
    "        logging.error(f\"Failed to create directory {path}: {e}\")\n",
    "        raise\n",
    "\n",
    "# Initialize logging\n",
    "logging.basicConfig(\n",
    "    level=logging.INFO,\n",
    "    format='%(asctime)s - %(levelname)s - %(message)s',\n",
    "    handlers=[\n",
    "        logging.FileHandler(LOG_PATH, mode='w', encoding='utf-8'),  # Overwrite mode\n",
    "        logging.StreamHandler()\n",
    "    ],\n",
    "    force=True\n",
    ")\n",
    "logging.info(\"Starting retrieval process at %s\", datetime.now().strftime('%Y-%m-%d %H:%M:%S'))\n",
    "\n",
    "# Part 2: Text Preprocessing\n",
    "def preprocess_text(text: str) -> str:\n",
    "    \"\"\"Preprocess text by lowercasing, removing punctuation, and normalizing spaces.\"\"\"\n",
    "    text = text.lower()\n",
    "    text = re.sub(r'[^\\w\\s]', '', text)\n",
    "    text = re.sub(r'\\s+', ' ', text).strip()\n",
    "    return text\n",
    "\n",
    "# Part 3: Feature Extraction\n",
    "def extract_features(query_vec, doc_vec, query_text: str, doc_text: str) -> np.ndarray:\n",
    "    \"\"\"Extract features including TF-IDF vectors, cosine similarity, word overlap, and coverage.\"\"\"\n",
    "    query_vec = query_vec.toarray()[0]\n",
    "    doc_vec = doc_vec.toarray()[0]\n",
    "    cos_sim = cosine_similarity([query_vec], [doc_vec])[0][0]\n",
    "    query_words = set(query_text.split())\n",
    "    doc_words = set(doc_text.split())\n",
    "    overlap = len(query_words.intersection(doc_words)) / max(len(query_words), 1)\n",
    "    coverage = len(query_words.intersection(doc_words)) / max(len(query_words), 1)\n",
    "    combined_vec = np.concatenate([query_vec, doc_vec, [cos_sim, overlap, coverage]])\n",
    "    return combined_vec\n",
    "\n",
    "# Part 4: Load and Prepare Data\n",
    "try:\n",
    "    df = pd.read_csv(PATH_CSV)\n",
    "    logging.info(f\"Loaded {len(df)} cases from {PATH_CSV}\")\n",
    "except FileNotFoundError:\n",
    "    logging.error(f\"File {PATH_CSV} not found. Please ensure 02_representation.py has run successfully.\")\n",
    "    print(f\"Error: File {PATH_CSV} not found.\")\n",
    "    exit(1)\n",
    "except Exception as e:\n",
    "    logging.error(f\"Error loading {PATH_CSV}: {e}\")\n",
    "    print(f\"Error loading {PATH_CSV}: {e}\")\n",
    "    exit(1)\n",
    "\n",
    "texts = df[\"ringkasan_fakta\"].fillna(\"\").apply(preprocess_text)\n",
    "case_ids = df[\"case_id\"].tolist()\n",
    "\n",
    "# TF-IDF Vectorization\n",
    "id_stop_words = [\n",
    "    \"dan\", \"di\", \"dari\", \"ke\", \"pada\", \"dengan\", \"untuk\", \"yang\", \"ini\", \"itu\",\n",
    "    \"adalah\", \"tersebut\", \"sebagai\", \"oleh\", \"atau\", \"tetapi\", \"karena\", \"jika\",\n",
    "    \"dalam\", \"bagi\", \"tentang\", \"melalui\", \"serta\", \"maka\", \"lagi\", \"sudah\",\n",
    "    \"belum\", \"hanya\", \"saja\", \"bahwa\", \"apa\", \"siapa\", \"bagaimana\", \"kapan\",\n",
    "    \"dimana\", \"kenapa\", \"sejak\", \"hingga\", \"agar\", \"supaya\", \"meskipun\", \"walau\",\n",
    "    \"kecuali\", \"terhadap\", \"antara\", \"selain\", \"setiap\", \"sebelum\", \"sesudah\"\n",
    "]\n",
    "vectorizer = TfidfVectorizer(\n",
    "    max_features=4000,\n",
    "    ngram_range=(1, 3),\n",
    "    stop_words=id_stop_words\n",
    ")\n",
    "try:\n",
    "    tfidf_matrix = vectorizer.fit_transform(texts)\n",
    "    logging.info(f\"TF-IDF matrix shape: {tfidf_matrix.shape}\")\n",
    "except Exception as e:\n",
    "    logging.error(f\"Error in TF-IDF vectorization: {e}\")\n",
    "    print(f\"Error in TF-IDF vectorization: {e}\")\n",
    "    exit(1)\n",
    "\n",
    "# Load evaluation queries\n",
    "try:\n",
    "    with open(PATH_QUERIES, \"r\", encoding=\"utf-8\") as f:\n",
    "        eval_queries = json.load(f)\n",
    "    logging.info(f\"Loaded {len(eval_queries)} evaluation queries from {PATH_QUERIES}\")\n",
    "except FileNotFoundError:\n",
    "    logging.error(f\"File {PATH_QUERIES} not found. Please ensure queries.json exists.\")\n",
    "    print(f\"Error: File {PATH_QUERIES} not found.\")\n",
    "    exit(1)\n",
    "except Exception as e:\n",
    "    logging.error(f\"Error loading {PATH_QUERIES}: {e}\")\n",
    "    print(f\"Error loading {PATH_QUERIES}: {e}\")\n",
    "    exit(1)\n",
    "\n",
    "# Part 5: Prepare Training Data\n",
    "X_train = []\n",
    "y_train = []\n",
    "for item in eval_queries:\n",
    "    query = preprocess_text(item[\"query\"])\n",
    "    query_vec = vectorizer.transform([query])\n",
    "    try:\n",
    "        true_id = item[\"case_id\"]\n",
    "        true_idx = case_ids.index(true_id)\n",
    "    except ValueError:\n",
    "        logging.warning(f\"Case ID {true_id} not found in dataset. Skipping query: {item['query'][:50]}...\")\n",
    "        continue\n",
    "\n",
    "    true_vec = tfidf_matrix[true_idx]\n",
    "    pos_features = extract_features(query_vec, true_vec, query, texts[true_idx])\n",
    "\n",
    "    neg_indices = [i for i in range(len(case_ids)) if i != true_idx]\n",
    "    neg_samples = np.random.choice(neg_indices, size=min(10, len(neg_indices)), replace=False)\n",
    "\n",
    "    for neg_idx in neg_samples:\n",
    "        neg_vec = tfidf_matrix[neg_idx]\n",
    "        neg_features = extract_features(query_vec, neg_vec, query, texts[neg_idx])\n",
    "        diff_vec = pos_features - neg_features\n",
    "        X_train.append(diff_vec)\n",
    "        y_train.append(1)\n",
    "\n",
    "        diff_vec_neg = neg_features - pos_features\n",
    "        X_train.append(diff_vec_neg)\n",
    "        y_train.append(0)\n",
    "\n",
    "X_train = np.array(X_train)\n",
    "y_train = np.array(y_train)\n",
    "\n",
    "logging.info(f\"Training data shape: {X_train.shape}\")\n",
    "logging.info(f\"Class distribution: {np.bincount(y_train)}\")\n",
    "print(f\"Training data shape: {X_train.shape}\")\n",
    "print(f\"Class distribution: {np.bincount(y_train)}\")\n",
    "\n",
    "# Part 6: Train Logistic Regression\n",
    "param_grid = {'C': [0.01, 0.1, 1, 10, 100, 1000]}\n",
    "logreg = GridSearchCV(\n",
    "    LogisticRegression(max_iter=5000, class_weight='balanced'),\n",
    "    param_grid,\n",
    "    cv=3,\n",
    "    scoring='accuracy'\n",
    ")\n",
    "try:\n",
    "    logreg.fit(X_train, y_train)\n",
    "    logging.info(f\"Best Logistic Regression Parameters: {logreg.best_params_}\")\n",
    "    logging.info(f\"Best CV Accuracy: {logreg.best_score:.2f}\")\n",
    "    print(f\"Best Logistic Regression Parameters: {logreg.best_params_}\")\n",
    "    print(f\"Best CV Accuracy: {logreg.best_score:.2f}\")\n",
    "except Exception as e:\n",
    "    logging.error(f\"Error training Logistic Regression: {e}\")\n",
    "    print(f\"Error training Logistic Regression: {e}\")\n",
    "    exit(1)\n",
    "\n",
    "# Part 7: Retrieval Function\n",
    "def retrieve(query: str, k: int = 5) -> List[tuple]:\n",
    "    \"\"\"Retrieve top-k cases using Logistic Regression scoring.\"\"\"\n",
    "    try:\n",
    "        query = preprocess_text(query)\n",
    "        query_vec = vectorizer.transform([query])\n",
    "        scores = []\n",
    "        for i in range(tfidf_matrix.shape[0]):\n",
    "            doc_vec = tfidf_matrix[i]\n",
    "            features = extract_features(query_vec, doc_vec, query, texts[i])\n",
    "            score = logreg.predict_proba([features])[0][1]  # Probability of positive class\n",
    "            scores.append((case_ids[i], score))\n",
    "        scores.sort(key=lambda x: x[1], reverse=True)\n",
    "        return scores[:k]\n",
    "    except Exception as e:\n",
    "        logging.error(f\"Error in retrieval for query '{query[:50]}...': {e}\")\n",
    "        print(f\"Error in retrieval: {e}\")\n",
    "        return []\n",
    "\n",
    "# Part 8: Evaluation\n",
    "correct_5 = 0\n",
    "correct_10 = 0\n",
    "for item in eval_queries:\n",
    "    query = item[\"query\"]\n",
    "    true_id = item[\"case_id\"]\n",
    "    try:\n",
    "        results = retrieve(query, k=10)\n",
    "        top_5 = results[:5]\n",
    "        logging.info(f\"Query: {query[:100]}...\")\n",
    "        logging.info(f\"Top 5 Results (ID, Score): {top_5}\")\n",
    "        print(f\"\\nQuery: {query}\")\n",
    "        print(f\"Top 5 Results (ID, Score): {top_5}\")\n",
    "\n",
    "        if any(true_id == result[0] for result in top_5):\n",
    "            logging.info(f\"✅ FOUND in Top-5: {true_id}\")\n",
    "            print(f\"✅ FOUND in Top-5: {true_id}\")\n",
    "            correct_5 += 1\n",
    "        else:\n",
    "            logging.info(f\"❌ NOT FOUND in Top-5: {true_id}\")\n",
    "            print(f\"❌ NOT FOUND in Top-5: {true_id}\")\n",
    "            try:\n",
    "                true_idx = case_ids.index(true_id)\n",
    "                true_text = texts[true_idx][:300] + \"...\" if len(texts[true_idx]) > 300 else texts[true_idx]\n",
    "                logging.info(f\"True Case Text: {true_text}\")\n",
    "                print(f\"True Case Text: {true_text}\")\n",
    "                query_words = set(preprocess_text(query).split())\n",
    "                true_words = set(true_text.split())\n",
    "                common_words = query_words.intersection(true_words)\n",
    "                logging.info(f\"Common Words: {common_words}\")\n",
    "                print(f\"Common Words: {common_words}\")\n",
    "                query_vec = vectorizer.transform([query])\n",
    "                true_vec = tfidf_matrix[true_idx]\n",
    "                cos_sim = cosine_similarity(query_vec, true_vec)[0][0]\n",
    "                logging.info(f\"Cosine Similarity with True Doc: {cos_sim:.4f}\")\n",
    "                print(f\"Cosine Similarity with True Doc: {cos_sim:.4f}\")\n",
    "            except ValueError:\n",
    "                logging.warning(f\"True case ID {true_id} not found in dataset.\")\n",
    "                print(f\"Warning: True case ID {true_id} not found in dataset.\")\n",
    "\n",
    "        if any(true_id == result[0] for result in results):\n",
    "            correct_10 += 1\n",
    "    except Exception as e:\n",
    "        logging.error(f\"Error evaluating query '{query[:50]}...': {e}\")\n",
    "        print(f\"Error evaluating query: {e}\")\n",
    "        continue\n",
    "\n",
    "logging.info(f\"LogReg Pairwise Accuracy@5: {correct_5}/{len(eval_queries)} = {correct_5 / len(eval_queries):.2f}\")\n",
    "logging.info(f\"LogReg Pairwise Recall@10: {correct_10}/{len(eval_queries)} = {correct_10 / len(eval_queries):.2f}\")\n",
    "print(f\"\\nLogReg Pairwise Accuracy@5: {correct_5}/{len(eval_queries)} = {correct_5 / len(eval_queries):.2f}\")\n",
    "print(f\"LogReg Pairwise Recall@10: {correct_10}/{len(eval_queries)} = {correct_10 / len(eval_queries):.2f}\")"
   ]
  },
  {
   "cell_type": "code",
   "execution_count": null,
   "id": "54bba967",
   "metadata": {},
   "outputs": [],
   "source": []
  }
 ],
 "metadata": {
  "kernelspec": {
   "display_name": "Python 3",
   "language": "python",
   "name": "python3"
  },
  "language_info": {
   "codemirror_mode": {
    "name": "ipython",
    "version": 3
   },
   "file_extension": ".py",
   "mimetype": "text/x-python",
   "name": "python",
   "nbconvert_exporter": "python",
   "pygments_lexer": "ipython3",
   "version": "3.11.0"
  }
 },
 "nbformat": 4,
 "nbformat_minor": 5
}
