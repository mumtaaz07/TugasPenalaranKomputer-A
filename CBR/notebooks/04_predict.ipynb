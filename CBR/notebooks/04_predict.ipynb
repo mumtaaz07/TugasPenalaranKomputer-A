{
 "cells": [
  {
   "cell_type": "code",
   "execution_count": 1,
   "id": "063e6079",
   "metadata": {},
   "outputs": [
    {
     "name": "stdout",
     "output_type": "stream",
     "text": [
      "d:\\AL FITRA\\STUDI UMM\\SEMESTER 6\\TEORI\\PENALARAN KOMPUTER\\SOURCE CODE\\PENALARAN KOMPUTER\\CBR_Penalararan_Komputer\\CBR\\notebooks\n"
     ]
    }
   ],
   "source": [
    "import os\n",
    "print(os.getcwd())"
   ]
  },
  {
   "cell_type": "code",
   "execution_count": 2,
   "id": "f29ddbf1",
   "metadata": {},
   "outputs": [
    {
     "name": "stdout",
     "output_type": "stream",
     "text": [
      "d:\\AL FITRA\\STUDI UMM\\SEMESTER 6\\TEORI\\PENALARAN KOMPUTER\\SOURCE CODE\\PENALARAN KOMPUTER\\CBR_Penalararan_Komputer\\CBR\n"
     ]
    }
   ],
   "source": [
    "%cd .."
   ]
  },
  {
   "cell_type": "code",
   "execution_count": 3,
   "id": "f4450ef0",
   "metadata": {},
   "outputs": [
    {
     "name": "stdout",
     "output_type": "stream",
     "text": [
      "Requirement already satisfied: datasets in c:\\users\\asus\\appdata\\local\\programs\\python\\python311\\lib\\site-packages (3.6.0)\n",
      "Requirement already satisfied: filelock in c:\\users\\asus\\appdata\\local\\programs\\python\\python311\\lib\\site-packages (from datasets) (3.18.0)\n",
      "Requirement already satisfied: numpy>=1.17 in c:\\users\\asus\\appdata\\local\\programs\\python\\python311\\lib\\site-packages (from datasets) (1.26.4)\n",
      "Requirement already satisfied: pyarrow>=15.0.0 in c:\\users\\asus\\appdata\\local\\programs\\python\\python311\\lib\\site-packages (from datasets) (20.0.0)\n",
      "Requirement already satisfied: dill<0.3.9,>=0.3.0 in c:\\users\\asus\\appdata\\local\\programs\\python\\python311\\lib\\site-packages (from datasets) (0.3.8)\n",
      "Requirement already satisfied: pandas in c:\\users\\asus\\appdata\\local\\programs\\python\\python311\\lib\\site-packages (from datasets) (2.2.2)\n",
      "Requirement already satisfied: requests>=2.32.2 in c:\\users\\asus\\appdata\\local\\programs\\python\\python311\\lib\\site-packages (from datasets) (2.32.3)\n",
      "Requirement already satisfied: tqdm>=4.66.3 in c:\\users\\asus\\appdata\\local\\programs\\python\\python311\\lib\\site-packages (from datasets) (4.67.1)\n",
      "Requirement already satisfied: xxhash in c:\\users\\asus\\appdata\\local\\programs\\python\\python311\\lib\\site-packages (from datasets) (3.5.0)\n",
      "Requirement already satisfied: multiprocess<0.70.17 in c:\\users\\asus\\appdata\\local\\programs\\python\\python311\\lib\\site-packages (from datasets) (0.70.16)\n",
      "Requirement already satisfied: fsspec<=2025.3.0,>=2023.1.0 in c:\\users\\asus\\appdata\\local\\programs\\python\\python311\\lib\\site-packages (from fsspec[http]<=2025.3.0,>=2023.1.0->datasets) (2025.3.0)\n",
      "Requirement already satisfied: huggingface-hub>=0.24.0 in c:\\users\\asus\\appdata\\local\\programs\\python\\python311\\lib\\site-packages (from datasets) (0.33.0)\n",
      "Requirement already satisfied: packaging in c:\\users\\asus\\appdata\\local\\programs\\python\\python311\\lib\\site-packages (from datasets) (24.2)\n",
      "Requirement already satisfied: pyyaml>=5.1 in c:\\users\\asus\\appdata\\local\\programs\\python\\python311\\lib\\site-packages (from datasets) (6.0.2)\n",
      "Requirement already satisfied: aiohttp!=4.0.0a0,!=4.0.0a1 in c:\\users\\asus\\appdata\\local\\programs\\python\\python311\\lib\\site-packages (from fsspec[http]<=2025.3.0,>=2023.1.0->datasets) (3.12.13)\n",
      "Requirement already satisfied: typing-extensions>=3.7.4.3 in c:\\users\\asus\\appdata\\local\\programs\\python\\python311\\lib\\site-packages (from huggingface-hub>=0.24.0->datasets) (4.13.2)\n",
      "Requirement already satisfied: charset-normalizer<4,>=2 in c:\\users\\asus\\appdata\\local\\programs\\python\\python311\\lib\\site-packages (from requests>=2.32.2->datasets) (3.4.1)\n",
      "Requirement already satisfied: idna<4,>=2.5 in c:\\users\\asus\\appdata\\local\\programs\\python\\python311\\lib\\site-packages (from requests>=2.32.2->datasets) (3.10)\n",
      "Requirement already satisfied: urllib3<3,>=1.21.1 in c:\\users\\asus\\appdata\\local\\programs\\python\\python311\\lib\\site-packages (from requests>=2.32.2->datasets) (2.4.0)\n",
      "Requirement already satisfied: certifi>=2017.4.17 in c:\\users\\asus\\appdata\\local\\programs\\python\\python311\\lib\\site-packages (from requests>=2.32.2->datasets) (2025.1.31)\n",
      "Requirement already satisfied: colorama in c:\\users\\asus\\appdata\\local\\programs\\python\\python311\\lib\\site-packages (from tqdm>=4.66.3->datasets) (0.4.6)\n",
      "Requirement already satisfied: python-dateutil>=2.8.2 in c:\\users\\asus\\appdata\\local\\programs\\python\\python311\\lib\\site-packages (from pandas->datasets) (2.9.0.post0)\n",
      "Requirement already satisfied: pytz>=2020.1 in c:\\users\\asus\\appdata\\local\\programs\\python\\python311\\lib\\site-packages (from pandas->datasets) (2025.2)\n",
      "Requirement already satisfied: tzdata>=2022.7 in c:\\users\\asus\\appdata\\local\\programs\\python\\python311\\lib\\site-packages (from pandas->datasets) (2025.2)\n",
      "Requirement already satisfied: aiohappyeyeballs>=2.5.0 in c:\\users\\asus\\appdata\\local\\programs\\python\\python311\\lib\\site-packages (from aiohttp!=4.0.0a0,!=4.0.0a1->fsspec[http]<=2025.3.0,>=2023.1.0->datasets) (2.6.1)\n",
      "Requirement already satisfied: aiosignal>=1.1.2 in c:\\users\\asus\\appdata\\local\\programs\\python\\python311\\lib\\site-packages (from aiohttp!=4.0.0a0,!=4.0.0a1->fsspec[http]<=2025.3.0,>=2023.1.0->datasets) (1.3.2)\n",
      "Requirement already satisfied: attrs>=17.3.0 in c:\\users\\asus\\appdata\\local\\programs\\python\\python311\\lib\\site-packages (from aiohttp!=4.0.0a0,!=4.0.0a1->fsspec[http]<=2025.3.0,>=2023.1.0->datasets) (25.3.0)\n",
      "Requirement already satisfied: frozenlist>=1.1.1 in c:\\users\\asus\\appdata\\local\\programs\\python\\python311\\lib\\site-packages (from aiohttp!=4.0.0a0,!=4.0.0a1->fsspec[http]<=2025.3.0,>=2023.1.0->datasets) (1.7.0)\n",
      "Requirement already satisfied: multidict<7.0,>=4.5 in c:\\users\\asus\\appdata\\local\\programs\\python\\python311\\lib\\site-packages (from aiohttp!=4.0.0a0,!=4.0.0a1->fsspec[http]<=2025.3.0,>=2023.1.0->datasets) (6.5.1)\n",
      "Requirement already satisfied: propcache>=0.2.0 in c:\\users\\asus\\appdata\\local\\programs\\python\\python311\\lib\\site-packages (from aiohttp!=4.0.0a0,!=4.0.0a1->fsspec[http]<=2025.3.0,>=2023.1.0->datasets) (0.3.2)\n",
      "Requirement already satisfied: yarl<2.0,>=1.17.0 in c:\\users\\asus\\appdata\\local\\programs\\python\\python311\\lib\\site-packages (from aiohttp!=4.0.0a0,!=4.0.0a1->fsspec[http]<=2025.3.0,>=2023.1.0->datasets) (1.20.1)\n",
      "Requirement already satisfied: six>=1.5 in c:\\users\\asus\\appdata\\local\\programs\\python\\python311\\lib\\site-packages (from python-dateutil>=2.8.2->pandas->datasets) (1.17.0)\n",
      "Note: you may need to restart the kernel to use updated packages.\n"
     ]
    },
    {
     "name": "stderr",
     "output_type": "stream",
     "text": [
      "\n",
      "[notice] A new release of pip is available: 25.0.1 -> 25.1.1\n",
      "[notice] To update, run: python.exe -m pip install --upgrade pip\n"
     ]
    }
   ],
   "source": [
    "%pip install datasets"
   ]
  },
  {
   "cell_type": "code",
   "execution_count": 4,
   "id": "54a0a386",
   "metadata": {},
   "outputs": [
    {
     "name": "stdout",
     "output_type": "stream",
     "text": [
      "WARNING:tensorflow:From c:\\Users\\ASUS\\AppData\\Local\\Programs\\Python\\Python311\\Lib\\site-packages\\tf_keras\\src\\losses.py:2976: The name tf.losses.sparse_softmax_cross_entropy is deprecated. Please use tf.compat.v1.losses.sparse_softmax_cross_entropy instead.\n",
      "\n"
     ]
    },
    {
     "name": "stderr",
     "output_type": "stream",
     "text": [
      "2025-06-25 18:54:39,260 - INFO - Starting prediction process at 2025-06-25 18:54:39\n",
      "2025-06-25 18:54:39,286 - INFO - Loaded 50 cases from d:\\AL FITRA\\STUDI UMM\\SEMESTER 6\\TEORI\\PENALARAN KOMPUTER\\SOURCE CODE\\PENALARAN KOMPUTER\\CBR_Penalararan_Komputer\\data\\processed\\cases.csv and 5 queries from d:\\AL FITRA\\STUDI UMM\\SEMESTER 6\\TEORI\\PENALARAN KOMPUTER\\SOURCE CODE\\PENALARAN KOMPUTER\\CBR_Penalararan_Komputer\\data\\eval\\queries.json\n",
      "2025-06-25 18:54:39,293 - INFO - TF-IDF matrix shape: (50, 138)\n",
      "2025-06-25 18:54:39,306 - INFO - Training data shape: (50, 279)\n",
      "2025-06-25 18:54:39,307 - INFO - Class distribution: [25 25]\n",
      "2025-06-25 18:54:41,479 - INFO - Best Logistic Regression Parameters: {'C': 0.1}\n",
      "2025-06-25 18:54:41,481 - INFO - Best CV F1 Score (LogReg): 1.00\n",
      "2025-06-25 18:54:41,520 - INFO - Best SVM Parameters: {'C': 0.1}\n",
      "2025-06-25 18:54:41,521 - INFO - Best CV F1 Score (SVM): 1.00\n",
      "2025-06-25 18:54:41,522 - INFO - Loading IndoBERT model on cpu\n",
      "2025-06-25 18:54:41,526 - INFO - Load pretrained SentenceTransformer: indobenchmark/indobert-base-p1\n"
     ]
    },
    {
     "name": "stdout",
     "output_type": "stream",
     "text": [
      "Best Logistic Regression Parameters: {'C': 0.1}\n",
      "Best CV F1 Score (LogReg): 1.00\n",
      "Best SVM Parameters: {'C': 0.1}\n",
      "Best CV F1 Score (SVM): 1.00\n"
     ]
    },
    {
     "name": "stderr",
     "output_type": "stream",
     "text": [
      "2025-06-25 18:54:42,010 - WARNING - No sentence-transformers model found with name indobenchmark/indobert-base-p1. Creating a new one with mean pooling.\n",
      "2025-06-25 18:54:48,911 - INFO - Document embeddings shape: (50, 768)\n",
      "Predicting:   0%|          | 0/50 [00:00<?, ?it/s]"
     ]
    },
    {
     "data": {
      "application/vnd.jupyter.widget-view+json": {
       "model_id": "d336a52760fe427b9a7f26872aef719f",
       "version_major": 2,
       "version_minor": 0
      },
      "text/plain": [
       "Batches:   0%|          | 0/1 [00:00<?, ?it/s]"
      ]
     },
     "metadata": {},
     "output_type": "display_data"
    },
    {
     "data": {
      "application/vnd.jupyter.widget-view+json": {
       "model_id": "848f1e842eb94dc9a5cdcdbc5739f198",
       "version_major": 2,
       "version_minor": 0
      },
      "text/plain": [
       "Batches:   0%|          | 0/1 [00:00<?, ?it/s]"
      ]
     },
     "metadata": {},
     "output_type": "display_data"
    },
    {
     "name": "stderr",
     "output_type": "stream",
     "text": [
      "Predicting:   2%|▏         | 1/50 [00:00<00:13,  3.61it/s]"
     ]
    },
    {
     "data": {
      "application/vnd.jupyter.widget-view+json": {
       "model_id": "4fc648f4f89049a79f849c6318787ec5",
       "version_major": 2,
       "version_minor": 0
      },
      "text/plain": [
       "Batches:   0%|          | 0/1 [00:00<?, ?it/s]"
      ]
     },
     "metadata": {},
     "output_type": "display_data"
    },
    {
     "data": {
      "application/vnd.jupyter.widget-view+json": {
       "model_id": "af9de7c7abe54be085b490cd6f508aae",
       "version_major": 2,
       "version_minor": 0
      },
      "text/plain": [
       "Batches:   0%|          | 0/1 [00:00<?, ?it/s]"
      ]
     },
     "metadata": {},
     "output_type": "display_data"
    },
    {
     "name": "stderr",
     "output_type": "stream",
     "text": [
      "Predicting:   4%|▍         | 2/50 [00:00<00:10,  4.71it/s]"
     ]
    },
    {
     "data": {
      "application/vnd.jupyter.widget-view+json": {
       "model_id": "b36fab04a0a74703b47a6145817513a6",
       "version_major": 2,
       "version_minor": 0
      },
      "text/plain": [
       "Batches:   0%|          | 0/1 [00:00<?, ?it/s]"
      ]
     },
     "metadata": {},
     "output_type": "display_data"
    },
    {
     "data": {
      "application/vnd.jupyter.widget-view+json": {
       "model_id": "b2963a7f05d1433587f3a33e421ab850",
       "version_major": 2,
       "version_minor": 0
      },
      "text/plain": [
       "Batches:   0%|          | 0/1 [00:00<?, ?it/s]"
      ]
     },
     "metadata": {},
     "output_type": "display_data"
    },
    {
     "name": "stderr",
     "output_type": "stream",
     "text": [
      "Predicting:   6%|▌         | 3/50 [00:00<00:10,  4.50it/s]"
     ]
    },
    {
     "data": {
      "application/vnd.jupyter.widget-view+json": {
       "model_id": "f1a720bf81184586903f3614092c07e3",
       "version_major": 2,
       "version_minor": 0
      },
      "text/plain": [
       "Batches:   0%|          | 0/1 [00:00<?, ?it/s]"
      ]
     },
     "metadata": {},
     "output_type": "display_data"
    },
    {
     "data": {
      "application/vnd.jupyter.widget-view+json": {
       "model_id": "2b27564130d549fba0439692b9e211c6",
       "version_major": 2,
       "version_minor": 0
      },
      "text/plain": [
       "Batches:   0%|          | 0/1 [00:00<?, ?it/s]"
      ]
     },
     "metadata": {},
     "output_type": "display_data"
    },
    {
     "name": "stderr",
     "output_type": "stream",
     "text": [
      "Predicting:   8%|▊         | 4/50 [00:00<00:10,  4.30it/s]"
     ]
    },
    {
     "data": {
      "application/vnd.jupyter.widget-view+json": {
       "model_id": "ab2e57f1c4c84722965e180eb0366fa1",
       "version_major": 2,
       "version_minor": 0
      },
      "text/plain": [
       "Batches:   0%|          | 0/1 [00:00<?, ?it/s]"
      ]
     },
     "metadata": {},
     "output_type": "display_data"
    },
    {
     "data": {
      "application/vnd.jupyter.widget-view+json": {
       "model_id": "98e519a6de35444587f7574b9c5716d7",
       "version_major": 2,
       "version_minor": 0
      },
      "text/plain": [
       "Batches:   0%|          | 0/1 [00:00<?, ?it/s]"
      ]
     },
     "metadata": {},
     "output_type": "display_data"
    },
    {
     "name": "stderr",
     "output_type": "stream",
     "text": [
      "Predicting:  10%|█         | 5/50 [00:01<00:09,  4.71it/s]"
     ]
    },
    {
     "data": {
      "application/vnd.jupyter.widget-view+json": {
       "model_id": "4a576c49632644adb7397c612cc1e416",
       "version_major": 2,
       "version_minor": 0
      },
      "text/plain": [
       "Batches:   0%|          | 0/1 [00:00<?, ?it/s]"
      ]
     },
     "metadata": {},
     "output_type": "display_data"
    },
    {
     "data": {
      "application/vnd.jupyter.widget-view+json": {
       "model_id": "3f571af17c994c4eb609d8f916fd16fa",
       "version_major": 2,
       "version_minor": 0
      },
      "text/plain": [
       "Batches:   0%|          | 0/1 [00:00<?, ?it/s]"
      ]
     },
     "metadata": {},
     "output_type": "display_data"
    },
    {
     "name": "stderr",
     "output_type": "stream",
     "text": [
      "Predicting:  12%|█▏        | 6/50 [00:01<00:09,  4.57it/s]"
     ]
    },
    {
     "data": {
      "application/vnd.jupyter.widget-view+json": {
       "model_id": "4384164fc41e46999b4b6ef4c850b388",
       "version_major": 2,
       "version_minor": 0
      },
      "text/plain": [
       "Batches:   0%|          | 0/1 [00:00<?, ?it/s]"
      ]
     },
     "metadata": {},
     "output_type": "display_data"
    },
    {
     "data": {
      "application/vnd.jupyter.widget-view+json": {
       "model_id": "40afe81964f24dbbac77b32dbfe2855e",
       "version_major": 2,
       "version_minor": 0
      },
      "text/plain": [
       "Batches:   0%|          | 0/1 [00:00<?, ?it/s]"
      ]
     },
     "metadata": {},
     "output_type": "display_data"
    },
    {
     "name": "stderr",
     "output_type": "stream",
     "text": [
      "Predicting:  14%|█▍        | 7/50 [00:01<00:09,  4.77it/s]"
     ]
    },
    {
     "data": {
      "application/vnd.jupyter.widget-view+json": {
       "model_id": "2eb77024c5ff49b5a44e0eabfb899a46",
       "version_major": 2,
       "version_minor": 0
      },
      "text/plain": [
       "Batches:   0%|          | 0/1 [00:00<?, ?it/s]"
      ]
     },
     "metadata": {},
     "output_type": "display_data"
    },
    {
     "data": {
      "application/vnd.jupyter.widget-view+json": {
       "model_id": "ca7aa41f4664480baefb4513034f9c2e",
       "version_major": 2,
       "version_minor": 0
      },
      "text/plain": [
       "Batches:   0%|          | 0/1 [00:00<?, ?it/s]"
      ]
     },
     "metadata": {},
     "output_type": "display_data"
    },
    {
     "name": "stderr",
     "output_type": "stream",
     "text": [
      "Predicting:  16%|█▌        | 8/50 [00:01<00:09,  4.52it/s]"
     ]
    },
    {
     "data": {
      "application/vnd.jupyter.widget-view+json": {
       "model_id": "2c00860e0c0d42d2a08f58222bcf5867",
       "version_major": 2,
       "version_minor": 0
      },
      "text/plain": [
       "Batches:   0%|          | 0/1 [00:00<?, ?it/s]"
      ]
     },
     "metadata": {},
     "output_type": "display_data"
    },
    {
     "data": {
      "application/vnd.jupyter.widget-view+json": {
       "model_id": "7385142d8cb941f5b4579765bec773ac",
       "version_major": 2,
       "version_minor": 0
      },
      "text/plain": [
       "Batches:   0%|          | 0/1 [00:00<?, ?it/s]"
      ]
     },
     "metadata": {},
     "output_type": "display_data"
    },
    {
     "name": "stderr",
     "output_type": "stream",
     "text": [
      "Predicting:  18%|█▊        | 9/50 [00:02<00:09,  4.36it/s]"
     ]
    },
    {
     "data": {
      "application/vnd.jupyter.widget-view+json": {
       "model_id": "50f8f7884b5a4a39a6bb0fca42499e7c",
       "version_major": 2,
       "version_minor": 0
      },
      "text/plain": [
       "Batches:   0%|          | 0/1 [00:00<?, ?it/s]"
      ]
     },
     "metadata": {},
     "output_type": "display_data"
    },
    {
     "data": {
      "application/vnd.jupyter.widget-view+json": {
       "model_id": "9ddf8220e0ec4f028a67df0105638480",
       "version_major": 2,
       "version_minor": 0
      },
      "text/plain": [
       "Batches:   0%|          | 0/1 [00:00<?, ?it/s]"
      ]
     },
     "metadata": {},
     "output_type": "display_data"
    },
    {
     "name": "stderr",
     "output_type": "stream",
     "text": [
      "Predicting:  20%|██        | 10/50 [00:02<00:08,  4.66it/s]"
     ]
    },
    {
     "data": {
      "application/vnd.jupyter.widget-view+json": {
       "model_id": "cae83604cce34b7794ff293d7776762d",
       "version_major": 2,
       "version_minor": 0
      },
      "text/plain": [
       "Batches:   0%|          | 0/1 [00:00<?, ?it/s]"
      ]
     },
     "metadata": {},
     "output_type": "display_data"
    },
    {
     "data": {
      "application/vnd.jupyter.widget-view+json": {
       "model_id": "4a7c8e6f72aa4ca0870e420c6f8ceff8",
       "version_major": 2,
       "version_minor": 0
      },
      "text/plain": [
       "Batches:   0%|          | 0/1 [00:00<?, ?it/s]"
      ]
     },
     "metadata": {},
     "output_type": "display_data"
    },
    {
     "name": "stderr",
     "output_type": "stream",
     "text": [
      "Predicting:  22%|██▏       | 11/50 [00:02<00:08,  4.66it/s]"
     ]
    },
    {
     "data": {
      "application/vnd.jupyter.widget-view+json": {
       "model_id": "12ad5344d25141ababfed2b4e39e8920",
       "version_major": 2,
       "version_minor": 0
      },
      "text/plain": [
       "Batches:   0%|          | 0/1 [00:00<?, ?it/s]"
      ]
     },
     "metadata": {},
     "output_type": "display_data"
    },
    {
     "data": {
      "application/vnd.jupyter.widget-view+json": {
       "model_id": "1b0d73b89d974fccb8e80e04d50c34e3",
       "version_major": 2,
       "version_minor": 0
      },
      "text/plain": [
       "Batches:   0%|          | 0/1 [00:00<?, ?it/s]"
      ]
     },
     "metadata": {},
     "output_type": "display_data"
    },
    {
     "name": "stderr",
     "output_type": "stream",
     "text": [
      "Predicting:  24%|██▍       | 12/50 [00:02<00:08,  4.67it/s]"
     ]
    },
    {
     "data": {
      "application/vnd.jupyter.widget-view+json": {
       "model_id": "351b143eb0b54faca07889be9c93b94a",
       "version_major": 2,
       "version_minor": 0
      },
      "text/plain": [
       "Batches:   0%|          | 0/1 [00:00<?, ?it/s]"
      ]
     },
     "metadata": {},
     "output_type": "display_data"
    },
    {
     "data": {
      "application/vnd.jupyter.widget-view+json": {
       "model_id": "f2ffddc4ae6e4ef9b46425eb0d87c06b",
       "version_major": 2,
       "version_minor": 0
      },
      "text/plain": [
       "Batches:   0%|          | 0/1 [00:00<?, ?it/s]"
      ]
     },
     "metadata": {},
     "output_type": "display_data"
    },
    {
     "name": "stderr",
     "output_type": "stream",
     "text": [
      "Predicting:  26%|██▌       | 13/50 [00:02<00:08,  4.43it/s]"
     ]
    },
    {
     "data": {
      "application/vnd.jupyter.widget-view+json": {
       "model_id": "078619d17c5a43e8b9895e30e9e675fd",
       "version_major": 2,
       "version_minor": 0
      },
      "text/plain": [
       "Batches:   0%|          | 0/1 [00:00<?, ?it/s]"
      ]
     },
     "metadata": {},
     "output_type": "display_data"
    },
    {
     "data": {
      "application/vnd.jupyter.widget-view+json": {
       "model_id": "b634ed60ea744f26827a1e7970aacc2e",
       "version_major": 2,
       "version_minor": 0
      },
      "text/plain": [
       "Batches:   0%|          | 0/1 [00:00<?, ?it/s]"
      ]
     },
     "metadata": {},
     "output_type": "display_data"
    },
    {
     "name": "stderr",
     "output_type": "stream",
     "text": [
      "Predicting:  28%|██▊       | 14/50 [00:03<00:07,  4.63it/s]"
     ]
    },
    {
     "data": {
      "application/vnd.jupyter.widget-view+json": {
       "model_id": "dc56157916dc4a8bb6bfa7c8fefb0db7",
       "version_major": 2,
       "version_minor": 0
      },
      "text/plain": [
       "Batches:   0%|          | 0/1 [00:00<?, ?it/s]"
      ]
     },
     "metadata": {},
     "output_type": "display_data"
    },
    {
     "data": {
      "application/vnd.jupyter.widget-view+json": {
       "model_id": "fa6b43679a964275ac4a204e85ef7ea6",
       "version_major": 2,
       "version_minor": 0
      },
      "text/plain": [
       "Batches:   0%|          | 0/1 [00:00<?, ?it/s]"
      ]
     },
     "metadata": {},
     "output_type": "display_data"
    },
    {
     "name": "stderr",
     "output_type": "stream",
     "text": [
      "Predicting:  30%|███       | 15/50 [00:03<00:07,  4.62it/s]"
     ]
    },
    {
     "data": {
      "application/vnd.jupyter.widget-view+json": {
       "model_id": "74f3939d3ebe4d808709092cd6c14ee2",
       "version_major": 2,
       "version_minor": 0
      },
      "text/plain": [
       "Batches:   0%|          | 0/1 [00:00<?, ?it/s]"
      ]
     },
     "metadata": {},
     "output_type": "display_data"
    },
    {
     "data": {
      "application/vnd.jupyter.widget-view+json": {
       "model_id": "9d25110885ef4217877b34539c6e58f1",
       "version_major": 2,
       "version_minor": 0
      },
      "text/plain": [
       "Batches:   0%|          | 0/1 [00:00<?, ?it/s]"
      ]
     },
     "metadata": {},
     "output_type": "display_data"
    },
    {
     "name": "stderr",
     "output_type": "stream",
     "text": [
      "Predicting:  32%|███▏      | 16/50 [00:03<00:07,  4.47it/s]"
     ]
    },
    {
     "data": {
      "application/vnd.jupyter.widget-view+json": {
       "model_id": "d86303d572ac4a5f91734f8a671fe2c6",
       "version_major": 2,
       "version_minor": 0
      },
      "text/plain": [
       "Batches:   0%|          | 0/1 [00:00<?, ?it/s]"
      ]
     },
     "metadata": {},
     "output_type": "display_data"
    },
    {
     "data": {
      "application/vnd.jupyter.widget-view+json": {
       "model_id": "f1426a323b414fed9f1f34a2d8ff4f77",
       "version_major": 2,
       "version_minor": 0
      },
      "text/plain": [
       "Batches:   0%|          | 0/1 [00:00<?, ?it/s]"
      ]
     },
     "metadata": {},
     "output_type": "display_data"
    },
    {
     "name": "stderr",
     "output_type": "stream",
     "text": [
      "Predicting:  34%|███▍      | 17/50 [00:03<00:06,  4.80it/s]"
     ]
    },
    {
     "data": {
      "application/vnd.jupyter.widget-view+json": {
       "model_id": "7611423dc1254dc984ff379d34f8d978",
       "version_major": 2,
       "version_minor": 0
      },
      "text/plain": [
       "Batches:   0%|          | 0/1 [00:00<?, ?it/s]"
      ]
     },
     "metadata": {},
     "output_type": "display_data"
    },
    {
     "data": {
      "application/vnd.jupyter.widget-view+json": {
       "model_id": "64c65636fa1d4f51875d6e4dd6a13aff",
       "version_major": 2,
       "version_minor": 0
      },
      "text/plain": [
       "Batches:   0%|          | 0/1 [00:00<?, ?it/s]"
      ]
     },
     "metadata": {},
     "output_type": "display_data"
    },
    {
     "name": "stderr",
     "output_type": "stream",
     "text": [
      "Predicting:  36%|███▌      | 18/50 [00:03<00:06,  4.69it/s]"
     ]
    },
    {
     "data": {
      "application/vnd.jupyter.widget-view+json": {
       "model_id": "1fe4d121f78545d39c403f022a470507",
       "version_major": 2,
       "version_minor": 0
      },
      "text/plain": [
       "Batches:   0%|          | 0/1 [00:00<?, ?it/s]"
      ]
     },
     "metadata": {},
     "output_type": "display_data"
    },
    {
     "data": {
      "application/vnd.jupyter.widget-view+json": {
       "model_id": "6486c69a393e44d09f8be43e249e60aa",
       "version_major": 2,
       "version_minor": 0
      },
      "text/plain": [
       "Batches:   0%|          | 0/1 [00:00<?, ?it/s]"
      ]
     },
     "metadata": {},
     "output_type": "display_data"
    },
    {
     "name": "stderr",
     "output_type": "stream",
     "text": [
      "Predicting:  38%|███▊      | 19/50 [00:04<00:06,  4.97it/s]"
     ]
    },
    {
     "data": {
      "application/vnd.jupyter.widget-view+json": {
       "model_id": "22de3717afe847c39816f09e6156586d",
       "version_major": 2,
       "version_minor": 0
      },
      "text/plain": [
       "Batches:   0%|          | 0/1 [00:00<?, ?it/s]"
      ]
     },
     "metadata": {},
     "output_type": "display_data"
    },
    {
     "data": {
      "application/vnd.jupyter.widget-view+json": {
       "model_id": "ea1042a4849644148286b37422138949",
       "version_major": 2,
       "version_minor": 0
      },
      "text/plain": [
       "Batches:   0%|          | 0/1 [00:00<?, ?it/s]"
      ]
     },
     "metadata": {},
     "output_type": "display_data"
    },
    {
     "name": "stderr",
     "output_type": "stream",
     "text": [
      "Predicting:  40%|████      | 20/50 [00:04<00:06,  4.66it/s]"
     ]
    },
    {
     "data": {
      "application/vnd.jupyter.widget-view+json": {
       "model_id": "77bdc33c1f21499e9786f2ad6bd7e7f7",
       "version_major": 2,
       "version_minor": 0
      },
      "text/plain": [
       "Batches:   0%|          | 0/1 [00:00<?, ?it/s]"
      ]
     },
     "metadata": {},
     "output_type": "display_data"
    },
    {
     "data": {
      "application/vnd.jupyter.widget-view+json": {
       "model_id": "903a4971b4454038b40bfe5933032a2c",
       "version_major": 2,
       "version_minor": 0
      },
      "text/plain": [
       "Batches:   0%|          | 0/1 [00:00<?, ?it/s]"
      ]
     },
     "metadata": {},
     "output_type": "display_data"
    },
    {
     "name": "stderr",
     "output_type": "stream",
     "text": [
      "Predicting:  42%|████▏     | 21/50 [00:04<00:06,  4.53it/s]"
     ]
    },
    {
     "data": {
      "application/vnd.jupyter.widget-view+json": {
       "model_id": "e37f45c3b68542ba8aabebbd89702d59",
       "version_major": 2,
       "version_minor": 0
      },
      "text/plain": [
       "Batches:   0%|          | 0/1 [00:00<?, ?it/s]"
      ]
     },
     "metadata": {},
     "output_type": "display_data"
    },
    {
     "data": {
      "application/vnd.jupyter.widget-view+json": {
       "model_id": "07a01ceae5324c9f96511f1759a1e08c",
       "version_major": 2,
       "version_minor": 0
      },
      "text/plain": [
       "Batches:   0%|          | 0/1 [00:00<?, ?it/s]"
      ]
     },
     "metadata": {},
     "output_type": "display_data"
    },
    {
     "name": "stderr",
     "output_type": "stream",
     "text": [
      "Predicting:  44%|████▍     | 22/50 [00:04<00:05,  4.88it/s]"
     ]
    },
    {
     "data": {
      "application/vnd.jupyter.widget-view+json": {
       "model_id": "2f653d4c529f4256adc513936741e628",
       "version_major": 2,
       "version_minor": 0
      },
      "text/plain": [
       "Batches:   0%|          | 0/1 [00:00<?, ?it/s]"
      ]
     },
     "metadata": {},
     "output_type": "display_data"
    },
    {
     "data": {
      "application/vnd.jupyter.widget-view+json": {
       "model_id": "2fffe82f78ff499696761ebcd0eca583",
       "version_major": 2,
       "version_minor": 0
      },
      "text/plain": [
       "Batches:   0%|          | 0/1 [00:00<?, ?it/s]"
      ]
     },
     "metadata": {},
     "output_type": "display_data"
    },
    {
     "name": "stderr",
     "output_type": "stream",
     "text": [
      "Predicting:  46%|████▌     | 23/50 [00:04<00:05,  4.63it/s]"
     ]
    },
    {
     "data": {
      "application/vnd.jupyter.widget-view+json": {
       "model_id": "753c1ac7ad6346178b43390fcc10a01a",
       "version_major": 2,
       "version_minor": 0
      },
      "text/plain": [
       "Batches:   0%|          | 0/1 [00:00<?, ?it/s]"
      ]
     },
     "metadata": {},
     "output_type": "display_data"
    },
    {
     "data": {
      "application/vnd.jupyter.widget-view+json": {
       "model_id": "cd63f29be19540a69ff41fbd4197e9a9",
       "version_major": 2,
       "version_minor": 0
      },
      "text/plain": [
       "Batches:   0%|          | 0/1 [00:00<?, ?it/s]"
      ]
     },
     "metadata": {},
     "output_type": "display_data"
    },
    {
     "name": "stderr",
     "output_type": "stream",
     "text": [
      "Predicting:  48%|████▊     | 24/50 [00:05<00:05,  4.65it/s]"
     ]
    },
    {
     "data": {
      "application/vnd.jupyter.widget-view+json": {
       "model_id": "19bfff9993534ce8a6193b9c52265f32",
       "version_major": 2,
       "version_minor": 0
      },
      "text/plain": [
       "Batches:   0%|          | 0/1 [00:00<?, ?it/s]"
      ]
     },
     "metadata": {},
     "output_type": "display_data"
    },
    {
     "data": {
      "application/vnd.jupyter.widget-view+json": {
       "model_id": "9dde39e750c0464087f9293687d806ef",
       "version_major": 2,
       "version_minor": 0
      },
      "text/plain": [
       "Batches:   0%|          | 0/1 [00:00<?, ?it/s]"
      ]
     },
     "metadata": {},
     "output_type": "display_data"
    },
    {
     "name": "stderr",
     "output_type": "stream",
     "text": [
      "Predicting:  50%|█████     | 25/50 [00:05<00:05,  4.57it/s]"
     ]
    },
    {
     "data": {
      "application/vnd.jupyter.widget-view+json": {
       "model_id": "522a054df2c241d1ad8b91033a554207",
       "version_major": 2,
       "version_minor": 0
      },
      "text/plain": [
       "Batches:   0%|          | 0/1 [00:00<?, ?it/s]"
      ]
     },
     "metadata": {},
     "output_type": "display_data"
    },
    {
     "data": {
      "application/vnd.jupyter.widget-view+json": {
       "model_id": "449747b079f54c24b71b7cbd29d54080",
       "version_major": 2,
       "version_minor": 0
      },
      "text/plain": [
       "Batches:   0%|          | 0/1 [00:00<?, ?it/s]"
      ]
     },
     "metadata": {},
     "output_type": "display_data"
    },
    {
     "name": "stderr",
     "output_type": "stream",
     "text": [
      "Predicting:  52%|█████▏    | 26/50 [00:05<00:05,  4.37it/s]"
     ]
    },
    {
     "data": {
      "application/vnd.jupyter.widget-view+json": {
       "model_id": "daeab811773c4ab8832f8decf6b52e97",
       "version_major": 2,
       "version_minor": 0
      },
      "text/plain": [
       "Batches:   0%|          | 0/1 [00:00<?, ?it/s]"
      ]
     },
     "metadata": {},
     "output_type": "display_data"
    },
    {
     "data": {
      "application/vnd.jupyter.widget-view+json": {
       "model_id": "24ae1ad5877946f59983678c92ca9e46",
       "version_major": 2,
       "version_minor": 0
      },
      "text/plain": [
       "Batches:   0%|          | 0/1 [00:00<?, ?it/s]"
      ]
     },
     "metadata": {},
     "output_type": "display_data"
    },
    {
     "name": "stderr",
     "output_type": "stream",
     "text": [
      "Predicting:  54%|█████▍    | 27/50 [00:05<00:04,  4.75it/s]"
     ]
    },
    {
     "data": {
      "application/vnd.jupyter.widget-view+json": {
       "model_id": "74d5847ee3f04012ab673ecbfb4e6a76",
       "version_major": 2,
       "version_minor": 0
      },
      "text/plain": [
       "Batches:   0%|          | 0/1 [00:00<?, ?it/s]"
      ]
     },
     "metadata": {},
     "output_type": "display_data"
    },
    {
     "data": {
      "application/vnd.jupyter.widget-view+json": {
       "model_id": "627e47dc7f6a4b69aeb2e600700f66e9",
       "version_major": 2,
       "version_minor": 0
      },
      "text/plain": [
       "Batches:   0%|          | 0/1 [00:00<?, ?it/s]"
      ]
     },
     "metadata": {},
     "output_type": "display_data"
    },
    {
     "name": "stderr",
     "output_type": "stream",
     "text": [
      "Predicting:  56%|█████▌    | 28/50 [00:06<00:04,  4.61it/s]"
     ]
    },
    {
     "data": {
      "application/vnd.jupyter.widget-view+json": {
       "model_id": "7837ec6744f9434183933d15db29d56c",
       "version_major": 2,
       "version_minor": 0
      },
      "text/plain": [
       "Batches:   0%|          | 0/1 [00:00<?, ?it/s]"
      ]
     },
     "metadata": {},
     "output_type": "display_data"
    },
    {
     "data": {
      "application/vnd.jupyter.widget-view+json": {
       "model_id": "e4e0b564afd04489ab81bd6ab10ff624",
       "version_major": 2,
       "version_minor": 0
      },
      "text/plain": [
       "Batches:   0%|          | 0/1 [00:00<?, ?it/s]"
      ]
     },
     "metadata": {},
     "output_type": "display_data"
    },
    {
     "name": "stderr",
     "output_type": "stream",
     "text": [
      "Predicting:  58%|█████▊    | 29/50 [00:06<00:04,  4.59it/s]"
     ]
    },
    {
     "data": {
      "application/vnd.jupyter.widget-view+json": {
       "model_id": "9ad83ad901e8443f8cca2767af0bc30f",
       "version_major": 2,
       "version_minor": 0
      },
      "text/plain": [
       "Batches:   0%|          | 0/1 [00:00<?, ?it/s]"
      ]
     },
     "metadata": {},
     "output_type": "display_data"
    },
    {
     "data": {
      "application/vnd.jupyter.widget-view+json": {
       "model_id": "095220e4c8244ab68c6b971f8123b6e8",
       "version_major": 2,
       "version_minor": 0
      },
      "text/plain": [
       "Batches:   0%|          | 0/1 [00:00<?, ?it/s]"
      ]
     },
     "metadata": {},
     "output_type": "display_data"
    },
    {
     "name": "stderr",
     "output_type": "stream",
     "text": [
      "Predicting:  60%|██████    | 30/50 [00:06<00:04,  4.46it/s]"
     ]
    },
    {
     "data": {
      "application/vnd.jupyter.widget-view+json": {
       "model_id": "5d58a7204c7442d3b06d8c306650e33e",
       "version_major": 2,
       "version_minor": 0
      },
      "text/plain": [
       "Batches:   0%|          | 0/1 [00:00<?, ?it/s]"
      ]
     },
     "metadata": {},
     "output_type": "display_data"
    },
    {
     "data": {
      "application/vnd.jupyter.widget-view+json": {
       "model_id": "e1470dbecc2b4d34a88a38b98cd8161a",
       "version_major": 2,
       "version_minor": 0
      },
      "text/plain": [
       "Batches:   0%|          | 0/1 [00:00<?, ?it/s]"
      ]
     },
     "metadata": {},
     "output_type": "display_data"
    },
    {
     "name": "stderr",
     "output_type": "stream",
     "text": [
      "Predicting:  62%|██████▏   | 31/50 [00:06<00:04,  4.39it/s]"
     ]
    },
    {
     "data": {
      "application/vnd.jupyter.widget-view+json": {
       "model_id": "b0005568aa90444396d899dfe1dfab71",
       "version_major": 2,
       "version_minor": 0
      },
      "text/plain": [
       "Batches:   0%|          | 0/1 [00:00<?, ?it/s]"
      ]
     },
     "metadata": {},
     "output_type": "display_data"
    },
    {
     "data": {
      "application/vnd.jupyter.widget-view+json": {
       "model_id": "164bfd30430c40d78a5436d5d777df21",
       "version_major": 2,
       "version_minor": 0
      },
      "text/plain": [
       "Batches:   0%|          | 0/1 [00:00<?, ?it/s]"
      ]
     },
     "metadata": {},
     "output_type": "display_data"
    },
    {
     "name": "stderr",
     "output_type": "stream",
     "text": [
      "Predicting:  64%|██████▍   | 32/50 [00:07<00:04,  3.98it/s]"
     ]
    },
    {
     "data": {
      "application/vnd.jupyter.widget-view+json": {
       "model_id": "1b151dd8328d4c2fa4869aab7d61048b",
       "version_major": 2,
       "version_minor": 0
      },
      "text/plain": [
       "Batches:   0%|          | 0/1 [00:00<?, ?it/s]"
      ]
     },
     "metadata": {},
     "output_type": "display_data"
    },
    {
     "data": {
      "application/vnd.jupyter.widget-view+json": {
       "model_id": "4818f019724d494bb262d372aa32f6cb",
       "version_major": 2,
       "version_minor": 0
      },
      "text/plain": [
       "Batches:   0%|          | 0/1 [00:00<?, ?it/s]"
      ]
     },
     "metadata": {},
     "output_type": "display_data"
    },
    {
     "name": "stderr",
     "output_type": "stream",
     "text": [
      "Predicting:  66%|██████▌   | 33/50 [00:07<00:03,  4.32it/s]"
     ]
    },
    {
     "data": {
      "application/vnd.jupyter.widget-view+json": {
       "model_id": "c047e0fc3ce744de98052871829eb341",
       "version_major": 2,
       "version_minor": 0
      },
      "text/plain": [
       "Batches:   0%|          | 0/1 [00:00<?, ?it/s]"
      ]
     },
     "metadata": {},
     "output_type": "display_data"
    },
    {
     "data": {
      "application/vnd.jupyter.widget-view+json": {
       "model_id": "3d3b77acbbad44fe857fea8618859a8e",
       "version_major": 2,
       "version_minor": 0
      },
      "text/plain": [
       "Batches:   0%|          | 0/1 [00:00<?, ?it/s]"
      ]
     },
     "metadata": {},
     "output_type": "display_data"
    },
    {
     "name": "stderr",
     "output_type": "stream",
     "text": [
      "Predicting:  68%|██████▊   | 34/50 [00:07<00:03,  4.36it/s]"
     ]
    },
    {
     "data": {
      "application/vnd.jupyter.widget-view+json": {
       "model_id": "8b747b9567df41bbbc9ca8a2d3dcef0c",
       "version_major": 2,
       "version_minor": 0
      },
      "text/plain": [
       "Batches:   0%|          | 0/1 [00:00<?, ?it/s]"
      ]
     },
     "metadata": {},
     "output_type": "display_data"
    },
    {
     "data": {
      "application/vnd.jupyter.widget-view+json": {
       "model_id": "f28e75ef31004a60807609125f90de8c",
       "version_major": 2,
       "version_minor": 0
      },
      "text/plain": [
       "Batches:   0%|          | 0/1 [00:00<?, ?it/s]"
      ]
     },
     "metadata": {},
     "output_type": "display_data"
    },
    {
     "name": "stderr",
     "output_type": "stream",
     "text": [
      "Predicting:  70%|███████   | 35/50 [00:07<00:03,  4.25it/s]"
     ]
    },
    {
     "data": {
      "application/vnd.jupyter.widget-view+json": {
       "model_id": "86ec9ee564354e7ea836b7af279e22d2",
       "version_major": 2,
       "version_minor": 0
      },
      "text/plain": [
       "Batches:   0%|          | 0/1 [00:00<?, ?it/s]"
      ]
     },
     "metadata": {},
     "output_type": "display_data"
    },
    {
     "data": {
      "application/vnd.jupyter.widget-view+json": {
       "model_id": "1303aac48a324cc48449b11ed0d406c2",
       "version_major": 2,
       "version_minor": 0
      },
      "text/plain": [
       "Batches:   0%|          | 0/1 [00:00<?, ?it/s]"
      ]
     },
     "metadata": {},
     "output_type": "display_data"
    },
    {
     "name": "stderr",
     "output_type": "stream",
     "text": [
      "Predicting:  72%|███████▏  | 36/50 [00:07<00:03,  4.59it/s]"
     ]
    },
    {
     "data": {
      "application/vnd.jupyter.widget-view+json": {
       "model_id": "c4c96f78a2534c17a09476f9f0cd7cdf",
       "version_major": 2,
       "version_minor": 0
      },
      "text/plain": [
       "Batches:   0%|          | 0/1 [00:00<?, ?it/s]"
      ]
     },
     "metadata": {},
     "output_type": "display_data"
    },
    {
     "data": {
      "application/vnd.jupyter.widget-view+json": {
       "model_id": "f557f09c0ae44dfabbffec7c67ff28b5",
       "version_major": 2,
       "version_minor": 0
      },
      "text/plain": [
       "Batches:   0%|          | 0/1 [00:00<?, ?it/s]"
      ]
     },
     "metadata": {},
     "output_type": "display_data"
    },
    {
     "name": "stderr",
     "output_type": "stream",
     "text": [
      "Predicting:  74%|███████▍  | 37/50 [00:08<00:02,  4.44it/s]"
     ]
    },
    {
     "data": {
      "application/vnd.jupyter.widget-view+json": {
       "model_id": "eaa78c87ae174d0681b70d1d5f1face4",
       "version_major": 2,
       "version_minor": 0
      },
      "text/plain": [
       "Batches:   0%|          | 0/1 [00:00<?, ?it/s]"
      ]
     },
     "metadata": {},
     "output_type": "display_data"
    },
    {
     "data": {
      "application/vnd.jupyter.widget-view+json": {
       "model_id": "93b2d4332f914b26b242f9819df12778",
       "version_major": 2,
       "version_minor": 0
      },
      "text/plain": [
       "Batches:   0%|          | 0/1 [00:00<?, ?it/s]"
      ]
     },
     "metadata": {},
     "output_type": "display_data"
    },
    {
     "name": "stderr",
     "output_type": "stream",
     "text": [
      "Predicting:  76%|███████▌  | 38/50 [00:08<00:02,  4.69it/s]"
     ]
    },
    {
     "data": {
      "application/vnd.jupyter.widget-view+json": {
       "model_id": "d1225a49ff3a4ae7bccb9219c0f56e80",
       "version_major": 2,
       "version_minor": 0
      },
      "text/plain": [
       "Batches:   0%|          | 0/1 [00:00<?, ?it/s]"
      ]
     },
     "metadata": {},
     "output_type": "display_data"
    },
    {
     "data": {
      "application/vnd.jupyter.widget-view+json": {
       "model_id": "483ff95431cb4c0ba38f501459c12315",
       "version_major": 2,
       "version_minor": 0
      },
      "text/plain": [
       "Batches:   0%|          | 0/1 [00:00<?, ?it/s]"
      ]
     },
     "metadata": {},
     "output_type": "display_data"
    },
    {
     "name": "stderr",
     "output_type": "stream",
     "text": [
      "Predicting:  78%|███████▊  | 39/50 [00:08<00:02,  4.62it/s]"
     ]
    },
    {
     "data": {
      "application/vnd.jupyter.widget-view+json": {
       "model_id": "9d6a4b25461d4cc489196fc7bde4261f",
       "version_major": 2,
       "version_minor": 0
      },
      "text/plain": [
       "Batches:   0%|          | 0/1 [00:00<?, ?it/s]"
      ]
     },
     "metadata": {},
     "output_type": "display_data"
    },
    {
     "data": {
      "application/vnd.jupyter.widget-view+json": {
       "model_id": "6b112161782b4df98ed658c674fbfef4",
       "version_major": 2,
       "version_minor": 0
      },
      "text/plain": [
       "Batches:   0%|          | 0/1 [00:00<?, ?it/s]"
      ]
     },
     "metadata": {},
     "output_type": "display_data"
    },
    {
     "name": "stderr",
     "output_type": "stream",
     "text": [
      "Predicting:  80%|████████  | 40/50 [00:08<00:02,  4.72it/s]"
     ]
    },
    {
     "data": {
      "application/vnd.jupyter.widget-view+json": {
       "model_id": "459fcd202d054b32868276df9e634eae",
       "version_major": 2,
       "version_minor": 0
      },
      "text/plain": [
       "Batches:   0%|          | 0/1 [00:00<?, ?it/s]"
      ]
     },
     "metadata": {},
     "output_type": "display_data"
    },
    {
     "data": {
      "application/vnd.jupyter.widget-view+json": {
       "model_id": "e7ab962281904f35a0acd7f3bc773dbb",
       "version_major": 2,
       "version_minor": 0
      },
      "text/plain": [
       "Batches:   0%|          | 0/1 [00:00<?, ?it/s]"
      ]
     },
     "metadata": {},
     "output_type": "display_data"
    },
    {
     "name": "stderr",
     "output_type": "stream",
     "text": [
      "Predicting:  82%|████████▏ | 41/50 [00:09<00:02,  4.41it/s]"
     ]
    },
    {
     "data": {
      "application/vnd.jupyter.widget-view+json": {
       "model_id": "b0ce1cd7c9fd468ab67468e027ef80ce",
       "version_major": 2,
       "version_minor": 0
      },
      "text/plain": [
       "Batches:   0%|          | 0/1 [00:00<?, ?it/s]"
      ]
     },
     "metadata": {},
     "output_type": "display_data"
    },
    {
     "data": {
      "application/vnd.jupyter.widget-view+json": {
       "model_id": "d764cbcd13bd4dfcb210e39f67f206cc",
       "version_major": 2,
       "version_minor": 0
      },
      "text/plain": [
       "Batches:   0%|          | 0/1 [00:00<?, ?it/s]"
      ]
     },
     "metadata": {},
     "output_type": "display_data"
    },
    {
     "name": "stderr",
     "output_type": "stream",
     "text": [
      "Predicting:  84%|████████▍ | 42/50 [00:09<00:01,  4.65it/s]"
     ]
    },
    {
     "data": {
      "application/vnd.jupyter.widget-view+json": {
       "model_id": "0d0a73d9b71e422e923833e012c5edd9",
       "version_major": 2,
       "version_minor": 0
      },
      "text/plain": [
       "Batches:   0%|          | 0/1 [00:00<?, ?it/s]"
      ]
     },
     "metadata": {},
     "output_type": "display_data"
    },
    {
     "data": {
      "application/vnd.jupyter.widget-view+json": {
       "model_id": "7adef86aa7f947e7a80a5d3ec9a91f2e",
       "version_major": 2,
       "version_minor": 0
      },
      "text/plain": [
       "Batches:   0%|          | 0/1 [00:00<?, ?it/s]"
      ]
     },
     "metadata": {},
     "output_type": "display_data"
    },
    {
     "name": "stderr",
     "output_type": "stream",
     "text": [
      "Predicting:  86%|████████▌ | 43/50 [00:09<00:01,  4.49it/s]"
     ]
    },
    {
     "data": {
      "application/vnd.jupyter.widget-view+json": {
       "model_id": "045e8e9c75aa4a78b4fa40595487afc2",
       "version_major": 2,
       "version_minor": 0
      },
      "text/plain": [
       "Batches:   0%|          | 0/1 [00:00<?, ?it/s]"
      ]
     },
     "metadata": {},
     "output_type": "display_data"
    },
    {
     "data": {
      "application/vnd.jupyter.widget-view+json": {
       "model_id": "9cbf14ed075b4b638a21e330e4a5aac7",
       "version_major": 2,
       "version_minor": 0
      },
      "text/plain": [
       "Batches:   0%|          | 0/1 [00:00<?, ?it/s]"
      ]
     },
     "metadata": {},
     "output_type": "display_data"
    },
    {
     "name": "stderr",
     "output_type": "stream",
     "text": [
      "Predicting:  88%|████████▊ | 44/50 [00:09<00:01,  4.40it/s]"
     ]
    },
    {
     "data": {
      "application/vnd.jupyter.widget-view+json": {
       "model_id": "58e5abbd0fa3417c81ed9ad86fded121",
       "version_major": 2,
       "version_minor": 0
      },
      "text/plain": [
       "Batches:   0%|          | 0/1 [00:00<?, ?it/s]"
      ]
     },
     "metadata": {},
     "output_type": "display_data"
    },
    {
     "data": {
      "application/vnd.jupyter.widget-view+json": {
       "model_id": "f50429554b0f47c2b983fc62aaa49994",
       "version_major": 2,
       "version_minor": 0
      },
      "text/plain": [
       "Batches:   0%|          | 0/1 [00:00<?, ?it/s]"
      ]
     },
     "metadata": {},
     "output_type": "display_data"
    },
    {
     "name": "stderr",
     "output_type": "stream",
     "text": [
      "Predicting:  90%|█████████ | 45/50 [00:09<00:01,  4.09it/s]"
     ]
    },
    {
     "data": {
      "application/vnd.jupyter.widget-view+json": {
       "model_id": "c1099287a23e4fcd92320e68650fcd11",
       "version_major": 2,
       "version_minor": 0
      },
      "text/plain": [
       "Batches:   0%|          | 0/1 [00:00<?, ?it/s]"
      ]
     },
     "metadata": {},
     "output_type": "display_data"
    },
    {
     "data": {
      "application/vnd.jupyter.widget-view+json": {
       "model_id": "c04a68b58f7f44fe9d160bb815dd0507",
       "version_major": 2,
       "version_minor": 0
      },
      "text/plain": [
       "Batches:   0%|          | 0/1 [00:00<?, ?it/s]"
      ]
     },
     "metadata": {},
     "output_type": "display_data"
    },
    {
     "name": "stderr",
     "output_type": "stream",
     "text": [
      "Predicting:  92%|█████████▏| 46/50 [00:10<00:00,  4.39it/s]"
     ]
    },
    {
     "data": {
      "application/vnd.jupyter.widget-view+json": {
       "model_id": "d7ec33efbaf2487f97c5298612227e4d",
       "version_major": 2,
       "version_minor": 0
      },
      "text/plain": [
       "Batches:   0%|          | 0/1 [00:00<?, ?it/s]"
      ]
     },
     "metadata": {},
     "output_type": "display_data"
    },
    {
     "data": {
      "application/vnd.jupyter.widget-view+json": {
       "model_id": "f27e9bdee2604c28a6285fcc35d14b48",
       "version_major": 2,
       "version_minor": 0
      },
      "text/plain": [
       "Batches:   0%|          | 0/1 [00:00<?, ?it/s]"
      ]
     },
     "metadata": {},
     "output_type": "display_data"
    },
    {
     "name": "stderr",
     "output_type": "stream",
     "text": [
      "Predicting:  94%|█████████▍| 47/50 [00:10<00:00,  4.23it/s]"
     ]
    },
    {
     "data": {
      "application/vnd.jupyter.widget-view+json": {
       "model_id": "b74d1578c494446cb71880d23b149708",
       "version_major": 2,
       "version_minor": 0
      },
      "text/plain": [
       "Batches:   0%|          | 0/1 [00:00<?, ?it/s]"
      ]
     },
     "metadata": {},
     "output_type": "display_data"
    },
    {
     "data": {
      "application/vnd.jupyter.widget-view+json": {
       "model_id": "3ab79aee967540b29f92a88b531c2d9d",
       "version_major": 2,
       "version_minor": 0
      },
      "text/plain": [
       "Batches:   0%|          | 0/1 [00:00<?, ?it/s]"
      ]
     },
     "metadata": {},
     "output_type": "display_data"
    },
    {
     "name": "stderr",
     "output_type": "stream",
     "text": [
      "Predicting:  96%|█████████▌| 48/50 [00:10<00:00,  4.55it/s]"
     ]
    },
    {
     "data": {
      "application/vnd.jupyter.widget-view+json": {
       "model_id": "1743a39cde2f4bf5850f2e33d10868de",
       "version_major": 2,
       "version_minor": 0
      },
      "text/plain": [
       "Batches:   0%|          | 0/1 [00:00<?, ?it/s]"
      ]
     },
     "metadata": {},
     "output_type": "display_data"
    },
    {
     "data": {
      "application/vnd.jupyter.widget-view+json": {
       "model_id": "5c5615ab19504b59b3c0da0ad81d34f4",
       "version_major": 2,
       "version_minor": 0
      },
      "text/plain": [
       "Batches:   0%|          | 0/1 [00:00<?, ?it/s]"
      ]
     },
     "metadata": {},
     "output_type": "display_data"
    },
    {
     "name": "stderr",
     "output_type": "stream",
     "text": [
      "Predicting:  98%|█████████▊| 49/50 [00:10<00:00,  4.36it/s]"
     ]
    },
    {
     "data": {
      "application/vnd.jupyter.widget-view+json": {
       "model_id": "d25a36c243fb46bbba0ae01eba9775d4",
       "version_major": 2,
       "version_minor": 0
      },
      "text/plain": [
       "Batches:   0%|          | 0/1 [00:00<?, ?it/s]"
      ]
     },
     "metadata": {},
     "output_type": "display_data"
    },
    {
     "data": {
      "application/vnd.jupyter.widget-view+json": {
       "model_id": "d589f8563e0847e89cba29e3629c885f",
       "version_major": 2,
       "version_minor": 0
      },
      "text/plain": [
       "Batches:   0%|          | 0/1 [00:00<?, ?it/s]"
      ]
     },
     "metadata": {},
     "output_type": "display_data"
    },
    {
     "name": "stderr",
     "output_type": "stream",
     "text": [
      "Predicting: 100%|██████████| 50/50 [00:11<00:00,  4.52it/s]\n",
      "2025-06-25 18:54:59,978 - INFO - Saved results to d:\\AL FITRA\\STUDI UMM\\SEMESTER 6\\TEORI\\PENALARAN KOMPUTER\\SOURCE CODE\\PENALARAN KOMPUTER\\CBR_Penalararan_Komputer\\data\\results/logreg_predictions.csv\n",
      "2025-06-25 18:54:59,979 - INFO - Saved results to d:\\AL FITRA\\STUDI UMM\\SEMESTER 6\\TEORI\\PENALARAN KOMPUTER\\SOURCE CODE\\PENALARAN KOMPUTER\\CBR_Penalararan_Komputer\\data\\results/svm_predictions.csv\n",
      "2025-06-25 18:54:59,980 - INFO - Saved results to d:\\AL FITRA\\STUDI UMM\\SEMESTER 6\\TEORI\\PENALARAN KOMPUTER\\SOURCE CODE\\PENALARAN KOMPUTER\\CBR_Penalararan_Komputer\\data\\results/indobert_predictions.csv\n"
     ]
    },
    {
     "name": "stdout",
     "output_type": "stream",
     "text": [
      "✅ Saved to d:\\AL FITRA\\STUDI UMM\\SEMESTER 6\\TEORI\\PENALARAN KOMPUTER\\SOURCE CODE\\PENALARAN KOMPUTER\\CBR_Penalararan_Komputer\\data\\results/logreg_predictions.csv\n",
      "✅ Saved to d:\\AL FITRA\\STUDI UMM\\SEMESTER 6\\TEORI\\PENALARAN KOMPUTER\\SOURCE CODE\\PENALARAN KOMPUTER\\CBR_Penalararan_Komputer\\data\\results/svm_predictions.csv\n",
      "✅ Saved to d:\\AL FITRA\\STUDI UMM\\SEMESTER 6\\TEORI\\PENALARAN KOMPUTER\\SOURCE CODE\\PENALARAN KOMPUTER\\CBR_Penalararan_Komputer\\data\\results/indobert_predictions.csv\n"
     ]
    }
   ],
   "source": [
    "# Part 1: Import Libraries and Initialize\n",
    "import os\n",
    "import json\n",
    "import re\n",
    "import logging\n",
    "from datetime import datetime\n",
    "import nltk\n",
    "import numpy as np\n",
    "import pandas as pd\n",
    "from tqdm import tqdm\n",
    "from nltk.tokenize import word_tokenize\n",
    "from typing import List\n",
    "from sklearn.feature_extraction.text import TfidfVectorizer\n",
    "from sklearn.linear_model import LogisticRegression\n",
    "from sklearn.svm import LinearSVC\n",
    "from sklearn.model_selection import StratifiedKFold, GridSearchCV\n",
    "from sklearn.metrics import precision_score, recall_score, f1_score, accuracy_score\n",
    "from sklearn.metrics.pairwise import cosine_similarity\n",
    "from sentence_transformers import SentenceTransformer, CrossEncoder\n",
    "from rank_bm25 import BM25Okapi\n",
    "import torch\n",
    "\n",
    "# Define base directory (aligned with previous scripts)\n",
    "try:\n",
    "    BASE_DIR = os.path.dirname(os.getcwd())  # Parent of 'notebooks'\n",
    "except NameError:\n",
    "    BASE_DIR = os.getcwd()  # Fallback for interactive environments like Jupyter\n",
    "\n",
    "# Define paths\n",
    "PATH_CSV = os.path.join(BASE_DIR, 'data', 'processed', 'cases.csv')\n",
    "PATH_QUERIES = os.path.join(BASE_DIR, 'data', 'eval', 'queries.json')\n",
    "PATH_RESULTS = os.path.join(BASE_DIR, 'data', 'results')\n",
    "LOG_DIR = os.path.join(BASE_DIR, 'logs')\n",
    "LOG_PATH = os.path.join(LOG_DIR, 'prediction.log')\n",
    "\n",
    "# Validate path length for Windows\n",
    "MAX_PATH_LENGTH = 260\n",
    "\n",
    "def validate_path(path):\n",
    "    if len(path) > MAX_PATH_LENGTH:\n",
    "        raise ValueError(f\"Path {path} exceeds Windows maximum length of {MAX_PATH_LENGTH} characters\")\n",
    "    return path\n",
    "\n",
    "# Ensure directories exist\n",
    "for path in [LOG_DIR, os.path.dirname(PATH_CSV), os.path.dirname(PATH_QUERIES), PATH_RESULTS]:\n",
    "    try:\n",
    "        validate_path(path)\n",
    "        os.makedirs(path, exist_ok=True)\n",
    "        logging.info(f\"Directory ensured: {path}\")\n",
    "    except ValueError as e:\n",
    "        logging.error(f\"Path validation failed: {e}\")\n",
    "        raise\n",
    "    except Exception as e:\n",
    "        logging.error(f\"Failed to create directory {path}: {e}\")\n",
    "        raise\n",
    "\n",
    "# Initialize logging\n",
    "logging.basicConfig(\n",
    "    level=logging.INFO,\n",
    "    format='%(asctime)s - %(levelname)s - %(message)s',\n",
    "    handlers=[\n",
    "        logging.FileHandler(LOG_PATH, mode='a', encoding='utf-8'),  # Append mode\n",
    "        logging.StreamHandler()\n",
    "    ],\n",
    "    force=True\n",
    ")\n",
    "logger = logging.getLogger(__name__)\n",
    "logger.info(f\"Starting prediction process at {datetime.now().strftime('%Y-%m-%d %H:%M:%S')}\")\n",
    "\n",
    "# Part 2: Setup Environment\n",
    "def setup_environment():\n",
    "    \"\"\"Ensure NLTK resources are available.\"\"\"\n",
    "    try:\n",
    "        nltk.data.find('tokenizers/punkt')\n",
    "    except LookupError:\n",
    "        logger.info(\"Downloading NLTK punkt tokenizer\")\n",
    "        nltk.download('punkt', quiet=True)\n",
    "\n",
    "# Part 3: Preprocess Text\n",
    "def preprocess_text(text):\n",
    "    \"\"\"Preprocess text: lowercase, remove specific legal terms, tokenize, normalize spaces.\"\"\"\n",
    "    try:\n",
    "        text = str(text).lower()\n",
    "        text = re.sub(r'\\b(?:putusan|nomor_perkara|tahun|pengadilan|hakim)\\b', '', text)\n",
    "        text = re.sub(r'uu\\s+no', 'undang_undang_nomor', text)\n",
    "        text = re.sub(r'pasal\\s+\\d+', 'pasal', text)\n",
    "        text = re.sub(r'[^\\w\\s]', ' ', text)\n",
    "        text = re.sub(r'\\s+', ' ', text).strip()\n",
    "        tokens = word_tokenize(text)\n",
    "        return ' '.join(tokens) if tokens else 'empty'\n",
    "    except Exception as e:\n",
    "        logger.error(f\"Error preprocessing text: {e}\")\n",
    "        return 'empty'\n",
    "\n",
    "# Part 4: Load Data\n",
    "def load_data():\n",
    "    \"\"\"Load cases.csv and queries.json.\"\"\"\n",
    "    try:\n",
    "        df = pd.read_csv(PATH_CSV)\n",
    "        texts = df['ringkasan_fakta'].fillna('').apply(preprocess_text).tolist()\n",
    "        case_ids = df['case_id'].tolist()\n",
    "        if not texts or not case_ids:\n",
    "            raise ValueError(\"Dataset is empty or missing required columns ('ringkasan_fakta', 'case_id').\")\n",
    "        with open(PATH_QUERIES, 'r', encoding='utf-8') as f:\n",
    "            queries = json.load(f)\n",
    "        case_solutions = {item['case_id']: item.get('solution', '') for item in queries}\n",
    "        logger.info(f\"Loaded {len(df)} cases from {PATH_CSV} and {len(queries)} queries from {PATH_QUERIES}\")\n",
    "        return df, texts, case_ids, queries, case_solutions\n",
    "    except FileNotFoundError as e:\n",
    "        logger.error(f\"File not found: {e}\")\n",
    "        print(f\"Error: {e}\")\n",
    "        raise\n",
    "    except Exception as e:\n",
    "        logger.error(f\"Error loading data: {e}\")\n",
    "        print(f\"Error loading data: {e}\")\n",
    "        raise\n",
    "\n",
    "# Part 5: Setup TF-IDF\n",
    "def setup_tfidf(texts: List[str]) -> tuple:\n",
    "    \"\"\"Initialize TF-IDF vectorizer with reduced features.\"\"\"\n",
    "    stop_words = [\n",
    "        'dan', 'di', 'dari', 'ke', 'pada', 'dengan', 'untuk', 'yang', 'ini', 'itu',\n",
    "        'adalah', 'tersebut', 'sebagai', 'oleh', 'atau', 'tetapi', 'karena', 'jika',\n",
    "        'dalam', 'bagi', 'tentang', 'melalui', 'serta', 'maka', 'lagi', 'sudah',\n",
    "        'belum', 'hanya', 'saja', 'bahwa', 'apa', 'siapa', 'bagaimana', 'kapan',\n",
    "        'dimana', 'kenapa', 'sejak', 'hingga', 'agar', 'supaya', 'meskipun', 'walau',\n",
    "        'kecuali', 'terhadap', 'antara', 'selain', 'setiap', 'sebelum', 'sesudah'\n",
    "    ]\n",
    "    try:\n",
    "        vectorizer = TfidfVectorizer(max_features=2000, ngram_range=(1, 2), stop_words=stop_words)\n",
    "        tfidf_matrix = vectorizer.fit_transform(texts)\n",
    "        logger.info(f\"TF-IDF matrix shape: {tfidf_matrix.shape}\")\n",
    "        return vectorizer, tfidf_matrix\n",
    "    except Exception as e:\n",
    "        logger.error(f\"Error setting up TF-IDF: {e}\")\n",
    "        print(f\"Error setting up TF-IDF: {e}\")\n",
    "        raise\n",
    "\n",
    "# Part 6: Extract Features\n",
    "def extract_features(query_vec, doc_vec, query_text: str, doc_text: str) -> np.ndarray:\n",
    "    \"\"\"Extract features for Logistic Regression and SVM.\"\"\"\n",
    "    try:\n",
    "        query_vec = query_vec.toarray()[0]\n",
    "        doc_vec = doc_vec.toarray()[0]\n",
    "        cos_sim = cosine_similarity([query_vec], [doc_vec])[0][0]\n",
    "        query_words = set(query_text.split())\n",
    "        doc_words = set(doc_text.split())\n",
    "        overlap = len(query_words.intersection(doc_words)) / max(len(query_words), 1)\n",
    "        coverage = overlap\n",
    "        return np.concatenate([query_vec, doc_vec, [cos_sim, overlap, coverage]])\n",
    "    except Exception as e:\n",
    "        logger.error(f\"Error extracting features: {e}\")\n",
    "        return np.zeros(4003)  # 2000 + 2000 + 3\n",
    "\n",
    "# Part 7: Prepare Training Data\n",
    "def prepare_training_data(queries, case_ids, texts, vectorizer, tfidf_matrix):\n",
    "    \"\"\"Prepare training data with balanced sampling.\"\"\"\n",
    "    X_train = []\n",
    "    y_train = []\n",
    "    for item in queries:\n",
    "        query = preprocess_text(item['query'])\n",
    "        query_vec = vectorizer.transform([query])\n",
    "        true_id = item['case_id']\n",
    "        try:\n",
    "            true_idx = case_ids.index(true_id)\n",
    "        except ValueError:\n",
    "            logger.warning(f\"Case ID {true_id} not found in dataset. Skipping query: {item['query'][:50]}...\")\n",
    "            continue\n",
    "        true_vec = tfidf_matrix[true_idx]\n",
    "        pos_features = extract_features(query_vec, true_vec, query, texts[true_idx])\n",
    "        neg_indices = [i for i in range(len(case_ids)) if i != true_idx]\n",
    "        neg_samples = np.random.choice(neg_indices, size=min(5, len(neg_indices)), replace=False)\n",
    "        for neg_idx in neg_samples:\n",
    "            neg_vec = tfidf_matrix[neg_idx]\n",
    "            neg_features = extract_features(query_vec, neg_vec, query, texts[neg_idx])\n",
    "            X_train.append(pos_features - neg_features)\n",
    "            y_train.append(1)\n",
    "            X_train.append(neg_features - pos_features)\n",
    "            y_train.append(0)\n",
    "    X_train = np.array(X_train)\n",
    "    y_train = np.array(y_train)\n",
    "    logger.info(f\"Training data shape: {X_train.shape}\")\n",
    "    logger.info(f\"Class distribution: {np.bincount(y_train)}\")\n",
    "    return X_train, y_train\n",
    "\n",
    "# Part 8: Train Models\n",
    "def train_models(X_train, y_train):\n",
    "    \"\"\"Train Logistic Regression and SVM with stratified cross-validation.\"\"\"\n",
    "    try:\n",
    "        skf = StratifiedKFold(n_splits=5, shuffle=True, random_state=42)\n",
    "        param_grid = {'C': [0.1, 1, 10]}\n",
    "        logreg = GridSearchCV(\n",
    "            LogisticRegression(max_iter=1000, class_weight='balanced', solver='liblinear'),\n",
    "            param_grid, cv=skf, scoring='f1', n_jobs=-1\n",
    "        )\n",
    "        logreg.fit(X_train, y_train)\n",
    "        logger.info(f\"Best Logistic Regression Parameters: {logreg.best_params_}\")\n",
    "        logger.info(f\"Best CV F1 Score (LogReg): {logreg.best_score_:.2f}\")\n",
    "        print(f\"Best Logistic Regression Parameters: {logreg.best_params_}\")\n",
    "        print(f\"Best CV F1 Score (LogReg): {logreg.best_score_:.2f}\")\n",
    "        svm = GridSearchCV(\n",
    "            LinearSVC(max_iter=1000, class_weight='balanced', tol=1e-3),\n",
    "            param_grid, cv=skf, scoring='f1', n_jobs=-1\n",
    "        )\n",
    "        svm.fit(X_train, y_train)\n",
    "        logger.info(f\"Best SVM Parameters: {svm.best_params_}\")\n",
    "        logger.info(f\"Best CV F1 Score (SVM): {svm.best_score_:.2f}\")\n",
    "        print(f\"Best SVM Parameters: {svm.best_params_}\")\n",
    "        print(f\"Best CV F1 Score (SVM): {svm.best_score_:.2f}\")\n",
    "        return logreg, svm\n",
    "    except Exception as e:\n",
    "        logger.error(f\"Error training models: {e}\")\n",
    "        print(f\"Error training models: {e}\")\n",
    "        raise\n",
    "\n",
    "# Part 9: Setup IndoBERT and BM25\n",
    "def setup_indobert_and_bm25(texts: List[str]):\n",
    "    \"\"\"Initialize IndoBERT and BM25 models.\"\"\"\n",
    "    try:\n",
    "        device = 'cuda' if torch.cuda.is_available() else 'cpu'\n",
    "        logger.info(f\"Loading IndoBERT model on {device}\")\n",
    "        bi_encoder = SentenceTransformer('indobenchmark/indobert-base-p1', device=device)\n",
    "        cross_encoder = CrossEncoder('cross-encoder/ms-marco-MiniLM-L-6-v2', device=device, max_length=512)\n",
    "        doc_embeddings = bi_encoder.encode(\n",
    "            texts, convert_to_numpy=True, normalize_embeddings=True, show_progress_bar=False, batch_size=16\n",
    "        )\n",
    "        bm25 = BM25Okapi([t.split() for t in texts])\n",
    "        logger.info(f\"Document embeddings shape: {doc_embeddings.shape}\")\n",
    "        return bi_encoder, cross_encoder, doc_embeddings, bm25\n",
    "    except Exception as e:\n",
    "        logger.error(f\"Error setting up Indo-BERT/BM25: {e}\")\n",
    "        print(f\"Error setting up Indo-BERT/BM25: {e}\")\n",
    "        raise\n",
    "\n",
    "# Part 10: Retrieval Functions\n",
    "def logreg_retrieve(query: str, vectorizer, tfidf_matrix, case_ids, texts, logreg, k: int = 5) -> List[str]:\n",
    "    \"\"\"Retrieve top-k cases using Logistic Regression.\"\"\"\n",
    "    try:\n",
    "        query = preprocess_text(query)\n",
    "        query_vec = vectorizer.transform([query])\n",
    "        scores = []\n",
    "        for i in range(tfidf_matrix.shape[0]):\n",
    "            doc_vec = tfidf_matrix[i]\n",
    "            features = extract_features(query_vec, doc_vec, query, texts[i])\n",
    "            score = logreg.predict_proba([features])[0][1]  # Probability of positive class\n",
    "            scores.append((case_ids[i], score))\n",
    "        scores.sort(key=lambda x: x[1], reverse=True)\n",
    "        return [x[0] for x in scores[:k]]\n",
    "    except Exception as e:\n",
    "        logger.error(f\"Error in LogReg retrieval for query '{query[:50]}...': {e}\")\n",
    "        return []\n",
    "\n",
    "def svm_retrieve(query: str, vectorizer, tfidf_matrix, case_ids, texts, svm, k: int = 5) -> List[str]:\n",
    "    \"\"\"Retrieve top-k cases using SVM.\"\"\"\n",
    "    try:\n",
    "        query = preprocess_text(query)\n",
    "        query_vec = vectorizer.transform([query])\n",
    "        scores = []\n",
    "        for i in range(tfidf_matrix.shape[0]):\n",
    "            doc_vec = tfidf_matrix[i]\n",
    "            features = extract_features(query_vec, doc_vec, query, texts[i])\n",
    "            score = svm.decision_function([features])[0]\n",
    "            scores.append((case_ids[i], score))\n",
    "        scores.sort(key=lambda x: x[1], reverse=True)\n",
    "        return [x[0] for x in scores[:k]]\n",
    "    except Exception as e:\n",
    "        logger.error(f\"Error in SVM retrieval for query '{query[:50]}...': {e}\")\n",
    "        return []\n",
    "\n",
    "def indobert_retrieve(query: str, bi_encoder, cross_encoder, doc_embeddings, bm25, case_ids, texts, k: int = 10, alpha: float = 0.7) -> List[str]:\n",
    "    \"\"\"Retrieve top-k cases using IndoBERT with BM25 hybrid scoring.\"\"\"\n",
    "    try:\n",
    "        query = preprocess_text(query)\n",
    "        query_vec = bi_encoder.encode([query], convert_to_numpy=True, normalize_embeddings=True)[0]\n",
    "        sim_scores = cosine_similarity([query_vec], doc_embeddings)[0]\n",
    "        bm25_scores = bm25.get_scores(query.split())\n",
    "        bm25_scores /= np.max(bm25_scores) + 1e-10\n",
    "        combined = alpha * sim_scores + (1 - alpha) * bm25_scores\n",
    "        top_k_idx = np.argsort(combined)[-k:][::-1]\n",
    "        rerank_pairs = [[query, texts[i]] for i in top_k_idx]\n",
    "        rerank_scores = cross_encoder.predict(rerank_pairs)\n",
    "        reranked_idx = np.argsort(rerank_scores)[::-1][:min(5, len(rerank_scores))]\n",
    "        return [case_ids[top_k_idx[i]] for i in reranked_idx]\n",
    "    except Exception as e:\n",
    "        logger.error(f\"Error in IndoBERT retrieval for query '{query[:50]}...': {e}\")\n",
    "        return []\n",
    "\n",
    "# Part 11: Predict Outcome\n",
    "def predict_outcome(query: str, retrieve_fn, case_solutions, true_solution=None):\n",
    "    \"\"\"Predict outcome based on retrieved cases.\"\"\"\n",
    "    try:\n",
    "        top_5_ids = retrieve_fn(query)\n",
    "        solutions = [case_solutions.get(cid, '') for cid in top_5_ids]\n",
    "        filtered = [s for s in solutions if s and s not in ['nan', None]]\n",
    "        predicted = max(set(filtered), key=filtered.count) if filtered else 'Tidak ditemukan'\n",
    "        metrics = {}\n",
    "        if true_solution and filtered:\n",
    "            y_true = [1 if true_solution == s else 0 for s in solutions]\n",
    "            y_pred = [1 if predicted == s else 0 for s in solutions]\n",
    "            metrics = {\n",
    "                'accuracy': accuracy_score(y_true, y_pred),\n",
    "                'precision': precision_score(y_true, y_pred, average='binary', zero_division=0),\n",
    "                'recall': recall_score(y_true, y_pred, average='binary', zero_division=0),\n",
    "                'f1': f1_score(y_true, y_pred, average='binary', zero_division=0)\n",
    "            }\n",
    "        return predicted, top_5_ids, metrics\n",
    "    except Exception as e:\n",
    "        logger.error(f\"Error predicting outcome for query '{query[:50]}...': {e}\")\n",
    "        return 'Tidak ditemukan', [], {}\n",
    "\n",
    "# Part 12: Main Function\n",
    "def main():\n",
    "    \"\"\"Main function to run prediction pipeline.\"\"\"\n",
    "    try:\n",
    "        setup_environment()\n",
    "        df, texts, case_ids, queries, case_solutions = load_data()\n",
    "        vectorizer, tfidf_matrix = setup_tfidf(texts)\n",
    "        X_train, y_train = prepare_training_data(queries, case_ids, texts, vectorizer, tfidf_matrix)\n",
    "        logreg, svm = train_models(X_train, y_train)\n",
    "        bi_encoder, cross_encoder, doc_embeddings, bm25 = setup_indobert_and_bm25(texts)\n",
    "        results_logreg = []\n",
    "        results_svm = []\n",
    "        results_indobert = []\n",
    "        for i in tqdm(range(len(df)), desc='Predicting'):\n",
    "            query_text = df.loc[i, 'ringkasan_fakta']\n",
    "            case_id = df.loc[i, 'case_id']\n",
    "            true_solution = case_solutions.get(case_id, '')\n",
    "            pred_logreg, top_ids_logreg, metrics_logreg = predict_outcome(\n",
    "                query_text,\n",
    "                lambda q: logreg_retrieve(q, vectorizer, tfidf_matrix, case_ids, texts, logreg),\n",
    "                case_solutions,\n",
    "                true_solution\n",
    "            )\n",
    "            results_logreg.append({\n",
    "                'query_id': case_id,\n",
    "                'predicted_solution': pred_logreg,\n",
    "                'top_5_case_ids': ', '.join(top_ids_logreg),\n",
    "                'metrics': metrics_logreg\n",
    "            })\n",
    "            pred_svm, top_ids_svm, metrics_svm = predict_outcome(\n",
    "                query_text,\n",
    "                lambda q: svm_retrieve(q, vectorizer, tfidf_matrix, case_ids, texts, svm),\n",
    "                case_solutions,\n",
    "                true_solution\n",
    "            )\n",
    "            results_svm.append({\n",
    "                'query_id': case_id,\n",
    "                'predicted_solution': pred_svm,\n",
    "                'top_5_case_ids': ', '.join(top_ids_svm),\n",
    "                'metrics': metrics_svm\n",
    "            })\n",
    "            pred_indobert, top_ids_indobert, metrics_indobert = predict_outcome(\n",
    "                query_text,\n",
    "                lambda q: indobert_retrieve(q, bi_encoder, cross_encoder, doc_embeddings, bm25, case_ids, texts),\n",
    "                case_solutions,\n",
    "                true_solution\n",
    "            )\n",
    "            results_indobert.append({\n",
    "                'query_id': case_id,\n",
    "                'predicted_solution': pred_indobert,\n",
    "                'top_5_case_ids': ', '.join(top_ids_indobert),\n",
    "                'metrics': metrics_indobert\n",
    "            })\n",
    "        pd.DataFrame(results_logreg).to_csv(\n",
    "            os.path.join(PATH_RESULTS, 'logreg_predictions.csv'), index=False, encoding='utf-8'\n",
    "        )\n",
    "        pd.DataFrame(results_svm).to_csv(\n",
    "            os.path.join(PATH_RESULTS, 'svm_predictions.csv'), index=False, encoding='utf-8'\n",
    "        )\n",
    "        pd.DataFrame(results_indobert).to_csv(\n",
    "            os.path.join(PATH_RESULTS, 'indobert_predictions.csv'), index=False, encoding='utf-8'\n",
    "        )\n",
    "        logger.info(f\"Saved results to {PATH_RESULTS}/logreg_predictions.csv\")\n",
    "        logger.info(f\"Saved results to {PATH_RESULTS}/svm_predictions.csv\")\n",
    "        logger.info(f\"Saved results to {PATH_RESULTS}/indobert_predictions.csv\")\n",
    "        print(f\"✅ Saved to {PATH_RESULTS}/logreg_predictions.csv\")\n",
    "        print(f\"✅ Saved to {PATH_RESULTS}/svm_predictions.csv\")\n",
    "        print(f\"✅ Saved to {PATH_RESULTS}/indobert_predictions.csv\")\n",
    "    except Exception as e:\n",
    "        logger.error(f\"An error occurred in main: {e}\")\n",
    "        print(f\"An error occurred: {e}\")\n",
    "\n",
    "if __name__ == \"__main__\":\n",
    "    main()"
   ]
  }
 ],
 "metadata": {
  "kernelspec": {
   "display_name": "Python 3",
   "language": "python",
   "name": "python3"
  },
  "language_info": {
   "codemirror_mode": {
    "name": "ipython",
    "version": 3
   },
   "file_extension": ".py",
   "mimetype": "text/x-python",
   "name": "python",
   "nbconvert_exporter": "python",
   "pygments_lexer": "ipython3",
   "version": "3.11.0"
  }
 },
 "nbformat": 4,
 "nbformat_minor": 5
}
